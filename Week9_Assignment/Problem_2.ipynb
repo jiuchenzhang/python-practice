{
 "cells": [
  {
   "cell_type": "markdown",
   "metadata": {
    "deletable": false,
    "nbgrader": {
     "checksum": "4fab5bf0cf62486bd3563e4b0599427a",
     "grade": false,
     "grade_id": "header",
     "locked": true,
     "solution": false
    }
   },
   "source": [
    "# Week 9 Problem 2\n",
    "\n",
    "If you are not using the `Assignments` tab on the course JupyterHub server to read this notebook, read [Activating the assignments tab](https://github.com/UI-DataScience/info490-fa16/blob/master/Week2/assignments/README.md).\n",
    "\n",
    "A few things you should keep in mind when working on assignments:\n",
    "\n",
    "1. Make sure you fill in any place that says `YOUR CODE HERE`. Do **not** write your answer in anywhere else other than where it says `YOUR CODE HERE`. Anything you write anywhere else will be removed or overwritten by the autograder.\n",
    "\n",
    "2. Before you submit your assignment, make sure everything runs as expected. Go to menubar, select _Kernel_, and restart the kernel and run all cells (_Restart & Run all_).\n",
    "\n",
    "3. Do not change the title (i.e. file name) of this notebook.\n",
    "\n",
    "4. Make sure that you save your work (in the menubar, select _File_ → _Save and CheckPoint_)\n",
    "\n",
    "5. You are allowed to submit an assignment multiple times, but only the most recent submission will be graded."
   ]
  },
  {
   "cell_type": "code",
   "execution_count": 1,
   "metadata": {
    "collapsed": true,
    "deletable": false,
    "nbgrader": {
     "checksum": "58831bfb7327aa36862a3feb6983fa57",
     "grade": false,
     "grade_id": "import_nose",
     "locked": true,
     "solution": false
    }
   },
   "outputs": [],
   "source": [
    "from nose.tools import assert_equal\n",
    "import os\n",
    "import json\n",
    "import requests"
   ]
  },
  {
   "cell_type": "markdown",
   "metadata": {
    "deletable": false,
    "nbgrader": {
     "checksum": "52b4bc8d358a4d9de11e257bbd2c1046",
     "grade": false,
     "grade_id": "p1_title",
     "locked": true,
     "solution": false
    }
   },
   "source": [
    "# Problem 1. IPython notebook as JSON.\n",
    "\n",
    "IPython/Jupyter notebooks are actually simple JSON documents. You may have noticed this if you are a Mac user, as OS X tries to attach .json at the end of the file name when you try to download an .ipynb file to your hard disk. It's because all information in the notebook is stored as JSON texts.\n",
    "\n",
    "See [The Jupyter Notebook Format](https://ipython.org/ipython-doc/3/notebook/nbformat.html) for details.\n",
    "\n",
    "In this problem, we will use the json module to parse a notebook file and extract some information about the notebook. We will use intro2ipy.ipynb from Week 2 as an example."
   ]
  },
  {
   "cell_type": "code",
   "execution_count": 2,
   "metadata": {
    "collapsed": true,
    "deletable": false,
    "nbgrader": {
     "checksum": "0ca5bd0bd41850387beb173cc7777859",
     "grade": false,
     "grade_id": "requests",
     "locked": true,
     "solution": false
    }
   },
   "outputs": [],
   "source": [
    "r = requests.get('https://raw.githubusercontent.com/UI-DataScience/info490-fa15/master/Week2/notebooks/intro2ipy.ipynb')\n",
    "\n",
    "with open('intro2ipy.ipynb', 'w') as f:\n",
    "    f.write(r.text)"
   ]
  },
  {
   "cell_type": "markdown",
   "metadata": {
    "deletable": false,
    "nbgrader": {
     "checksum": "8c2c9e164922163ab57c38e9fd067ca0",
     "grade": false,
     "grade_id": "get_keys",
     "locked": true,
     "solution": false
    }
   },
   "source": [
    "## Function: get_keys()\n",
    "- Write a function named get_keys() that takes a file name (str) and returns the keys (list of strings) of the dictionary at the [top level](https://ipython.org/ipython-doc/3/notebook/nbformat.html#top-level-structure).\n",
    "\n",
    "In other words, the function opens the JSON file, reads the file as a Python dictionary, and returns the keys of that dictionary. The dictionary you get from reading the JSON file is nested (there's a dictionary inside a dictionary inside a dictionary), and you should return the keys of the outermost (the top-level) dictionary."
   ]
  },
  {
   "cell_type": "code",
   "execution_count": 3,
   "metadata": {
    "collapsed": true,
    "deletable": false,
    "nbgrader": {
     "checksum": "b3a136040391095c53fe24e486c69a8f",
     "grade": false,
     "grade_id": "p1_answer",
     "locked": false,
     "solution": true
    }
   },
   "outputs": [],
   "source": [
    "def get_keys(filename):\n",
    "    '''\n",
    "    Takes the file name (str) of a JSON text file and returns the keys of the top-level dictionary.\n",
    "    \n",
    "    Parameters\n",
    "    ----------\n",
    "    filename (str): a JSON file.\n",
    "    \n",
    "    Returns\n",
    "    -------\n",
    "    A list of strings.\n",
    "    '''\n",
    "    # YOUR CODE HERE\n",
    "    result = []\n",
    "    # Open the file\n",
    "    with open(filename, 'r') as jsonfile:\n",
    "        # Read the data\n",
    "        data = json.load(jsonfile)\n",
    "        # Get the keys and append keys to result list\n",
    "        for key in data:\n",
    "            result.append(key)\n",
    "    return result"
   ]
  },
  {
   "cell_type": "code",
   "execution_count": 4,
   "metadata": {
    "collapsed": false
   },
   "outputs": [
    {
     "name": "stdout",
     "output_type": "stream",
     "text": [
      "['nbformat_minor', 'metadata', 'cells', 'nbformat']\n"
     ]
    }
   ],
   "source": [
    "print(get_keys('intro2ipy.ipynb'))"
   ]
  },
  {
   "cell_type": "code",
   "execution_count": 5,
   "metadata": {
    "collapsed": false,
    "deletable": false,
    "nbgrader": {
     "checksum": "bb15b6c560a3788faa86f10d10d901d5",
     "grade": true,
     "grade_id": "cube_test",
     "locked": true,
     "points": 10,
     "solution": false
    }
   },
   "outputs": [],
   "source": [
    "test1 = get_keys('intro2ipy.ipynb')\n",
    "answer1 = ['cells', 'nbformat_minor', 'metadata', 'nbformat']\n",
    "\n",
    "assert_equal(len(test1), len(answer1))\n",
    "assert_equal(set(test1), set(answer1))\n",
    "\n",
    "test2 = {\n",
    "    'A': 1,\n",
    "    'B': {'C': 2, 'D': 3},\n",
    "    'C': {\n",
    "        'E': {'F': 4},\n",
    "        'G': {'H': 5, 'I': 6}\n",
    "    }\n",
    "}\n",
    "\n",
    "answer2 = ['A', 'B', 'C']\n",
    "\n",
    "with open('test.json', 'w') as f:\n",
    "    json.dump(test2, f)\n",
    "\n",
    "assert_equal(len(get_keys('test.json')), len(answer2))\n",
    "assert_equal(set(get_keys('test.json')), set(answer2))\n",
    "\n",
    "os.remove('test.json')"
   ]
  },
  {
   "cell_type": "markdown",
   "metadata": {
    "deletable": false,
    "nbgrader": {
     "checksum": "25545052483fd12f428eab87a6efb9c2",
     "grade": false,
     "grade_id": "p2_title",
     "locked": true,
     "solution": false
    }
   },
   "source": [
    "## Function: get_version()\n",
    "Version information is always important. For example, the course docker image runs Python 3.4, while the latest version of Python 3 is version 3.5, so new features in Python 3.5 may or may not work in 3.4. Or, if you try to run a Python 3 notebook using a Python 2 kernel, it will throw errors. Furthermore, IPython notebooks themselves have different format versions. We are using \"nbformat\" 4, and if you try to run this notebook in older versions of IPython kernels that only recognizes nbformats 3 or less, it won't run.\n",
    "\n",
    "- Write a function named get_version() that takes a file name (str) and returns a tuple of (\"the programming language of the kernel\", \"the version of the language\", nbformat). The data type of this tuple is (str, str, int)"
   ]
  },
  {
   "cell_type": "code",
   "execution_count": 6,
   "metadata": {
    "collapsed": true,
    "deletable": false,
    "nbgrader": {
     "checksum": "d0d6bd9480136da5ba4754e57c40859f",
     "grade": false,
     "grade_id": "get_version",
     "locked": false,
     "solution": true
    }
   },
   "outputs": [],
   "source": [
    "def get_version(filename):\n",
    "    '''\n",
    "    Takes a file name (str) of a JSON file.\n",
    "    Returns a tuple of (\"the programming language of the kernel\", \"the version of the language\", nbformat).\n",
    "    \n",
    "    Parameters\n",
    "    ----------\n",
    "    filename (str): a JSON file.\n",
    "    \n",
    "    Returns\n",
    "    -------\n",
    "    A tuple of (str, str, int)\n",
    "    '''\n",
    "    # YOUR CODE HERE\n",
    "     # Open the file\n",
    "    with open(filename, 'r') as jsonfile:\n",
    "        # Read the data\n",
    "        data = json.load(jsonfile)\n",
    "        # Get the programming language of the kernel\n",
    "        name = data['metadata']['language_info']['name']\n",
    "        # Get the version of the language\n",
    "        version = data['metadata']['language_info']['version']\n",
    "        # Get nbformat\n",
    "        nbformat = data['nbformat']\n",
    "    \n",
    "    return name, version, nbformat"
   ]
  },
  {
   "cell_type": "code",
   "execution_count": 7,
   "metadata": {
    "collapsed": false
   },
   "outputs": [
    {
     "name": "stdout",
     "output_type": "stream",
     "text": [
      "('python', '3.4.0', 4)\n"
     ]
    }
   ],
   "source": [
    "print(get_version('intro2ipy.ipynb'))"
   ]
  },
  {
   "cell_type": "code",
   "execution_count": 8,
   "metadata": {
    "collapsed": false,
    "deletable": false,
    "nbgrader": {
     "checksum": "6fd787ac1798d10936d6c584da96a8af",
     "grade": true,
     "grade_id": "markdown_2",
     "locked": true,
     "points": 10,
     "solution": false
    }
   },
   "outputs": [],
   "source": [
    "test1 = get_version('intro2ipy.ipynb')\n",
    "answer1 = ('python', '3.4.0', 4)\n",
    "\n",
    "assert_equal(test1, answer1)\n",
    "\n",
    "test2 = {\n",
    "  \"metadata\" : {\n",
    "    \"signature\": \"hex-digest\", # used for authenticating unsafe outputs on load\n",
    "    \"kernel_info\": {\n",
    "        # if kernel_info is defined, its name field is required.\n",
    "        \"name\" : \"the name of the kernel\"\n",
    "    },\n",
    "    \"language_info\": {\n",
    "        # if language_info is defined, its name field is required.\n",
    "        \"name\" : \"the programming language of the kernel\",\n",
    "        \"version\": \"the version of the language\",\n",
    "        \"codemirror_mode\": \"The name of the codemirror mode to use [optional]\"\n",
    "    }\n",
    "  },\n",
    "  \"nbformat\": 4,\n",
    "  \"nbformat_minor\": 0,\n",
    "  \"cells\" : [\n",
    "      # list of cell dictionaries, see below\n",
    "  ],\n",
    "}\n",
    "\n",
    "answer2 = (\"the programming language of the kernel\", \"the version of the language\", 4)\n",
    "\n",
    "with open('test.json', 'w') as f:\n",
    "    json.dump(test2, f)\n",
    "    \n",
    "assert_equal(get_version('test.json'), answer2)\n",
    "\n",
    "os.remove('test.json')"
   ]
  },
  {
   "cell_type": "markdown",
   "metadata": {
    "deletable": false,
    "nbgrader": {
     "checksum": "6ea564e608a760e826c3b1ba263d63e6",
     "grade": false,
     "grade_id": "p3_title",
     "locked": true,
     "solution": false
    }
   },
   "source": [
    "## Function: count_code_cells()\n",
    "- Write a function named count_code_cells() that takes a filename (str) and a cell type (str), and returns the number count of that cell type (int)."
   ]
  },
  {
   "cell_type": "code",
   "execution_count": 9,
   "metadata": {
    "collapsed": false,
    "deletable": false,
    "nbgrader": {
     "checksum": "b4a982f1107d8b4be0b24f6de5364981",
     "grade": false,
     "grade_id": "count_code_cells",
     "locked": false,
     "solution": true
    }
   },
   "outputs": [],
   "source": [
    "def count_code_cells(filename, cell_type):\n",
    "    '''\n",
    "    Takes a filename and a cell type, and returns the number count of that cell type.\n",
    "    \n",
    "    Parameters\n",
    "    ----------\n",
    "    filename (str): a JSON file.\n",
    "    cell_type (str): \"code\", \"markdown\", etc.\n",
    "    \n",
    "    Returns\n",
    "    -------\n",
    "    An int.\n",
    "    '''\n",
    "    # YOUR CODE HERE\n",
    "    count = 0\n",
    "    # Open the file\n",
    "    with open(filename, 'r') as jsonfile:\n",
    "        # Read the data\n",
    "        data = json.load(jsonfile)\n",
    "        # Get cell\n",
    "        for cell in data['cells']:\n",
    "            # Count the specific cell_type\n",
    "            if cell[\"cell_type\"] == cell_type:\n",
    "                count +=1\n",
    "\n",
    "    return count"
   ]
  },
  {
   "cell_type": "code",
   "execution_count": 10,
   "metadata": {
    "collapsed": false,
    "deletable": false,
    "nbgrader": {
     "checksum": "81941bef059941b358a4f761c3b06598",
     "grade": true,
     "grade_id": "markdown_3",
     "locked": true,
     "points": 10,
     "solution": false
    }
   },
   "outputs": [
    {
     "name": "stdout",
     "output_type": "stream",
     "text": [
      "There are 5 code cells and 16 markdown cells.\n"
     ]
    }
   ],
   "source": [
    "n_code = count_code_cells('intro2ipy.ipynb', 'code')\n",
    "n_markdown = count_code_cells('intro2ipy.ipynb', 'markdown')\n",
    "\n",
    "print('There are {} code cells and {} markdown cells.'.format(n_code, n_markdown))\n",
    "\n",
    "assert_equal(count_code_cells('intro2ipy.ipynb', 'code'), 5)\n",
    "assert_equal(count_code_cells('intro2ipy.ipynb', 'markdown'), 16)\n",
    "\n",
    "test = {\n",
    "  \"cells\" : [\n",
    "    {\n",
    "      \"cell_type\" : \"type1\",\n",
    "      \"metadata\" : {},\n",
    "      \"source\" : \"single string or [list, of, strings]\",\n",
    "      },\n",
    "    {\n",
    "      \"cell_type\" : \"type1\",\n",
    "      \"metadata\" : {},\n",
    "      \"source\" : \"single string or [list, of, strings]\",\n",
    "      },\n",
    "    {\n",
    "      \"cell_type\" : \"type2\",\n",
    "      \"metadata\" : {},\n",
    "      \"source\" : \"single string or [list, of, strings]\",\n",
    "      }\n",
    "  ],\n",
    "} \n",
    "\n",
    "with open('test.json', 'w') as f:\n",
    "    json.dump(test, f)\n",
    "\n",
    "assert_equal(count_code_cells('test.json', 'type1'), 2)\n",
    "assert_equal(count_code_cells('test.json', 'type2'), 1)\n",
    "assert_equal(count_code_cells('test.json', 'type3'), 0)\n",
    "\n",
    "os.remove('test.json')"
   ]
  },
  {
   "cell_type": "code",
   "execution_count": null,
   "metadata": {
    "collapsed": true
   },
   "outputs": [],
   "source": []
  }
 ],
 "metadata": {
  "kernelspec": {
   "display_name": "Python 3",
   "language": "python",
   "name": "python3"
  },
  "language_info": {
   "codemirror_mode": {
    "name": "ipython",
    "version": 3
   },
   "file_extension": ".py",
   "mimetype": "text/x-python",
   "name": "python",
   "nbconvert_exporter": "python",
   "pygments_lexer": "ipython3",
   "version": "3.5.2"
  }
 },
 "nbformat": 4,
 "nbformat_minor": 0
}
