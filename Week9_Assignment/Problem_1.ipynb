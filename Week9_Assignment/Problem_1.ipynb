{
 "cells": [
  {
   "cell_type": "markdown",
   "metadata": {
    "deletable": false,
    "nbgrader": {
     "checksum": "e38d7a52cc866452ef8d6c3f63b7d68c",
     "grade": false,
     "grade_id": "header",
     "locked": true,
     "solution": false
    }
   },
   "source": [
    "# Week 9 Problem 1\n",
    "\n",
    "If you are not using the `Assignments` tab on the course JupyterHub server to read this notebook, read [Activating the assignments tab](https://github.com/UI-DataScience/info490-fa16/blob/master/Week2/assignments/README.md).\n",
    "\n",
    "A few things you should keep in mind when working on assignments:\n",
    "\n",
    "1. Make sure you fill in any place that says `YOUR CODE HERE`. Do **not** write your answer in anywhere else other than where it says `YOUR CODE HERE`. Anything you write anywhere else will be removed or overwritten by the autograder.\n",
    "\n",
    "2. Before you submit your assignment, make sure everything runs as expected. Go to menubar, select _Kernel_, and restart the kernel and run all cells (_Restart & Run all_).\n",
    "\n",
    "3. Do not change the title (i.e. file name) of this notebook.\n",
    "\n",
    "4. Make sure that you save your work (in the menubar, select _File_ → _Save and CheckPoint_)\n",
    "\n",
    "5. You are allowed to submit an assignment multiple times, but only the most recent submission will be graded."
   ]
  },
  {
   "cell_type": "code",
   "execution_count": 1,
   "metadata": {
    "collapsed": true,
    "deletable": false,
    "nbgrader": {
     "checksum": "dc37814ef45854df8b7cd5bb4c7571da",
     "grade": false,
     "grade_id": "import",
     "locked": true,
     "solution": false
    }
   },
   "outputs": [],
   "source": [
    "from nose.tools import assert_equal\n",
    "import csv"
   ]
  },
  {
   "cell_type": "markdown",
   "metadata": {
    "deletable": false,
    "nbgrader": {
     "checksum": "fc3a90b678b504c11733d375efcbdaec",
     "grade": false,
     "grade_id": "p1_title",
     "locked": true,
     "solution": false
    }
   },
   "source": [
    "# Problem 1.\n",
    "\n",
    "For this problem we will be revisiting [Week 5 Problem 2.1](https://github.com/UI-DataScience/info490-fa16/blob/master/Week5/assignments/Problem_2.ipynb) and [Week 7 Problem  3.1](https://github.com/UI-DataScience/info490-fa16/blob/master/Week7/assignments/Problem_3.ipynb), but this time you will be using the [csv module](https://docs.python.org/3/library/csv.html). Write a function to retrieve the columns of a delimited text file by their index. For example, `get_cols_by_index('foo.txt', cols=[0])` should return the first column of `foo.txt`, and `get_cols_by_index('foo.txt', cols=[0, 1, 4])` should return the first, second, and fifth. **`cols` should always be a list, even if it only has one element.** Also be sure to keep **all** rows of the csv (don't skip any headers).\n",
    "\n",
    "Your function should return the result as a *list of tuples*, where the list items are rows of the csv and the tuples are the data corresponding to the selected columns. Notice that if you only return one element as a tuple it will look like there is a blank second entry but its length will still be 1:\n",
    "\n",
    "```\n",
    ">>> singleton_tuple = tuple([1])\n",
    ">>> print('singleton tuple:', singleton_tuple)\n",
    "singleton tuple: (1,)\n",
    "\n",
    ">>> print('length of tuple:', len(singleton_tuple))\n",
    "length of tuple: 1\n",
    "\n",
    "```"
   ]
  },
  {
   "cell_type": "code",
   "execution_count": 2,
   "metadata": {
    "collapsed": false,
    "deletable": false,
    "nbgrader": {
     "checksum": "db3521fb40ee6d84031e737d64f0aa3d",
     "grade": false,
     "grade_id": "p1_answer",
     "locked": false,
     "solution": true
    }
   },
   "outputs": [],
   "source": [
    "def get_cols_by_index(fname, cols, delim=','):\n",
    "    \n",
    "    '''\n",
    "    Gets columns of a delimited text file by index or column number\n",
    "    \n",
    "    Params\n",
    "    -------\n",
    "    fname: the file name (and path)\n",
    "    cols : a list of indices for the columns (a list of column numbers)\n",
    "    delim: the delimiter character to pass to csv.reader\n",
    "    \n",
    "    Returns\n",
    "    -------\n",
    "    A list of tuples where each element corresponds to a row of data\n",
    "    from the text file. The tuples should have the same length as cols,\n",
    "    and each element of the tuple should be a field from the text file.\n",
    "    \n",
    "    '''\n",
    "    \n",
    "    # YOUR CODE HERE\n",
    "    # Create an empty list to store the results\n",
    "    colslist = []\n",
    "    n = len(cols)\n",
    "    with open(fname, 'r') as csvfile:        \n",
    "        for row in csv.reader(csvfile, delimiter = delim):\n",
    "            # get the data of columns\n",
    "            apd =[row[cols[i]] for i in range(n)]\n",
    "            # Turn it to tuple\n",
    "            apd = tuple(apd)\n",
    "            # Append it to the list\n",
    "            colslist.append(apd)\n",
    "    return colslist\n",
    "        \n"
   ]
  },
  {
   "cell_type": "code",
   "execution_count": 3,
   "metadata": {
    "collapsed": false,
    "deletable": false,
    "nbgrader": {
     "checksum": "7b45613deb4a86f9b21139da9c4bd9af",
     "grade": true,
     "grade_id": "p1_test",
     "locked": true,
     "points": 8,
     "solution": false
    }
   },
   "outputs": [],
   "source": [
    "# did you return the correct datatype?\n",
    "random_answer = get_cols_by_index('/home/data_scientist/data/airports.csv', cols=[1,2])\n",
    "assert_equal(type(random_answer[0]), tuple)\n",
    "[assert_equal(type(x), tuple) for x in random_answer]\n",
    "\n",
    "# is the header still there?\n",
    "all_cols = ['iata', 'airport', 'city', 'state', 'country', 'lat', 'long']\n",
    "assert_equal(tuple(all_cols),\n",
    "            get_cols_by_index('/home/data_scientist/data/airports.csv', delim=',', cols=list(range(7)))[0])\n",
    "\n",
    "# test with comma and 7 cols\n",
    "fifth_row = !sed -n 6p '/home/data_scientist/data/airports.csv'\n",
    "fifth_row = tuple(x.strip('\"') for x in fifth_row[0].split(','))\n",
    "fifth_row_test = get_cols_by_index('/home/data_scientist/data/airports.csv', delim=',', cols=list(range(7)))[5]\n",
    "assert_equal(fifth_row, fifth_row_test)\n",
    "\n",
    "# test with comma and 1 col\n",
    "eigth_row_one_col = !sed -n 9p '/home/data_scientist/data/airports.csv' | cut -d ',' -f2\n",
    "eigth_row_one_col = tuple(x.strip('\"') for x in eigth_row_one_col[0].split(','))\n",
    "eigth_row_one_col_test = get_cols_by_index('/home/data_scientist/data/airports.csv', delim=',', cols=[1])[8]\n",
    "assert_equal(eigth_row_one_col, eigth_row_one_col_test)\n",
    "\n",
    "# test with bar and 2 cols\n",
    "third_row_two_cols_bar = !sed -n 4p '/home/data_scientist/data/data.csv' | cut -d '|' -f2,4\n",
    "third_row_two_cols_bar = tuple(x.strip('\"') for x in third_row_two_cols_bar[0].split('|'))\n",
    "third_row_two_cols_bar_test = get_cols_by_index('/home/data_scientist/data/data.csv', delim='|', cols=[1,3])[3]\n",
    "assert_equal(third_row_two_cols_bar, third_row_two_cols_bar_test)"
   ]
  },
  {
   "cell_type": "markdown",
   "metadata": {
    "deletable": false,
    "nbgrader": {
     "checksum": "d2d3cbc94c26964fc44b224700571e73",
     "grade": false,
     "grade_id": "p2_title",
     "locked": true,
     "solution": false
    }
   },
   "source": [
    "# Problem 2.\n",
    "\n",
    "Now you need to get the columns by *name*. We are assuming that the column names are in the first row of the CSV file and we are not asking you to deal with cases where they are not. Hint: first [find out the indices](https://www.tutorialspoint.com/python/list_index.htm) of the entries of `cols` within the first row. Then either call your function from Problem 1 or reuse that code. As with Problem 1, return **all** rows of the csv including the header. "
   ]
  },
  {
   "cell_type": "code",
   "execution_count": 4,
   "metadata": {
    "collapsed": false,
    "deletable": false,
    "nbgrader": {
     "checksum": "60c6f2a9ed35a2dc261e8bb772cb1995",
     "grade": false,
     "grade_id": "p2_answer",
     "locked": false,
     "solution": true
    }
   },
   "outputs": [],
   "source": [
    "def get_cols_by_name(fname, cols, delim=','):\n",
    "    \n",
    "    '''\n",
    "    Gets columns of a delimited text file by name. Assumes the first\n",
    "    row of the text file contains the header or column names.\n",
    "    \n",
    "    Params\n",
    "    -------\n",
    "    fname: the file name (and path)\n",
    "    cols : a list of names of the fields (columns) to be returned\n",
    "    delim: the delimiter character to pass to csv.reader\n",
    "    \n",
    "    Returns\n",
    "    -------\n",
    "    A list of tuples where each element corresponds to a row of data\n",
    "    from the text file. The tuples should have the same length as cols,\n",
    "    and each element of the tuple should be a field from the text file.\n",
    "    \n",
    "    '''\n",
    "    \n",
    "    # YOUR CODE HERE\n",
    "    colslist = []\n",
    "    n = len(cols)\n",
    "    a = 0\n",
    "    with open(fname, 'r') as csvfile:        \n",
    "        for row in csv.reader(csvfile, delimiter = delim):\n",
    "            # If a=0, the row is head\n",
    "            if a == 0:\n",
    "                # Get the index number\n",
    "                colsindex = [row.index(cols[i]) for i in range(n)]\n",
    "                a = 1\n",
    "            # The rest is the same with prob1\n",
    "            apd =[row[colsindex[i]] for i in range(n)]\n",
    "            apd = tuple(apd)\n",
    "            colslist.append(apd)\n",
    "    return colslist    "
   ]
  },
  {
   "cell_type": "code",
   "execution_count": 5,
   "metadata": {
    "collapsed": false,
    "deletable": false,
    "nbgrader": {
     "checksum": "70eb8343678ae6d7e2185a71e736dec5",
     "grade": true,
     "grade_id": "p2_test",
     "locked": true,
     "points": 7,
     "solution": false
    }
   },
   "outputs": [],
   "source": [
    "# did you return the correct datatype?\n",
    "random_answer = get_cols_by_name('/home/data_scientist/data/airports.csv', cols=['iata', 'city'])\n",
    "assert_equal(type(random_answer[0]), tuple)\n",
    "[assert_equal(type(x), tuple) for x in random_answer]\n",
    "\n",
    "# is the header still there?\n",
    "all_cols = ['iata', 'airport', 'city', 'state', 'country', 'lat', 'long']\n",
    "assert_equal(tuple(all_cols),\n",
    "            get_cols_by_name('/home/data_scientist/data/airports.csv', delim=',', cols=all_cols)[0])\n",
    "\n",
    "\n",
    "# test with comma and 1 col\n",
    "eigth_row_one_col = !sed -n 9p '/home/data_scientist/data/airports.csv' | cut -d ',' -f6\n",
    "eigth_row_one_col = tuple(x.strip('\"') for x in eigth_row_one_col[0].split(','))\n",
    "eigth_row_one_col_test = get_cols_by_name('/home/data_scientist/data/airports.csv', delim=',', cols=['lat'])[8]\n",
    "assert_equal(eigth_row_one_col, eigth_row_one_col_test)\n",
    "\n",
    "# test with bar and 2 cols\n",
    "third_row_two_cols_bar = !sed -n 4p '/home/data_scientist/data/data.csv' | cut -d '|' -f2,4\n",
    "third_row_two_cols_bar = tuple(x.strip('\"') for x in third_row_two_cols_bar[0].split('|'))\n",
    "third_row_two_cols_bar_test = get_cols_by_name('/home/data_scientist/data/data.csv', delim='|', cols=['airport', 'state'])[3]\n",
    "assert_equal(third_row_two_cols_bar, third_row_two_cols_bar_test)"
   ]
  },
  {
   "cell_type": "markdown",
   "metadata": {
    "deletable": false,
    "nbgrader": {
     "checksum": "c06f09ee2572324c1d884754ed96f69c",
     "grade": false,
     "grade_id": "p3_title",
     "locked": true,
     "solution": false
    }
   },
   "source": [
    "# Problem 3.\n",
    "\n",
    "The main purpose of this problem is to give you experience creating a function that human beings might use. You now have the tools to read in csv files using Python either by specifying the name or indices of the columns you wish to keep.\n",
    "\n",
    "Now, write a generic function to read in CSV files. You can call your previous functions or write it as a self-contained function without dependencies. Your function should return the data in the same format as the previous functions and should now have the following features:\n",
    "* If `cols` is a list of integers, assume they are the indices of the columns (See [StackExchange](http://stackoverflow.com/questions/13252333/python-check-if-all-elements-of-a-list-are-the-same-type) for help determining type)\n",
    "* If `cols` is a list of strings, assume they are the names of the columns (See [StackExchange](http://stackoverflow.com/questions/13252333/python-check-if-all-elements-of-a-list-are-the-same-type) for help determining type)\n",
    "* If `cols` is neither a list of strings or a list of integers, return an **empty list**.\n",
    "\n",
    "Your function should work for generic delimited text files which means support for multiple delimiters (via the `delim` argument). I won't test the case where `cols` is a list of strings but there is no header column, but note that is a case your function would have to deal with in a real-world application."
   ]
  },
  {
   "cell_type": "code",
   "execution_count": 6,
   "metadata": {
    "collapsed": false,
    "deletable": false,
    "nbgrader": {
     "checksum": "d5a4e327af4dbac66a64035b5a3496bf",
     "grade": false,
     "grade_id": "p3_answer",
     "locked": false,
     "solution": true
    }
   },
   "outputs": [],
   "source": [
    "def my_read_csv(fname, cols, delim = ','):\n",
    "    \n",
    "    '''\n",
    "    Gets columns of a delimited text file by name or index. Assumes \n",
    "    the first row of the text file contains the header or column names.\n",
    "    \n",
    "    Params\n",
    "    -------\n",
    "    fname: the file name (and path)\n",
    "    cols : a list of names or indices of the fields (columns) to be \n",
    "           returned\n",
    "    delim: the delimiter character to pass to csv.reader\n",
    "    \n",
    "    Returns\n",
    "    -------\n",
    "    A list of tuples where each element corresponds to a row of data\n",
    "    from the text file. The tuples should have the same length as cols,\n",
    "    and each element of the tuple should be a field from the text file.\n",
    "    \n",
    "    '''\n",
    "    \n",
    "    # YOUR CODE HERE\n",
    "    colslist = []\n",
    "    n = len(cols)\n",
    "    a = 0\n",
    "    with open(fname, 'r') as csvfile:  \n",
    "        # If cols is list of integers\n",
    "        if all(isinstance(i, int) for i in cols):\n",
    "            for row in csv.reader(csvfile, delimiter = delim):\n",
    "                # get the data of columns\n",
    "                apd =[row[cols[i]] for i in range(n)]\n",
    "                # Turn it to tuple\n",
    "                apd = tuple(apd)\n",
    "                # Append it to the list\n",
    "                colslist.append(apd)\n",
    "        # If cols is list of strings\n",
    "        elif all(isinstance(i, str) for i in cols):\n",
    "            for row in csv.reader(csvfile, delimiter = delim):\n",
    "                # If a=0, the row is head\n",
    "                if a == 0:\n",
    "                    # Get the index number\n",
    "                    colsindex = [row.index(cols[i]) for i in range(n)]\n",
    "                    a = 1\n",
    "                # The rest is the same\n",
    "                apd =[row[colsindex[i]] for i in range(n)]\n",
    "                apd = tuple(apd)\n",
    "                colslist.append(apd)\n",
    "    return colslist    \n",
    "    "
   ]
  },
  {
   "cell_type": "code",
   "execution_count": 7,
   "metadata": {
    "collapsed": false,
    "deletable": false,
    "nbgrader": {
     "checksum": "2cdc58d299da6701c37a9923abbb6346",
     "grade": true,
     "grade_id": "p3_test",
     "locked": true,
     "points": 10,
     "solution": false
    }
   },
   "outputs": [],
   "source": [
    "# did you return the correct datatype?\n",
    "random_answer = my_read_csv('/home/data_scientist/data/airports.csv', cols=[1,2])\n",
    "assert_equal(type(random_answer[0]), tuple)\n",
    "[assert_equal(type(x), tuple) for x in random_answer]\n",
    "\n",
    "# is the header still there?\n",
    "all_cols = ['iata', 'airport', 'city', 'state', 'country', 'lat', 'long']\n",
    "assert_equal(tuple(all_cols),\n",
    "            my_read_csv('/home/data_scientist/data/airports.csv', delim=',', cols=all_cols)[0])\n",
    "\n",
    "# test with comma and 1 col by name\n",
    "myans1 = !sed -n 21p '/home/data_scientist/data/airports.csv' | cut -d ',' -f6\n",
    "myans1 = tuple(x.strip('\"') for x in myans1[0].split(','))\n",
    "mytest1 = my_read_csv('/home/data_scientist/data/airports.csv', delim=',', cols=['lat'])[20]\n",
    "assert_equal(myans1, mytest1)\n",
    "\n",
    "# test with bar and 2 cols by name\n",
    "myans2 = !sed -n 11p '/home/data_scientist/data/data.csv' | cut -d '|' -f2,4\n",
    "myans2 = tuple(x.strip('\"') for x in myans2[0].split('|'))\n",
    "mytest2 = my_read_csv('/home/data_scientist/data/data.csv', delim='|', cols=['airport', 'state'])[10]\n",
    "assert_equal(myans2, mytest2)\n",
    "\n",
    "# test with comma and 7 cols by index\n",
    "myans3 = !sed -n 6p '/home/data_scientist/data/airports.csv'\n",
    "myans3 = tuple(x.strip('\"') for x in myans3[0].split(','))\n",
    "mytest3 = my_read_csv('/home/data_scientist/data/airports.csv', delim=',', cols=list(range(7)))[5]\n",
    "assert_equal(myans3, mytest3)\n",
    "\n",
    "# test with comma and 1 col by index\n",
    "myans4 = !sed -n 9p '/home/data_scientist/data/airports.csv' | cut -d ',' -f2\n",
    "myans4 = tuple(x.strip('\"') for x in myans4[0].split(','))\n",
    "mytest4 = my_read_csv('/home/data_scientist/data/airports.csv', delim=',', cols=[1])[8]\n",
    "assert_equal(myans4, mytest4)\n",
    "\n",
    "\n",
    "# does the error handling work?\n",
    "assert_equal([], my_read_csv('/home/data_scientist/data/airports.csv', delim=',', cols=[1, 'a']))"
   ]
  },
  {
   "cell_type": "code",
   "execution_count": null,
   "metadata": {
    "collapsed": true
   },
   "outputs": [],
   "source": []
  }
 ],
 "metadata": {
  "kernelspec": {
   "display_name": "Python 3",
   "language": "python",
   "name": "python3"
  },
  "language_info": {
   "codemirror_mode": {
    "name": "ipython",
    "version": 3
   },
   "file_extension": ".py",
   "mimetype": "text/x-python",
   "name": "python",
   "nbconvert_exporter": "python",
   "pygments_lexer": "ipython3",
   "version": "3.5.2"
  }
 },
 "nbformat": 4,
 "nbformat_minor": 0
}
