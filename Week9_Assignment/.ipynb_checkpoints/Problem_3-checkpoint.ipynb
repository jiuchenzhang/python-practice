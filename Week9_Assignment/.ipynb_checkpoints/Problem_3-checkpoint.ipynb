{
 "cells": [
  {
   "cell_type": "markdown",
   "metadata": {
    "deletable": false,
    "nbgrader": {
     "checksum": "0ec0297019db3e74662231257ad91031",
     "grade": false,
     "grade_id": "title",
     "locked": true,
     "solution": false
    }
   },
   "source": [
    "# Week 9 Problem 3\n",
    "\n",
    "If you are not using the `Assignments` tab on the course JupyterHub server to read this notebook, read [Activating the assignments tab](https://github.com/UI-DataScience/info490-fa16/blob/master/Week2/assignments/README.md).\n",
    "\n",
    "A few things you should keep in mind when working on assignments:\n",
    "\n",
    "1. Make sure you fill in any place that says `YOUR CODE HERE`. Do **not** write your answer in anywhere else other than where it says `YOUR CODE HERE`. Anything you write anywhere else will be removed or overwritten by the autograder.\n",
    "\n",
    "2. Before you submit your assignment, make sure everything runs as expected. Go to menubar, select _Kernel_, and restart the kernel and run all cells (_Restart & Run all_).\n",
    "\n",
    "3. Do not change the title (i.e. file name) of this notebook.\n",
    "\n",
    "4. Make sure that you save your work (in the menubar, select _File_ → _Save and CheckPoint_)\n",
    "\n",
    "5. You are allowed to submit an assignment multiple times, but only the most recent submission will be graded."
   ]
  },
  {
   "cell_type": "code",
   "execution_count": 1,
   "metadata": {
    "collapsed": true,
    "deletable": false,
    "nbgrader": {
     "checksum": "09dd47bc48571aeb5bc2d899f1c93767",
     "grade": false,
     "grade_id": "import",
     "locked": true,
     "solution": false
    }
   },
   "outputs": [],
   "source": [
    "import numpy as np\n",
    "import pandas as pd\n",
    "import requests\n",
    "from bs4 import BeautifulSoup\n",
    "import xml.etree.ElementTree as ET\n",
    "\n",
    "from nose.tools import ok_, assert_equal"
   ]
  },
  {
   "cell_type": "markdown",
   "metadata": {
    "deletable": false,
    "nbgrader": {
     "checksum": "09ec705c7af0aeb66e634c7e7e782723",
     "grade": false,
     "grade_id": "p1",
     "locked": true,
     "solution": false
    }
   },
   "source": [
    "# Problem 1. XML.\n",
    "\n",
    "In this problem, we will use Pandas to find the top 20 airports by traffic and work with XML format to extract delay information of the top 20 airports.\n",
    "\n",
    "We will use the `Dest` and `Origin` columns of the 2001 flight data `2001.csv`. Note that each airport is identified by [IATA codes](https://en.wikipedia.org/wiki/International_Air_Transport_Association_code)."
   ]
  },
  {
   "cell_type": "code",
   "execution_count": 2,
   "metadata": {
    "collapsed": false,
    "deletable": false,
    "nbgrader": {
     "checksum": "f249d18b0f1b1462a10aaa0fc056c5b0",
     "grade": false,
     "grade_id": "2001_csv",
     "locked": true,
     "solution": false
    }
   },
   "outputs": [
    {
     "name": "stdout",
     "output_type": "stream",
     "text": [
      "  Origin Dest\n",
      "0    BWI  CLT\n",
      "1    BWI  CLT\n",
      "2    BWI  CLT\n",
      "3    BWI  CLT\n",
      "4    BWI  CLT\n"
     ]
    }
   ],
   "source": [
    "dest_origin = pd.read_csv(\n",
    "    '/home/data_scientist/data/2001.csv', # edit this path if necessary\n",
    "    encoding='latin-1',\n",
    "    usecols=('Dest', 'Origin')\n",
    ")\n",
    "\n",
    "print(dest_origin.head())"
   ]
  },
  {
   "cell_type": "markdown",
   "metadata": {
    "deletable": false,
    "nbgrader": {
     "checksum": "5232e7ba1be01dbfd0a2f982bdaba7ed",
     "grade": false,
     "grade_id": "p1_1",
     "locked": true,
     "solution": false
    }
   },
   "source": [
    "## 1. Function: get_total_flights()\n",
    "\n",
    "Your first task is to add the number of departures and the number of arrivals in 2001 to find which 20 airports had the most number of flights.\n",
    "\n",
    "Count the total number of departures from and arrivals to each airport.\n",
    "  In other words, first count the number of times each airport appears in the `Dest` column\n",
    "  to get\n",
    "  \n",
    "    Dest\n",
    "    ABE      5262\n",
    "    ABI      2567\n",
    "    ABQ     36229\n",
    "    ACT      2682\n",
    "    ADQ       726\n",
    "    \n",
    "  (only the first 5 columns are shown).\n",
    "  Then, count the number of times each airport apears in the `Origin` column to get\n",
    "  \n",
    "    Origin\n",
    "    ABE        5262\n",
    "    ABI        2567\n",
    "    ABQ       36248\n",
    "    ACT        2686\n",
    "    ACY           1\n",
    "\n",
    "  Finally, add them up get the total number:\n",
    "  \n",
    "    ABE    10524\n",
    "    ABI     5134\n",
    "    ABQ    72477\n",
    "    ACT     5368\n",
    "    ACY        1\n",
    "\n",
    "**Hint 1**: I would use `groupby(...).size()` on `Dest` and `Origin` columns to get the number of departures and arrivals, respectively.\n",
    "\n",
    "**Hint 2**: If you simply add up the dataframes with `df1 + df2` (where `df1` is the result of doing `groupby().size()` on the `Dest` column and `df2` is the result of doing `groupby().size()` on the `Origin` column), `df1 + df2` will have some columns with `NaN` values (try this!).\n",
    "\n",
    "For example, note that there is no `ACY` airpot when we add up the `Dest` column, while there is 1 flight that originated from `ACY` when we add up the `Origin` column. In this case, the number of flights for `ACY` in `df1 + df2` will be `NaN`.\n",
    "\n",
    "So, you need a way to handle these missing entries. I suggest that you use [pandas.DataFrame.add()](http://pandas.pydata.org/pandas-docs/version/0.16.2/generated/pandas.DataFrame.add.html) so that you can apply the `fill_value` parameter to fill the missing values with 0.\n",
    "\n",
    "**Hint 3**: It seems that [pandas.DataFrame.add()](http://pandas.pydata.org/pandas-docs/version/0.16.2/generated/pandas.DataFrame.add.html) returns `float64` values by default. But we are only dealing with integer values here, so use [pandas.DataFrame.astype()](http://pandas.pydata.org/pandas-docs/version/0.16.2/generated/pandas.DataFrame.astype.html) to change the data type to `np.int32`.\n",
    "\n",
    "**Hint 4**: As always, this is just a suggestion. If you see an easier or better approach, use it."
   ]
  },
  {
   "cell_type": "code",
   "execution_count": 3,
   "metadata": {
    "collapsed": true,
    "deletable": false,
    "nbgrader": {
     "checksum": "e6755461c9c6cbbe185e236b75927efd",
     "grade": false,
     "grade_id": "get_total_flights_answer",
     "locked": false,
     "solution": true
    }
   },
   "outputs": [],
   "source": [
    "def get_total_flights(df):\n",
    "    '''\n",
    "    Takes a dataframe that has two columns Dest and Origin\n",
    "    and returns a dataframe that has a column named flights\n",
    "    and is indexed by IATA codes.\n",
    "    \n",
    "    Parameters\n",
    "    ----------\n",
    "    df: pandas.DataFrame\n",
    "    \n",
    "    Returns\n",
    "    -------\n",
    "    pandas.DataFrame\n",
    "    '''\n",
    "    \n",
    "    # YOUR CODE HERE\n",
    "    # Get the number of departure\n",
    "    df1 = df.groupby('Dest').size()\n",
    "    # Get the number of arrival\n",
    "    df2 = df.groupby('Origin').size()\n",
    "    # Add them up and set the data type to be np.int32\n",
    "    result = df1.add(df2,fill_value=0).astype('int32')\n",
    "    return result"
   ]
  },
  {
   "cell_type": "markdown",
   "metadata": {
    "deletable": false,
    "nbgrader": {
     "checksum": "171fcbb5edaab068d5c3c9eaf568bc41",
     "grade": false,
     "grade_id": "p1_1_p",
     "locked": true,
     "solution": false
    }
   },
   "source": [
    "Visually inspect the resulting data frame."
   ]
  },
  {
   "cell_type": "code",
   "execution_count": 4,
   "metadata": {
    "collapsed": false,
    "deletable": false,
    "nbgrader": {
     "checksum": "7dee4871131c67704e550e1b6631d069",
     "grade": false,
     "grade_id": "get_total_flights_print",
     "locked": true,
     "solution": false
    }
   },
   "outputs": [
    {
     "name": "stdout",
     "output_type": "stream",
     "text": [
      "ABE     10524\n",
      "ABI      5134\n",
      "ABQ     72477\n",
      "ACT      5368\n",
      "ACY         1\n",
      "ADQ      1452\n",
      "AKN       568\n",
      "ALB     32713\n",
      "AMA     12267\n",
      "ANC     42381\n",
      "APF       725\n",
      "ATL    503163\n",
      "AUS     85809\n",
      "AVL      3172\n",
      "AVP      2893\n",
      "AZO      5290\n",
      "BDL     71983\n",
      "BET      2306\n",
      "BFL      3338\n",
      "BGM       751\n",
      "BGR      7417\n",
      "BHM     37566\n",
      "BIL      6249\n",
      "BIS      2779\n",
      "BMI      2869\n",
      "BNA    112603\n",
      "BOI     24152\n",
      "BOS    266032\n",
      "BPT      3481\n",
      "BQN       518\n",
      "        ...  \n",
      "SHV     12011\n",
      "SIT      2758\n",
      "SJC    144653\n",
      "SJT      4505\n",
      "SJU     52957\n",
      "SLC    152859\n",
      "SMF     80394\n",
      "SNA     86871\n",
      "SPS      3985\n",
      "SRQ      9044\n",
      "STL    324477\n",
      "STT      6723\n",
      "STX      1817\n",
      "SUX       546\n",
      "SWF      2386\n",
      "SYR     22281\n",
      "TLH      2957\n",
      "TOL      4483\n",
      "TPA    137286\n",
      "TRI      1095\n",
      "TUL     45562\n",
      "TUS     39101\n",
      "TVC      5067\n",
      "TXK      3475\n",
      "TYR      6361\n",
      "TYS     11131\n",
      "VPS      3455\n",
      "WRG      1452\n",
      "XNA     11749\n",
      "YAK      1450\n",
      "dtype: int32\n"
     ]
    }
   ],
   "source": [
    "flights = get_total_flights(dest_origin)\n",
    "print(flights)"
   ]
  },
  {
   "cell_type": "code",
   "execution_count": 5,
   "metadata": {
    "collapsed": false,
    "deletable": false,
    "nbgrader": {
     "checksum": "0c050548dbadc45e2d6952adff72e9f1",
     "grade": true,
     "grade_id": "get_total_flights_test",
     "locked": true,
     "points": 10,
     "solution": false
    }
   },
   "outputs": [],
   "source": [
    "test1 = pd.DataFrame({\n",
    "    'Dest': ['A', 'B', 'A', 'A', 'C'],\n",
    "    'Origin': ['B', 'A', 'B', 'B', 'A']\n",
    "    })\n",
    "\n",
    "answer1 = pd.Series([5, 4, 1], index=['A', 'B', 'C'], dtype=np.int32)\n",
    "\n",
    "test2 = pd.DataFrame({\n",
    "    'Dest': ['A', 'B'],\n",
    "    'Origin': ['C', 'D']\n",
    "    })\n",
    "\n",
    "answer2 = pd.Series([1, 1, 1, 1], index=['A', 'B', 'C', 'D'], dtype=np.int32)\n",
    "\n",
    "ok_(get_total_flights(test1).equals(answer1))\n",
    "ok_(get_total_flights(test2).equals(answer2))"
   ]
  },
  {
   "cell_type": "markdown",
   "metadata": {
    "deletable": false,
    "nbgrader": {
     "checksum": "fc0003b3e37d9d44c07b917692803490",
     "grade": false,
     "grade_id": "p1_1_c",
     "locked": true,
     "solution": false
    }
   },
   "source": [
    "To keep the problem simple, we will use only the top 20 airports."
   ]
  },
  {
   "cell_type": "code",
   "execution_count": 6,
   "metadata": {
    "collapsed": false,
    "deletable": false,
    "nbgrader": {
     "checksum": "ec75d7aeea44df508154c07c07583b9b",
     "grade": false,
     "grade_id": "top20_print",
     "locked": true,
     "solution": false
    }
   },
   "outputs": [
    {
     "name": "stdout",
     "output_type": "stream",
     "text": [
      "ORD    682636\n",
      "DFW    624361\n",
      "ATL    503163\n",
      "LAX    450019\n",
      "PHX    368631\n",
      "STL    324477\n",
      "DTW    297522\n",
      "MSP    284955\n",
      "LAS    272293\n",
      "BOS    266032\n",
      "DEN    265184\n",
      "IAH    257193\n",
      "CLT    256626\n",
      "SFO    243473\n",
      "EWR    241016\n",
      "PHL    239390\n",
      "LGA    232964\n",
      "PIT    212738\n",
      "SEA    205486\n",
      "BWI    199674\n",
      "dtype: int32\n"
     ]
    }
   ],
   "source": [
    "top20 = flights.sort_values(ascending=False, inplace=False)[:20]\n",
    "print(top20)"
   ]
  },
  {
   "cell_type": "markdown",
   "metadata": {
    "deletable": false,
    "nbgrader": {
     "checksum": "2fc29e90b998ea19a7ef24a0d7a55b91",
     "grade": false,
     "grade_id": "p1_2",
     "locked": true,
     "solution": false
    }
   },
   "source": [
    "## 2. Function: is_delayed()\n",
    "\n",
    "- Write a function named `is_delayed` that takes an XML code (str), and returns `None` if the airport is not delayed and a tuple of `(MinDelay, MaxDelay)` (both strings) if the airport is delayed.\n",
    "\n",
    "In [Problem 5.2](https://github.com/UI-DataScience/info490-fa15/blob/master/Week5/assignment/requests.ipynb), we used the [FAA airport service](http://services.faa.gov/docs/services/airport/), which lets us get the airport status, including known delays and weather data. We requested the response be in a JSON format in Problem 5.2, but now that we have learned about XML formats, we will choose the reponse format to be in XML. \n",
    "\n",
    "From the XML response, use the [`xml.etree.ElementTree`](https://docs.python.org/3/library/xml.etree.elementtree.html#parsing-xml) module or the [`BeautilfulSoup`](https://www.crummy.com/software/BeautifulSoup/bs4/doc/) module to parse the XML and extract the delay information. The XML files we are going to handle are similar to the sample XML response at the [FAA airport service](http://services.faa.gov/docs/services/airport/) webpage."
   ]
  },
  {
   "cell_type": "code",
   "execution_count": 7,
   "metadata": {
    "collapsed": false,
    "deletable": false,
    "nbgrader": {
     "checksum": "3bfcce93bd4f3ceab902e9c8bbcea3ae",
     "grade": false,
     "grade_id": "is_delayed_answer",
     "locked": false,
     "solution": true
    }
   },
   "outputs": [],
   "source": [
    "def is_delayed(xml):\n",
    "    '''\n",
    "    Takes an IATA code and returns a Boolean.\n",
    "    \n",
    "    Parameter\n",
    "    ---------\n",
    "    xml (str): an XML code to parse.\n",
    "\n",
    "    Returns\n",
    "    -------\n",
    "    None if if the 'Delay' tag in the XML is false, e.g. <Delay>false</Delay>\n",
    "    If the 'Delay' tag is true, e.g. <Delay>true</Delay>, the function returns\n",
    "    a tuple of two strings, 'MinDelay' and 'MaxDelay'.\n",
    "    For example, when\n",
    "    <Delay>true</Delay>\n",
    "    <MinDelay>16 minutes</MinDelay>\n",
    "    <MaxDelay>30 minutes</MaxDelay>\n",
    "    the function returns ('16 minutes', '30 minutes').\n",
    "    '''\n",
    "    \n",
    "    # YOUR CODE HERE\n",
    "    # Get the root\n",
    "    root = ET.fromstring(xml)\n",
    "    # if it delayed\n",
    "    if root.find('Delay').text=='true':\n",
    "        # Get the status\n",
    "        stat=root.find('Status')\n",
    "        # Get two strings\n",
    "        mindelay = stat.find('MinDelay').text\n",
    "        maxdelay = stat.find('MaxDelay').text\n",
    "        result = (mindelay, maxdelay)\n",
    "    # if it not delayed, return None\n",
    "    else:\n",
    "        result = None\n",
    "    return result"
   ]
  },
  {
   "cell_type": "markdown",
   "metadata": {
    "deletable": false,
    "nbgrader": {
     "checksum": "34bb1e7da266c73aab01405005675d24",
     "grade": false,
     "grade_id": "p1_2_d",
     "locked": true,
     "solution": false
    }
   },
   "source": [
    "The following code cell makes XML requests to the FAA service. The FAA service is in real time, while the XML files on Github are static, so results may differ."
   ]
  },
  {
   "cell_type": "code",
   "execution_count": 8,
   "metadata": {
    "collapsed": false,
    "deletable": false,
    "nbgrader": {
     "checksum": "acdc5cdbfd43c2dd5422c98bbb6a2be9",
     "grade": false,
     "grade_id": "is_delayed_print",
     "locked": true,
     "points": 0,
     "solution": false
    }
   },
   "outputs": [
    {
     "name": "stdout",
     "output_type": "stream",
     "text": [
      "ORD is not delayed.\n",
      "DFW is not delayed.\n",
      "ATL is not delayed.\n",
      "LAX is not delayed.\n",
      "PHX is not delayed.\n",
      "STL is not delayed.\n",
      "DTW is not delayed.\n",
      "MSP is not delayed.\n",
      "LAS is not delayed.\n",
      "BOS is not delayed.\n",
      "DEN is not delayed.\n",
      "IAH is not delayed.\n",
      "CLT is not delayed.\n",
      "SFO is not delayed.\n",
      "EWR is not delayed.\n",
      "PHL is not delayed.\n",
      "LGA is not delayed.\n",
      "PIT is not delayed.\n",
      "SEA is not delayed.\n",
      "BWI is not delayed.\n"
     ]
    }
   ],
   "source": [
    "for airport in top20.index:\n",
    "    url = 'http://services.faa.gov/airport/status/{}'.format(airport)\n",
    "    payload = {\n",
    "        'format': 'application/xml'\n",
    "    }\n",
    "    r = requests.get(url)\n",
    "    delay = is_delayed(r.text)\n",
    "    if delay is None:\n",
    "        print('{} is not delayed.'.format(airport))\n",
    "    else:\n",
    "        print('{} is delayed by {} to {}.'.format(airport, delay[0], delay[1]))"
   ]
  },
  {
   "cell_type": "markdown",
   "metadata": {
    "deletable": false,
    "nbgrader": {
     "checksum": "e3bdba2c81a8ca72be8e661660708693",
     "grade": false,
     "grade_id": "p1_2_t",
     "locked": true,
     "solution": false
    }
   },
   "source": [
    "Your function should pass the tests in the following code cell without an error."
   ]
  },
  {
   "cell_type": "code",
   "execution_count": 9,
   "metadata": {
    "collapsed": false,
    "deletable": false,
    "nbgrader": {
     "checksum": "93640806c66d3b880e06bee4fcbd147b",
     "grade": true,
     "grade_id": "is_delayed_test",
     "locked": true,
     "points": 15,
     "solution": false
    }
   },
   "outputs": [],
   "source": [
    "test1 = '''\n",
    "<?xml version=\"1.0\" encoding=\"UTF-8\"?><AirportStatus> \n",
    "\t\t\t\t\t<Delay>true</Delay>\n",
    "\t\t\t\t\n",
    "\t\t\t\t\t<IATA>ORD</IATA>\n",
    "\t\t\t\t\n",
    "\t\t\t\t\t<State>Illinois</State>\n",
    "\t\t\t\t\n",
    "\t\t\t\t\t<Name>Chicago OHare International</Name>\n",
    "\t\t\t\t\n",
    "\t\t\t\t\t<Weather><Visibility>10.00</Visibility>\n",
    "\t\t\t\t\n",
    "\t\t\t\t\t<Weather>Partly Cloudy</Weather>\n",
    "\t\t\t\t\n",
    "\t\t\t\t\t<Meta><Credit>NOAA&apos;s National Weather Service</Credit>\n",
    "\t\t\t\t\n",
    "\t\t\t\t\t<Updated>12:51 PM Local</Updated>\n",
    "\t\t\t\t\n",
    "\t\t\t\t\t<Url>http://weather.gov/</Url></Meta>\n",
    "\t\t\t\t\n",
    "\t\t\t\t\t<Temp>53.0 F (11.7 C)</Temp>\n",
    "\t\t\t\t\n",
    "\t\t\t\t\t<Wind>Northwest at 12.7mph</Wind></Weather>\n",
    "\t\t\t\t\n",
    "\t\t\t\t\t<ICAO>KORD</ICAO>\n",
    "\t\t\t\t\n",
    "\t\t\t\t\t<City>Chicago</City>\n",
    "\t\t\t\t\n",
    "\t\t\t\t\t<Status><Reason>VOL:Multi-taxi</Reason>\n",
    "\t\t\t\t\n",
    "\t\t\t\t\t<ClosureBegin></ClosureBegin>\n",
    "\t\t\t\t\n",
    "\t\t\t\t\t<EndTime></EndTime>\n",
    "\t\t\t\t\n",
    "\t\t\t\t\t<MinDelay>16 minutes</MinDelay>\n",
    "\t\t\t\t\n",
    "\t\t\t\t\t<AvgDelay></AvgDelay>\n",
    "\t\t\t\t\n",
    "\t\t\t\t\t<MaxDelay>30 minutes</MaxDelay>\n",
    "\t\t\t\t\n",
    "\t\t\t\t\t<ClosureEnd></ClosureEnd>\n",
    "\t\t\t\t\n",
    "\t\t\t\t\t<Trend>Increasing</Trend>\n",
    "\t\t\t\t\n",
    "\t\t\t\t\t<Type>Departure</Type></Status>\n",
    "\t\t\t\t</AirportStatus> \n",
    "'''.strip()\n",
    "\n",
    "test2 = '''\n",
    "<?xml version=\"1.0\" encoding=\"UTF-8\"?><AirportStatus> \n",
    "\t\t\t\t\t<Delay>false</Delay>\n",
    "\t\t\t\t\n",
    "\t\t\t\t\t<IATA>SFO</IATA>\n",
    "\t\t\t\t\n",
    "\t\t\t\t\t<State>California</State>\n",
    "\t\t\t\t\n",
    "\t\t\t\t\t<Name>San Francisco International</Name>\n",
    "\t\t\t\t\n",
    "\t\t\t\t\t<Weather><Visibility>10.00</Visibility>\n",
    "\t\t\t\t\n",
    "\t\t\t\t\t<Weather>Partly Cloudy</Weather>\n",
    "\t\t\t\t\n",
    "\t\t\t\t\t<Meta><Credit>NOAA&apos;s National Weather Service</Credit>\n",
    "\t\t\t\t\n",
    "\t\t\t\t\t<Updated>12:56 PM Local</Updated>\n",
    "\t\t\t\t\n",
    "\t\t\t\t\t<Url>http://weather.gov/</Url></Meta>\n",
    "\t\t\t\t\n",
    "\t\t\t\t\t<Temp>68.0 F (20.0 C)</Temp>\n",
    "\t\t\t\t\n",
    "\t\t\t\t\t<Wind>North at 5.8mph</Wind></Weather>\n",
    "\t\t\t\t\n",
    "\t\t\t\t\t<ICAO>KSFO</ICAO>\n",
    "\t\t\t\t\n",
    "\t\t\t\t\t<City>San Francisco</City>\n",
    "\t\t\t\t\n",
    "\t\t\t\t\t<Status><Reason>No known delays for this airport.</Reason>\n",
    "\t\t\t\t\n",
    "\t\t\t\t\t<ClosureBegin></ClosureBegin>\n",
    "\t\t\t\t\n",
    "\t\t\t\t\t<EndTime></EndTime>\n",
    "\t\t\t\t\n",
    "\t\t\t\t\t<MinDelay></MinDelay>\n",
    "\t\t\t\t\n",
    "\t\t\t\t\t<AvgDelay></AvgDelay>\n",
    "\t\t\t\t\n",
    "\t\t\t\t\t<MaxDelay></MaxDelay>\n",
    "\t\t\t\t\n",
    "\t\t\t\t\t<ClosureEnd></ClosureEnd>\n",
    "\t\t\t\t\n",
    "\t\t\t\t\t<Trend></Trend>\n",
    "\t\t\t\t\n",
    "\t\t\t\t\t<Type></Type></Status>\n",
    "\t\t\t\t</AirportStatus> \n",
    "'''.strip()\n",
    "\n",
    "assert_equal(is_delayed(test1), ('16 minutes', '30 minutes'))\n",
    "assert_equal(is_delayed(test2), None)"
   ]
  },
  {
   "cell_type": "code",
   "execution_count": null,
   "metadata": {
    "collapsed": true
   },
   "outputs": [],
   "source": []
  }
 ],
 "metadata": {
  "kernelspec": {
   "display_name": "Python 3",
   "language": "python",
   "name": "python3"
  },
  "language_info": {
   "codemirror_mode": {
    "name": "ipython",
    "version": 3
   },
   "file_extension": ".py",
   "mimetype": "text/x-python",
   "name": "python",
   "nbconvert_exporter": "python",
   "pygments_lexer": "ipython3",
   "version": "3.5.2"
  }
 },
 "nbformat": 4,
 "nbformat_minor": 0
}
