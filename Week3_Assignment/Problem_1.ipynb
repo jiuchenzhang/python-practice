{
 "cells": [
  {
   "cell_type": "markdown",
   "metadata": {
    "deletable": false,
    "nbgrader": {
     "checksum": "bde3c8a2a5c97ab22b45d445c9f6963d",
     "grade": false,
     "grade_id": "header",
     "locked": true,
     "solution": false
    }
   },
   "source": [
    "# Week 3 Problem 1\n",
    "\n",
    "If you are not using the `Assignments` tab on the course JupyterHub server to read this notebook, read [Activating the assignments tab](README.md).\n",
    "\n",
    "A few things you should keep in mind when working on assignments:\n",
    "\n",
    "1. Make sure you fill in any place that says `YOUR CODE HERE`. Do **not** write your answer in anywhere else other than where it says `YOUR CODE HERE`. Anything you write anywhere else will be removed or overwritten by the autograder.\n",
    "\n",
    "2. Before you submit your assignment, make sure everything runs as expected. Go to menubar, select _Kernel_, and restart the kernel and run all cells (_Restart & Run all_).\n",
    "\n",
    "3. Do not change the title (i.e. file name) of this notebook.\n",
    "\n",
    "4. Make sure that you save your work (in the menubar, select _File_ → _Save and CheckPoint_)\n",
    "\n",
    "5. You are allowed to submit an assignment multiple times, but only the most recent submission will be graded.\n",
    "\n",
    "***\n",
    "\n",
    "This problem will focus on Chapters 9 and 10 of [TLCL](https://sourceforge.net/projects/linuxcommand/?source=dlp) such as **file permissions** and **process monitoring**."
   ]
  },
  {
   "cell_type": "code",
   "execution_count": 1,
   "metadata": {
    "collapsed": true,
    "deletable": false,
    "nbgrader": {
     "checksum": "f41f3e133f7eab1a6b85fed8da9860bf",
     "grade": false,
     "grade_id": "import_nose",
     "locked": true,
     "solution": false
    }
   },
   "outputs": [],
   "source": [
    "from nose.tools import assert_equal"
   ]
  },
  {
   "cell_type": "markdown",
   "metadata": {
    "deletable": false,
    "nbgrader": {
     "checksum": "6bd580c7b6b44fedf7996bc577138b2d",
     "grade": false,
     "grade_id": "general_info",
     "locked": true,
     "solution": false
    }
   },
   "source": [
    "Let's start by making a test directory called `w3p1_testdir`. If you want to start over, simply rerun the following code chunk to recreate the directory. As a general tip, if you find yourself running errant code a few times in a row and/or things get in the wrong place, simply rerun the following cell to start over. For this assignment to work properly, all the commands have to be executed properly **in succession**, so there is a lot of room for error. Please try to understand what each command you issue is doing so you can keep track of what has happened within `w3p1_testdir`. You may find it helpful to open a terminal window to explore the filesystem while you work through this notebook."
   ]
  },
  {
   "cell_type": "code",
   "execution_count": 2,
   "metadata": {
    "collapsed": true,
    "deletable": false,
    "nbgrader": {
     "checksum": "7c201eb7c3e533a722666f8fa5a8da1e",
     "grade": false,
     "grade_id": "make_init_dir",
     "locked": true,
     "solution": false
    }
   },
   "outputs": [],
   "source": [
    "%%bash\n",
    "\n",
    "# set a name for the test directory\n",
    "dir='w3p1_testdir'\n",
    "\n",
    "# make a directory for testing\n",
    "# remove it and remake if it already exists\n",
    "if [[ -e ~/$dir ]]; then\n",
    "    rm -rf ~/$dir \n",
    "fi\n",
    "\n",
    "mkdir ~/$dir"
   ]
  },
  {
   "cell_type": "markdown",
   "metadata": {
    "deletable": false,
    "nbgrader": {
     "checksum": "d4c85eaa4daf78fa911644d68d6ae74d",
     "grade": false,
     "grade_id": "check_permissions",
     "locked": true,
     "solution": false
    }
   },
   "source": [
    "We can check the permissions/mode of the file like so:"
   ]
  },
  {
   "cell_type": "code",
   "execution_count": 3,
   "metadata": {
    "collapsed": false,
    "deletable": false,
    "nbgrader": {
     "checksum": "939c41d074ded26d0cfaa3cef1da7a71",
     "grade": false,
     "grade_id": "check_permissions_code",
     "locked": true,
     "solution": false
    }
   },
   "outputs": [
    {
     "name": "stdout",
     "output_type": "stream",
     "text": [
      "drwxr-xr-x\n"
     ]
    }
   ],
   "source": [
    "ls_res = !ls -l ~ | grep w3p1_testdir \n",
    "print(ls_res[0][:10])"
   ]
  },
  {
   "cell_type": "markdown",
   "metadata": {
    "deletable": false,
    "nbgrader": {
     "checksum": "a4a0c645c9d1971998854a36fb01bcae",
     "grade": false,
     "grade_id": "check_permissions_explain",
     "locked": true,
     "solution": false
    }
   },
   "source": [
    "The first line grabs the whole `ls -l` entry for the home directory and the second line displays the first 10 characters of the entry, called the *file attributes*."
   ]
  },
  {
   "cell_type": "markdown",
   "metadata": {
    "deletable": false,
    "nbgrader": {
     "checksum": "e92cc5aea386e4c22a1a8b5d7b57b2d1",
     "grade": false,
     "grade_id": "p1_title",
     "locked": true,
     "solution": false
    }
   },
   "source": [
    "# Problem 1.\n",
    "\n",
    "The purpose of this problem is to give you experience creating directories with certain permissions. This will be an extremely useful skill if you find yourself working on a shared Linux server and need to share files with a colleague. In the following cell, use the `%%bash` magic to exectute a few linux commands in succession that \n",
    "\n",
    "1. Make a directory inside `~/w3p1_testdir` called `subdir`\n",
    "2. Change the permissions of that directory to `rwxrw----` (octal 760)\n",
    "\n",
    "**Note**: The `mkdir` command will flag an error if you try to create a directory that already exists. This may happen to you if you run the script you'll write below more than once. You can either use the `-p` flag with `mkdir` which says \"make a directory here unless it already exists\", remove the directory manually and try again, or rerun the initial script above to start everything fresh."
   ]
  },
  {
   "cell_type": "code",
   "execution_count": 4,
   "metadata": {
    "collapsed": false,
    "deletable": false,
    "nbgrader": {
     "checksum": "f7c40c8680f94d6e4a58a1082debaf18",
     "grade": false,
     "grade_id": "p1_answer",
     "locked": false,
     "solution": true
    }
   },
   "outputs": [],
   "source": [
    "%%bash \n",
    "# YOUR CODE HERE\n",
    "\n",
    "#make a directory\n",
    "mkdir -p ~/w3p1_testdir/subdir \n",
    "\n",
    "#change the permissions\n",
    "chmod 760 ~/w3p1_testdir/subdir"
   ]
  },
  {
   "cell_type": "markdown",
   "metadata": {
    "deletable": false,
    "nbgrader": {
     "checksum": "05d7091e2c50631b4376655ea019b714",
     "grade": false,
     "grade_id": "p1_suggested_answer",
     "locked": true,
     "solution": false
    }
   },
   "source": [
    "The output of the following cell should look like: \n",
    "\n",
    "```\n",
    "total 4\n",
    "drwxrw---- 2 data_scientist users 4096 Aug 31 19:03 subdir\n",
    "```"
   ]
  },
  {
   "cell_type": "code",
   "execution_count": 5,
   "metadata": {
    "collapsed": false,
    "deletable": false,
    "nbgrader": {
     "checksum": "ea990959d669ec55f2d1f7f4af4ccadb",
     "grade": false,
     "grade_id": "p1_check",
     "locked": true,
     "solution": false
    }
   },
   "outputs": [
    {
     "name": "stdout",
     "output_type": "stream",
     "text": [
      "total 4\r\n",
      "drwxrw---- 2 data_scientist users 4096 Sep 10 17:22 subdir\r\n"
     ]
    }
   ],
   "source": [
    "!ls -l /home/data_scientist/w3p1_testdir/"
   ]
  },
  {
   "cell_type": "code",
   "execution_count": 6,
   "metadata": {
    "collapsed": false,
    "deletable": false,
    "nbgrader": {
     "checksum": "460ad67fe2f00554ad25fe2f5c194581",
     "grade": true,
     "grade_id": "p1_test",
     "locked": true,
     "points": 10,
     "solution": false
    }
   },
   "outputs": [],
   "source": [
    "p1_res = !ls -l /home/data_scientist/w3p1_testdir/ | grep subdir\n",
    "assert_equal(p1_res[0][:10], 'drwxrw----')"
   ]
  },
  {
   "cell_type": "markdown",
   "metadata": {
    "deletable": false,
    "nbgrader": {
     "checksum": "70423e2b8a8e980aeea194a910d193b5",
     "grade": false,
     "grade_id": "p2_title",
     "locked": true,
     "solution": false
    }
   },
   "source": [
    "# Problem 2.\n",
    "\n",
    "The purpose of this problem is to give you experience checking and correcting permissions issues. The following cell will get a [script](https://github.com/UI-DataScience/info490-fa16/blob/master/Week3/assignments/scripts/w3p1.sh) from the course github repo then list the contents of the directory we created. The script itself is supposed to create a lot of subdirectories within `w3p1_testdir/subdir`, one for each pokemon in [this text file](https://github.com/cervoise/pentest-scripts/blob/master/password-cracking/wordlists/pokemon-list-en.txt). It will try to change directories into `w3p1_testdir/subdir`, so that had better exist upon running it. "
   ]
  },
  {
   "cell_type": "code",
   "execution_count": 7,
   "metadata": {
    "collapsed": false,
    "deletable": false,
    "nbgrader": {
     "checksum": "6c5a30dc99ebfaa9aaa132c5fac6b13f",
     "grade": false,
     "grade_id": "p2_get_script",
     "locked": true,
     "solution": false
    }
   },
   "outputs": [
    {
     "name": "stdout",
     "output_type": "stream",
     "text": [
      "total 4\n",
      "-rw-r--r-- 1 data_scientist users 387 Sep 10 17:22 w3p1.sh\n"
     ]
    },
    {
     "name": "stderr",
     "output_type": "stream",
     "text": [
      "--2016-09-10 17:22:44--  https://raw.githubusercontent.com/UI-DataScience/info490-fa16/master/Week3/assignments/scripts/w3p1.sh\n",
      "Resolving raw.githubusercontent.com (raw.githubusercontent.com)... 151.101.44.133\n",
      "Connecting to raw.githubusercontent.com (raw.githubusercontent.com)|151.101.44.133|:443... connected.\n",
      "HTTP request sent, awaiting response... 200 OK\n",
      "Length: 387 [text/plain]\n",
      "Saving to: ‘w3p1.sh’\n",
      "\n",
      "     0K                                                       100% 14.3M=0s\n",
      "\n",
      "2016-09-10 17:22:44 (14.3 MB/s) - ‘w3p1.sh’ saved [387/387]\n",
      "\n"
     ]
    }
   ],
   "source": [
    "%%bash\n",
    "cd ~/w3p1_testdir/subdir/\n",
    "wget https://raw.githubusercontent.com/UI-DataScience/info490-fa16/master/Week3/assignments/scripts/w3p1.sh\n",
    "ls -l "
   ]
  },
  {
   "cell_type": "markdown",
   "metadata": {
    "deletable": false,
    "nbgrader": {
     "checksum": "5e8fdcfc3ce7f7ed2b2874abfb805063",
     "grade": false,
     "grade_id": "p2_example_run",
     "locked": true,
     "solution": false
    }
   },
   "source": [
    "To run the script we downloaded, all we have to do is write out the file path like so:"
   ]
  },
  {
   "cell_type": "code",
   "execution_count": 8,
   "metadata": {
    "collapsed": false,
    "deletable": false,
    "nbgrader": {
     "checksum": "caa5ba13c38285c5415c9b71daec1382",
     "grade": false,
     "grade_id": "p2_issue_code",
     "locked": true,
     "solution": false
    }
   },
   "outputs": [
    {
     "name": "stdout",
     "output_type": "stream",
     "text": [
      "/bin/sh: 1: /home/data_scientist/w3p1_testdir/subdir/w3p1.sh: Permission denied\r\n"
     ]
    }
   ],
   "source": [
    "! /home/data_scientist/w3p1_testdir/subdir/w3p1.sh"
   ]
  },
  {
   "cell_type": "markdown",
   "metadata": {
    "deletable": false,
    "nbgrader": {
     "checksum": "65cdd4fc40aef57352f022a517fda892",
     "grade": false,
     "grade_id": "p2_issue",
     "locked": true,
     "solution": false
    }
   },
   "source": [
    "But there is a problem. Your task is to figure out what the problem is and solve it to get the script to run. Write your code below to solve the problem and run the script. The autograder will check how many files are in the `w3p1_testdir/subdir` directory. There should be 721 (719 Pokemon, `w3p1.sh`, and `pokemon-list-en.txt`). If your directory has some other number of files or is not composed by the files mentioned above, you will likely not receive full points."
   ]
  },
  {
   "cell_type": "code",
   "execution_count": 9,
   "metadata": {
    "collapsed": false,
    "deletable": false,
    "nbgrader": {
     "checksum": "a500f5fd6ca5efc32f84a759c11419a2",
     "grade": false,
     "grade_id": "p2_answer",
     "locked": false,
     "solution": true
    }
   },
   "outputs": [
    {
     "name": "stderr",
     "output_type": "stream",
     "text": [
      "--2016-09-10 17:22:44--  https://raw.githubusercontent.com/cervoise/pentest-scripts/master/password-cracking/wordlists/pokemon-list-en.txt\n",
      "Resolving raw.githubusercontent.com (raw.githubusercontent.com)... 151.101.44.133\n",
      "Connecting to raw.githubusercontent.com (raw.githubusercontent.com)|151.101.44.133|:443... connected.\n",
      "HTTP request sent, awaiting response... 200 OK\n",
      "Length: 6063 (5.9K) [text/plain]\n",
      "Saving to: ‘pokemon-list-en.txt’\n",
      "\n",
      "     0K .....                                                 100% 94.0M=0s\n",
      "\n",
      "2016-09-10 17:22:44 (94.0 MB/s) - ‘pokemon-list-en.txt’ saved [6063/6063]\n",
      "\n"
     ]
    }
   ],
   "source": [
    "%%bash \n",
    "# YOUR CODE HERE\n",
    "\n",
    "#change permissions of w3p1.sh\n",
    "chmod 744 ~/w3p1_testdir/subdir/w3p1.sh\n",
    "\n",
    "#run the script\n",
    "! /home/data_scientist/w3p1_testdir/subdir/w3p1.sh"
   ]
  },
  {
   "cell_type": "code",
   "execution_count": 10,
   "metadata": {
    "collapsed": false,
    "deletable": false,
    "nbgrader": {
     "checksum": "7655ab42f2559dff31b193d4355beb3c",
     "grade": true,
     "grade_id": "p2_test",
     "locked": true,
     "points": 10,
     "solution": false
    }
   },
   "outputs": [],
   "source": [
    "file_count = !ls /home/data_scientist/w3p1_testdir/subdir/ | wc -l\n",
    "assert_equal(file_count, ['721'])"
   ]
  },
  {
   "cell_type": "markdown",
   "metadata": {
    "deletable": false,
    "nbgrader": {
     "checksum": "63256ada78a4efa59c340a3d71702f97",
     "grade": false,
     "grade_id": "reminder_restart_kernel",
     "locked": true,
     "solution": false
    }
   },
   "source": [
    "As a reminder, this notebook must run start to finish without error. While you were working, it is possible you performed some set of commands that will not be reproduced when our autograder reruns your work. To ensure you get the points for this assignment, we highly recommend you run the notebook once more from start to finish by selecting `Kernel -> Restart & Run All`."
   ]
  },
  {
   "cell_type": "markdown",
   "metadata": {
    "collapsed": true,
    "deletable": false,
    "nbgrader": {
     "checksum": "f17089df0ce2648e48c5483c3cd4a41e",
     "grade": false,
     "grade_id": "cleaning_up",
     "locked": true,
     "solution": false
    }
   },
   "source": [
    "## Cleaning Up"
   ]
  },
  {
   "cell_type": "code",
   "execution_count": 11,
   "metadata": {
    "collapsed": true,
    "deletable": false,
    "nbgrader": {
     "checksum": "c7819275e8b1ff6baada5aa514493988",
     "grade": false,
     "grade_id": "cleanup_code",
     "locked": true,
     "points": 7,
     "solution": false
    }
   },
   "outputs": [],
   "source": [
    "!rm -rf ~/w3p1_testdir"
   ]
  },
  {
   "cell_type": "code",
   "execution_count": null,
   "metadata": {
    "collapsed": true
   },
   "outputs": [],
   "source": []
  },
  {
   "cell_type": "code",
   "execution_count": null,
   "metadata": {
    "collapsed": true
   },
   "outputs": [],
   "source": []
  }
 ],
 "metadata": {
  "kernelspec": {
   "display_name": "Python 3",
   "language": "python",
   "name": "python3"
  },
  "language_info": {
   "codemirror_mode": {
    "name": "ipython",
    "version": 3
   },
   "file_extension": ".py",
   "mimetype": "text/x-python",
   "name": "python",
   "nbconvert_exporter": "python",
   "pygments_lexer": "ipython3",
   "version": "3.5.2"
  }
 },
 "nbformat": 4,
 "nbformat_minor": 0
}
