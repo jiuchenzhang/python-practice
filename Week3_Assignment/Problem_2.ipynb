{
 "cells": [
  {
   "cell_type": "markdown",
   "metadata": {
    "deletable": false,
    "nbgrader": {
     "checksum": "b4745fb909f318ef26abb24f6a15cb6d",
     "grade": false,
     "grade_id": "header",
     "locked": true,
     "solution": false
    }
   },
   "source": [
    "# Week 3 Problem 2\n",
    "\n",
    "If you are not using the `Assignments` tab on the course JupyterHub server to read this notebook, read [Activating the assignments tab](https://github.com/UI-DataScience/accy570-fa16/blob/master/Week1/assignments/README.md).\n",
    "\n",
    "A few things you should keep in mind when working on assignments:\n",
    "\n",
    "1. Make sure you fill in any place that says `YOUR CODE HERE`. Do **not** write your answer in anywhere else other than where it says `YOUR CODE HERE`. Anything you write anywhere else will be removed or overwritten by the autograder.\n",
    "\n",
    "2. Before you submit your assignment, make sure everything runs as expected. Go to menubar, select _Kernel_, and restart the kernel and run all cells (_Restart & Run all_).\n",
    "\n",
    "3. Do not change the title (i.e. file name) of this notebook.\n",
    "\n",
    "4. Make sure that you save your work (in the menubar, select _File_ → _Save and CheckPoint_)\n",
    "\n",
    "5. You are allowed to submit an assignment multiple times, but only the most recent submission will be graded."
   ]
  },
  {
   "cell_type": "code",
   "execution_count": 1,
   "metadata": {
    "collapsed": true,
    "deletable": false,
    "nbgrader": {
     "checksum": "96bbfda75d81e392c896a15e22ad95f7",
     "grade": false,
     "grade_id": "import_nose",
     "locked": true,
     "solution": false
    }
   },
   "outputs": [],
   "source": [
    "from nose.tools import assert_equal\n",
    "from nose.tools import assert_almost_equal\n",
    "import math"
   ]
  },
  {
   "cell_type": "markdown",
   "metadata": {
    "deletable": false,
    "nbgrader": {
     "checksum": "ab700b412c0bf81ae8a6e6aeb50d79e2",
     "grade": false,
     "grade_id": "p1_title",
     "locked": true,
     "solution": false
    }
   },
   "source": [
    "# Problem 1.\n",
    "\n",
    "The main purpose of this problem is to familiarize yourself with creating function definitions.  For this first problem, I want you to create a function called `in_radians` that takes the argument `degrees`, which will be an angle expressed in degrees.  In this function, you will need to convert the input `degrees` into radians.  Once this conversion is done, you will need to return the angle in radians that you calculated.\n",
    "\n",
    "You should notice that the math module is already imported, so you should consider using that in your definition below."
   ]
  },
  {
   "cell_type": "code",
   "execution_count": 2,
   "metadata": {
    "collapsed": false,
    "deletable": false,
    "nbgrader": {
     "checksum": "8e86d1aaeaa6171e0f22ea8142d8478f",
     "grade": false,
     "grade_id": "p1_answer",
     "locked": false,
     "solution": true
    }
   },
   "outputs": [],
   "source": [
    "def in_radians(degrees):\n",
    "    # YOUR CODE HERE\n",
    "    return math.pi * (degrees / 180)    "
   ]
  },
  {
   "cell_type": "code",
   "execution_count": 3,
   "metadata": {
    "collapsed": false,
    "deletable": false,
    "nbgrader": {
     "checksum": "08345d381a71ad9e9788bbf94294a9cc",
     "grade": true,
     "grade_id": "degree_test",
     "locked": true,
     "points": 5,
     "solution": false
    }
   },
   "outputs": [],
   "source": [
    "assert_almost_equal(in_radians(180), 3.14159265358)\n",
    "assert_almost_equal(in_radians(36), 0.6283185307)\n",
    "assert_almost_equal(in_radians(215), 3.75245789178)\n",
    "assert_almost_equal(in_radians(0), 0.0)"
   ]
  },
  {
   "cell_type": "markdown",
   "metadata": {
    "deletable": false,
    "nbgrader": {
     "checksum": "b7ac49158bb18e564e9902fcbc1933b1",
     "grade": false,
     "grade_id": "p2_title",
     "locked": true,
     "solution": false
    }
   },
   "source": [
    "# Problem 2.\n",
    "\n",
    "Now that we have created a function that converts an angle in units of degrees into an angle in units of radians, we will now put it to good use. In the following function definition, you will create a function called `sine_of` that takes the argument `degrees`.  Inside of this argument you should call the function `in_radians`, and your function should return the sine of the angle.\n",
    "\n",
    "Once again, notice that the math module is imported; a function inside this module might prove very helpful in this problem!"
   ]
  },
  {
   "cell_type": "code",
   "execution_count": 4,
   "metadata": {
    "collapsed": true,
    "deletable": false,
    "nbgrader": {
     "checksum": "3397814338055895308dedde50562759",
     "grade": false,
     "grade_id": "p2_answer",
     "locked": false,
     "solution": true
    }
   },
   "outputs": [],
   "source": [
    "def sine_of(degrees):\n",
    "    # YOUR CODE HERE\n",
    "    return math.sin(in_radians(degrees))"
   ]
  },
  {
   "cell_type": "code",
   "execution_count": 5,
   "metadata": {
    "collapsed": false,
    "deletable": false,
    "nbgrader": {
     "checksum": "47e216e5cedb1e0628f7bef4b081ab75",
     "grade": true,
     "grade_id": "sine_test",
     "locked": true,
     "points": 5,
     "solution": false
    }
   },
   "outputs": [],
   "source": [
    "assert_almost_equal(sine_of(45),0.7071067811865475)\n",
    "assert_almost_equal(sine_of(180),0.0)\n",
    "assert_almost_equal(sine_of(60),0.8660254037844386)"
   ]
  },
  {
   "cell_type": "markdown",
   "metadata": {
    "deletable": false,
    "nbgrader": {
     "checksum": "1dacb6b37a0211b7ef01642af4463ef6",
     "grade": false,
     "grade_id": "p3_title",
     "locked": true,
     "solution": false
    }
   },
   "source": [
    "# Problem 3.\n",
    "\n",
    "Finally, imagine that you have a right triangle.  You know the length of the hypotenuse as well as one angle (in degrees), but you want to know the length of the side opposite the angle that you know.  In order to find this length of the opposite triangle leg, you must find the sine of the angle you know and then multiply it by the hypotenuse (as you should know from trigonometry).  \n",
    "\n",
    "In the following function called `find_opp`, it will take the arguments `degrees` and `hypo` (short for hypotenuse length). Inside of the function, it will multiply the sine of the angle `degrees` by the hypotenuse and then return the resulting number.\n",
    "\n",
    "Note: this will be a very short and simple function definition if you call the definitions you made above!"
   ]
  },
  {
   "cell_type": "code",
   "execution_count": 6,
   "metadata": {
    "collapsed": true,
    "deletable": false,
    "nbgrader": {
     "checksum": "10521a0f6579496ed5ea33ffa7e6f4c8",
     "grade": false,
     "grade_id": "p3_answer",
     "locked": false,
     "solution": true
    }
   },
   "outputs": [],
   "source": [
    "def find_opp(degrees, hypo):\n",
    "    # YOUR CODE HERE\n",
    "    return hypo * sine_of(degrees)"
   ]
  },
  {
   "cell_type": "code",
   "execution_count": 7,
   "metadata": {
    "collapsed": true,
    "deletable": false,
    "nbgrader": {
     "checksum": "1d26d03127900d3710e521352240e2e2",
     "grade": true,
     "grade_id": "SOH_test",
     "locked": true,
     "points": 10,
     "solution": false
    }
   },
   "outputs": [],
   "source": [
    "assert_almost_equal(find_opp(45,2),1.414213562373095)\n",
    "assert_almost_equal(find_opp(30,4),1.9999999999999998)\n",
    "assert_almost_equal(find_opp(60,1),0.8660254037844386)"
   ]
  },
  {
   "cell_type": "code",
   "execution_count": null,
   "metadata": {
    "collapsed": true
   },
   "outputs": [],
   "source": []
  }
 ],
 "metadata": {
  "kernelspec": {
   "display_name": "Python 3",
   "language": "python",
   "name": "python3"
  },
  "language_info": {
   "codemirror_mode": {
    "name": "ipython",
    "version": 3
   },
   "file_extension": ".py",
   "mimetype": "text/x-python",
   "name": "python",
   "nbconvert_exporter": "python",
   "pygments_lexer": "ipython3",
   "version": "3.5.2"
  }
 },
 "nbformat": 4,
 "nbformat_minor": 0
}
