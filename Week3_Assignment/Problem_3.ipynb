{
 "cells": [
  {
   "cell_type": "markdown",
   "metadata": {
    "deletable": false,
    "nbgrader": {
     "checksum": "b8effc79835510bc9cb661930d0f110a",
     "grade": false,
     "grade_id": "header",
     "locked": true,
     "solution": false
    }
   },
   "source": [
    "# Week 3 Problem 3\n",
    "\n",
    "If you are not using the `Assignments` tab on the course JupyterHub server to read this notebook, read [Activating the assignments tab](https://github.com/UI-DataScience/info490-fa16/blob/master/Week2/assignments/README.md).\n",
    "\n",
    "A few things you should keep in mind when working on assignments:\n",
    "\n",
    "1. Make sure you fill in any place that says `YOUR CODE HERE`. Do **not** write your answer in anywhere else other than where it says `YOUR CODE HERE`. Anything you write anywhere else will be removed or overwritten by the autograder.\n",
    "\n",
    "2. Before you submit your assignment, make sure everything runs as expected. Go to menubar, select _Kernel_, and restart the kernel and run all cells (_Restart & Run all_).\n",
    "\n",
    "3. Do not change the title (i.e. file name) of this notebook.\n",
    "\n",
    "4. Make sure that you save your work (in the menubar, select _File_ → _Save and CheckPoint_)\n",
    "\n",
    "5. You are allowed to submit an assignment multiple times, but only the most recent submission will be graded."
   ]
  },
  {
   "cell_type": "code",
   "execution_count": 1,
   "metadata": {
    "collapsed": true,
    "deletable": false,
    "nbgrader": {
     "checksum": "f41f3e133f7eab1a6b85fed8da9860bf",
     "grade": false,
     "grade_id": "import_nose",
     "locked": true,
     "solution": false
    }
   },
   "outputs": [],
   "source": [
    "from nose.tools import assert_equal"
   ]
  },
  {
   "cell_type": "markdown",
   "metadata": {
    "deletable": false,
    "nbgrader": {
     "checksum": "92610af9765b044467a2c3553334792c",
     "grade": false,
     "grade_id": "p31_title",
     "locked": true,
     "solution": false
    }
   },
   "source": [
    "# Problem 1. Decision Tree\n",
    "\n",
    "In this problem, you will use functions and conditionals to build a [decision tree](https://en.wikipedia.org/wiki/Decision_tree) that helps you decide whether to go to class or stay at home.\n",
    "Decision trees are used in [decision tree learning](https://en.wikipedia.org/wiki/Decision_tree_learning),\n",
    "which we will learn more about in the later part of this course when we introduce [machine learning](https://en.wikipedia.org/wiki/Machine_learning)."
   ]
  },
  {
   "cell_type": "code",
   "execution_count": 2,
   "metadata": {
    "collapsed": false,
    "deletable": false,
    "nbgrader": {
     "checksum": "26ac6ac81f39ae224d67afcabf431a99",
     "grade": false,
     "grade_id": "import_decision_tree",
     "locked": true,
     "solution": false
    }
   },
   "outputs": [
    {
     "ename": "FileNotFoundError",
     "evalue": "[Errno 2] No such file or directory: 'decision_tree.png'",
     "output_type": "error",
     "traceback": [
      "\u001b[0;31m---------------------------------------------------------------------------\u001b[0m",
      "\u001b[0;31mFileNotFoundError\u001b[0m                         Traceback (most recent call last)",
      "\u001b[0;32m<ipython-input-2-5fbd9ef7c572>\u001b[0m in \u001b[0;36m<module>\u001b[0;34m()\u001b[0m\n\u001b[1;32m      1\u001b[0m \u001b[0;32mfrom\u001b[0m \u001b[0mIPython\u001b[0m\u001b[0;34m.\u001b[0m\u001b[0mdisplay\u001b[0m \u001b[0;32mimport\u001b[0m \u001b[0mImage\u001b[0m\u001b[0;34m\u001b[0m\u001b[0m\n\u001b[0;32m----> 2\u001b[0;31m \u001b[0mImage\u001b[0m\u001b[0;34m(\u001b[0m\u001b[0mfilename\u001b[0m\u001b[0;34m=\u001b[0m\u001b[0;34m'decision_tree.png'\u001b[0m\u001b[0;34m,\u001b[0m \u001b[0mwidth\u001b[0m\u001b[0;34m=\u001b[0m\u001b[0;36m300\u001b[0m\u001b[0;34m,\u001b[0m \u001b[0mheight\u001b[0m\u001b[0;34m=\u001b[0m\u001b[0;36m300\u001b[0m\u001b[0;34m)\u001b[0m\u001b[0;34m\u001b[0m\u001b[0m\n\u001b[0m",
      "\u001b[0;32m/opt/conda/lib/python3.5/site-packages/IPython/core/display.py\u001b[0m in \u001b[0;36m__init__\u001b[0;34m(self, data, url, filename, format, embed, width, height, retina, unconfined, metadata)\u001b[0m\n\u001b[1;32m    755\u001b[0m         \u001b[0mself\u001b[0m\u001b[0;34m.\u001b[0m\u001b[0munconfined\u001b[0m \u001b[0;34m=\u001b[0m \u001b[0munconfined\u001b[0m\u001b[0;34m\u001b[0m\u001b[0m\n\u001b[1;32m    756\u001b[0m         \u001b[0mself\u001b[0m\u001b[0;34m.\u001b[0m\u001b[0mmetadata\u001b[0m \u001b[0;34m=\u001b[0m \u001b[0mmetadata\u001b[0m\u001b[0;34m\u001b[0m\u001b[0m\n\u001b[0;32m--> 757\u001b[0;31m         \u001b[0msuper\u001b[0m\u001b[0;34m(\u001b[0m\u001b[0mImage\u001b[0m\u001b[0;34m,\u001b[0m \u001b[0mself\u001b[0m\u001b[0;34m)\u001b[0m\u001b[0;34m.\u001b[0m\u001b[0m__init__\u001b[0m\u001b[0;34m(\u001b[0m\u001b[0mdata\u001b[0m\u001b[0;34m=\u001b[0m\u001b[0mdata\u001b[0m\u001b[0;34m,\u001b[0m \u001b[0murl\u001b[0m\u001b[0;34m=\u001b[0m\u001b[0murl\u001b[0m\u001b[0;34m,\u001b[0m \u001b[0mfilename\u001b[0m\u001b[0;34m=\u001b[0m\u001b[0mfilename\u001b[0m\u001b[0;34m)\u001b[0m\u001b[0;34m\u001b[0m\u001b[0m\n\u001b[0m\u001b[1;32m    758\u001b[0m \u001b[0;34m\u001b[0m\u001b[0m\n\u001b[1;32m    759\u001b[0m         \u001b[0;32mif\u001b[0m \u001b[0mretina\u001b[0m\u001b[0;34m:\u001b[0m\u001b[0;34m\u001b[0m\u001b[0m\n",
      "\u001b[0;32m/opt/conda/lib/python3.5/site-packages/IPython/core/display.py\u001b[0m in \u001b[0;36m__init__\u001b[0;34m(self, data, url, filename)\u001b[0m\n\u001b[1;32m    392\u001b[0m         \u001b[0mself\u001b[0m\u001b[0;34m.\u001b[0m\u001b[0mfilename\u001b[0m \u001b[0;34m=\u001b[0m \u001b[0;32mNone\u001b[0m \u001b[0;32mif\u001b[0m \u001b[0mfilename\u001b[0m \u001b[0;32mis\u001b[0m \u001b[0;32mNone\u001b[0m \u001b[0;32melse\u001b[0m \u001b[0municode_type\u001b[0m\u001b[0;34m(\u001b[0m\u001b[0mfilename\u001b[0m\u001b[0;34m)\u001b[0m\u001b[0;34m\u001b[0m\u001b[0m\n\u001b[1;32m    393\u001b[0m \u001b[0;34m\u001b[0m\u001b[0m\n\u001b[0;32m--> 394\u001b[0;31m         \u001b[0mself\u001b[0m\u001b[0;34m.\u001b[0m\u001b[0mreload\u001b[0m\u001b[0;34m(\u001b[0m\u001b[0;34m)\u001b[0m\u001b[0;34m\u001b[0m\u001b[0m\n\u001b[0m\u001b[1;32m    395\u001b[0m         \u001b[0mself\u001b[0m\u001b[0;34m.\u001b[0m\u001b[0m_check_data\u001b[0m\u001b[0;34m(\u001b[0m\u001b[0;34m)\u001b[0m\u001b[0;34m\u001b[0m\u001b[0m\n\u001b[1;32m    396\u001b[0m \u001b[0;34m\u001b[0m\u001b[0m\n",
      "\u001b[0;32m/opt/conda/lib/python3.5/site-packages/IPython/core/display.py\u001b[0m in \u001b[0;36mreload\u001b[0;34m(self)\u001b[0m\n\u001b[1;32m    777\u001b[0m         \u001b[0;34m\"\"\"Reload the raw data from file or URL.\"\"\"\u001b[0m\u001b[0;34m\u001b[0m\u001b[0m\n\u001b[1;32m    778\u001b[0m         \u001b[0;32mif\u001b[0m \u001b[0mself\u001b[0m\u001b[0;34m.\u001b[0m\u001b[0membed\u001b[0m\u001b[0;34m:\u001b[0m\u001b[0;34m\u001b[0m\u001b[0m\n\u001b[0;32m--> 779\u001b[0;31m             \u001b[0msuper\u001b[0m\u001b[0;34m(\u001b[0m\u001b[0mImage\u001b[0m\u001b[0;34m,\u001b[0m\u001b[0mself\u001b[0m\u001b[0;34m)\u001b[0m\u001b[0;34m.\u001b[0m\u001b[0mreload\u001b[0m\u001b[0;34m(\u001b[0m\u001b[0;34m)\u001b[0m\u001b[0;34m\u001b[0m\u001b[0m\n\u001b[0m\u001b[1;32m    780\u001b[0m             \u001b[0;32mif\u001b[0m \u001b[0mself\u001b[0m\u001b[0;34m.\u001b[0m\u001b[0mretina\u001b[0m\u001b[0;34m:\u001b[0m\u001b[0;34m\u001b[0m\u001b[0m\n\u001b[1;32m    781\u001b[0m                 \u001b[0mself\u001b[0m\u001b[0;34m.\u001b[0m\u001b[0m_retina_shape\u001b[0m\u001b[0;34m(\u001b[0m\u001b[0;34m)\u001b[0m\u001b[0;34m\u001b[0m\u001b[0m\n",
      "\u001b[0;32m/opt/conda/lib/python3.5/site-packages/IPython/core/display.py\u001b[0m in \u001b[0;36mreload\u001b[0;34m(self)\u001b[0m\n\u001b[1;32m    410\u001b[0m         \u001b[0;34m\"\"\"Reload the raw data from file or URL.\"\"\"\u001b[0m\u001b[0;34m\u001b[0m\u001b[0m\n\u001b[1;32m    411\u001b[0m         \u001b[0;32mif\u001b[0m \u001b[0mself\u001b[0m\u001b[0;34m.\u001b[0m\u001b[0mfilename\u001b[0m \u001b[0;32mis\u001b[0m \u001b[0;32mnot\u001b[0m \u001b[0;32mNone\u001b[0m\u001b[0;34m:\u001b[0m\u001b[0;34m\u001b[0m\u001b[0m\n\u001b[0;32m--> 412\u001b[0;31m             \u001b[0;32mwith\u001b[0m \u001b[0mopen\u001b[0m\u001b[0;34m(\u001b[0m\u001b[0mself\u001b[0m\u001b[0;34m.\u001b[0m\u001b[0mfilename\u001b[0m\u001b[0;34m,\u001b[0m \u001b[0mself\u001b[0m\u001b[0;34m.\u001b[0m\u001b[0m_read_flags\u001b[0m\u001b[0;34m)\u001b[0m \u001b[0;32mas\u001b[0m \u001b[0mf\u001b[0m\u001b[0;34m:\u001b[0m\u001b[0;34m\u001b[0m\u001b[0m\n\u001b[0m\u001b[1;32m    413\u001b[0m                 \u001b[0mself\u001b[0m\u001b[0;34m.\u001b[0m\u001b[0mdata\u001b[0m \u001b[0;34m=\u001b[0m \u001b[0mf\u001b[0m\u001b[0;34m.\u001b[0m\u001b[0mread\u001b[0m\u001b[0;34m(\u001b[0m\u001b[0;34m)\u001b[0m\u001b[0;34m\u001b[0m\u001b[0m\n\u001b[1;32m    414\u001b[0m         \u001b[0;32melif\u001b[0m \u001b[0mself\u001b[0m\u001b[0;34m.\u001b[0m\u001b[0murl\u001b[0m \u001b[0;32mis\u001b[0m \u001b[0;32mnot\u001b[0m \u001b[0;32mNone\u001b[0m\u001b[0;34m:\u001b[0m\u001b[0;34m\u001b[0m\u001b[0m\n",
      "\u001b[0;31mFileNotFoundError\u001b[0m: [Errno 2] No such file or directory: 'decision_tree.png'"
     ]
    }
   ],
   "source": [
    "from IPython.display import Image\n",
    "Image(filename='decision_tree.png', width=300, height=300) "
   ]
  },
  {
   "cell_type": "markdown",
   "metadata": {
    "deletable": false,
    "nbgrader": {
     "checksum": "169dc1435cf0374795b2dc336dfec4d1",
     "grade": false,
     "grade_id": "p311",
     "locked": true,
     "solution": false
    }
   },
   "source": [
    "We will write a function for each question (i.e., each node). We will then combine the two questions into a function named `i_want_class()` that represents this simple decision tree, which return `True` if the input values predicts that you would like to go to class and `False` if you prefer to stay at home.\n",
    "\n",
    "## 1. Function: `is_weekday()`\n",
    "\n",
    "In the following code cell, write a function named `is_weekday()` that represents the top node, \"_is today a weekday?_\" The function takes one argument (an integer named `day` between 0 and 6), and returns `True` if `day` is between 1 and 5 and `False` otherwise. You do not need to handle inputs other than integers from 0 to 6."
   ]
  },
  {
   "cell_type": "code",
   "execution_count": 3,
   "metadata": {
    "collapsed": false,
    "deletable": false,
    "nbgrader": {
     "checksum": "96b756baab23ebb6a08f7c6c97dbdbf4",
     "grade": false,
     "grade_id": "p311_answer",
     "locked": false,
     "solution": true
    }
   },
   "outputs": [],
   "source": [
    "def is_weekday(day):\n",
    "    # YOUR CODE HERE\n",
    "    if not isinstance(day,int):\n",
    "        print('Not an integer!')\n",
    "        return\n",
    "    elif not 0 <= day <=7:\n",
    "        print('Not a proper number!')\n",
    "        return\n",
    "    elif 1 <= day <= 5:\n",
    "        return True\n",
    "    else:\n",
    "        return False"
   ]
  },
  {
   "cell_type": "code",
   "execution_count": 4,
   "metadata": {
    "collapsed": false,
    "deletable": false,
    "nbgrader": {
     "checksum": "6a073f27ee87b0e6ac3348f2f16302c1",
     "grade": true,
     "grade_id": "p311_test",
     "locked": true,
     "points": 5,
     "solution": false
    }
   },
   "outputs": [],
   "source": [
    "assert_equal(is_weekday(0), False)\n",
    "assert_equal(is_weekday(1), True)\n",
    "assert_equal(is_weekday(2), True)\n",
    "assert_equal(is_weekday(3), True)\n",
    "assert_equal(is_weekday(4), True)\n",
    "assert_equal(is_weekday(5), True)\n",
    "assert_equal(is_weekday(6), False)"
   ]
  },
  {
   "cell_type": "markdown",
   "metadata": {
    "deletable": false,
    "nbgrader": {
     "checksum": "81492d2f70acc538422361a770d63418",
     "grade": false,
     "grade_id": "p312",
     "locked": true,
     "solution": false
    }
   },
   "source": [
    "## 2. Function: `is_math()`\n",
    "\n",
    "In the following code cell, write a function named `is_math()` that represents the second node, \"_is today's subject math?_\" The function takes one argument (a string named `subject` that is either `\"math\"` or `\"literature\"`), and returns `True` if `subject` is `\"math\"` and `False` if `subject` is `\"literature\"`. You do not need to handle inputs other than `\"math\"` and `\"literature\"`."
   ]
  },
  {
   "cell_type": "code",
   "execution_count": 5,
   "metadata": {
    "collapsed": true,
    "deletable": false,
    "nbgrader": {
     "checksum": "521cf68050e16a353f6478b2cbb4ff65",
     "grade": false,
     "grade_id": "p312_answer",
     "locked": false,
     "solution": true
    }
   },
   "outputs": [],
   "source": [
    "def is_math(subject):\n",
    "    # YOUR CODE HERE\n",
    "    if subject == 'math':\n",
    "        return True\n",
    "    elif subject == 'literature':\n",
    "        return False\n",
    "    else:\n",
    "        print('Not a proper subject!')\n",
    "        return"
   ]
  },
  {
   "cell_type": "code",
   "execution_count": 6,
   "metadata": {
    "collapsed": true,
    "deletable": false,
    "nbgrader": {
     "checksum": "0bafa760b2e1a267b5bbc23747561f31",
     "grade": true,
     "grade_id": "p312_test",
     "locked": true,
     "points": 5,
     "solution": false
    }
   },
   "outputs": [],
   "source": [
    "assert_equal(is_math('math'), True)\n",
    "assert_equal(is_math('literature'), False)"
   ]
  },
  {
   "cell_type": "markdown",
   "metadata": {
    "deletable": false,
    "nbgrader": {
     "checksum": "f6ff0c0433e2451bb612cac2d2267420",
     "grade": false,
     "grade_id": "p313",
     "locked": true,
     "solution": false
    }
   },
   "source": [
    "## 3. Function: `i_want_class()`\n",
    "\n",
    "In the following code cell, use the two functions, `is_weekday()` and `is_math()`, inside a function named `i_want_class()` to represent the decision tree, \"_do I want to go to class today?_\" The function takes an integer named `day` as the first argument, and a string named `subject` as the second argument. It returns `True` if you decide to go to class and `False` if you decide to stay at home."
   ]
  },
  {
   "cell_type": "code",
   "execution_count": 7,
   "metadata": {
    "collapsed": true,
    "deletable": false,
    "nbgrader": {
     "checksum": "5ab5754e58d157d93af6b73357ab9005",
     "grade": false,
     "grade_id": "p313_answer",
     "locked": false,
     "solution": true
    }
   },
   "outputs": [],
   "source": [
    "def i_want_class(day, subject):\n",
    "    # YOUR CODE HERE\n",
    "    return is_weekday(day) and is_math(subject)"
   ]
  },
  {
   "cell_type": "code",
   "execution_count": 8,
   "metadata": {
    "collapsed": true,
    "deletable": false,
    "nbgrader": {
     "checksum": "05ae46d7d247a995aa52cf59ea365176",
     "grade": true,
     "grade_id": "p313_test",
     "locked": true,
     "points": 5,
     "solution": false
    }
   },
   "outputs": [],
   "source": [
    "assert_equal(i_want_class(0, 'math'), False)\n",
    "assert_equal(i_want_class(0, 'literature'), False)\n",
    "assert_equal(i_want_class(1, 'math'), True)\n",
    "assert_equal(i_want_class(1, 'literature'), False)\n",
    "assert_equal(i_want_class(2, 'math'), True)\n",
    "assert_equal(i_want_class(3, 'literature'), False)\n",
    "assert_equal(i_want_class(5, 'math'), True)\n",
    "assert_equal(i_want_class(5, 'literature'), False)"
   ]
  },
  {
   "cell_type": "markdown",
   "metadata": {
    "deletable": false,
    "nbgrader": {
     "checksum": "2d162a4b7750ced40ac2f42ad1ad007a",
     "grade": false,
     "grade_id": "p32_title",
     "locked": true,
     "solution": false
    }
   },
   "source": [
    "# Problem 2. \n",
    "\n",
    "This problem helps you practice conditionals, iterations, and list comprehensions.\n",
    "\n",
    "## 1. Function: get_informatics()\n",
    "\n",
    "Use conditionals and the [str()](https://docs.python.org/3/library/stdtypes.html#str) function to write a function named `get_informatics()` that takes a positive integer between 1 and 100 (inclusive) as the input argument, and converts the integer to string type. The convertion follows the rules below:\n",
    "\n",
    "- For any input integer, use `str()` to convert it to string type, and return the converted string. For example, if the input is 1 (`<class 'int'>`) then the function should return \"1\" (`<class 'str'>`).\n",
    "- If the integer is a multiple of 3, return \"info\" instead.\n",
    "- If the integer is a multiple of 7, return \"matics\" instead.\n",
    "- If the integer is a multiple of both 3 and 7, return \"informatics\" instead.\n",
    "\n",
    "Please be careful about the spelling and the case of the string that `get_informatics()` returns. Note that you do not need to deal with inputs other than integers between 1 and 100."
   ]
  },
  {
   "cell_type": "code",
   "execution_count": 9,
   "metadata": {
    "collapsed": false,
    "deletable": false,
    "nbgrader": {
     "checksum": "4fc615c5918c87771d6bdb482025505d",
     "grade": false,
     "grade_id": "p321_answer",
     "locked": false,
     "solution": true
    }
   },
   "outputs": [],
   "source": [
    "def get_informatics(number):\n",
    "    '''\n",
    "    Convert the input integer to string type.\n",
    "    \n",
    "    Parameters\n",
    "    __________\n",
    "    input: An integer between 1 and 100, inclusive.\n",
    "    \n",
    "    Returns\n",
    "    _______\n",
    "    output: A string.\n",
    "    '''\n",
    "    # YOUR CODE HERE\n",
    "    if not isinstance(number,int):\n",
    "        print('Not an integer!')\n",
    "        return\n",
    "    elif not 1<=number<=100:\n",
    "        print('Not a proper number')\n",
    "        return\n",
    "    elif number%3==0 and number%7==0:\n",
    "        result = 'informatics'\n",
    "    elif number%3==0:\n",
    "        result = 'info'\n",
    "    elif number%7==0:\n",
    "        result = 'matics'\n",
    "    else:\n",
    "        result = str(number)\n",
    "    \n",
    "    return result"
   ]
  },
  {
   "cell_type": "code",
   "execution_count": 10,
   "metadata": {
    "collapsed": false,
    "deletable": false,
    "nbgrader": {
     "checksum": "16c421133282f7acd51f628b4ae0dfa2",
     "grade": true,
     "grade_id": "p321_test",
     "locked": true,
     "points": 8,
     "solution": false
    }
   },
   "outputs": [],
   "source": [
    "assert_equal(get_informatics(1), '1')\n",
    "assert_equal(get_informatics(2), '2')\n",
    "assert_equal(get_informatics(3), 'info')\n",
    "assert_equal(get_informatics(4), '4')\n",
    "assert_equal(get_informatics(5), '5')\n",
    "assert_equal(get_informatics(6), 'info')\n",
    "assert_equal(get_informatics(7), 'matics')\n",
    "assert_equal(get_informatics(8), '8')\n",
    "assert_equal(get_informatics(9), 'info')\n",
    "assert_equal(get_informatics(10), '10')\n",
    "assert_equal(get_informatics(11), '11')\n",
    "assert_equal(get_informatics(12), 'info')\n",
    "assert_equal(get_informatics(13), '13')\n",
    "assert_equal(get_informatics(14), 'matics')\n",
    "assert_equal(get_informatics(15), 'info')\n",
    "assert_equal(get_informatics(16), '16')\n",
    "assert_equal(get_informatics(17), '17')\n",
    "assert_equal(get_informatics(18), 'info')\n",
    "assert_equal(get_informatics(19), '19')\n",
    "assert_equal(get_informatics(20), '20')\n",
    "assert_equal(get_informatics(21), 'informatics')\n",
    "assert_equal(get_informatics(22), '22')\n",
    "assert_equal(get_informatics(23), '23')\n",
    "assert_equal(get_informatics(24), 'info')\n",
    "assert_equal(get_informatics(25), '25')\n",
    "assert_equal(get_informatics(26), '26')\n",
    "assert_equal(get_informatics(27), 'info')\n",
    "assert_equal(get_informatics(28), 'matics')\n",
    "assert_equal(get_informatics(29), '29')\n",
    "assert_equal(get_informatics(30), 'info')\n",
    "assert_equal(get_informatics(31), '31')\n",
    "assert_equal(get_informatics(32), '32')\n",
    "assert_equal(get_informatics(33), 'info')\n",
    "assert_equal(get_informatics(34), '34')\n",
    "assert_equal(get_informatics(35), 'matics')\n",
    "assert_equal(get_informatics(36), 'info')\n",
    "assert_equal(get_informatics(37), '37')\n",
    "assert_equal(get_informatics(38), '38')\n",
    "assert_equal(get_informatics(39), 'info')\n",
    "assert_equal(get_informatics(40), '40')\n",
    "assert_equal(get_informatics(41), '41')\n",
    "assert_equal(get_informatics(42), 'informatics')\n",
    "assert_equal(get_informatics(43), '43')\n",
    "assert_equal(get_informatics(44), '44')\n",
    "assert_equal(get_informatics(45), 'info')\n",
    "assert_equal(get_informatics(46), '46')\n",
    "assert_equal(get_informatics(47), '47')\n",
    "assert_equal(get_informatics(48), 'info')\n",
    "assert_equal(get_informatics(49), 'matics')\n",
    "assert_equal(get_informatics(50), '50')"
   ]
  },
  {
   "cell_type": "markdown",
   "metadata": {
    "collapsed": true,
    "deletable": false,
    "nbgrader": {
     "checksum": "7d700102595cdfc9ff2eea0620921325",
     "grade": false,
     "grade_id": "p322",
     "locked": true,
     "solution": false
    }
   },
   "source": [
    "## 2. List Comprehension\n",
    "\n",
    "In the following code cell, use the `get_informatics()` function in a list comprehension to create a list named `data`. In the list comprehension, iterate through integers between 1 and 100 (inclusive), convert every integer to string type according to the rules in `get_informatics()`, and add the resulting strings to the `data` list. You may be familiar with the `list.append(element)` function, but note that you cannot use that function inside list comprehensions. "
   ]
  },
  {
   "cell_type": "code",
   "execution_count": 11,
   "metadata": {
    "collapsed": false,
    "deletable": false,
    "nbgrader": {
     "checksum": "7860fffe45686d37da42bea9f562f44c",
     "grade": false,
     "grade_id": "p322_answer",
     "locked": false,
     "solution": true
    }
   },
   "outputs": [],
   "source": [
    "data = [\n",
    "    # YOUR CODE HERE\n",
    "    get_informatics(x+1) for x in range(100)\n",
    "]"
   ]
  },
  {
   "cell_type": "code",
   "execution_count": 12,
   "metadata": {
    "collapsed": false,
    "deletable": false,
    "nbgrader": {
     "checksum": "db0c836d8ca1ec46e93014448a308930",
     "grade": true,
     "grade_id": "p322_test",
     "locked": true,
     "points": 7,
     "solution": false
    }
   },
   "outputs": [],
   "source": [
    "assert_equal(len(data), 100)\n",
    "assert_equal(data, ['1', '2', 'info', '4', '5', 'info', 'matics', '8', 'info', '10', \n",
    "                    '11', 'info', '13', 'matics', 'info', '16', '17', 'info', '19', '20', \n",
    "                    'informatics', '22', '23', 'info', '25', '26', 'info', 'matics', '29', 'info', \n",
    "                    '31', '32', 'info', '34', 'matics', 'info', '37', '38', 'info', '40', \n",
    "                    '41', 'informatics', '43', '44', 'info', '46', '47', 'info', 'matics', '50', \n",
    "                    'info', '52', '53', 'info', '55', 'matics', 'info', '58', '59', 'info', \n",
    "                    '61', '62', 'informatics', '64', '65', 'info', '67', '68', 'info', 'matics', \n",
    "                    '71', 'info', '73', '74', 'info', '76', 'matics', 'info', '79', '80', 'info', \n",
    "                    '82', '83', 'informatics', '85', '86', 'info', '88', '89', 'info', 'matics', \n",
    "                    '92', 'info', '94', '95', 'info', '97', 'matics', 'info', '100'])"
   ]
  },
  {
   "cell_type": "code",
   "execution_count": null,
   "metadata": {
    "collapsed": true,
    "deletable": false,
    "nbgrader": {
     "checksum": "41150ff9075c7da66457c9ed4c452d1b",
     "grade": false,
     "locked": false,
     "points": 10,
     "solution": false
    }
   },
   "outputs": [],
   "source": []
  }
 ],
 "metadata": {
  "kernelspec": {
   "display_name": "Python 3",
   "language": "python",
   "name": "python3"
  },
  "language_info": {
   "codemirror_mode": {
    "name": "ipython",
    "version": 3
   },
   "file_extension": ".py",
   "mimetype": "text/x-python",
   "name": "python",
   "nbconvert_exporter": "python",
   "pygments_lexer": "ipython3",
   "version": "3.5.2"
  }
 },
 "nbformat": 4,
 "nbformat_minor": 0
}
