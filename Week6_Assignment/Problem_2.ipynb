{
 "cells": [
  {
   "cell_type": "markdown",
   "metadata": {
    "deletable": false,
    "nbgrader": {
     "checksum": "cc6b8f7ffab521d6f5b35ba5253c560d",
     "grade": false,
     "grade_id": "header",
     "locked": true,
     "solution": false
    }
   },
   "source": [
    "# Week 6 Problem 2\n",
    "\n",
    "If you are not using the `Assignments` tab on the course JupyterHub server to read this notebook, read [Activating the assignments tab](https://github.com/UI-DataScience/info490-fa16/blob/master/Week2/assignments/README.md).\n",
    "\n",
    "A few things you should keep in mind when working on assignments:\n",
    "\n",
    "1. Make sure you fill in any place that says `YOUR CODE HERE`. Do **not** write your answer in anywhere else other than where it says `YOUR CODE HERE`. Anything you write anywhere else will be removed or overwritten by the autograder.\n",
    "\n",
    "2. Before you submit your assignment, make sure everything runs as expected. Go to menubar, select _Kernel_, and restart the kernel and run all cells (_Restart & Run all_).\n",
    "\n",
    "3. Do not change the title (i.e. file name) of this notebook.\n",
    "\n",
    "4. Make sure that you save your work (in the menubar, select _File_ → _Save and CheckPoint_)\n",
    "\n",
    "5. You are allowed to submit an assignment multiple times, but only the most recent submission will be graded."
   ]
  },
  {
   "cell_type": "code",
   "execution_count": 1,
   "metadata": {
    "collapsed": true,
    "deletable": false,
    "nbgrader": {
     "checksum": "42d879d9fe1798f845814039258994d6",
     "grade": false,
     "grade_id": "import_nose",
     "locked": true,
     "solution": false
    }
   },
   "outputs": [],
   "source": [
    "import re\n",
    "from nose.tools import assert_equal"
   ]
  },
  {
   "cell_type": "markdown",
   "metadata": {
    "deletable": false,
    "nbgrader": {
     "checksum": "66bca140ed0b660a2a2601ebf20f104b",
     "grade": false,
     "grade_id": "p1_title",
     "locked": true,
     "solution": false
    }
   },
   "source": [
    "In this problem set, we will use regular expressions (regex) to process real Twitter data. Specifically, using a sample of real tweets that contain the hashtag #informatics, we will use regex to clean up the text data since many of them contain non-alphabetical characters as well as special characters, such as hashtags, @ signs, and HTTP links.\n",
    "\n",
    "For simplicity, we will use only five tweets in this problem, but it's straightforward to scale to a data set with a large number of tweets after we write and test our functions."
   ]
  },
  {
   "cell_type": "code",
   "execution_count": 2,
   "metadata": {
    "collapsed": false,
    "deletable": false,
    "nbgrader": {
     "checksum": "3a5a1561181658d94864317adff21afc",
     "grade": false,
     "grade_id": "tweets",
     "locked": true,
     "solution": false
    }
   },
   "outputs": [
    {
     "name": "stdout",
     "output_type": "stream",
     "text": [
      "['New #job opening at The Ottawa Hospital in #Ottawa - #Clinical #Informatics Specialist #jobs http://t.co/3SlUy11dro', 'Looking for a #Clinical #Informatics Pharmacist Park Plaza Hospital #jobs http://t.co/4Qw8i6YaJI', 'Info Session 10/7: MSc in Biomedical Informatics, University of Chicago https://t.co/65G8dJmhdR #HIT #UChicago #informatics #healthcare', \"Here's THE best #Books I've read on #EHR #HIE #HIPAA and #Health #Informatics http://t.co/meFE0dMSPe\", '@RMayNurseDir @FNightingaleF Scholars talking passionately about what they believe in. #informatics &amp; #skincare  https://t.co/m8qiUSxk0h']\n"
     ]
    }
   ],
   "source": [
    "tweets = '''\n",
    "New #job opening at The Ottawa Hospital in #Ottawa - #Clinical #Informatics Specialist #jobs http://t.co/3SlUy11dro\n",
    "Looking for a #Clinical #Informatics Pharmacist Park Plaza Hospital #jobs http://t.co/4Qw8i6YaJI\n",
    "Info Session 10/7: MSc in Biomedical Informatics, University of Chicago https://t.co/65G8dJmhdR #HIT #UChicago #informatics #healthcare\n",
    "Here's THE best #Books I've read on #EHR #HIE #HIPAA and #Health #Informatics http://t.co/meFE0dMSPe\n",
    "@RMayNurseDir @FNightingaleF Scholars talking passionately about what they believe in. #informatics &amp; #skincare  https://t.co/m8qiUSxk0h\n",
    "'''.strip().split('\\n')\n",
    "\n",
    "print(tweets)"
   ]
  },
  {
   "cell_type": "markdown",
   "metadata": {
    "deletable": false,
    "nbgrader": {
     "checksum": "d0fed14ce49c687bc0974de4a905ae5d",
     "grade": false,
     "grade_id": "p1_add_info",
     "locked": true,
     "solution": false
    }
   },
   "source": [
    "Later in this course, we will learn how to use the [Twitter API](https://dev.twitter.com/overview/documentation) to monitor or process tweets in real-time. If you can't wait, see [Mining the Social Web 2nd Edition](https://github.com/ptwobrussell/Mining-the-Social-Web-2nd-Edition) by Matthew A. Russell."
   ]
  },
  {
   "cell_type": "markdown",
   "metadata": {
    "deletable": false,
    "nbgrader": {
     "checksum": "8b190ad9288571da87dd1178c5262b71",
     "grade": false,
     "grade_id": "p1_intro",
     "locked": true,
     "solution": false
    }
   },
   "source": [
    "## 1. Split the text into words.\n",
    "\n",
    "Words in each tweet are separated by one or more whitespaces. Use regex to create a list of all words in tweets. Note that tweets is a list of five strings."
   ]
  },
  {
   "cell_type": "code",
   "execution_count": 3,
   "metadata": {
    "collapsed": false,
    "deletable": false,
    "nbgrader": {
     "checksum": "c0681674585fdad62ad5ad6b8b55df5f",
     "grade": false,
     "grade_id": "p1_answer",
     "locked": false,
     "solution": true
    }
   },
   "outputs": [],
   "source": [
    "def split_into_words(tweets):\n",
    "    '''\n",
    "    Take a list of tweets, and returns a list of words in all tweets.\n",
    "    Since words are separated by one or more whitespaces,\n",
    "    the return value is a list of strings with no whitespace.\n",
    "    \n",
    "    Parameters\n",
    "    ----------\n",
    "    tweets: a list of strings. Strings have whitespaces.\n",
    "    \n",
    "    Returns\n",
    "    -------\n",
    "    A list of strings. Strings have no whitespace.\n",
    "    Results from splitting each tweet in tweets by whitespace.\n",
    "    '''\n",
    "    # YOUR CODE HERE\n",
    "    result = []\n",
    "    # For every string, use re.split to split every string into words\n",
    "    for str in tweets:\n",
    "        result = result + re.split('\\s+', str)\n",
    "    return result"
   ]
  },
  {
   "cell_type": "markdown",
   "metadata": {
    "deletable": false,
    "nbgrader": {
     "checksum": "eb3d9754719195f5c1fbabe778180b4d",
     "grade": false,
     "grade_id": "p1_code_run",
     "locked": true,
     "solution": false
    }
   },
   "source": [
    "Let's see if it passes the following test:"
   ]
  },
  {
   "cell_type": "code",
   "execution_count": 4,
   "metadata": {
    "collapsed": false,
    "deletable": false,
    "nbgrader": {
     "checksum": "ffd3339c05e960cbb785fc67557b2ef7",
     "grade": true,
     "grade_id": "cube_test",
     "locked": true,
     "points": 5,
     "solution": false
    }
   },
   "outputs": [],
   "source": [
    "words = split_into_words(tweets)\n",
    "words_answer = [\n",
    "    'New', '#job', 'opening', 'at', 'The', 'Ottawa', 'Hospital', 'in', '#Ottawa', '-',\n",
    "    '#Clinical', '#Informatics', 'Specialist', '#jobs', 'http://t.co/3SlUy11dro',\n",
    "    \n",
    "    'Looking', 'for', 'a', '#Clinical', '#Informatics', 'Pharmacist', 'Park', 'Plaza', 'Hospital',\n",
    "    '#jobs', 'http://t.co/4Qw8i6YaJI',\n",
    "    \n",
    "    'Info', 'Session', '10/7:', 'MSc', 'in', 'Biomedical', 'Informatics,', 'University', 'of', 'Chicago',\n",
    "    'https://t.co/65G8dJmhdR', '#HIT', '#UChicago', '#informatics', '#healthcare',\n",
    "    \n",
    "    \"Here's\", 'THE', 'best', '#Books', \"I've\", 'read', 'on', '#EHR', '#HIE', '#HIPAA',\n",
    "    'and', '#Health', '#Informatics', 'http://t.co/meFE0dMSPe',\n",
    "    \n",
    "    '@RMayNurseDir', '@FNightingaleF', 'Scholars', 'talking', 'passionately', 'about', 'what', 'they', 'believe', 'in.',\n",
    "    '#informatics', '&amp;', '#skincare', 'https://t.co/m8qiUSxk0h'\n",
    "]\n",
    "\n",
    "assert_equal(words, words_answer)"
   ]
  },
  {
   "cell_type": "markdown",
   "metadata": {
    "deletable": false,
    "nbgrader": {
     "checksum": "24ce2ff07e7d3b8e797923bf73a43d64",
     "grade": false,
     "grade_id": "p2_title",
     "locked": true,
     "solution": false
    }
   },
   "source": [
    "## 2. Remove all words that contain hashtags (#).\n",
    "The easiest way to do this (that I can think of) is to use re.sub() to substitude any elements with a hash character with an empty string ''. And at the end, we can use a for loop or list comprehension to remove all empty strings from the list.\n",
    "I'll even write the first part for you. You can replace every word that contains a # with an empty string with\n",
    "\n",
    "`words = [re.sub('\\#.*', '', word) for word in words]`\n",
    "\n",
    "where I iterated through words using list comprehension. This is equivalent to\n",
    "\n",
    "```a_list = []\n",
    "for word in words:\n",
    "    a_list += [re.sub('\\#.*', '', word)]\n",
    "words = a_list \n",
    "```\n",
    "\n",
    "We have to include a \\ before the # because # is a special character. The `.` matches any character (except newline), and `*` means zero or more repetitions. Thus, this line substitues every word in words that starts with a # with an empty string `''`.\n",
    "\n",
    "Now, if we remove all empty strings from this list, we have removed all words that are hashtags."
   ]
  },
  {
   "cell_type": "code",
   "execution_count": 5,
   "metadata": {
    "collapsed": true,
    "deletable": false,
    "nbgrader": {
     "checksum": "d1eba67e44a8fd7f2a7cbc228ac7cd56",
     "grade": false,
     "grade_id": "p2_answer",
     "locked": false,
     "solution": true
    }
   },
   "outputs": [],
   "source": [
    "def remove_hashtags(words):\n",
    "    '''\n",
    "    Take a list of strings.\n",
    "    Returns a list of strings, where we discard all strings that are hashtags.\n",
    "    \n",
    "    Parameters\n",
    "    ----------\n",
    "    words: A list of strings.\n",
    "    \n",
    "    Returns\n",
    "    -------\n",
    "    A list of strings. None of the strings in the return list has a hashtag.\n",
    "    '''\n",
    "    # YOUR CODE HERE\n",
    "    # Substitues every word in words that contains a # with an empty string '' using list comprehension\n",
    "    words = [re.sub('\\#.*', '', word) for word in words]\n",
    "    # Use filter to remove all empty strings\n",
    "    words = list(filter(None, words))\n",
    "    return words"
   ]
  },
  {
   "cell_type": "code",
   "execution_count": 6,
   "metadata": {
    "collapsed": false,
    "deletable": false,
    "nbgrader": {
     "checksum": "84104c5a98971d37975f1bb6ad0e27bb",
     "grade": true,
     "grade_id": "markdown_2",
     "locked": true,
     "points": 5,
     "solution": false
    }
   },
   "outputs": [],
   "source": [
    "no_hashtags = remove_hashtags(words)\n",
    "no_hashtags_answer = [\n",
    "    'New', 'opening', 'at', 'The', 'Ottawa', 'Hospital', 'in', '-',\n",
    "    'Specialist', 'http://t.co/3SlUy11dro',\n",
    "    \n",
    "    'Looking', 'for', 'a', 'Pharmacist', 'Park', 'Plaza', 'Hospital',\n",
    "    'http://t.co/4Qw8i6YaJI',\n",
    "    \n",
    "    'Info', 'Session', '10/7:', 'MSc', 'in', 'Biomedical', 'Informatics,', 'University', 'of', 'Chicago',\n",
    "    'https://t.co/65G8dJmhdR',\n",
    "    \n",
    "    \"Here's\", 'THE', 'best', \"I've\", 'read', 'on',\n",
    "    'and', 'http://t.co/meFE0dMSPe',\n",
    "    \n",
    "    '@RMayNurseDir', '@FNightingaleF', 'Scholars', 'talking', 'passionately', 'about', 'what', 'they', 'believe', 'in.',\n",
    "    '&amp;', 'https://t.co/m8qiUSxk0h'\n",
    "]\n",
    "\n",
    "assert_equal(no_hashtags, no_hashtags_answer)"
   ]
  },
  {
   "cell_type": "markdown",
   "metadata": {
    "deletable": false,
    "nbgrader": {
     "checksum": "9ce5598223891e403f5f58b871aa4581",
     "grade": false,
     "grade_id": "p3_title",
     "locked": true,
     "solution": false
    }
   },
   "source": [
    "## 3. Remove all words that contain users (@).\n",
    "Similary, remove all words that indicate users (begins with the @ character)."
   ]
  },
  {
   "cell_type": "code",
   "execution_count": 7,
   "metadata": {
    "collapsed": true,
    "deletable": false,
    "nbgrader": {
     "checksum": "7fb1064444f5d55e2fede2db5684199b",
     "grade": false,
     "grade_id": "markdown_1",
     "locked": false,
     "solution": true
    }
   },
   "outputs": [],
   "source": [
    "def remove_users(words):\n",
    "    '''\n",
    "    Take a list of strings.\n",
    "    Returns a list of strings, where we discard all strings that represent users.\n",
    "    \n",
    "    Parameters\n",
    "    ----------\n",
    "    words: A list of strings.\n",
    "    \n",
    "    Returns\n",
    "    -------\n",
    "    A list of strings. None of the strings in the return list has user tags.\n",
    "    '''\n",
    "    # YOUR CODE HERE\n",
    "    # Substitues every word in words that contains a @ with an empty string ''\n",
    "    words = [re.sub('@.*', '', word) for word in words]\n",
    "    # Use filter to remove all empty strings\n",
    "    words = list(filter(None, words))\n",
    "    return words"
   ]
  },
  {
   "cell_type": "code",
   "execution_count": 8,
   "metadata": {
    "collapsed": true,
    "deletable": false,
    "nbgrader": {
     "checksum": "04b5ca2b349cf685984ff03cb080f6b3",
     "grade": true,
     "grade_id": "markdown_3",
     "locked": true,
     "points": 5,
     "solution": false
    }
   },
   "outputs": [],
   "source": [
    "no_users = remove_users(no_hashtags)\n",
    "no_users_answer = [\n",
    "    'New', 'opening', 'at', 'The', 'Ottawa', 'Hospital', 'in', '-',\n",
    "    'Specialist', 'http://t.co/3SlUy11dro',\n",
    "    \n",
    "    'Looking', 'for', 'a', 'Pharmacist', 'Park', 'Plaza', 'Hospital',\n",
    "    'http://t.co/4Qw8i6YaJI',\n",
    "    \n",
    "    'Info', 'Session', '10/7:', 'MSc', 'in', 'Biomedical', 'Informatics,', 'University', 'of', 'Chicago',\n",
    "    'https://t.co/65G8dJmhdR',\n",
    "    \n",
    "    \"Here's\", 'THE', 'best', \"I've\", 'read', 'on',\n",
    "    'and', 'http://t.co/meFE0dMSPe',\n",
    "    \n",
    "    'Scholars', 'talking', 'passionately', 'about', 'what', 'they', 'believe', 'in.',\n",
    "    '&amp;', 'https://t.co/m8qiUSxk0h'\n",
    "]\n",
    "\n",
    "assert_equal(no_users, no_users_answer)"
   ]
  },
  {
   "cell_type": "markdown",
   "metadata": {
    "deletable": false,
    "nbgrader": {
     "checksum": "adcc0052161b1feb0cddb8015ec69c52",
     "grade": false,
     "grade_id": "p4_title",
     "locked": true,
     "solution": false
    }
   },
   "source": [
    "## 4. Remove all words that contain HTTP links.\n",
    "We also want to remove all hyperlinks."
   ]
  },
  {
   "cell_type": "code",
   "execution_count": 9,
   "metadata": {
    "collapsed": true,
    "deletable": false,
    "nbgrader": {
     "checksum": "a69bd673fbb433d02f91c750b5cd88df",
     "grade": false,
     "grade_id": "p4_answer",
     "locked": false,
     "solution": true
    }
   },
   "outputs": [],
   "source": [
    "def remove_links(words):\n",
    "    '''\n",
    "    Take a list of strings.\n",
    "    Returns a list of strings, where we discard all strings that are http links.\n",
    "    \n",
    "    Parameters\n",
    "    ----------\n",
    "    words: A list of strings.\n",
    "    \n",
    "    Returns\n",
    "    -------\n",
    "    A list of strings. None of the strings in the return list is an http link.\n",
    "    '''\n",
    "    # YOUR CODE HERE\n",
    "    # Substitues every word in words that contains 'http:' or 'https:' with an empty string ''\n",
    "    words = [re.sub('https?:.*', '', word) for word in words]\n",
    "    # Use filter to remove all empty strings\n",
    "    words = list(filter(None, words))\n",
    "    return words"
   ]
  },
  {
   "cell_type": "code",
   "execution_count": 10,
   "metadata": {
    "collapsed": false,
    "deletable": false,
    "nbgrader": {
     "checksum": "ebd2d9aa918a877a7b2fb5c44190f5ee",
     "grade": true,
     "grade_id": "p4_test",
     "locked": true,
     "points": 5,
     "solution": false
    }
   },
   "outputs": [],
   "source": [
    "no_links = remove_links(no_users)\n",
    "no_links_answer = [\n",
    "    'New', 'opening', 'at', 'The', 'Ottawa', 'Hospital', 'in', '-',\n",
    "    'Specialist',\n",
    "    \n",
    "    'Looking', 'for', 'a', 'Pharmacist', 'Park', 'Plaza', 'Hospital',\n",
    "    \n",
    "    'Info', 'Session', '10/7:', 'MSc', 'in', 'Biomedical', 'Informatics,', 'University', 'of', 'Chicago',\n",
    "    \n",
    "    \"Here's\", 'THE', 'best', \"I've\", 'read', 'on',\n",
    "    'and',\n",
    "    \n",
    "    'Scholars', 'talking', 'passionately', 'about', 'what', 'they', 'believe', 'in.',\n",
    "    '&amp;',\n",
    "]\n",
    "\n",
    "assert_equal(no_links, no_links_answer)"
   ]
  },
  {
   "cell_type": "markdown",
   "metadata": {
    "deletable": false,
    "nbgrader": {
     "checksum": "81de2d1afef871a04558e3efe4c7e99a",
     "grade": false,
     "grade_id": "p5_title",
     "locked": true,
     "solution": false
    }
   },
   "source": [
    "## 5. Remove all non-alphabetical characters.\n",
    "A tweet may contain foreign characters, punctuation marks, or numbers. In this case, however, we don't want to remove a word just because it contains a punctuation mark. For example, we want to keep \"Informatics\" and \"in\" in \"Informatics,\" (a comma at the end) and \"in.\" (a period) while getting rid of the punctuation marks.\n",
    "\n",
    "So, simply go through each word and remove every character that is not an alphabetical character."
   ]
  },
  {
   "cell_type": "code",
   "execution_count": 11,
   "metadata": {
    "collapsed": true,
    "deletable": false,
    "nbgrader": {
     "checksum": "7ca6b6cdde742424f9a00b6f6c11ef25",
     "grade": false,
     "grade_id": "p5_answer",
     "locked": false,
     "solution": true
    }
   },
   "outputs": [],
   "source": [
    "def keep_letters(words):\n",
    "    '''\n",
    "    Take a list of strings.\n",
    "    Returns a list of strings, where all strings have only alphabetical characters.\n",
    "    \n",
    "    Parameters\n",
    "    ----------\n",
    "    words: A list of strings.\n",
    "    \n",
    "    Returns\n",
    "    -------\n",
    "    A list of strings. None of the strings in the return list has any non-alphabetical characters.\n",
    "    '''\n",
    "    # YOUR CODE HERE\n",
    "    # Substitues every non-alphabetical characters in words with an empty string ''\n",
    "    words = [re.sub('[^A-Za-z]', '', word) for word in words]\n",
    "    # Use filter to remove all empty strings\n",
    "    words = list(filter(None, words))\n",
    "    return words"
   ]
  },
  {
   "cell_type": "code",
   "execution_count": 12,
   "metadata": {
    "collapsed": false,
    "deletable": false,
    "nbgrader": {
     "checksum": "03dcbcf24165ba4b1e1f688a59ce2a89",
     "grade": true,
     "grade_id": "p5_test",
     "locked": true,
     "points": 5,
     "solution": false
    }
   },
   "outputs": [],
   "source": [
    "only_letters = keep_letters(no_links)\n",
    "only_letters_answer = [\n",
    "    'New', 'opening', 'at', 'The', 'Ottawa', 'Hospital', 'in',\n",
    "    'Specialist',\n",
    "    \n",
    "    'Looking', 'for', 'a', 'Pharmacist', 'Park', 'Plaza', 'Hospital',\n",
    "    \n",
    "    'Info', 'Session', 'MSc', 'in', 'Biomedical', 'Informatics', 'University', 'of', 'Chicago',\n",
    "    \n",
    "    \"Heres\", 'THE', 'best', \"Ive\", 'read', 'on',\n",
    "    'and',\n",
    "    \n",
    "    'Scholars', 'talking', 'passionately', 'about', 'what', 'they', 'believe', 'in',\n",
    "    'amp'\n",
    "]\n",
    "\n",
    "assert_equal(only_letters, only_letters_answer)"
   ]
  },
  {
   "cell_type": "markdown",
   "metadata": {
    "deletable": false,
    "nbgrader": {
     "checksum": "545ed99f77c5753e926aea3d88d57676",
     "grade": false,
     "grade_id": "p6_title",
     "locked": true,
     "solution": false
    }
   },
   "source": [
    "## 6. Convert everything to lower cases.\n",
    "Convert all strings to lowercase."
   ]
  },
  {
   "cell_type": "code",
   "execution_count": 13,
   "metadata": {
    "collapsed": true,
    "deletable": false,
    "nbgrader": {
     "checksum": "a48a8d9667fb435be489d67fa7c5b724",
     "grade": false,
     "grade_id": "p6_answer",
     "locked": false,
     "solution": true
    }
   },
   "outputs": [],
   "source": [
    "def to_lower(words):\n",
    "    '''\n",
    "    Take a list of strings.\n",
    "    Returns a list of strings, where all strings are lowercase.\n",
    "    \n",
    "    Parameters\n",
    "    ----------\n",
    "    words: A list of strings.\n",
    "    \n",
    "    Returns\n",
    "    -------\n",
    "    A list of strings. None of the strings in the return list has any capital letters.\n",
    "    '''\n",
    "    # YOUR CODE HERE\n",
    "    # Convert all strings to lowercase with string method .lower()\n",
    "    words = [word.lower() for word in words]\n",
    "    return words"
   ]
  },
  {
   "cell_type": "code",
   "execution_count": 14,
   "metadata": {
    "collapsed": false,
    "deletable": false,
    "nbgrader": {
     "checksum": "edc568cf458353680185cdb2b9482a6e",
     "grade": true,
     "grade_id": "p6_test",
     "locked": true,
     "points": 5,
     "solution": false
    }
   },
   "outputs": [],
   "source": [
    "all_lower = to_lower(only_letters)\n",
    "all_lower_answer = [\n",
    "    'new', 'opening', 'at', 'the', 'ottawa', 'hospital', 'in',\n",
    "    'specialist',\n",
    "    \n",
    "    'looking', 'for', 'a', 'pharmacist', 'park', 'plaza', 'hospital',\n",
    "    \n",
    "    'info', 'session', 'msc', 'in', 'biomedical', 'informatics', 'university', 'of', 'chicago',\n",
    "    \n",
    "    \"heres\", 'the', 'best', \"ive\", 'read', 'on',\n",
    "    'and',\n",
    "    \n",
    "    'scholars', 'talking', 'passionately', 'about', 'what', 'they', 'believe', 'in',\n",
    "    'amp'\n",
    "]\n",
    "\n",
    "assert_equal(all_lower, all_lower_answer)"
   ]
  },
  {
   "cell_type": "markdown",
   "metadata": {
    "deletable": false,
    "nbgrader": {
     "checksum": "19de0731f457260ea87b88dd06014832",
     "grade": false,
     "grade_id": "final_and_help",
     "locked": true,
     "solution": false
    }
   },
   "source": [
    "Note that words that had #'s, @'s, numbers, links, etc. in them are all gone now, and we have a list of nicely looking words. If you are confused about how to do some of the operations, you can simply google, e.g., \"python convert string to lowercase\" or ask us questions."
   ]
  },
  {
   "cell_type": "code",
   "execution_count": null,
   "metadata": {
    "collapsed": true
   },
   "outputs": [],
   "source": []
  }
 ],
 "metadata": {
  "kernelspec": {
   "display_name": "Python 3",
   "language": "python",
   "name": "python3"
  },
  "language_info": {
   "codemirror_mode": {
    "name": "ipython",
    "version": 3
   },
   "file_extension": ".py",
   "mimetype": "text/x-python",
   "name": "python",
   "nbconvert_exporter": "python",
   "pygments_lexer": "ipython3",
   "version": "3.5.2"
  }
 },
 "nbformat": 4,
 "nbformat_minor": 0
}
