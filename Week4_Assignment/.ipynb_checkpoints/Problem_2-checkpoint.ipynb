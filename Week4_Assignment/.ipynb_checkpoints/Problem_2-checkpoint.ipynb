{
 "cells": [
  {
   "cell_type": "markdown",
   "metadata": {
    "deletable": false,
    "nbgrader": {
     "checksum": "7de09be003ebc5087d23f1d0310894b3",
     "grade": false,
     "grade_id": "header",
     "locked": true,
     "solution": false
    }
   },
   "source": [
    "# Week 4 Problem 2\n",
    "\n",
    "## Summary\n",
    "\n",
    "In this problem set, you will be working with strings and learning how to manipulate them.\n",
    "\n",
    "If you are not using the `Assignments` tab on the course JupyterHub server to read this notebook, read [Activating the assignments tab](https://github.com/UI-DataScience/accy570-fa16/blob/master/Week1/assignments/README.md).\n",
    "\n",
    "A few things you should keep in mind when working on assignments:\n",
    "\n",
    "1. Make sure you fill in any place that says `YOUR CODE HERE`. Do **not** write your answer in anywhere else other than where it says `YOUR CODE HERE`. Anything you write anywhere else will be removed or overwritten by the autograder.\n",
    "\n",
    "2. Before you submit your assignment, make sure everything runs as expected. Go to menubar, select _Kernel_, and restart the kernel and run all cells (_Restart & Run all_).\n",
    "\n",
    "3. Do not change the title (i.e. file name) of this notebook.\n",
    "\n",
    "4. Make sure that you save your work (in the menubar, select _File_ → _Save and CheckPoint_)\n",
    "\n",
    "5. You are allowed to submit an assignment multiple times, but only the most recent submission will be graded."
   ]
  },
  {
   "cell_type": "code",
   "execution_count": 1,
   "metadata": {
    "collapsed": true,
    "deletable": false,
    "nbgrader": {
     "checksum": "f41f3e133f7eab1a6b85fed8da9860bf",
     "grade": false,
     "grade_id": "import_nose",
     "locked": true,
     "solution": false
    }
   },
   "outputs": [],
   "source": [
    "from nose.tools import assert_equal"
   ]
  },
  {
   "cell_type": "markdown",
   "metadata": {
    "deletable": false,
    "nbgrader": {
     "checksum": "36497062b7250ae837be3b1ee5524086",
     "grade": false,
     "grade_id": "p1_title",
     "locked": true,
     "solution": false
    }
   },
   "source": [
    "# Problem 1.\n",
    "\n",
    "For this problem, you will be making a function definition that slices a string called `slice_string`.  This function will recieve a string, and two indices.  The string will then be sliced at the provided indices.  For example, if the string was `'animal'` and the indices provided are `0` and `3`, then the function should return the string `'ani'`.  If the indices are the same or if the first is larger than the second, then the `slice_string` function will return an empty string: `''`."
   ]
  },
  {
   "cell_type": "code",
   "execution_count": 2,
   "metadata": {
    "collapsed": false,
    "deletable": false,
    "nbgrader": {
     "checksum": "703ddd033a0461a487ec9ee78fd7fda8",
     "grade": false,
     "grade_id": "p1_answer",
     "locked": false,
     "solution": true
    }
   },
   "outputs": [],
   "source": [
    "def slice_string(a_string, ind1, ind2):\n",
    "    # YOUR CODE HERE\n",
    "    return a_string[ind1:ind2]"
   ]
  },
  {
   "cell_type": "code",
   "execution_count": 3,
   "metadata": {
    "collapsed": false,
    "deletable": false,
    "nbgrader": {
     "checksum": "ea4d7e79dfd43e8f558913a198f89718",
     "grade": true,
     "grade_id": "cube_test",
     "locked": true,
     "points": 5,
     "solution": false
    }
   },
   "outputs": [],
   "source": [
    "assert_equal(slice_string('animal', 0, 3),'ani')\n",
    "assert_equal(slice_string('troll',4,3),'')\n",
    "assert_equal(slice_string('dessert', 4, 6),'er')\n",
    "assert_equal(slice_string('Python',2,-2),'th')"
   ]
  },
  {
   "cell_type": "markdown",
   "metadata": {
    "deletable": false,
    "nbgrader": {
     "checksum": "8679972077bdddee6aa7c346d9c4610a",
     "grade": false,
     "grade_id": "p2_title",
     "locked": true,
     "solution": false
    }
   },
   "source": [
    "# Problem 2.\n",
    "\n",
    "In this part of the problem, we will create a function definition that checks to see if a letter or substring is in the string provided.  If the letter is in the string, then `True` is returned. If the letter is NOT found in the string, `False` must be returned. \n",
    "\n",
    "Similarly, if the substring is found in order in the string, then `True` will be returned.  However, if the substring is not matched perfectly with a section of the string, `False` will be returned; for example, if you search for `lon` inside of `lion`, the function should return `False`\n",
    "\n",
    "This function will be case sensitive; for example, if you search for the letter `'m'` within `'Monty'`, `False` should be returned."
   ]
  },
  {
   "cell_type": "code",
   "execution_count": 4,
   "metadata": {
    "collapsed": true,
    "deletable": false,
    "nbgrader": {
     "checksum": "a446f0adb08ba05a1baa457d832abf46",
     "grade": false,
     "grade_id": "p2_answer",
     "locked": false,
     "solution": true
    }
   },
   "outputs": [],
   "source": [
    "def is_in(a_string, letter):\n",
    "    # YOUR CODE HERE\n",
    "    return letter in a_string"
   ]
  },
  {
   "cell_type": "code",
   "execution_count": 5,
   "metadata": {
    "collapsed": false,
    "deletable": false,
    "nbgrader": {
     "checksum": "6ddbe2588b46751c4382a7bc9fad22eb",
     "grade": true,
     "grade_id": "markdown_2",
     "locked": true,
     "points": 5,
     "solution": false
    }
   },
   "outputs": [],
   "source": [
    "assert_equal(is_in('monty','m'), True)\n",
    "assert_equal(is_in('Monty','m'), False)\n",
    "assert_equal(is_in('spam','a'), True)\n",
    "assert_equal(is_in('locket', 'ckt'), False)"
   ]
  },
  {
   "cell_type": "markdown",
   "metadata": {
    "deletable": false,
    "nbgrader": {
     "checksum": "030399df04fee704b42e7e6942bdcc91",
     "grade": false,
     "grade_id": "p3_title",
     "locked": true,
     "solution": false
    }
   },
   "source": [
    "# Problem 3.\n",
    "\n",
    "In this final function, it will take a string, a letter, and two indices and will do three things:\n",
    "- It will see if a letter is located within the original string.\n",
    "- It will slice up the string at the provided indices\n",
    "- It will then output a string that is of the following form: \"The string is \\_ . Is the letter \\_ inside the string? \\_. The slice of the string is \\_.\n",
    "\n",
    "For example, the output of this:\n",
    "\n",
    "`list_output('Pickle', 'i', 2, 5)`\n",
    "\n",
    "Should be this:\n",
    "\n",
    "`'The string is Pickle. Is the letter i inside the string? Yes. The slice of the string is ckl.'`\n",
    "\n",
    "Another example coule be: \n",
    "\n",
    "`list_output('crunch', 'y', 0, 5)`\n",
    "\n",
    "Should be this:\n",
    "\n",
    "`'The string is crunch. Is the letter y inside the string? No. The slice of the string is crunc.'`"
   ]
  },
  {
   "cell_type": "code",
   "execution_count": 6,
   "metadata": {
    "collapsed": false,
    "deletable": false,
    "nbgrader": {
     "checksum": "8bb88d7d061084cc173d1c4e39d6969d",
     "grade": false,
     "grade_id": "markdown_1",
     "locked": false,
     "solution": true
    }
   },
   "outputs": [],
   "source": [
    "def list_output(a_string, letter, ind1, ind2):\n",
    "    # YOUR CODE HERE\n",
    "    if letter in a_string:\n",
    "        answer = 'Yes'\n",
    "    else:\n",
    "        answer = 'No'\n",
    "    return 'The string is '+ a_string + '. Is the letter '+ letter + ' inside the string? ' + answer +'. The slice of the string is ' + a_string[ind1:ind2] + '.'"
   ]
  },
  {
   "cell_type": "code",
   "execution_count": 7,
   "metadata": {
    "collapsed": false,
    "deletable": false,
    "nbgrader": {
     "checksum": "92dead2aa13448581ec71254ec39540e",
     "grade": true,
     "grade_id": "markdown_3",
     "locked": true,
     "points": 10,
     "solution": false
    }
   },
   "outputs": [],
   "source": [
    "assert_equal(type(list_output('Pickle', 'i', 2, 5)), str)\n",
    "assert_equal(list_output('moon', 'i', 0, 3),'The string is moon. Is the letter i inside the string? No. The slice of the string is moo.')\n",
    "assert_equal(list_output('galaxy', 'y', 1, 3), 'The string is galaxy. Is the letter y inside the string? Yes. The slice of the string is al.')\n",
    "assert_equal(list_output('runner', 'R', 0, 5), 'The string is runner. Is the letter R inside the string? No. The slice of the string is runne.')"
   ]
  },
  {
   "cell_type": "code",
   "execution_count": null,
   "metadata": {
    "collapsed": true
   },
   "outputs": [],
   "source": []
  },
  {
   "cell_type": "code",
   "execution_count": null,
   "metadata": {
    "collapsed": true
   },
   "outputs": [],
   "source": []
  }
 ],
 "metadata": {
  "kernelspec": {
   "display_name": "Python 3",
   "language": "python",
   "name": "python3"
  },
  "language_info": {
   "codemirror_mode": {
    "name": "ipython",
    "version": 3
   },
   "file_extension": ".py",
   "mimetype": "text/x-python",
   "name": "python",
   "nbconvert_exporter": "python",
   "pygments_lexer": "ipython3",
   "version": "3.5.2"
  }
 },
 "nbformat": 4,
 "nbformat_minor": 0
}
