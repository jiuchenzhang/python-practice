{
 "cells": [
  {
   "cell_type": "markdown",
   "metadata": {
    "deletable": false,
    "nbgrader": {
     "checksum": "dd6db867df8aaa0cbfaa884a0127da5c",
     "grade": false,
     "grade_id": "header",
     "locked": true,
     "solution": false
    }
   },
   "source": [
    "# Week 4 Problem 1\n",
    "\n",
    "If you are not using the `Assignments` tab on the course JupyterHub server to read this notebook, read [Activating the assignments tab](https://github.com/UI-DataScience/accy570-fa16/blob/master/Week1/assignments/README.md).\n",
    "\n",
    "A few things you should keep in mind when working on assignments:\n",
    "\n",
    "1. Make sure you fill in any place that says `YOUR CODE HERE`. Do **not** write your answer in anywhere else other than where it says `YOUR CODE HERE`. Anything you write anywhere else will be removed or overwritten by the autograder.\n",
    "\n",
    "2. Before you submit your assignment, make sure everything runs as expected. Go to menubar, select _Kernel_, and restart the kernel and run all cells (_Restart & Run all_).\n",
    "\n",
    "3. Do not change the title (i.e. file name) of this notebook.\n",
    "\n",
    "4. Make sure that you save your work (in the menubar, select _File_ → _Save and CheckPoint_)\n",
    "\n",
    "5. You are allowed to submit an assignment multiple times, but only the most recent submission will be graded.\n",
    "6. **MAKE SURE YOU SUBMIT YOUR ASSIGNMENT BY CLICKING SUBMIT!**\n",
    "\n",
    "**Hint:** You might find [this notebook](https://github.com/ProfessorBrunner/rp-pdm15/blob/master/Week1/unixde.ipynb) helpful for some of these problems. I think it is a good supplement to the notebook that was part of your [required reading](https://github.com/UI-DataScience/info490-fa16/blob/master/Week4/notebooks/unixdp.ipynb). "
   ]
  },
  {
   "cell_type": "code",
   "execution_count": 1,
   "metadata": {
    "collapsed": true,
    "deletable": false,
    "nbgrader": {
     "checksum": "99b866d722655e95a68f0c41002a0929",
     "grade": false,
     "grade_id": "make_test_dir",
     "locked": true,
     "solution": false
    }
   },
   "outputs": [],
   "source": [
    "%%bash\n",
    "# create a sandbox directory\n",
    "mkdir -p ~/w4p1_dir"
   ]
  },
  {
   "cell_type": "code",
   "execution_count": 2,
   "metadata": {
    "collapsed": true,
    "deletable": false,
    "nbgrader": {
     "checksum": "f41f3e133f7eab1a6b85fed8da9860bf",
     "grade": false,
     "grade_id": "import_nose",
     "locked": true,
     "solution": false
    }
   },
   "outputs": [],
   "source": [
    "from nose.tools import assert_equal"
   ]
  },
  {
   "cell_type": "markdown",
   "metadata": {
    "deletable": false,
    "nbgrader": {
     "checksum": "182d27efb7c3963de4c3bf052b8898bb",
     "grade": false,
     "grade_id": "p1_title",
     "locked": true,
     "solution": false
    }
   },
   "source": [
    "# Problem 1.\n",
    "\n",
    "The main purpose of this problem is to give you exposure to basic command-line data processing. This is useful when files are large and difficult to move or read into another platfrom.\n",
    "\n",
    "Your task is to count the number of airports in Illinois using the `~/data/airports.csv` file. This file has one entry per airport, so really what you want to know is how many times \"IL\" appears in the 4th column. Here's what the first few rows look like:"
   ]
  },
  {
   "cell_type": "code",
   "execution_count": 3,
   "metadata": {
    "collapsed": false,
    "deletable": false,
    "nbgrader": {
     "checksum": "36b0c54d5c18fc720009ebf10a02e86a",
     "grade": false,
     "grade_id": "show_head",
     "locked": true,
     "solution": false
    }
   },
   "outputs": [
    {
     "name": "stdout",
     "output_type": "stream",
     "text": [
      "\"iata\",\"airport\",\"city\",\"state\",\"country\",\"lat\",\"long\"\r\n",
      "\"00M\",\"Thigpen \",\"Bay Springs\",\"MS\",\"USA\",31.95376472,-89.23450472\r\n",
      "\"00R\",\"Livingston Municipal\",\"Livingston\",\"TX\",\"USA\",30.68586111,-95.01792778\r\n",
      "\"00V\",\"Meadow Lake\",\"Colorado Springs\",\"CO\",\"USA\",38.94574889,-104.5698933\r\n",
      "\"01G\",\"Perry-Warsaw\",\"Perry\",\"NY\",\"USA\",42.74134667,-78.05208056\r\n",
      "\"01J\",\"Hilliard Airpark\",\"Hilliard\",\"FL\",\"USA\",30.6880125,-81.90594389\r\n",
      "\"01M\",\"Tishomingo County\",\"Belmont\",\"MS\",\"USA\",34.49166667,-88.20111111\r\n",
      "\"02A\",\"Gragg-Wade \",\"Clanton\",\"AL\",\"USA\",32.85048667,-86.61145333\r\n",
      "\"02C\",\"Capitol\",\"Brookfield\",\"WI\",\"USA\",43.08751,-88.17786917\r\n",
      "\"02G\",\"Columbiana County\",\"East Liverpool\",\"OH\",\"USA\",40.67331278,-80.64140639\r\n"
     ]
    }
   ],
   "source": [
    "!head ~/data/airports.csv"
   ]
  },
  {
   "cell_type": "markdown",
   "metadata": {
    "deletable": false,
    "nbgrader": {
     "checksum": "0218d4c80d113a0aa660ff49924d5a67",
     "grade": false,
     "grade_id": "hint_text",
     "locked": true,
     "solution": false
    }
   },
   "source": [
    "*** \n",
    "### A note about escape characters\n",
    "\n",
    "One possible way to do this is to pull out the 4th column and count the occurences of \"IL\" using `cut`, `grep`, and `wc`. Another way is to use `awk`. Keep in mind that the string entries of the `csv` file actually have quotes around them as shown above. This means that if you search the entire line, you'll have to look for `\"IL\"` instead of `IL`. You may have to *escape* the `\"` characters with a backslash because `awk` and `grep` will treat them as special characters by default. This may agitate the syntax highlighting within the Jupyter Notebook, but don't worry about it. \n",
    "\n",
    "Here's an example of what I mean. Pretend we have a file with three lines, `fox`, `firefox`, and `\"fox\"` and want to return just the line with `\"fox\"`.:"
   ]
  },
  {
   "cell_type": "code",
   "execution_count": 4,
   "metadata": {
    "collapsed": false,
    "deletable": false,
    "nbgrader": {
     "checksum": "616a39ccc8d05768402ee51494fbaba0",
     "grade": false,
     "grade_id": "make_temp",
     "locked": true,
     "solution": false
    }
   },
   "outputs": [
    {
     "name": "stdout",
     "output_type": "stream",
     "text": [
      "temp file created as temp.txt\r\n"
     ]
    }
   ],
   "source": [
    "# make a text file\n",
    "!echo \"fox\\n\"firefox\"\\n\\\"fox\\\"\" > temp.txt\n",
    "!echo temp file created as temp.txt"
   ]
  },
  {
   "cell_type": "code",
   "execution_count": 5,
   "metadata": {
    "collapsed": false,
    "deletable": false,
    "nbgrader": {
     "checksum": "2eea11d8893d27a8870d1b841c9f6e60",
     "grade": false,
     "grade_id": "cat_temp",
     "locked": true,
     "solution": false
    }
   },
   "outputs": [
    {
     "name": "stdout",
     "output_type": "stream",
     "text": [
      "fox\r\n",
      "firefox\r\n",
      "\"fox\"\r\n"
     ]
    }
   ],
   "source": [
    "# this is what the file looks like. it has 3 lines\n",
    "!cat temp.txt"
   ]
  },
  {
   "cell_type": "code",
   "execution_count": 6,
   "metadata": {
    "collapsed": false,
    "deletable": false,
    "nbgrader": {
     "checksum": "8335257a7c4a84ecb99ba729ce16ad54",
     "grade": false,
     "grade_id": "grep_noquote",
     "locked": true,
     "solution": false
    }
   },
   "outputs": [
    {
     "name": "stdout",
     "output_type": "stream",
     "text": [
      "fox\r\n",
      "firefox\r\n",
      "\"fox\"\r\n"
     ]
    }
   ],
   "source": [
    "# look for fox but they're all found, including \"fox\"\n",
    "!grep fox temp.txt"
   ]
  },
  {
   "cell_type": "code",
   "execution_count": 7,
   "metadata": {
    "collapsed": false,
    "deletable": false,
    "nbgrader": {
     "checksum": "aa40165b1f09ba5f7d3d3dafb488d634",
     "grade": false,
     "grade_id": "grep_quote",
     "locked": true,
     "solution": false
    }
   },
   "outputs": [
    {
     "name": "stdout",
     "output_type": "stream",
     "text": [
      "fox\r\n",
      "firefox\r\n",
      "\"fox\"\r\n"
     ]
    }
   ],
   "source": [
    "# look for \"fox\" but they're all found again\n",
    "!grep \"fox\" temp.txt"
   ]
  },
  {
   "cell_type": "code",
   "execution_count": 8,
   "metadata": {
    "collapsed": false,
    "deletable": false,
    "nbgrader": {
     "checksum": "e6494c3994bd07095bada4125fcec86a",
     "grade": false,
     "grade_id": "grep_esc",
     "locked": true,
     "solution": false
    }
   },
   "outputs": [
    {
     "name": "stdout",
     "output_type": "stream",
     "text": [
      "\"fox\"\r\n"
     ]
    }
   ],
   "source": [
    "# we need to look specifically for \"fox\" by telling grep we really want the \" chars\n",
    "!grep \\\"fox\\\" temp.txt"
   ]
  },
  {
   "cell_type": "code",
   "execution_count": 9,
   "metadata": {
    "collapsed": false,
    "deletable": false,
    "nbgrader": {
     "checksum": "bc2c0b273a3e44493bc1192818a71343",
     "grade": false,
     "grade_id": "rm_temp",
     "locked": true,
     "solution": false
    }
   },
   "outputs": [
    {
     "name": "stdout",
     "output_type": "stream",
     "text": [
      "temp.txt removed\r\n"
     ]
    }
   ],
   "source": [
    "!rm temp.txt\n",
    "!echo temp.txt removed"
   ]
  },
  {
   "cell_type": "markdown",
   "metadata": {},
   "source": [
    "If you simply use `grep \"IL\"`, you'll find lines that have `IL` in them as well as lines that have `\"IL\"` in them, and you only want the latter. Finally, see the notebook linked above for examples of using `awk`.\n",
    "\n",
    "***\n",
    "\n",
    "### Begin Problem Here"
   ]
  },
  {
   "cell_type": "code",
   "execution_count": 10,
   "metadata": {
    "collapsed": false,
    "deletable": false,
    "nbgrader": {
     "checksum": "f7c40c8680f94d6e4a58a1082debaf18",
     "grade": false,
     "grade_id": "p1_answer",
     "locked": false,
     "solution": true
    }
   },
   "outputs": [],
   "source": [
    " # YOUR CODE HERE\n",
    "num_apts_in_IL = !grep \\\"IL\\\" ~/data/airports.csv | wc -l"
   ]
  },
  {
   "cell_type": "code",
   "execution_count": 11,
   "metadata": {
    "collapsed": false,
    "deletable": false,
    "nbgrader": {
     "checksum": "5ffafb0d10809cac8bb112bc44222fc3",
     "grade": false,
     "grade_id": "print_p1_ans",
     "locked": true,
     "solution": false
    }
   },
   "outputs": [
    {
     "name": "stdout",
     "output_type": "stream",
     "text": [
      "There are 88 airports in Illinois and you counted 88\n"
     ]
    }
   ],
   "source": [
    "print(\"There are 88 airports in Illinois and you counted\", num_apts_in_IL[0])"
   ]
  },
  {
   "cell_type": "code",
   "execution_count": 12,
   "metadata": {
    "collapsed": false,
    "deletable": false,
    "nbgrader": {
     "checksum": "be5fbdfd7121107349b1811a4a6b86ab",
     "grade": true,
     "grade_id": "p1_test",
     "locked": true,
     "points": 5,
     "solution": false
    }
   },
   "outputs": [],
   "source": [
    "assert_equal(num_apts_in_IL, ['88'])"
   ]
  },
  {
   "cell_type": "markdown",
   "metadata": {
    "deletable": false,
    "nbgrader": {
     "checksum": "32e04fca7206ab986e6365f0a8ee4713",
     "grade": false,
     "grade_id": "p2_title",
     "locked": true,
     "solution": false
    }
   },
   "source": [
    "# Problem 2.\n",
    "\n",
    "The main purpose of this problem is to extend what you learned in Problem 1 about data processing at the command line. Now you must list the airports in Illinois and store them in a file called `~/w4p1_dir/IL_APTS.txt`, with one airport per line. You already know how to find the lines corresponding to airports in Illinois (either by finding `\"IL\"` or `IL` in the state column or finding `\"IL\"` anywhere in the line), so now you need to extract the **second column** of those lines."
   ]
  },
  {
   "cell_type": "code",
   "execution_count": 13,
   "metadata": {
    "collapsed": false,
    "deletable": false,
    "nbgrader": {
     "checksum": "a500f5fd6ca5efc32f84a759c11419a2",
     "grade": false,
     "grade_id": "p2_answer",
     "locked": false,
     "solution": true
    }
   },
   "outputs": [],
   "source": [
    "%%bash \n",
    " # YOUR CODE HERE\n",
    " grep \\\"IL\\\" ~/data/airports.csv | cut -d',' -f2 > ~/w4p1_dir/IL_APTS.txt"
   ]
  },
  {
   "cell_type": "code",
   "execution_count": 14,
   "metadata": {
    "collapsed": false,
    "deletable": false,
    "nbgrader": {
     "checksum": "3532ccba2a0f5c27b0a51b5a562bb9d0",
     "grade": false,
     "grade_id": "print_p2_ans",
     "locked": true,
     "solution": false
    }
   },
   "outputs": [
    {
     "name": "stdout",
     "output_type": "stream",
     "text": [
      "There are 88 airports in Illinois and you counted 88\n"
     ]
    }
   ],
   "source": [
    "res = !cat /home/data_scientist/w4p1_dir/IL_APTS.txt | sort\n",
    "print(\"There are 88 airports in Illinois and you counted\", len(res))"
   ]
  },
  {
   "cell_type": "code",
   "execution_count": 15,
   "metadata": {
    "collapsed": false,
    "deletable": false,
    "nbgrader": {
     "checksum": "3060c94467ae9c90fcd4709c353e9b9b",
     "grade": true,
     "grade_id": "p2_test",
     "locked": true,
     "points": 10,
     "solution": false
    }
   },
   "outputs": [],
   "source": [
    "# insert assert tests here\n",
    "res = !cat /home/data_scientist/w4p1_dir/IL_APTS.txt | sort\n",
    "res_stripped = [x.strip('\"') for x in res]\n",
    "assert_equal(res_stripped, \n",
    "             ['Albertus',\n",
    "             'Aurora Municipal',\n",
    "             'Benton Municipal',\n",
    "             'Cairo',\n",
    "             'Campbell',\n",
    "             'Capital',\n",
    "             'Carmi Municipal',\n",
    "             'Casey Municipal',\n",
    "             'Centralia Municipal',\n",
    "             'Central Illinois Regional',\n",
    "             'Chanute',\n",
    "             'Chicago Meigs',\n",
    "             'Chicago Midway',\n",
    "             \"Chicago O'Hare International\",\n",
    "             'Clow',\n",
    "             'Coles County Memorial',\n",
    "             'Dacy',\n",
    "             'Decatur',\n",
    "             'Dekalb-Taylor Municipal',\n",
    "             'Dixon Muni-Charles R Walgreen ',\n",
    "             'Du Page',\n",
    "             'Edgar County',\n",
    "             'Effingham County Memorial',\n",
    "             'Fairfield Municipal',\n",
    "             'Flora',\n",
    "             'Frankfort',\n",
    "             'Galesburg Municipal',\n",
    "             'Galt',\n",
    "             'Gibson City Municipal',\n",
    "             'Greater Beardstown',\n",
    "             'Greater Kankakee',\n",
    "             'Greater Peoria Regional',\n",
    "             'Greater Rockford',\n",
    "             'Greenville',\n",
    "             'Harrisburg-Raleigh',\n",
    "             'Havana Regional',\n",
    "             'Illinois Valley Regional',\n",
    "             'Ingersoll',\n",
    "             'Jacksonville Municipal',\n",
    "             'Joliet Park District',\n",
    "             'Kewanee Municipal',\n",
    "             'Lake In The Hills',\n",
    "             'Lansing Municipal',\n",
    "             'Lawrenceville-Vincennes Municipal',\n",
    "             'Lewis University',\n",
    "             'Litchfield Municipal',\n",
    "             'Logan County',\n",
    "             'Macomb Municipal',\n",
    "             'Marshall County',\n",
    "             'Mercer County',\n",
    "             'Metropolis Municipal',\n",
    "             'Monmouth Municipal',\n",
    "             'Morris Municipal',\n",
    "             'Mt Carmel Municipal',\n",
    "             'Mt. Hawley Auxiliary',\n",
    "             'Mt. Sterling Municipal',\n",
    "             'Mt Vernon-Outland',\n",
    "             'Olney-Noble',\n",
    "             'Palwaukee',\n",
    "             'Pekin Municipal',\n",
    "             'Pinckneyville-Duquoin',\n",
    "             'Pittsfield Penstone Municipal',\n",
    "             'Pontiac Municipal',\n",
    "             'Poplar Grove ',\n",
    "             'Quad City',\n",
    "             'Quincy Municipal-Baldwin ',\n",
    "             'Robinson Municipal',\n",
    "             'Rochelle Municipal',\n",
    "             'Salem-Leckrone',\n",
    "             'Sanger',\n",
    "             'Schaumburg',\n",
    "             'Schaumburg Heliport',\n",
    "             'Scott AFB/MidAmerica ',\n",
    "             'Shelby County',\n",
    "             'Southern Illinois ',\n",
    "             'Sparta Community-Hunter ',\n",
    "             'St. Louis Downtown',\n",
    "             'St Louis-Metro East',\n",
    "             'St. Louis Regional',\n",
    "             'Taylorville Municipal',\n",
    "             'Tri-Township ',\n",
    "             'Tuscola',\n",
    "             'University of Illinois-Willard',\n",
    "             'Vandalia Municipal',\n",
    "             'Vermilion County',\n",
    "             'Waukegan Regional',\n",
    "             'Whiteside Co ',\n",
    "             'Williamson County'])"
   ]
  },
  {
   "cell_type": "markdown",
   "metadata": {
    "deletable": false,
    "nbgrader": {
     "checksum": "a3f8d16b2f67b02f34b8fa9a6a79680f",
     "grade": false,
     "grade_id": "p3_title",
     "locked": true,
     "solution": false
    }
   },
   "source": [
    "# Problem 3.\n",
    "\n",
    "Finally, store the Nothernmost and Southernmost airports in Illinois (as defined by latitude) in a text file called `~/w4p1_dir/N_S_IL.txt` with the Northernmost airport on the first line and the Southernmost airport on the second line. Keep in mind that latitude increases as you go North and is recorded in the 6th column of the text file. You may wish to find the Northernmost airport and write to an output file, then append the Southernmost airport to the end of the file with `>>`."
   ]
  },
  {
   "cell_type": "code",
   "execution_count": 16,
   "metadata": {
    "collapsed": false,
    "deletable": false,
    "nbgrader": {
     "checksum": "14b7f669f8f3a81905e349688c310de7",
     "grade": false,
     "grade_id": "p3_answer",
     "locked": false,
     "solution": true
    }
   },
   "outputs": [],
   "source": [
    "%%bash \n",
    " # YOUR CODE HERE\n",
    " grep \\\"IL\\\" ~/data/airports.csv | sort -t',' -k 6n | cut -d',' -f2 | tail -n 1 > ~/w4p1_dir/N_S_IL.txt\n",
    " grep \\\"IL\\\" ~/data/airports.csv | sort -t',' -k 6n | cut -d',' -f2 | head -n 1 >> ~/w4p1_dir/N_S_IL.txt"
   ]
  },
  {
   "cell_type": "code",
   "execution_count": 17,
   "metadata": {
    "collapsed": false,
    "deletable": false,
    "nbgrader": {
     "checksum": "b0a03804d4a277228296ef66dadaa43d",
     "grade": false,
     "grade_id": "print_p3_ans",
     "locked": true,
     "solution": false
    }
   },
   "outputs": [
    {
     "name": "stdout",
     "output_type": "stream",
     "text": [
      "your output is\n",
      "----------------------\n",
      "\"Waukegan Regional\"\n",
      "\"Cairo\"\n"
     ]
    }
   ],
   "source": [
    "!echo your output is\n",
    "!echo ----------------------\n",
    "!cat /home/data_scientist/w4p1_dir/N_S_IL.txt"
   ]
  },
  {
   "cell_type": "code",
   "execution_count": 18,
   "metadata": {
    "collapsed": true,
    "deletable": false,
    "nbgrader": {
     "checksum": "ac93133b84dc0a9cd691dc75d8856151",
     "grade": true,
     "grade_id": "p3_tests",
     "locked": true,
     "points": 10,
     "solution": false
    }
   },
   "outputs": [],
   "source": [
    "res3 = !cat /home/data_scientist/w4p1_dir/N_S_IL.txt\n",
    "res3_stripped = [x.strip('\"') for x in res3]\n",
    "assert_equal(res3_stripped, ['Waukegan Regional', 'Cairo'])"
   ]
  },
  {
   "cell_type": "markdown",
   "metadata": {
    "deletable": false,
    "nbgrader": {
     "checksum": "94cafab8300ec7cd900b8b32b365f933",
     "grade": false,
     "grade_id": "clean_up_md",
     "locked": true,
     "solution": false
    }
   },
   "source": [
    "## Cleaning Up"
   ]
  },
  {
   "cell_type": "code",
   "execution_count": 19,
   "metadata": {
    "collapsed": true,
    "deletable": false,
    "nbgrader": {
     "checksum": "a6e57035c40a00d555f6c2adab812664",
     "grade": false,
     "grade_id": "clean_up",
     "locked": true,
     "solution": false
    }
   },
   "outputs": [],
   "source": [
    "!rm -rf /home/data_scientist/w4p1_dir/"
   ]
  },
  {
   "cell_type": "code",
   "execution_count": null,
   "metadata": {
    "collapsed": true
   },
   "outputs": [],
   "source": []
  }
 ],
 "metadata": {
  "kernelspec": {
   "display_name": "Python 3",
   "language": "python",
   "name": "python3"
  },
  "language_info": {
   "codemirror_mode": {
    "name": "ipython",
    "version": 3
   },
   "file_extension": ".py",
   "mimetype": "text/x-python",
   "name": "python",
   "nbconvert_exporter": "python",
   "pygments_lexer": "ipython3",
   "version": "3.5.2"
  }
 },
 "nbformat": 4,
 "nbformat_minor": 0
}
