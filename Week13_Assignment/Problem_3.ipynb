{
 "cells": [
  {
   "cell_type": "markdown",
   "metadata": {},
   "source": [
    "# Week 13 Problem 3\n",
    "\n",
    "If you are not using the `Assignments` tab on the course JupyterHub server to read this notebook, read [Activating the assignments tab](https://github.com/UI-DataScience/info490-fa16/blob/master/Week2/assignments/README.md).\n",
    "\n",
    "A few things you should keep in mind when working on assignments:\n",
    "\n",
    "1. Make sure you fill in any place that says `YOUR CODE HERE`. Do **not** write your answer in anywhere else other than where it says `YOUR CODE HERE`. Anything you write anywhere else will be removed or overwritten by the autograder.\n",
    "\n",
    "2. Before you submit your assignment, make sure everything runs as expected. Go to menubar, select _Kernel_, and restart the kernel and run all cells (_Restart & Run all_).\n",
    "\n",
    "3. Do not change the title (i.e. file name) of this notebook.\n",
    "\n",
    "4. Make sure that you save your work (in the menubar, select _File_ → _Save and CheckPoint_)\n",
    "\n",
    "5. You are allowed to submit an assignment multiple times, but only the most recent submission will be graded.\n",
    "\n",
    "## Problem 1. Classes and Methods.\n",
    "\n",
    "In the first part of this week's assignment, we will create a class named `OneFlight` that represents a row in the `2001-1.csv` file (`/home/data_scientist/data/2001/2001-1.csv`)."
   ]
  },
  {
   "cell_type": "code",
   "execution_count": 1,
   "metadata": {
    "collapsed": false,
    "deletable": false,
    "nbgrader": {
     "checksum": "647aaf064dc50a577f77fe2b9a2e156d",
     "grade": false,
     "grade_id": "import",
     "locked": true,
     "solution": false
    }
   },
   "outputs": [],
   "source": [
    "import numpy as np\n",
    "import pandas as pd\n",
    "from nose.tools import assert_equal"
   ]
  },
  {
   "cell_type": "code",
   "execution_count": 2,
   "metadata": {
    "collapsed": true,
    "deletable": false,
    "nbgrader": {
     "checksum": "e286deaef4f344974f192b42bcbf12f1",
     "grade": false,
     "grade_id": "csv_path",
     "locked": true,
     "solution": false
    }
   },
   "outputs": [],
   "source": [
    "CSV_PATH = \"/home/data_scientist/data/2001/2001-1.csv\" # do NOT edit this path"
   ]
  },
  {
   "cell_type": "markdown",
   "metadata": {},
   "source": [
    "We will import only the necessary columns of 2001-1.csv, and drop the missing values with `dropna()`."
   ]
  },
  {
   "cell_type": "code",
   "execution_count": 3,
   "metadata": {
    "collapsed": false,
    "deletable": false,
    "nbgrader": {
     "checksum": "d61add2e18f67013089ea29a56d498bb",
     "grade": false,
     "grade_id": "read_csv",
     "locked": true,
     "solution": false
    }
   },
   "outputs": [],
   "source": [
    "columns=[\"Year\", \"Month\", \"DayofMonth\", \"DepTime\", \"ArrTime\", \"Origin\", \"Dest\"]\n",
    "df = pd.read_csv(CSV_PATH, encoding=\"latin-1\", usecols=columns)\n",
    "df = df.dropna().reset_index(drop=True)"
   ]
  },
  {
   "cell_type": "markdown",
   "metadata": {},
   "source": [
    "In the following code cell, create a class named `OneFlight` that represents a row of `2001.csv`. Before you begin, be sure to read the rest of this notebook to see the examples and understand the big picture.\n",
    "\n",
    "In the `OneFlight` class, you should\n",
    "\n",
    "- Write an `__init__` method that initializes `OneFlight.data` to an empty `pandas.Series`,\n",
    "- Write a method named `read_line(df, n)` that imports the `n`-th row of the dataframe `df` and stores it in the attribute `OneFlight.data`,\n",
    "- Write a `__str__` method so that a print statement displays a string representation of `OneFlight`.\n",
    "\n",
    "See the documentation and the examples below for details."
   ]
  },
  {
   "cell_type": "code",
   "execution_count": 4,
   "metadata": {
    "collapsed": false,
    "deletable": false,
    "nbgrader": {
     "checksum": "584f0f4bfc18040eedbb02d8c04f0993",
     "grade": false,
     "grade_id": "oneflight_answer",
     "locked": false,
     "solution": true
    }
   },
   "outputs": [],
   "source": [
    "class OneFlight(object):\n",
    "    '''\n",
    "    Represents a row (one flight) from an airline on-time performance csv file.\n",
    "    \n",
    "    Attributes\n",
    "    ----------\n",
    "    data: A Pandas Series. If the series is not empty, it has the following labels:\n",
    "          \"Year\", \"Month\", \"DayofMonth\", \"DepTime\", \"ArrTime\", \"Origin\", \"Dest\"\n",
    "         \n",
    "    Methods\n",
    "    -------\n",
    "    __init__: Constructor.\n",
    "    __str__: A string representation of the class.\n",
    "    read_line(df, n): Imports the n-th row of a Pandas data frame.\n",
    "    '''\n",
    "    \n",
    "    def __init__(self):\n",
    "        '''\n",
    "        Initializes the OneFlight class.\n",
    "        \n",
    "        Input parameters\n",
    "        ----------------\n",
    "        None\n",
    "        \n",
    "        Attributes\n",
    "        ----------\n",
    "        OneFlight.data (pandas.Series): set to an empty Series.\n",
    "        '''\n",
    "        \n",
    "        # YOUR CODE HERE\n",
    "        # set the attribute OneFlight.data to an empty Series.\n",
    "        self.data = pd.Series()\n",
    "        \n",
    "    def __str__(self):\n",
    "        '''\n",
    "        Returns a string representation of the OneFlight class.\n",
    "        Your string should have the exact format as the example below.\n",
    "        \n",
    "        Example\n",
    "        -------\n",
    "        >>> flight = OneFlight()\n",
    "        >>> print(flight)\n",
    "        Date: 1/17/2001\n",
    "        Departed from BWI at 18:06.\n",
    "        Arrived at CLT at 19:31.\n",
    "        '''\n",
    "        \n",
    "        # YOUR CODE HERE\n",
    "        # Returns a string representation of the OneFlight class.\n",
    "        res = []\n",
    "        # The first line\n",
    "        res.append('Date: {}/{}/{}'.format(self.data['Month'],self.data['DayofMonth'],self.data['Year']))\n",
    "        # The second line\n",
    "        res.append('Departed from {} at {}:{}.'.format(self.data['Origin'],str(self.data['DepTime'])[:2],str(self.data['DepTime'])[2:4]))\n",
    "        # The third line\n",
    "        res.append('Arrived at {} at {}:{}.'.format(self.data['Dest'],str(self.data['ArrTime'])[:2],str(self.data['ArrTime'])[2:4]))\n",
    "        return '\\n'.join(res)\n",
    "    \n",
    "    def read_line(self, df, n):\n",
    "        '''\n",
    "        Takes a Pandas data frame and an integer \"n\", reads the n-th row of the data frame,\n",
    "        and assigns it to the \"data\" attribute of the OneFlight class.\n",
    "        \n",
    "        Parameters\n",
    "        ----------\n",
    "        df: A Pandas.DataFrame.\n",
    "        n: An integer.\n",
    "        \n",
    "        Returns\n",
    "        -------\n",
    "        None\n",
    "        '''\n",
    "        \n",
    "        # YOUR CODE HERE\n",
    "        # Assigns the n-th row of the data frame to the \"data\" attribute of the OneFlight class.\n",
    "        self.data = df.iloc[n]"
   ]
  },
  {
   "cell_type": "markdown",
   "metadata": {},
   "source": [
    "We begin by creating a `OneFlight` object."
   ]
  },
  {
   "cell_type": "code",
   "execution_count": 5,
   "metadata": {
    "collapsed": false,
    "deletable": false,
    "nbgrader": {
     "checksum": "6094827785c620002aacab6548238e14",
     "grade": false,
     "grade_id": "oneflight_declare",
     "locked": true,
     "solution": false
    }
   },
   "outputs": [],
   "source": [
    "flight0 = OneFlight()"
   ]
  },
  {
   "cell_type": "markdown",
   "metadata": {},
   "source": [
    "All we have done is create an empty object, and we defined our constructor (i.e., the `init` method) so that the `data` attribute is initialized to an empty `Pandas.Series` object, so the following code cell should print out\n",
    "\n",
    "```python\n",
    ">>> print(flight0.data)\n",
    "```\n",
    "\n",
    "```\n",
    "Series([], dtype: float64)\n",
    "```"
   ]
  },
  {
   "cell_type": "code",
   "execution_count": 6,
   "metadata": {
    "collapsed": false,
    "deletable": false,
    "nbgrader": {
     "checksum": "f52c8a29f1a09d3f35c57d8db081091e",
     "grade": false,
     "grade_id": "print_flight0_data",
     "locked": true,
     "solution": false
    }
   },
   "outputs": [
    {
     "name": "stdout",
     "output_type": "stream",
     "text": [
      "Series([], dtype: float64)\n"
     ]
    }
   ],
   "source": [
    "print(flight0.data)"
   ]
  },
  {
   "cell_type": "markdown",
   "metadata": {},
   "source": [
    "For the instructor's grades, assignments are autograded. The autograder will use the assert statement to check if the attributes are initialized properly."
   ]
  },
  {
   "cell_type": "code",
   "execution_count": 7,
   "metadata": {
    "collapsed": false,
    "deletable": false,
    "nbgrader": {
     "checksum": "5dd895dfcfd9baa795c605c5fb969d73",
     "grade": true,
     "grade_id": "flight0_data",
     "locked": true,
     "points": 3,
     "solution": false
    }
   },
   "outputs": [],
   "source": [
    "assert_equal(flight0.data.equals(pd.Series()), True)"
   ]
  },
  {
   "cell_type": "markdown",
   "metadata": {},
   "source": [
    "Now, let's check the `read_line()` method by importing the first row of the `2001.csv` file. We used `pandas.read_csv()` to import `2001.csv` so we should get\n",
    "\n",
    "```python\n",
    ">>> flight0.read_line(df, 0)\n",
    ">>> print(flight0.data)\n",
    "```\n",
    "\n",
    "```\n",
    "Year          2001\n",
    "Month            1\n",
    "DayofMonth      17\n",
    "DepTime       1806\n",
    "ArrTime       1931\n",
    "Origin         BWI\n",
    "Dest           CLT\n",
    "Name: 0, dtype: object\n",
    "```"
   ]
  },
  {
   "cell_type": "code",
   "execution_count": 8,
   "metadata": {
    "collapsed": false,
    "deletable": false,
    "nbgrader": {
     "checksum": "68027bad2bc8ccc4ed8c9f05a287ecb3",
     "grade": false,
     "grade_id": "flight0_read_line",
     "locked": true,
     "solution": false
    }
   },
   "outputs": [
    {
     "name": "stdout",
     "output_type": "stream",
     "text": [
      "Year          2001\n",
      "Month            1\n",
      "DayofMonth      17\n",
      "DepTime       1806\n",
      "ArrTime       1931\n",
      "Origin         BWI\n",
      "Dest           CLT\n",
      "Name: 0, dtype: object\n"
     ]
    }
   ],
   "source": [
    "flight0.read_line(df, 0)\n",
    "print(flight0.data)"
   ]
  },
  {
   "cell_type": "markdown",
   "metadata": {},
   "source": [
    "The autograder will check the assert statements."
   ]
  },
  {
   "cell_type": "code",
   "execution_count": 9,
   "metadata": {
    "collapsed": false,
    "deletable": false,
    "nbgrader": {
     "checksum": "c850aff0829578e9e1e6fbdc83dd3493",
     "grade": true,
     "grade_id": "flight0_read_line_test",
     "locked": true,
     "points": 3,
     "solution": false
    }
   },
   "outputs": [],
   "source": [
    "assert_equal(flight0.read_line(df, 0), None)\n",
    "\n",
    "assert_equal(flight0.data[\"Year\"], 2001)\n",
    "assert_equal(flight0.data[\"Month\"], 1)\n",
    "assert_equal(flight0.data[\"DayofMonth\"], 17)\n",
    "assert_equal(flight0.data[\"DepTime\"], 1806)\n",
    "assert_equal(flight0.data[\"ArrTime\"], 1931)\n",
    "assert_equal(flight0.data[\"Origin\"], \"BWI\")\n",
    "assert_equal(flight0.data[\"Dest\"], \"CLT\")"
   ]
  },
  {
   "cell_type": "markdown",
   "metadata": {},
   "source": [
    "Let's check one more instance."
   ]
  },
  {
   "cell_type": "code",
   "execution_count": 10,
   "metadata": {
    "collapsed": true,
    "deletable": false,
    "nbgrader": {
     "checksum": "82e03d6e5c76376e44ca92e3a5422534",
     "grade": false,
     "grade_id": "flight1_declare",
     "locked": true,
     "solution": false
    }
   },
   "outputs": [],
   "source": [
    "flight1 = OneFlight()"
   ]
  },
  {
   "cell_type": "code",
   "execution_count": 11,
   "metadata": {
    "collapsed": false,
    "deletable": false,
    "nbgrader": {
     "checksum": "02ee954aec52016a78332d1280dabe4c",
     "grade": true,
     "grade_id": "flight1_data_test",
     "locked": true,
     "points": 3,
     "solution": false
    }
   },
   "outputs": [],
   "source": [
    "assert_equal(flight1.data.equals(pd.Series()), True)"
   ]
  },
  {
   "cell_type": "code",
   "execution_count": 12,
   "metadata": {
    "collapsed": false,
    "deletable": false,
    "nbgrader": {
     "checksum": "fd56a87069ed3c0ebf4613c7b61fceba",
     "grade": false,
     "grade_id": "flight1_read_line",
     "locked": true,
     "solution": false
    }
   },
   "outputs": [
    {
     "name": "stdout",
     "output_type": "stream",
     "text": [
      "Year          2001\n",
      "Month            1\n",
      "DayofMonth       2\n",
      "DepTime       1402\n",
      "ArrTime       1505\n",
      "Origin         PIT\n",
      "Dest           AVP\n",
      "Name: 1000, dtype: object\n"
     ]
    }
   ],
   "source": [
    "flight1.read_line(df, 1000)\n",
    "print(flight1.data)"
   ]
  },
  {
   "cell_type": "code",
   "execution_count": 13,
   "metadata": {
    "collapsed": false,
    "deletable": false,
    "nbgrader": {
     "checksum": "c83ecd57ccbe11829de463dacee60964",
     "grade": true,
     "grade_id": "flight1_tests",
     "locked": true,
     "points": 3,
     "solution": false
    }
   },
   "outputs": [],
   "source": [
    "assert_equal(flight1.read_line(df, 1000), None)\n",
    "\n",
    "assert_equal(flight1.data[\"Year\"], 2001)\n",
    "assert_equal(flight1.data[\"Month\"], 1)\n",
    "assert_equal(flight1.data[\"DayofMonth\"], 2)\n",
    "assert_equal(flight1.data[\"DepTime\"], 1402)\n",
    "assert_equal(flight1.data[\"ArrTime\"], 1505)\n",
    "assert_equal(flight1.data[\"Origin\"], \"PIT\")\n",
    "assert_equal(flight1.data[\"Dest\"], \"AVP\")"
   ]
  },
  {
   "cell_type": "markdown",
   "metadata": {},
   "source": [
    "We also defined a string represention of `OneFlight`, so a simple print statement will print out a detailed information about the flight.\n",
    "\n",
    "```python\n",
    ">>> print(flight0)\n",
    "```\n",
    "\n",
    "```\n",
    "Date: 1/17/2001\n",
    "Departed from BWI at 18:06.\n",
    "Arrived at CLT at 19:31.\n",
    "```\n",
    "\n",
    "```python\n",
    ">>> print(flight1)\n",
    "```\n",
    "\n",
    "```\n",
    "Date: 1/2/2001\n",
    "Departed from PIT at 14:02.\n",
    "Arrived at AVP at 15:05.\n",
    "```\n",
    "\n",
    "The print statement will be graded automatically, so you need to reproduce this **exact format**. Note that the string representation of the class is a string of three lines, so you need to use \"`\\n`\" to indicate new lines in the string. Also note that we represent `DepTime` and `ArrTime` in the format of \"`hh:mm`\", which you can get by applying simple string operations. Instead of combining substrings using \"`+`\", I suggest you to use [string formatting](https://pyformat.info) so that you can insert variables in a long string. For example, \n",
    "\n",
    "```python\n",
    "a = 9\n",
    "b = 4\n",
    "string = '{} is larger than {}.'.format(a, b)\n",
    "```\n",
    "\n",
    "makes a long string \"`9 is larger than 4.`\""
   ]
  },
  {
   "cell_type": "code",
   "execution_count": 14,
   "metadata": {
    "collapsed": false,
    "deletable": false,
    "nbgrader": {
     "checksum": "ffd269812d09c2514cd5501e8f244b09",
     "grade": false,
     "grade_id": "flight0_print",
     "locked": true,
     "points": 5,
     "solution": false
    }
   },
   "outputs": [
    {
     "name": "stdout",
     "output_type": "stream",
     "text": [
      "Date: 1/17/2001\n",
      "Departed from BWI at 18:06.\n",
      "Arrived at CLT at 19:31.\n"
     ]
    }
   ],
   "source": [
    "print(flight0)"
   ]
  },
  {
   "cell_type": "code",
   "execution_count": 15,
   "metadata": {
    "collapsed": false,
    "deletable": false,
    "nbgrader": {
     "checksum": "4eb20f15744f5527f49238bc15f75bd2",
     "grade": false,
     "grade_id": "flight1_print",
     "locked": true,
     "points": 5,
     "solution": false
    }
   },
   "outputs": [
    {
     "name": "stdout",
     "output_type": "stream",
     "text": [
      "Date: 1/2/2001\n",
      "Departed from PIT at 14:02.\n",
      "Arrived at AVP at 15:05.\n"
     ]
    }
   ],
   "source": [
    "print(flight1)"
   ]
  },
  {
   "cell_type": "markdown",
   "metadata": {},
   "source": [
    "To pass the assertion test, you need to make sure your strings are exactly the same as the answers below. Make sure you do not have extra spaces or missing spaces.  "
   ]
  },
  {
   "cell_type": "code",
   "execution_count": 16,
   "metadata": {
    "collapsed": false,
    "deletable": false,
    "nbgrader": {
     "checksum": "3f7b299aede45ab2e220e49310fb2e5c",
     "grade": true,
     "grade_id": "flight1_str",
     "locked": true,
     "points": 3,
     "solution": false
    }
   },
   "outputs": [],
   "source": [
    "assert_equal(str(flight0), 'Date: 1/17/2001\\nDeparted from BWI at 18:06.\\nArrived at CLT at 19:31.')\n",
    "assert_equal(str(flight1), 'Date: 1/2/2001\\nDeparted from PIT at 14:02.\\nArrived at AVP at 15:05.')"
   ]
  },
  {
   "cell_type": "markdown",
   "metadata": {},
   "source": [
    "## Problem 2. Inheritance.\n",
    "\n",
    "In the second part of this week's assignment, we will create a child class `AnotherFlight` inherited from `OneFlight`:\n",
    "\n",
    "```python\n",
    "class AnotherFlight(OneFlight):\n",
    "    ...\n",
    "```\n",
    "\n",
    "In the `AnotherFlight` class, you should\n",
    "\n",
    "- Override the `__init__` method so that it accepts an optional argument `data`,\n",
    "- Write a method named `get_airtime()` that computes the difference between `DepTime` and `ArrTime` in minutes, and\n",
    "- Write a method named `__lt__` (which stands for \"less than\") that compares the flight time of two `AnotherFlight` objects.\n",
    "- *Hint: To avoid repeating codes, you could call `get_airtime()` method inside the `__lt__` method.*\n",
    "\n",
    "See the documentation and the examples below for details."
   ]
  },
  {
   "cell_type": "code",
   "execution_count": 17,
   "metadata": {
    "collapsed": true,
    "deletable": false,
    "nbgrader": {
     "checksum": "65efb9628bec439086cd66890377555d",
     "grade": false,
     "grade_id": "anotherflight_answer",
     "locked": false,
     "solution": true
    }
   },
   "outputs": [],
   "source": [
    "class AnotherFlight(OneFlight):\n",
    "    '''\n",
    "    Inherits from OneFlight.\n",
    "    Represents a row (one flight) from an airline performance csv file.\n",
    "    \n",
    "    Attributes\n",
    "    ----------\n",
    "    data: A Pandas Series with the following labels:\n",
    "          \"Year\", \"Month\", \"DayofMonth\", \"DepTime\", \"ArrTime\", \"Origin\", \"Dest\"\n",
    "    \n",
    "    Methods\n",
    "    -------\n",
    "    __init__: Constructor. Optionally accepts a dictionary.\n",
    "    __lt__: Overrides the < (less than) operator to compare the air times of two AnotherFlight objects.\n",
    "    get_airtime(): Returns the flight time (the difference betwen \"DepTime\" and \"ArrTime\") in minutes.\n",
    "    '''\n",
    "    \n",
    "    def __init__(self, data=None):\n",
    "        '''\n",
    "        Initializes the AnotherFlight class.\n",
    "        \n",
    "        Input parameters\n",
    "        ----------------\n",
    "        data (dict): Optional.\n",
    "                     If the argument \"data\" is not None,\n",
    "                     AnotherFlight.data is built from this dictionary.\n",
    "        \n",
    "        Attributes\n",
    "        ----------\n",
    "        AnotherFlight.data: A pandas.Series).\n",
    "                            Set to an empty pandas.Series if there's no argument.\n",
    "                            If the optional parameter \"data\" is a dictionary,\n",
    "                            the constructor uses the dictionary to create a\n",
    "                            pandas.Series.\n",
    "        '''\n",
    "        \n",
    "        # YOUR CODE HERE\n",
    "        # If the argument \"data\" is not None, AnotherFlight.data is built from this dictionary.\n",
    "        if data != None:\n",
    "            self.data = pd.Series(data)\n",
    "        # else, set AnotherFlight.data to be an empty pandas.Series\n",
    "        else:\n",
    "            self.data = pd.Series()\n",
    "    \n",
    "    def get_airtime(self):\n",
    "        '''\n",
    "        Returns the flight time in minutes, where air time = ArrTime - DepTime.\n",
    "        For example, if DepTime == 1820 and ArrTime == 1710, get_airtime() returns 70\n",
    "        because 1820 is 6:20 pm and 1710 is 5:10 pm and the difference is 70 minutes.\n",
    "        \n",
    "        Parameters\n",
    "        ----------\n",
    "        None\n",
    "        \n",
    "        Returns\n",
    "        -------\n",
    "        An int.\n",
    "        '''\n",
    "        \n",
    "        # YOUR CODE HERE\n",
    "        arrtime = self.data['ArrTime']\n",
    "        deptime = self.data['DepTime']\n",
    "        # Change time to minutes\n",
    "        arrtime = arrtime // 100 * 60 + arrtime % 100\n",
    "        deptime = deptime // 100 * 60 + deptime % 100\n",
    "        return (arrtime - deptime)\n",
    "    \n",
    "    def __lt__(self, other):\n",
    "        '''\n",
    "        Returns true if the air time of \"self\" is strictly less than the air time of \"other\".\n",
    "        Returns false if the air time of \"self\" is greater than or equal to \"other\".\n",
    "        '''\n",
    "        \n",
    "        # YOUR CODE HERE\n",
    "        # Returns true if the air time of \"self\" is strictly less than the air time of \"other\"\n",
    "        return self.get_airtime() < other.get_airtime()"
   ]
  },
  {
   "cell_type": "markdown",
   "metadata": {},
   "source": [
    "Let's create an `AnotherFlight` object, first without using the optional argument `data`."
   ]
  },
  {
   "cell_type": "code",
   "execution_count": 18,
   "metadata": {
    "collapsed": false,
    "deletable": false,
    "nbgrader": {
     "checksum": "66ef45afc6057e4e53dea10f08c06e0a",
     "grade": false,
     "grade_id": "flight2_declare",
     "locked": true,
     "solution": false
    }
   },
   "outputs": [
    {
     "name": "stdout",
     "output_type": "stream",
     "text": [
      "Series([], dtype: float64)\n"
     ]
    }
   ],
   "source": [
    "flight2 = AnotherFlight()\n",
    "print(flight2.data)"
   ]
  },
  {
   "cell_type": "code",
   "execution_count": 19,
   "metadata": {
    "collapsed": false,
    "deletable": false,
    "nbgrader": {
     "checksum": "3171e6f05d114ca4a7aaad205e969d4a",
     "grade": false,
     "grade_id": "flight2_test",
     "locked": true,
     "points": 0,
     "solution": false
    }
   },
   "outputs": [],
   "source": [
    "assert_equal(flight2.data.equals(pd.Series()), True)"
   ]
  },
  {
   "cell_type": "markdown",
   "metadata": {},
   "source": [
    "Since `AnotherFlight` inherits from `OneFlight`, the `read_line()` and `__str__` methods of `OneFlight` are also available in its child `AnotherFlight`:"
   ]
  },
  {
   "cell_type": "code",
   "execution_count": 20,
   "metadata": {
    "collapsed": false,
    "deletable": false,
    "nbgrader": {
     "checksum": "08974de81f9ac63244b52243daab2d86",
     "grade": false,
     "grade_id": "flight2_read_line",
     "locked": true,
     "solution": false
    }
   },
   "outputs": [
    {
     "name": "stdout",
     "output_type": "stream",
     "text": [
      "Date: 1/17/2001\n",
      "Departed from BWI at 18:06.\n",
      "Arrived at CLT at 19:31.\n"
     ]
    }
   ],
   "source": [
    "flight2.read_line(df, 0)\n",
    "print(flight2)"
   ]
  },
  {
   "cell_type": "code",
   "execution_count": 21,
   "metadata": {
    "collapsed": true,
    "deletable": false,
    "nbgrader": {
     "checksum": "09b8a2f73ef5a39c714fe278a15b69cc",
     "grade": false,
     "grade_id": "flight2_tests",
     "locked": true,
     "points": 0,
     "solution": false
    }
   },
   "outputs": [],
   "source": [
    "assert_equal(flight2.data[\"Year\"], 2001)\n",
    "assert_equal(flight2.data[\"Month\"], 1)\n",
    "assert_equal(flight2.data[\"DayofMonth\"], 17)\n",
    "assert_equal(flight2.data[\"DepTime\"], 1806)\n",
    "assert_equal(flight2.data[\"ArrTime\"], 1931)\n",
    "assert_equal(flight2.data[\"Origin\"], \"BWI\")\n",
    "assert_equal(flight2.data[\"Dest\"], \"CLT\")\n",
    "assert_equal(str(flight2), 'Date: 1/17/2001\\nDeparted from BWI at 18:06.\\nArrived at CLT at 19:31.')"
   ]
  },
  {
   "cell_type": "markdown",
   "metadata": {},
   "source": [
    "Since the `__init__` method of `AnotherFlight` has been overridden to accept an optional argument `data`, we can also use a dictionary to create an object:\n",
    "\n",
    "```python\n",
    ">>> flight3_data = df.iloc[1000].to_dict()\n",
    ">>> print(type(flight3_data))\n",
    "```\n",
    "```\n",
    "<class 'dict'>\n",
    "```\n",
    "\n",
    "```python\n",
    ">>> print(flight3_data)\n",
    "```\n",
    "```\n",
    "{'Month': 1, 'DepTime': 1402.0, 'Origin': 'PIT', 'Dest': 'AVP', 'ArrTime': 1505.0, 'DayofMonth': 2, 'Year': 2001}\n",
    "```\n",
    "\n",
    "```python\n",
    ">>> flight3 = AnotherFlight(flight3_data)\n",
    ">>> print(flight3)\n",
    "```\n",
    "\n",
    "```\n",
    "Date: 1/2/2001\n",
    "Departed from PIT at 14:02.\n",
    "Arrived at AVP at 15:05.\n",
    "```"
   ]
  },
  {
   "cell_type": "code",
   "execution_count": 22,
   "metadata": {
    "collapsed": false,
    "deletable": false,
    "nbgrader": {
     "checksum": "b2b9d358fa3c269b3b6d6b44a86e5beb",
     "grade": false,
     "grade_id": "flight3_data",
     "locked": true,
     "solution": false
    }
   },
   "outputs": [
    {
     "name": "stdout",
     "output_type": "stream",
     "text": [
      "<class 'dict'>\n",
      "{'Dest': 'AVP', 'Origin': 'PIT', 'Month': 1, 'DayofMonth': 2, 'ArrTime': 1505.0, 'DepTime': 1402.0, 'Year': 2001}\n"
     ]
    }
   ],
   "source": [
    "flight3_data = df.iloc[1000].to_dict()\n",
    "print(type(flight3_data))\n",
    "print(flight3_data)"
   ]
  },
  {
   "cell_type": "code",
   "execution_count": 23,
   "metadata": {
    "collapsed": false,
    "deletable": false,
    "nbgrader": {
     "checksum": "da3e0e55a792225702dbe5c8d2ad599b",
     "grade": false,
     "grade_id": "flight3_declare",
     "locked": true,
     "solution": false
    }
   },
   "outputs": [
    {
     "name": "stdout",
     "output_type": "stream",
     "text": [
      "Date: 1/2/2001\n",
      "Departed from PIT at 14:02.\n",
      "Arrived at AVP at 15:05.\n"
     ]
    }
   ],
   "source": [
    "flight3 = AnotherFlight(flight3_data)\n",
    "print(flight3)"
   ]
  },
  {
   "cell_type": "code",
   "execution_count": 24,
   "metadata": {
    "collapsed": false,
    "deletable": false,
    "nbgrader": {
     "checksum": "14e428fc34c7409e9b0470ec465f8e66",
     "grade": true,
     "grade_id": "anotherflight_init_test",
     "locked": true,
     "points": 5,
     "solution": false
    }
   },
   "outputs": [],
   "source": [
    "assert_equal(flight3.data[\"Year\"], 2001)\n",
    "assert_equal(flight3.data[\"Month\"], 1)\n",
    "assert_equal(flight3.data[\"DayofMonth\"], 2)\n",
    "assert_equal(flight3.data[\"DepTime\"], 1402)\n",
    "assert_equal(flight3.data[\"ArrTime\"], 1505)\n",
    "assert_equal(flight3.data[\"Origin\"], \"PIT\")\n",
    "assert_equal(flight3.data[\"Dest\"], \"AVP\")\n",
    "assert_equal(str(flight3), 'Date: 1/2/2001\\nDeparted from PIT at 14:02.\\nArrived at AVP at 15:05.')\n",
    "\n",
    "# some more tests\n",
    "flight4 = AnotherFlight({\n",
    "    'Year': 2001,\n",
    "    'Month': 1,\n",
    "    'DayofMonth': 28,\n",
    "    'DepTime': 1813.0,\n",
    "    'ArrTime': 1846.0,\n",
    "    'Origin': 'GSO',\n",
    "    'Dest': 'CLT'\n",
    "})\n",
    "\n",
    "assert_equal(flight4.data[\"Year\"], 2001)\n",
    "assert_equal(flight4.data[\"Month\"], 1)\n",
    "assert_equal(flight4.data[\"DayofMonth\"], 28)\n",
    "assert_equal(flight4.data[\"DepTime\"], 1813)\n",
    "assert_equal(flight4.data[\"ArrTime\"], 1846)\n",
    "assert_equal(flight4.data[\"Origin\"], \"GSO\")\n",
    "assert_equal(flight4.data[\"Dest\"], \"CLT\")\n",
    "assert_equal(str(flight4), 'Date: 1/28/2001\\nDeparted from GSO at 18:13.\\nArrived at CLT at 18:46.')\n",
    "\n",
    "flight5 = AnotherFlight({\n",
    "    'Year': 2001,\n",
    "    'Month': 1,\n",
    "    'DayofMonth': 28,\n",
    "    'DepTime': 1331.0,\n",
    "    'ArrTime': 1524.0,\n",
    "    'Origin': 'PHL',\n",
    "    'Dest': 'DTW'\n",
    "})\n",
    "\n",
    "assert_equal(flight5.data[\"Year\"], 2001)\n",
    "assert_equal(flight5.data[\"Month\"], 1)\n",
    "assert_equal(flight5.data[\"DayofMonth\"], 28)\n",
    "assert_equal(flight5.data[\"DepTime\"], 1331)\n",
    "assert_equal(flight5.data[\"ArrTime\"], 1524)\n",
    "assert_equal(flight5.data[\"Origin\"], \"PHL\")\n",
    "assert_equal(flight5.data[\"Dest\"], \"DTW\")\n",
    "assert_equal(str(flight5), 'Date: 1/28/2001\\nDeparted from PHL at 13:31.\\nArrived at DTW at 15:24.')"
   ]
  },
  {
   "cell_type": "markdown",
   "metadata": {},
   "source": [
    "Now let's test the `get_airtime()` method. `flight2` departed at 18:06 and arrived at 19:31, so the difference is 1 hour and 25 minutes or 85 minutes. `flight3` departed at 14:02 and arrived at 15:05, so the difference is 1 hour and 3 minutes or 63 minutes. "
   ]
  },
  {
   "cell_type": "code",
   "execution_count": 25,
   "metadata": {
    "collapsed": false,
    "deletable": false,
    "nbgrader": {
     "checksum": "7e0a336dad50a6f7f1a559ab5bbb0609",
     "grade": false,
     "grade_id": "get_airtime_print",
     "locked": true,
     "solution": false
    }
   },
   "outputs": [
    {
     "name": "stdout",
     "output_type": "stream",
     "text": [
      "85.0\n",
      "63.0\n"
     ]
    }
   ],
   "source": [
    "print(flight2.get_airtime())\n",
    "print(flight3.get_airtime())"
   ]
  },
  {
   "cell_type": "code",
   "execution_count": 26,
   "metadata": {
    "collapsed": false,
    "deletable": false,
    "nbgrader": {
     "checksum": "f66706d52a4cf5e4681900acd5b52daa",
     "grade": true,
     "grade_id": "get_airtime_test",
     "locked": true,
     "points": 5,
     "solution": false
    }
   },
   "outputs": [],
   "source": [
    "assert_equal(flight2.get_airtime(), 85)\n",
    "assert_equal(flight3.get_airtime(), 63)\n",
    "\n",
    "# some more tests\n",
    "assert_equal(flight4.get_airtime(), 33)\n",
    "assert_equal(flight5.get_airtime(), 113)"
   ]
  },
  {
   "cell_type": "markdown",
   "metadata": {},
   "source": [
    "Finally, we check the less than operator. "
   ]
  },
  {
   "cell_type": "code",
   "execution_count": 27,
   "metadata": {
    "collapsed": false,
    "deletable": false,
    "nbgrader": {
     "checksum": "c52ac5f1d3bac5379a980c0fe00bac65",
     "grade": false,
     "grade_id": "print_less_than",
     "locked": true,
     "solution": false
    }
   },
   "outputs": [
    {
     "name": "stdout",
     "output_type": "stream",
     "text": [
      "False\n"
     ]
    }
   ],
   "source": [
    "print(flight2 < flight3)"
   ]
  },
  {
   "cell_type": "code",
   "execution_count": 28,
   "metadata": {
    "collapsed": false,
    "deletable": false,
    "nbgrader": {
     "checksum": "9010184b2068ab7d98aa4ed222e961a3",
     "grade": false,
     "grade_id": "print_greater_than",
     "locked": true,
     "solution": false
    }
   },
   "outputs": [
    {
     "name": "stdout",
     "output_type": "stream",
     "text": [
      "True\n"
     ]
    }
   ],
   "source": [
    "print(flight3 < flight2)"
   ]
  },
  {
   "cell_type": "code",
   "execution_count": 29,
   "metadata": {
    "collapsed": false,
    "deletable": false,
    "nbgrader": {
     "checksum": "7e041b68cdbcaa6680bffe5b788af971",
     "grade": true,
     "grade_id": "less_than_test",
     "locked": true,
     "points": 5,
     "solution": false
    }
   },
   "outputs": [],
   "source": [
    "assert_equal(flight2 < flight3, False)\n",
    "assert_equal(flight3 < flight2, True) \n",
    "assert_equal(flight2 == flight3, False)\n",
    "\n",
    "# some more tests\n",
    "assert_equal(flight4 < flight5, True)\n",
    "assert_equal(flight5 < flight4, False) \n",
    "assert_equal(flight4 == flight5, False)"
   ]
  },
  {
   "cell_type": "code",
   "execution_count": null,
   "metadata": {
    "collapsed": true
   },
   "outputs": [],
   "source": []
  }
 ],
 "metadata": {
  "kernelspec": {
   "display_name": "Python 3",
   "language": "python",
   "name": "python3"
  },
  "language_info": {
   "codemirror_mode": {
    "name": "ipython",
    "version": 3
   },
   "file_extension": ".py",
   "mimetype": "text/x-python",
   "name": "python",
   "nbconvert_exporter": "python",
   "pygments_lexer": "ipython3",
   "version": "3.5.2"
  }
 },
 "nbformat": 4,
 "nbformat_minor": 0
}
