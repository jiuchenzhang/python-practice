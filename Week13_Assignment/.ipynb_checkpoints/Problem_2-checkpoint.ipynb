{
 "cells": [
  {
   "cell_type": "markdown",
   "metadata": {
    "deletable": false,
    "nbgrader": {
     "checksum": "ea4f8c6bbd9523dd851b8d39a0bc44be",
     "grade": false,
     "grade_id": "header",
     "locked": true,
     "solution": false
    }
   },
   "source": [
    "# Week 13 Problem 2\n",
    "\n",
    "If you are not using the `Assignments` tab on the course JupyterHub server to read this notebook, read [Activating the assignments tab](https://github.com/UI-DataScience/info490-fa16/blob/master/Week2/assignments/README.md).\n",
    "\n",
    "A few things you should keep in mind when working on assignments:\n",
    "\n",
    "1. Make sure you fill in any place that says `YOUR CODE HERE`. Do **not** write your answer in anywhere else other than where it says `YOUR CODE HERE`. Anything you write anywhere else will be removed or overwritten by the autograder.\n",
    "\n",
    "2. Before you submit your assignment, make sure everything runs as expected. Go to menubar, select _Kernel_, and restart the kernel and run all cells (_Restart & Run all_).\n",
    "\n",
    "3. Do not change the title (i.e. file name) of this notebook.\n",
    "\n",
    "4. Make sure that you save your work (in the menubar, select _File_ → _Save and CheckPoint_)\n",
    "\n",
    "5. You are allowed to submit an assignment multiple times, but only the most recent submission will be graded."
   ]
  },
  {
   "cell_type": "code",
   "execution_count": 1,
   "metadata": {
    "collapsed": true,
    "deletable": false,
    "nbgrader": {
     "checksum": "f41f3e133f7eab1a6b85fed8da9860bf",
     "grade": false,
     "grade_id": "import_nose",
     "locked": true,
     "solution": false
    }
   },
   "outputs": [],
   "source": [
    "from nose.tools import assert_equal"
   ]
  },
  {
   "cell_type": "markdown",
   "metadata": {
    "deletable": false,
    "nbgrader": {
     "checksum": "2d3cf8f48ea5422edc18ef5e44b0543a",
     "grade": false,
     "grade_id": "p1_title",
     "locked": true,
     "solution": false
    }
   },
   "source": [
    "# Problem 1.\n",
    "\n",
    "This week, we will be focusing on Object Oriented Programming.  To do this, you will get some more experience with creating a class, as well as creating a few pure functions and modifiers.  So without further ado, let's start by creating a class called \"Weather\".  This class will have three attributes: temperature (called \"temp\"), the cumulative precipitation measured in inches (called \"in\"), and the cumuluative precipitation in feet (called \"ft\").\n",
    "\n",
    "A couple things that should be noted as you work through this assignment: \n",
    "\n",
    "- You should not have more than 12 inches in 'in' at a time.  Thus, 56 inches should be converted to: ft=4 , in=8\n",
    "- The temperature can be either in celcius or in fahrenheit\n",
    "- You MUST properly document everything, ESPECIALLY your class (you must have the docstring body!!)\n",
    "\n",
    "In the following cell, create your class called Weather."
   ]
  },
  {
   "cell_type": "code",
   "execution_count": 2,
   "metadata": {
    "collapsed": false,
    "deletable": false,
    "nbgrader": {
     "checksum": "ef2181b50e1bbfbe4440470259ae19a5",
     "grade": false,
     "grade_id": "p1_answer",
     "locked": false,
     "solution": true
    }
   },
   "outputs": [],
   "source": [
    "# YOUR CODE HERE\n",
    "class Weather:\n",
    "    \"\"\"\n",
    "    A class for representing weather\n",
    "    \n",
    "    Parameters\n",
    "    ----------\n",
    "    temp: temperature;\n",
    "    in: the cumulative precipitation measured in inches;\n",
    "    ft: the cumuluative precipitation in feet \n",
    "    \"\"\"\n",
    "    def __init__(self, temp = 0, inch = 0, ft = 0):\n",
    "        # create an attribute for temperature\n",
    "        self.temp = temp\n",
    "        # create an attribute for the cumulative precipitation measured in inches\n",
    "        self.inch = inch\n",
    "        # create an attribute for the cumulative precipitation measured in feet\n",
    "        self.ft = ft"
   ]
  },
  {
   "cell_type": "markdown",
   "metadata": {
    "deletable": false,
    "nbgrader": {
     "checksum": "c231ee9941c136294b820afa57840429",
     "grade": false,
     "grade_id": "p2_title",
     "locked": true,
     "solution": false
    }
   },
   "source": [
    "# Problem 2.\n",
    "\n",
    "Now that you have made your class, lets create a pure function: let's create a function that allows us to see what is contained within a Weather object.  Your function should return output in this format:\n",
    "\n",
    "(inch, ft, temp)\n",
    "\n",
    "So, if you have a weather object with 4 ft and 8 inches of precipitation over a year, with a temperature of 56, your function should return the data EXACTLY like this:\n",
    "\n",
    "(8, 4, 56)"
   ]
  },
  {
   "cell_type": "code",
   "execution_count": 3,
   "metadata": {
    "collapsed": false,
    "deletable": false,
    "nbgrader": {
     "checksum": "0b7a0e26bccfd954807db45e181ffba0",
     "grade": false,
     "grade_id": "p2_answer",
     "locked": false,
     "solution": true
    }
   },
   "outputs": [],
   "source": [
    "def return_Weather(w):\n",
    "    '''\n",
    "    Takes a Weather object and returns the data contained within as a tuple\n",
    "    \n",
    "    Parameters\n",
    "    ----------\n",
    "    w: a weather object\n",
    "    \n",
    "    Returns\n",
    "    -------\n",
    "    a tuple\n",
    "    '''\n",
    "    # YOUR CODE HERE\n",
    "    # return a tuple of data contained in a Weather object\n",
    "    return (w.inch, w.ft, w.temp)"
   ]
  },
  {
   "cell_type": "code",
   "execution_count": 4,
   "metadata": {
    "collapsed": false,
    "deletable": false,
    "nbgrader": {
     "checksum": "bf02a0edc8805d99bcef517c57d3ef4d",
     "grade": true,
     "grade_id": "markdown_2",
     "locked": true,
     "points": 5,
     "solution": false
    }
   },
   "outputs": [],
   "source": [
    "urbana = Weather()\n",
    "urbana.inch = 3\n",
    "urbana.ft = 4\n",
    "urbana.temp = 48\n",
    "\n",
    "assert_equal(return_Weather(urbana), (3, 4, 48))\n",
    "\n",
    "amazon = Weather()\n",
    "amazon.inch = 7\n",
    "amazon.ft = 9\n",
    "amazon.temp = 87\n",
    "\n",
    "assert_equal(return_Weather(amazon), (7, 9, 87))"
   ]
  },
  {
   "cell_type": "markdown",
   "metadata": {
    "deletable": false,
    "nbgrader": {
     "checksum": "3ad1612bbefdead86af972b8a10be53c",
     "grade": false,
     "grade_id": "p3_title",
     "locked": true,
     "solution": false
    }
   },
   "source": [
    "# Problem 3.\n",
    "\n",
    "Now, we need to make a function that will modify a Weather object so that the \"inch\" attribute is not 12 or more inches, and if there are 12 or more inches, the appropriate number of feet are added to the \"ft\" attribute.  For example, your function should be able take the following Weather object (presented here by return_Weather).\n",
    "\n",
    "(15, 4, 56)\n",
    "\n",
    "And transform it to this:\n",
    "\n",
    "(3, 5, 56)\n",
    "\n",
    "Another example of such a transformation is this:\n",
    "(32, 1, 56) -> (8, 3, 56)"
   ]
  },
  {
   "cell_type": "code",
   "execution_count": 5,
   "metadata": {
    "collapsed": true,
    "deletable": false,
    "nbgrader": {
     "checksum": "45e02d76ac0a7d1a6f20f7e12a54c5d0",
     "grade": false,
     "grade_id": "markdown_1",
     "locked": false,
     "solution": true
    }
   },
   "outputs": [],
   "source": [
    "def fix_inch(w):\n",
    "    '''\n",
    "    Takes a weather object and changes the \"inch\" attribute so that it does\n",
    "    not contain 12 or more inches in it, modifying the \"ft\" attribute in the \n",
    "    process.  It then returns the weather object.\n",
    "    \n",
    "    Parameters\n",
    "    ----------\n",
    "    a Weather object\n",
    "    \n",
    "    Returns\n",
    "    -------\n",
    "    a Weather object\n",
    "    '''\n",
    "    # YOUR CODE HERE\n",
    "    # If w.inch contains 12 or more inches\n",
    "    if w.inch >= 12:\n",
    "        # add proper amount to w.ft\n",
    "        w.ft = w.ft + w.inch // 12\n",
    "        # modify w.inch\n",
    "        w.inch = w.inch % 12\n",
    "    return w\n"
   ]
  },
  {
   "cell_type": "code",
   "execution_count": 6,
   "metadata": {
    "collapsed": false,
    "deletable": false,
    "nbgrader": {
     "checksum": "b47b3a6c6ecd8a0815cd2bb2a01c4a5a",
     "grade": true,
     "grade_id": "markdown_3",
     "locked": true,
     "points": 10,
     "solution": false
    }
   },
   "outputs": [],
   "source": [
    "champaign = Weather()\n",
    "champaign.inch = 40\n",
    "champaign.ft = 4\n",
    "champaign.temp = 48\n",
    "assert_equal(return_Weather(fix_inch(champaign)), (4, 7, 48))\n",
    "\n",
    "athens = Weather()\n",
    "athens.inch = 32\n",
    "athens.ft = 1\n",
    "athens.temp = 56\n",
    "assert_equal(return_Weather(fix_inch(athens)), (8, 3, 56))"
   ]
  },
  {
   "cell_type": "markdown",
   "metadata": {
    "collapsed": false,
    "deletable": false,
    "nbgrader": {
     "checksum": "8e203ca81e9bb4a2f59d9efef99ea612",
     "grade": false,
     "grade_id": "cube_test",
     "locked": true,
     "points": 10,
     "solution": false
    }
   },
   "source": [
    "# Problem 4.\n",
    "\n",
    "Finally, we will create a code that will allow us to change the amount of feet and inches of cumulative precipitation, as well as let us modify the temperature of our Weather object.  Please note that you might want to use fix_inch from above to help you with the formatting of your inches and feet."
   ]
  },
  {
   "cell_type": "code",
   "execution_count": 7,
   "metadata": {
    "collapsed": true,
    "deletable": false,
    "nbgrader": {
     "checksum": "67fb43a25c3f4caf90283332b8e3a5ca",
     "grade": false,
     "grade_id": "add_change",
     "locked": false,
     "solution": true
    }
   },
   "outputs": [],
   "source": [
    "def add_dat(w, inch, feet, temp):\n",
    "    '''\n",
    "    Adds inches and feet to a weather object, and changes the temperature of the \n",
    "    weather object to a new temperature.\n",
    "    \n",
    "    Parameters\n",
    "    ----------\n",
    "    w: a weather object\n",
    "    inch: an integer\n",
    "    feet: an integer\n",
    "    temp: an integer\n",
    "    \n",
    "    Returns\n",
    "    -------\n",
    "    A Weather object\n",
    "    '''\n",
    "    # YOUR CODE HERE\n",
    "    # Adds inches and feet to the weather object\n",
    "    w.inch = w.inch + inch\n",
    "    w.ft = w.ft + feet\n",
    "    # changes the temperature of the weather object to a new temperature.\n",
    "    w.temp = temp\n",
    "    # fix the inch\n",
    "    fix_inch(w)\n",
    "    return w"
   ]
  },
  {
   "cell_type": "code",
   "execution_count": 8,
   "metadata": {
    "collapsed": false,
    "deletable": false,
    "nbgrader": {
     "checksum": "4f69f712d6c19ed474f61609657cbedf",
     "grade": true,
     "grade_id": "add_change_test",
     "locked": true,
     "points": 10,
     "solution": false
    }
   },
   "outputs": [],
   "source": [
    "assert_equal(return_Weather(add_dat(athens, 1, 0, 57)), (9, 3, 57))\n",
    "assert_equal(return_Weather(add_dat(urbana, 7, 1, 48)), (10, 5, 48))\n",
    "assert_equal(return_Weather(add_dat(amazon, 13, 0, 101)), (8, 10, 101))\n",
    "assert_equal(return_Weather(add_dat(champaign, 6, 0, 0)), (10, 7, 0))"
   ]
  },
  {
   "cell_type": "code",
   "execution_count": null,
   "metadata": {
    "collapsed": true
   },
   "outputs": [],
   "source": []
  }
 ],
 "metadata": {
  "kernelspec": {
   "display_name": "Python 3",
   "language": "python",
   "name": "python3"
  },
  "language_info": {
   "codemirror_mode": {
    "name": "ipython",
    "version": 3
   },
   "file_extension": ".py",
   "mimetype": "text/x-python",
   "name": "python",
   "nbconvert_exporter": "python",
   "pygments_lexer": "ipython3",
   "version": "3.5.2"
  }
 },
 "nbformat": 4,
 "nbformat_minor": 0
}
