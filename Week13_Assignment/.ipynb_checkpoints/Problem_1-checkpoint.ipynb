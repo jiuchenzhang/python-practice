{
 "cells": [
  {
   "cell_type": "code",
   "execution_count": 1,
   "metadata": {
    "collapsed": true,
    "deletable": false,
    "nbgrader": {
     "checksum": "e79cd5c0eb8905a6ff3d246f630d2ba9",
     "grade": false,
     "grade_id": "mpl",
     "locked": true,
     "solution": false
    }
   },
   "outputs": [],
   "source": [
    "%matplotlib inline"
   ]
  },
  {
   "cell_type": "markdown",
   "metadata": {
    "deletable": false,
    "nbgrader": {
     "checksum": "cb3ceb8f36554ab0f5abb97eb70e230d",
     "grade": false,
     "grade_id": "header",
     "locked": true,
     "solution": false
    }
   },
   "source": [
    "# Week 13 Problem 1\n",
    "\n",
    "If you are not using the `Assignments` tab on the course JupyterHub server to read this notebook, read [Activating the assignments tab](https://github.com/UI-DataScience/info490-fa16/blob/master/Week2/assignments/README.md).\n",
    "\n",
    "A few things you should keep in mind when working on assignments:\n",
    "\n",
    "1. Make sure you fill in any place that says `YOUR CODE HERE`. Do **not** write your answer in anywhere else other than where it says `YOUR CODE HERE`. Anything you write anywhere else will be removed or overwritten by the autograder.\n",
    "\n",
    "2. Before you submit your assignment, make sure everything runs as expected. Go to menubar, select _Kernel_, and restart the kernel and run all cells (_Restart & Run all_).\n",
    "\n",
    "3. Do not change the title (i.e. file name) of this notebook.\n",
    "\n",
    "4. Make sure that you save your work (in the menubar, select _File_ → _Save and CheckPoint_)\n",
    "\n",
    "5. You are allowed to submit an assignment multiple times, but only the most recent submission will be graded."
   ]
  },
  {
   "cell_type": "code",
   "execution_count": 2,
   "metadata": {
    "collapsed": true,
    "deletable": false,
    "nbgrader": {
     "checksum": "366714832184a80d8ebbef5155b651d9",
     "grade": false,
     "grade_id": "import_nose",
     "locked": true,
     "solution": false
    }
   },
   "outputs": [],
   "source": [
    "from nose.tools import assert_equal, assert_almost_equal\n",
    "import numpy as np\n",
    "import matplotlib.pyplot as plt"
   ]
  },
  {
   "cell_type": "markdown",
   "metadata": {
    "deletable": false,
    "nbgrader": {
     "checksum": "27337ea9402018608986793e27bdb147",
     "grade": false,
     "grade_id": "info1",
     "locked": true,
     "solution": false
    }
   },
   "source": [
    "For this assignment you'll learn how to create a Python class. Most class definitions start with an `__init__` method. This is a special method that is always run when a class is instantiated. One thing you might find peculiar about creating a method within a class is that the `self` argument is always necessary. This special argument allows you to access the class's attributes from within a method. In fact, it is thought of as an instance of the class itself. In addition, the `__init__` method is where you place arguments that the class itself will take. For more reading on classes, methods, and `__init__`, see [this article](https://en.wikibooks.org/wiki/A_Beginner%27s_Python_Tutorial/Classes)\n",
    "\n",
    "Here is an example of a class called `Robot` with an `__init__` method that takes the obligatory `self` argument as well as a `name` argument."
   ]
  },
  {
   "cell_type": "code",
   "execution_count": 3,
   "metadata": {
    "collapsed": true,
    "deletable": false,
    "nbgrader": {
     "checksum": "3e137b5bfa50cb8d1af2b7495deac356",
     "grade": false,
     "grade_id": "info2",
     "locked": true,
     "solution": false
    }
   },
   "outputs": [],
   "source": [
    "class Robot:\n",
    "    \n",
    "    \"\"\"\n",
    "    A class for representing a robot\n",
    "    \n",
    "    Parameters\n",
    "    ----------\n",
    "    name : string, a name for the Robot\n",
    "    \n",
    "    \"\"\"\n",
    "    \n",
    "    def __init__(self, name):\n",
    "        \n",
    "        # assign the name to self\n",
    "        self.name = name\n",
    "        # create an attribute for the length of the name\n",
    "        self.letters_in_name = len(name)\n",
    "        # create an attribute for demonstration\n",
    "        first_letter = name[0]\n",
    "        \n",
    "    def print_info(self):\n",
    "        \n",
    "        \"\"\"\n",
    "        Prints the Robot's name an number of letters\n",
    "        \"\"\"\n",
    "        # create the message and assign as attribute\n",
    "        self.message = (\"This robot's name is {0}. \"\n",
    "                        \"It has {1} letters in its name\"\n",
    "                        ).format(self.name, self.letters_in_name)\n",
    "        # print the message\n",
    "        print(self.message)\n",
    "        "
   ]
  },
  {
   "cell_type": "markdown",
   "metadata": {
    "deletable": false,
    "nbgrader": {
     "checksum": "9a1128cbf81c23b8c27522b059b4fe1d",
     "grade": false,
     "grade_id": "info3",
     "locked": true,
     "solution": false
    }
   },
   "source": [
    "Notice how by assigning the argument `name` to `self.name`, we were able to access it inside the `print_info` method. Also notice how it is possible to create new attributes from within `__init__` or any other method. First let's intentionally create some errors to demonstrate some key points."
   ]
  },
  {
   "cell_type": "code",
   "execution_count": 4,
   "metadata": {
    "collapsed": false,
    "deletable": false,
    "nbgrader": {
     "checksum": "d80d279e33ce37b02737fa283cf45a3b",
     "grade": false,
     "grade_id": "info4",
     "locked": true,
     "solution": false
    }
   },
   "outputs": [
    {
     "name": "stdout",
     "output_type": "stream",
     "text": [
      "__init__() missing 1 required positional argument: 'name'\n"
     ]
    }
   ],
   "source": [
    "# call Robot() without argument\n",
    "try:\n",
    "    Robot()\n",
    "# print the error\n",
    "except TypeError as e:\n",
    "    print(e)"
   ]
  },
  {
   "cell_type": "markdown",
   "metadata": {
    "deletable": false,
    "nbgrader": {
     "checksum": "a7125388c8e0c0e6ec73da82658b2570",
     "grade": false,
     "grade_id": "info5",
     "locked": true,
     "solution": false
    }
   },
   "source": [
    "The code above tries to call the newly made class and catches and prints the inevitable error. Notice how `Robot`'s `__init__` method only expects to take one argument, `name`. That's because `self` is passed to each method implicitly. In other words, when you are trying to define the arguments your class will take, remember to include self as the first argument."
   ]
  },
  {
   "cell_type": "code",
   "execution_count": 5,
   "metadata": {
    "collapsed": false,
    "deletable": false,
    "nbgrader": {
     "checksum": "395df1b1b206a6313c7fd7c54f5aff49",
     "grade": false,
     "grade_id": "info6",
     "locked": true,
     "solution": false
    }
   },
   "outputs": [
    {
     "name": "stdout",
     "output_type": "stream",
     "text": [
      "'Robot' object has no attribute 'first_letter'\n"
     ]
    }
   ],
   "source": [
    "# get an instance of the class\n",
    "x = Robot(\"Andrew\")\n",
    "# try to access an attribute defined locally within __init__\n",
    "try:\n",
    "    x.first_letter\n",
    "# print the error\n",
    "except AttributeError as e:\n",
    "    print(e)"
   ]
  },
  {
   "cell_type": "markdown",
   "metadata": {
    "deletable": false,
    "nbgrader": {
     "checksum": "c6b94da4fbac6cddc6462c1c45a54099",
     "grade": false,
     "grade_id": "info7",
     "locked": true,
     "solution": false
    }
   },
   "source": [
    "We defined `first_letter` within `__init__` but it is not accessible as an attribute. Why? Because we never assigned it to `self`! Like any other function, variables defined within it are only accessible from within it. `self` is a vehicle for moving attributes between methods as well as making them accessible from outside the confines of the class.\n",
    "\n",
    "Try to understand what is happening in the code below. It is critical to understand this in order to complete all the assignments this week and, more importantly, understand Python classes."
   ]
  },
  {
   "cell_type": "code",
   "execution_count": 6,
   "metadata": {
    "collapsed": false,
    "deletable": false,
    "nbgrader": {
     "checksum": "f949741b788a6dcad3a30d9ca62cc290",
     "grade": false,
     "grade_id": "info8",
     "locked": true,
     "solution": false
    }
   },
   "outputs": [
    {
     "name": "stdout",
     "output_type": "stream",
     "text": [
      "This robot's name is Andrew. It has 6 letters in its name\n"
     ]
    }
   ],
   "source": [
    "# instantiate the class and call the print_info() method\n",
    "x = Robot('Andrew')\n",
    "x.print_info()"
   ]
  },
  {
   "cell_type": "code",
   "execution_count": 7,
   "metadata": {
    "collapsed": false,
    "deletable": false,
    "nbgrader": {
     "checksum": "c65720e18370a8af8a673df19c503964",
     "grade": false,
     "grade_id": "info9",
     "locked": true,
     "solution": false
    }
   },
   "outputs": [
    {
     "name": "stdout",
     "output_type": "stream",
     "text": [
      "The name attribute is            : Andrew\n",
      "The letters_in_name attribute is : 6\n",
      "The message attribute is         : This robot's name is Andrew. It has 6 letters in its name\n"
     ]
    }
   ],
   "source": [
    "print(\"The name attribute is            :\", x.name)\n",
    "print(\"The letters_in_name attribute is :\", x.letters_in_name)\n",
    "print(\"The message attribute is         :\", x.message)"
   ]
  },
  {
   "cell_type": "code",
   "execution_count": 8,
   "metadata": {
    "collapsed": false,
    "deletable": false,
    "nbgrader": {
     "checksum": "0e3cfe9866a1bef2b083c1edb0f21e6a",
     "grade": false,
     "grade_id": "info10",
     "locked": true,
     "solution": false
    }
   },
   "outputs": [
    {
     "data": {
      "text/plain": [
       "{'letters_in_name': 6,\n",
       " 'message': \"This robot's name is Andrew. It has 6 letters in its name\",\n",
       " 'name': 'Andrew'}"
      ]
     },
     "execution_count": 8,
     "metadata": {},
     "output_type": "execute_result"
    }
   ],
   "source": [
    "# all the attributes in the instance\n",
    "x.__dict__"
   ]
  },
  {
   "cell_type": "code",
   "execution_count": 9,
   "metadata": {
    "collapsed": false,
    "deletable": false,
    "nbgrader": {
     "checksum": "e96866ebbaa197449db50886a397b070",
     "grade": false,
     "grade_id": "info11",
     "locked": true,
     "solution": false
    }
   },
   "outputs": [
    {
     "name": "stdout",
     "output_type": "stream",
     "text": [
      "This robot's name is Info. It has 4 letters in its name\n"
     ]
    },
    {
     "data": {
      "text/plain": [
       "{'letters_in_name': 4,\n",
       " 'message': \"This robot's name is Info. It has 4 letters in its name\",\n",
       " 'name': 'Info'}"
      ]
     },
     "execution_count": 9,
     "metadata": {},
     "output_type": "execute_result"
    }
   ],
   "source": [
    "# now get a different instance of the class. It will have different attributes\n",
    "y = Robot(\"Info\")\n",
    "y.print_info()\n",
    "y.__dict__"
   ]
  },
  {
   "cell_type": "markdown",
   "metadata": {
    "deletable": false,
    "nbgrader": {
     "checksum": "4fc6be8d4fe2300711c9f1ddb8df392e",
     "grade": false,
     "grade_id": "p1_title",
     "locked": true,
     "solution": false
    }
   },
   "source": [
    "# Problem 1.\n",
    "\n",
    "For this problem you will create a simple class called `Circle` that takes one argument, the circle's radius, and creates three attributes:\n",
    "\n",
    "* `radius`, the radius of the circle\n",
    "* `diameter`, the diameter of the circle\n",
    "* `area`, the area of the circle\n",
    "\n",
    "Note in the unit tests how I create a couple instances of the class and ensure that the attributes are there and return the correct values. You'll want to put all your attribute creation and assignment within an `__init__` method. That is the only method this class needs, but you can create more if you like."
   ]
  },
  {
   "cell_type": "code",
   "execution_count": 10,
   "metadata": {
    "collapsed": true,
    "deletable": false,
    "nbgrader": {
     "checksum": "db3521fb40ee6d84031e737d64f0aa3d",
     "grade": false,
     "grade_id": "p1_answer",
     "locked": false,
     "solution": true
    }
   },
   "outputs": [],
   "source": [
    "#YOUR CODE HERE\n",
    "class Circle:\n",
    "    \n",
    "    \"\"\"\n",
    "    A class for representing a circle\n",
    "    \n",
    "    Parameters\n",
    "    ----------\n",
    "    radius: the circle's radius\n",
    "    \n",
    "    \"\"\"\n",
    "    def __init__(self, radius):\n",
    "        \n",
    "        # assign the radius to itself\n",
    "        self.radius = radius\n",
    "        # create an attribute for diameter\n",
    "        self.diameter = 2 * radius\n",
    "        # create an attribute for area\n",
    "        self.area = 3.141592653589793 * radius * radius\n",
    "        \n"
   ]
  },
  {
   "cell_type": "code",
   "execution_count": 11,
   "metadata": {
    "collapsed": false,
    "deletable": false,
    "nbgrader": {
     "checksum": "24cb95948be5b6324d02dd395e452a29",
     "grade": true,
     "grade_id": "p1_test",
     "locked": true,
     "points": 10,
     "solution": false
    }
   },
   "outputs": [],
   "source": [
    "# test one instance\n",
    "a = Circle(1)\n",
    "assert_equal(a.radius, 1)\n",
    "assert_equal(a.diameter, 2)\n",
    "assert_almost_equal(a.area, 3.141592653589793, places=5)\n",
    "# test another\n",
    "b = Circle(1.5)\n",
    "assert_equal(b.radius, 1.5)\n",
    "assert_equal(b.diameter, 3)\n",
    "assert_almost_equal(b.area, 7.0685834705770345, places=5)"
   ]
  },
  {
   "cell_type": "markdown",
   "metadata": {
    "deletable": false,
    "nbgrader": {
     "checksum": "23b0d81294153cf328ff98688ab253cc",
     "grade": false,
     "grade_id": "p2_title",
     "locked": true,
     "solution": false
    }
   },
   "source": [
    "# Problem 2.\n",
    "\n",
    "Now create another version of your circle class called `Circle2` but this time add a `plot` method that takes two arguments `xlim` and `ylim`, both two-element lists. They will be the x-limits and y-limits of the plot. Center the circle at (0,0).\n",
    "\n",
    "You may rewrite your `__init__` in your new class, but it would be more Pythonic to [inherit it](https://docs.python.org/2/tutorial/classes.html#inheritance) from your `Circle` class. Here is a rough outline of the `plot` method:\n",
    "\n",
    "```\n",
    "def plot( # arguments ):\n",
    "    \n",
    "    fig, ax = # the usual function\n",
    "    \n",
    "    c = plt.Circle(# different arguments)\n",
    "    \n",
    "    ax.add_patch(c)\n",
    "    \n",
    "    # set x limit\n",
    "    # set y limit\n",
    "    \n",
    "    return ax\n",
    "    \n",
    "```\n",
    "\n",
    "Since I'm giving you some of the code, I'll leave understanding how to implement it within `Circle2` up to you. This means understanding the format of the `xlim` and `ylim` arguments."
   ]
  },
  {
   "cell_type": "code",
   "execution_count": 12,
   "metadata": {
    "collapsed": false,
    "deletable": false,
    "nbgrader": {
     "checksum": "60c6f2a9ed35a2dc261e8bb772cb1995",
     "grade": false,
     "grade_id": "p2_answer",
     "locked": false,
     "solution": true
    }
   },
   "outputs": [],
   "source": [
    "#YOUR CODE HERE\n",
    "class Circle2(Circle):\n",
    "    \n",
    "    \"\"\"\n",
    "    A new class for representing a circle\n",
    "    \n",
    "    Parameters\n",
    "    ----------\n",
    "    radius: the circle's radius\n",
    "    \n",
    "    \"\"\"\n",
    "    def plot(self, xlim, ylim):\n",
    "        \n",
    "        fig, ax = plt.subplots()\n",
    "        # plot the circle\n",
    "        c = plt.Circle((0,0), self.radius)\n",
    "        # add it to the plot\n",
    "        ax.add_patch(c)\n",
    "        # set x limit\n",
    "        ax.set_xlim(xlim)\n",
    "        # set y limit\n",
    "        ax.set_ylim(ylim)\n",
    "        return ax"
   ]
  },
  {
   "cell_type": "code",
   "execution_count": 13,
   "metadata": {
    "collapsed": false,
    "deletable": false,
    "nbgrader": {
     "checksum": "bbeb51d0422e9a06ed817a130f41d2d1",
     "grade": true,
     "grade_id": "p2_test",
     "locked": true,
     "points": 15,
     "solution": false
    }
   },
   "outputs": [],
   "source": [
    "# test one case\n",
    "r = 2; xl=[-3,3]; yl=[-3,3];\n",
    "c = Circle2(r)\n",
    "x = c.plot(xl, yl)\n",
    "d = x.patches[0]\n",
    "assert_equal(d.center, (0,0))\n",
    "assert_equal(d.radius, r)\n",
    "assert_equal(x.get_xlim(), tuple(xl))\n",
    "assert_equal(x.get_ylim(), tuple(yl))\n",
    "assert_equal(c.radius, r)\n",
    "assert_equal(c.diameter, 4)\n",
    "assert_almost_equal(c.area, 12.566370614359172, places=5)\n",
    "plt.close()\n",
    "\n",
    "# test another\n",
    "r = 4; xl=[-4,4]; yl=[-4,4];\n",
    "c = Circle2(r)\n",
    "x = c.plot(xl, yl)\n",
    "d = x.patches[0]\n",
    "assert_equal(d.center, (0,0))\n",
    "assert_equal(d.radius, r)\n",
    "assert_equal(x.get_xlim(), tuple(xl))\n",
    "assert_equal(x.get_ylim(), tuple(yl))\n",
    "assert_equal(c.radius, r)\n",
    "assert_equal(c.diameter, 8)\n",
    "assert_almost_equal(c.area, 50.26548245743669, places=5)\n",
    "plt.close()"
   ]
  },
  {
   "cell_type": "code",
   "execution_count": null,
   "metadata": {
    "collapsed": true,
    "deletable": false,
    "nbgrader": {
     "checksum": "013275a83c83ed15efe64de5bd9cd187",
     "grade": false,
     "grade_id": "burner1",
     "locked": true,
     "solution": false
    }
   },
   "outputs": [],
   "source": []
  },
  {
   "cell_type": "code",
   "execution_count": null,
   "metadata": {
    "collapsed": true,
    "deletable": false,
    "nbgrader": {
     "checksum": "668caa21a7d6f412c8320bee087ed522",
     "grade": false,
     "grade_id": "burner2",
     "locked": true,
     "points": 10,
     "solution": false
    }
   },
   "outputs": [],
   "source": []
  },
  {
   "cell_type": "code",
   "execution_count": null,
   "metadata": {
    "collapsed": true
   },
   "outputs": [],
   "source": []
  },
  {
   "cell_type": "code",
   "execution_count": null,
   "metadata": {
    "collapsed": true
   },
   "outputs": [],
   "source": []
  }
 ],
 "metadata": {
  "kernelspec": {
   "display_name": "Python 3",
   "language": "python",
   "name": "python3"
  },
  "language_info": {
   "codemirror_mode": {
    "name": "ipython",
    "version": 3
   },
   "file_extension": ".py",
   "mimetype": "text/x-python",
   "name": "python",
   "nbconvert_exporter": "python",
   "pygments_lexer": "ipython3",
   "version": "3.5.2"
  }
 },
 "nbformat": 4,
 "nbformat_minor": 0
}
