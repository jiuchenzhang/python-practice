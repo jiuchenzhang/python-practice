{
 "cells": [
  {
   "cell_type": "markdown",
   "metadata": {
    "deletable": false,
    "nbgrader": {
     "checksum": "43bbd32fcf053f1c4071d02023ac6684",
     "grade": false,
     "grade_id": "header",
     "locked": true,
     "solution": false
    }
   },
   "source": [
    "# Week 8 Problem 2\n",
    "\n",
    "If you are not using the `Assignments` tab on the course JupyterHub server to read this notebook, read [Activating the assignments tab](https://github.com/UI-DataScience/info490-fa16/blob/master/Week2/assignments/README.md).\n",
    "\n",
    "A few things you should keep in mind when working on assignments:\n",
    "\n",
    "1. Make sure you fill in any place that says `YOUR CODE HERE`. Do **not** write your answer in anywhere else other than where it says `YOUR CODE HERE`. Anything you write anywhere else will be removed or overwritten by the autograder.\n",
    "\n",
    "2. Before you submit your assignment, make sure everything runs as expected. Go to menubar, select _Kernel_, and restart the kernel and run all cells (_Restart & Run all_).\n",
    "\n",
    "3. Do not change the title (i.e. file name) of this notebook.\n",
    "\n",
    "4. Make sure that you save your work (in the menubar, select _File_ → _Save and CheckPoint_)\n",
    "\n",
    "5. You are allowed to submit an assignment multiple times, but only the most recent submission will be graded."
   ]
  },
  {
   "cell_type": "code",
   "execution_count": 1,
   "metadata": {
    "collapsed": true,
    "deletable": false,
    "nbgrader": {
     "checksum": "7cc9824d7bc53c4c1dd9c9904ee926c6",
     "grade": false,
     "grade_id": "import_nose",
     "locked": true,
     "solution": false
    }
   },
   "outputs": [],
   "source": [
    "import os\n",
    "import numpy as np\n",
    "import pandas as pd\n",
    "from nose.tools import ok_, assert_equal\n",
    "\n",
    "import warnings\n",
    "warnings.filterwarnings(\"ignore\")"
   ]
  },
  {
   "cell_type": "markdown",
   "metadata": {
    "deletable": false,
    "nbgrader": {
     "checksum": "5eaac690a2d24aa4799ab19e3e57858b",
     "grade": false,
     "grade_id": "p1_title",
     "locked": true,
     "solution": false
    }
   },
   "source": [
    "# Problem 1.\n",
    "\n",
    "In the previous weeks, we have seen different ways to read selected columns from the census CSV file and calculate basic statistics. In this problem, we will see how easy it is to perform the same task using Pandas. In particular, we will rewrite get_stats() function from Problem 4.1 and get_column() function from Problem 5.1. Remember, the purpose of this problem is to let you experience how easy it is to make a data table using Pandas. Don't overthink it.\n",
    "\n",
    "## Function: get_column()\n",
    "First, write a function named get_column() that takes a filename (string) and a column name (string), and returns a pandas.DataFrame. Remember that encoding='latin-1'.\n",
    "Another useful tip: if you try to read the entire file, it will take a long time. Read in only one column by specifying the column you wish to read with the usecols option. Therefore, the get_column function should return a DataFrame with only one column.\n",
    "With Pandas, the get_column() function can be written in one line."
   ]
  },
  {
   "cell_type": "code",
   "execution_count": 2,
   "metadata": {
    "collapsed": true,
    "deletable": false,
    "nbgrader": {
     "checksum": "e91ce6129dac1d29cca273e880da5428",
     "grade": false,
     "grade_id": "p1_answer",
     "locked": false,
     "solution": true
    }
   },
   "outputs": [],
   "source": [
    "def get_column(filename, column):\n",
    "    '''\n",
    "    Reads the specified column of airline on-time performance CSV file,\n",
    "    which is in 'latin-1' encoding.\n",
    "    Returns a Pandas DataFrame with only one column.\n",
    "    \n",
    "    Parameters\n",
    "    ----------\n",
    "    filename(str): The file name.\n",
    "    column(str): The column header.\n",
    "    \n",
    "    Returns\n",
    "    -------\n",
    "    A pandas.DataFrame object that has only column.\n",
    "    \n",
    "    Examples\n",
    "    --------\n",
    "    arr_delay = get_column('/home/data_scientist/data/2001.csv', 'ArrDelay')\n",
    "    '''\n",
    "    # YOUR CODE HERE\n",
    "    df = pd.read_csv(filename, encoding='latin1', usecols = [column])\n",
    "    return df\n"
   ]
  },
  {
   "cell_type": "code",
   "execution_count": 3,
   "metadata": {
    "collapsed": false,
    "deletable": false,
    "nbgrader": {
     "checksum": "9530491213d1c6084116d91d8c02459e",
     "grade": true,
     "grade_id": "cube_test",
     "locked": true,
     "points": 10,
     "solution": false
    }
   },
   "outputs": [],
   "source": [
    "csv_with_header = '''\n",
    "Year,Month,DayofMonth,DayOfWeek,DepTime,CRSDepTime,ArrTime,CRSArrTime,UniqueCarrier,FlightNum,TailNum,ActualElapsedTime,CRSElapsedTime,AirTime,ArrDelay,DepDelay,Origin,Dest,Distance,TaxiIn,TaxiOut,Cancelled,CancellationCode,Diverted,CarrierDelay,WeatherDelay,NASDelay,SecurityDelay,LateAircraftDelay\n",
    "2001,1,17,3,1806,1810,1931,1934,US,375,N700äæ,85,84,60,-3,-4,BWI,CLT,361,5,20,0,NA,0,NA,NA,NA,NA,1\n",
    "2001,1,18,4,1805,1810,1938,1934,US,375,N713äæ,93,84,64,4,-5,BWI,CLT,361,9,20,0,NA,0,NA,NA,NA,NA,1\n",
    "2001,1,19,5,1821,1810,1957,1934,US,375,N702äæ,96,84,80,23,11,BWI,CLT,361,6,10,0,NA,0,NA,NA,NA,NA,NA\n",
    "2001,1,20,6,1807,1810,1944,1934,US,375,N701äæ,97,84,66,10,-3,BWI,CLT,361,4,27,0,NA,0,NA,NA,NA,NA,NA\n",
    "'''.strip().encode('latin-1')\n",
    "\n",
    "csv_no_header = '''\n",
    "2001,1,17,3,1806,1810,1931,1934,US,375,N700äæ,85,84,60,-3,-4,BWI,CLT,361,5,20,0,NA,0,NA,NA,NA,NA,1\n",
    "2001,1,18,4,1805,1810,1938,1934,US,375,N713äæ,93,84,64,4,-5,BWI,CLT,361,9,20,0,NA,0,NA,NA,NA,NA,1\n",
    "2001,1,19,5,1821,1810,1957,1934,US,375,N702äæ,96,84,80,23,11,BWI,CLT,361,6,10,0,NA,0,NA,NA,NA,NA,NA\n",
    "2001,1,20,6,1807,1810,1944,1934,US,375,N701äæ,97,84,66,10,-3,BWI,CLT,361,4,27,0,NA,0,NA,NA,NA,NA,NA\n",
    "2001,1,21,7,1810,1810,1954,1934,US,375,N768äæ,104,84,62,20,0,BWI,CLT,361,4,38,0,NA,0,NA,NA,NA,NA,1\n",
    "'''.strip().encode('latin-1')\n",
    "\n",
    "with open('test.header.csv', 'wb') as f:\n",
    "    f.write(csv_with_header)\n",
    "    \n",
    "with open('test.noheader.csv', 'wb') as f:\n",
    "    f.write(csv_no_header)\n",
    "\n",
    "# header cases\n",
    "ok_(\n",
    "    get_column('test.header.csv', 'Year').equals(\n",
    "        pd.DataFrame(data=[2001] * 4, columns=['Year'])\n",
    "    ))\n",
    "ok_(\n",
    "    get_column('test.header.csv', 'DayofMonth').equals(\n",
    "        pd.DataFrame(data=list(range(17, 21)), columns=['DayofMonth'])\n",
    "    ))\n",
    "ok_(\n",
    "    get_column('test.header.csv', 'DepTime').equals(\n",
    "        pd.DataFrame(data=[1806, 1805, 1821, 1807], columns=['DepTime'])\n",
    "    ))\n",
    "ok_(\n",
    "    get_column('test.header.csv', 'SecurityDelay').equals(\n",
    "        pd.DataFrame(data=[np.nan] * 4, columns=['SecurityDelay'])\n",
    "    ))\n",
    "ok_(\n",
    "    get_column('test.header.csv', 'LateAircraftDelay').equals(\n",
    "        pd.DataFrame(data=[1, 1, np.nan, np.nan], columns=['LateAircraftDelay'])\n",
    "    ))\n",
    "\n",
    "# clean up\n",
    "os.remove('test.header.csv')\n",
    "os.remove('test.noheader.csv')\n"
   ]
  },
  {
   "cell_type": "markdown",
   "metadata": {
    "collapsed": true,
    "deletable": false,
    "nbgrader": {
     "checksum": "04811be1af15185f21f6969e5de18c09",
     "grade": false,
     "grade_id": "markdown_2",
     "locked": true,
     "points": 10,
     "solution": false
    }
   },
   "source": [
    "## Function: get_stats()\n",
    "Next, write a function named get_stats() that takes a pandas.DataFrame and a column name (string), and return the minimum, maximum, mean, and median (all floats) of the column."
   ]
  },
  {
   "cell_type": "code",
   "execution_count": 4,
   "metadata": {
    "collapsed": false,
    "deletable": false,
    "nbgrader": {
     "checksum": "40289ad6a491490b58964da06caabea8",
     "grade": false,
     "grade_id": "markdown_1",
     "locked": false,
     "solution": true
    }
   },
   "outputs": [],
   "source": [
    "def get_stats(df, column):\n",
    "    '''\n",
    "    Calculates the mininum, maximum, mean, and median values\n",
    "    of a column from a Pandas DataFrame object.\n",
    "    \n",
    "    Parameters\n",
    "    ----------\n",
    "    df(pandas.DataFrame): A Pandas DataFrame.\n",
    "    column(str): The column header.\n",
    "    \n",
    "    Returns\n",
    "    -------\n",
    "    minimum(float)\n",
    "    maximum(float)\n",
    "    mean(float)\n",
    "    median(float)\n",
    "    '''\n",
    "    # YOUR CODE HERE\n",
    "    # Get the column\n",
    "    dt = df[column]\n",
    "    # Compute the stat\n",
    "    minimum = dt.min()\n",
    "    maximum = dt.max()\n",
    "    mean = dt.mean()\n",
    "    median = dt.median()\n",
    "    return minimum, maximum, mean, median"
   ]
  },
  {
   "cell_type": "code",
   "execution_count": 5,
   "metadata": {
    "collapsed": false,
    "deletable": false,
    "nbgrader": {
     "checksum": "258c96914d70cd57f1ae6e1a2fdc9a78",
     "grade": true,
     "grade_id": "markdown_3",
     "locked": true,
     "points": 15,
     "solution": false
    }
   },
   "outputs": [],
   "source": [
    "import warnings\n",
    "warnings.filterwarnings(\"ignore\")\n",
    "data1 = {\n",
    "    'A': [0, 1, 2, 3, 4],\n",
    "    'B': [1, 2, 3, 4, np.nan], # append NaN since we need same number of elements\n",
    "    'C': [4, 3, 2, 1, 0],\n",
    "    'D': [4, 1, 0, 2, 3]\n",
    "    }\n",
    "df1= pd.DataFrame(data1)\n",
    "\n",
    "assert_equal(get_stats(df1, 'A'), (0, 4, 2, 2))\n",
    "assert_equal(get_stats(df1, 'B'), (1, 4, 2.5, 2.5))\n",
    "assert_equal(get_stats(df1, 'C'), (0, 4, 2, 2))\n",
    "assert_equal(get_stats(df1, 'D'), (0, 4, 2, 2))\n",
    "\n",
    "data2 = {\n",
    "    'E': np.append(np.arange(51), np.nan), # append NaN since we need same number of elements\n",
    "    'F': np.arange(52)\n",
    "}\n",
    "df2 = pd.DataFrame(data2)\n",
    "\n",
    "assert_equal(get_stats(df2, 'E'), (0, 50, 25.0, 25.0))\n",
    "assert_equal(get_stats(df2, 'F'), (0, 51, 25.5, 25.5))\n",
    "\n",
    "# shuffle rows in df2\n",
    "df3 = df2.reindex(np.random.permutation(df2.index))\n",
    "assert_equal(get_stats(df2, 'E'), (0, 50, 25.0, 25.0))\n",
    "assert_equal(get_stats(df2, 'F'), (0, 51, 25.5, 25.5))"
   ]
  },
  {
   "cell_type": "code",
   "execution_count": null,
   "metadata": {
    "collapsed": true
   },
   "outputs": [],
   "source": []
  },
  {
   "cell_type": "code",
   "execution_count": null,
   "metadata": {
    "collapsed": true
   },
   "outputs": [],
   "source": []
  }
 ],
 "metadata": {
  "kernelspec": {
   "display_name": "Python 3",
   "language": "python",
   "name": "python3"
  },
  "language_info": {
   "codemirror_mode": {
    "name": "ipython",
    "version": 3
   },
   "file_extension": ".py",
   "mimetype": "text/x-python",
   "name": "python",
   "nbconvert_exporter": "python",
   "pygments_lexer": "ipython3",
   "version": "3.5.2"
  }
 },
 "nbformat": 4,
 "nbformat_minor": 0
}
