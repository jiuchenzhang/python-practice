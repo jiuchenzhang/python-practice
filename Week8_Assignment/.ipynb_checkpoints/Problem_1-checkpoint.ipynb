{
 "cells": [
  {
   "cell_type": "markdown",
   "metadata": {
    "deletable": false,
    "nbgrader": {
     "checksum": "f79048bf9f36b17ca5f9442ec82ea610",
     "grade": false,
     "grade_id": "header",
     "locked": true,
     "solution": false
    }
   },
   "source": [
    "# Week 8 Problem 1\n",
    "\n",
    "If you are not using the `Assignments` tab on the course JupyterHub server to read this notebook, read [Activating the assignments tab](https://github.com/UI-DataScience/info490-fa16/blob/master/Week2/assignments/README.md).\n",
    "\n",
    "A few things you should keep in mind when working on assignments:\n",
    "\n",
    "1. Make sure you fill in any place that says `YOUR CODE HERE`. Do **not** write your answer in anywhere else other than where it says `YOUR CODE HERE`. Anything you write anywhere else will be removed or overwritten by the autograder.\n",
    "\n",
    "2. Before you submit your assignment, make sure everything runs as expected. Go to menubar, select _Kernel_, and restart the kernel and run all cells (_Restart & Run all_).\n",
    "\n",
    "3. Do not change the title (i.e. file name) of this notebook.\n",
    "\n",
    "4. Make sure that you save your work (in the menubar, select _File_ → _Save and CheckPoint_)\n",
    "\n",
    "5. You are allowed to submit an assignment multiple times, but only the most recent submission will be graded."
   ]
  },
  {
   "cell_type": "code",
   "execution_count": 1,
   "metadata": {
    "collapsed": true,
    "deletable": false,
    "nbgrader": {
     "checksum": "89868cb287e79845432421205cb3e320",
     "grade": false,
     "grade_id": "import_nose",
     "locked": true,
     "solution": false
    }
   },
   "outputs": [],
   "source": [
    "from nose.tools import assert_equal, assert_true\n",
    "from numpy.testing import assert_array_equal, assert_almost_equal\n",
    "import numpy as np"
   ]
  },
  {
   "cell_type": "markdown",
   "metadata": {
    "deletable": false,
    "nbgrader": {
     "checksum": "70249fc44a35529c5dd112f203ce03bf",
     "grade": false,
     "grade_id": "p1_title",
     "locked": true,
     "solution": false
    }
   },
   "source": [
    "# Problem 1.\n",
    "\n",
    "For this problem you will perform a similar analysis to Week 4 Problem 1.3 where you aim to find the Northernmost and Southernmost airports. This time you will work with slightly different data and will not be limited to the state of Illinois. Write a function that returns the names of the northernmost and southernmost airports in a given state as defined by latitude (higher latitude means farther north). Your function will likely need to perform the following:\n",
    "1. Read in latitudes from `/home/data_scientist/data/data.csv`\n",
    "2. Read in airport name and state from `/home/data_scientist/data/data.csv`\n",
    "3. Find the airports with maximal and minimal latitude for the given state\n",
    "4. Returns a numpy array of the form `array(['Northernmost', 'Southernmost'])`\n",
    "\n",
    "You may use any method you with to get the data from csv into NumPy arrays including `np.loadtxt`. If you choose that route, you may run into encoding issues with the strings in the airport and state columns. To get around this, load the data in as `bytes` then convert to `unicode` as such:\n",
    "\n",
    "`my_array = np.loadtxt('file.csv', dtype=bytes).astype(\"U\")`\n",
    "\n",
    "Remember that NumPy arrays are homogeneous so you'll have to load numbers and strings in different arrays (or read numbers in as strings). Finally, pay close attention to the output format. You may have the right answer but the wrong dimensions, string encoding, etc. will cause assert tests to fail and you to lose points."
   ]
  },
  {
   "cell_type": "code",
   "execution_count": 2,
   "metadata": {
    "collapsed": false,
    "deletable": false,
    "nbgrader": {
     "checksum": "3c1f38504003a25b3a3d40b126c18f0f",
     "grade": false,
     "grade_id": "view_data",
     "locked": true,
     "solution": false
    }
   },
   "outputs": [
    {
     "name": "stdout",
     "output_type": "stream",
     "text": [
      "iata|airport|city|state|country|lat|long\r\n",
      "00M|Thigpen |Bay Springs|MS|USA|31.95376472|-89.23450472\r\n",
      "00R|Livingston Municipal|Livingston|TX|USA|30.68586111|-95.01792778\r\n",
      "00V|Meadow Lake|Colorado Springs|CO|USA|38.94574889|-104.5698933\r\n",
      "01G|Perry-Warsaw|Perry|NY|USA|42.74134667|-78.05208056\r\n",
      "01J|Hilliard Airpark|Hilliard|FL|USA|30.6880125|-81.90594389\r\n",
      "01M|Tishomingo County|Belmont|MS|USA|34.49166667|-88.20111111\r\n",
      "02A|Gragg-Wade |Clanton|AL|USA|32.85048667|-86.61145333\r\n",
      "02C|Capitol|Brookfield|WI|USA|43.08751|-88.17786917\r\n",
      "02G|Columbiana County|East Liverpool|OH|USA|40.67331278|-80.64140639\r\n"
     ]
    }
   ],
   "source": [
    "# know thy data!\n",
    "!head /home/data_scientist/data/data.csv"
   ]
  },
  {
   "cell_type": "code",
   "execution_count": 3,
   "metadata": {
    "collapsed": false,
    "deletable": false,
    "nbgrader": {
     "checksum": "db3521fb40ee6d84031e737d64f0aa3d",
     "grade": false,
     "grade_id": "p1_answer",
     "locked": false,
     "solution": true
    }
   },
   "outputs": [],
   "source": [
    "def north_south_airports(state):\n",
    "    \n",
    "    '''\n",
    "    Finds the northernmost and southernmost airports from data.csv\n",
    "    \n",
    "    Parameters\n",
    "    ----------\n",
    "    state: the two-letter state code as given in the data.csv file\n",
    "    \n",
    "    Returns\n",
    "    -------\n",
    "    a 1-d numpy array of the form array(['Northernmost', 'Southernmost'])\n",
    "    '''\n",
    "    \n",
    "    # YOUR CODE HERE\n",
    "    # Load data\n",
    "    data = np.loadtxt('/home/data_scientist/data/data.csv', delimiter = '|', dtype=bytes, skiprows = 1).astype(\"U\")\n",
    "    # Extract state, airport and latitude\n",
    "    collat = np.array([float(row[5]) for row in data])\n",
    "    colstate = np.array([row[3] for row in data])\n",
    "    colairport = np.array([row[1] for row in data])\n",
    "    # Select state\n",
    "    mask_state = (colstate == state)\n",
    "    mask_lat = collat[mask_state]\n",
    "    # Extract the northest and southest airport\n",
    "    northest = mask_lat.max()\n",
    "    southest = mask_lat.min()\n",
    "    result = np.hstack([colairport[collat == northest],colairport[collat == southest]])\n",
    "    return result"
   ]
  },
  {
   "cell_type": "code",
   "execution_count": 4,
   "metadata": {
    "collapsed": false,
    "deletable": false,
    "nbgrader": {
     "checksum": "4af4b7350ca010a27a5ba0c43aaff2d8",
     "grade": false,
     "grade_id": "check_p1",
     "locked": true,
     "solution": false
    }
   },
   "outputs": [
    {
     "data": {
      "text/plain": [
       "array(['Waukegan Regional', 'Cairo'], \n",
       "      dtype='<U41')"
      ]
     },
     "execution_count": 4,
     "metadata": {},
     "output_type": "execute_result"
    }
   ],
   "source": [
    "# Output should be something like (don't worry too much about dtype):\n",
    "# array(['Waukegan Regional', 'Cairo'], dtype='<U17')\n",
    "north_south_airports('IL')"
   ]
  },
  {
   "cell_type": "code",
   "execution_count": 5,
   "metadata": {
    "collapsed": false,
    "deletable": false,
    "nbgrader": {
     "checksum": "3e0992effba55ec47602b6237b22fc53",
     "grade": false,
     "grade_id": "also_check_p1",
     "locked": true,
     "solution": false
    }
   },
   "outputs": [
    {
     "data": {
      "text/plain": [
       "array(['Princeville', 'Hilo International'], \n",
       "      dtype='<U41')"
      ]
     },
     "execution_count": 5,
     "metadata": {},
     "output_type": "execute_result"
    }
   ],
   "source": [
    "# Output should be something like (don't worry too much about dtype):\n",
    "# array(['Princeville', 'Hilo International'], dtype='<U18')\n",
    "north_south_airports('HI')"
   ]
  },
  {
   "cell_type": "code",
   "execution_count": 6,
   "metadata": {
    "collapsed": false,
    "deletable": false,
    "nbgrader": {
     "checksum": "7eee6fa5346aab574c8e21b7025cf3f5",
     "grade": true,
     "grade_id": "p1_test",
     "locked": true,
     "points": 10,
     "solution": false
    }
   },
   "outputs": [],
   "source": [
    "# assert tests for California\n",
    "CA_airpts = north_south_airports(\"CA\")\n",
    "assert_equal(CA_airpts.shape, (2, ))\n",
    "CA_airpts_list = [x.strip() for x in CA_airpts]\n",
    "assert_true('Tulelake' in CA_airpts_list[0])\n",
    "assert_true('Brown' in CA_airpts_list[1])\n",
    "# assert tests for Missouri\n",
    "MO_airpts = north_south_airports(\"MO\")\n",
    "assert_equal(MO_airpts.shape, (2, ))\n",
    "MO_airpts_list = [x.strip() for x in MO_airpts]\n",
    "assert_true('Memphis' in MO_airpts_list[0])\n",
    "assert_true('Caruthersville' in MO_airpts_list[1])"
   ]
  },
  {
   "cell_type": "markdown",
   "metadata": {
    "deletable": false,
    "nbgrader": {
     "checksum": "2342106e9354b69e95a16d2f2f90e2b3",
     "grade": false,
     "grade_id": "p2_title",
     "locked": true,
     "solution": false
    }
   },
   "source": [
    "# Problem 2.\n",
    "\n",
    "The main purpose of this problem is to set up the 3rd problem where you'll perform simple linear regression using numpy. This problem asks you to create a [design matrix](https://en.wikipedia.org/wiki/Design_matrix#Simple_Regression) which is simply an $n$ by 2 matrix where the first column is all ones and the second column is the original array. For example, \n",
    "\n",
    "`array([1.,2.,3.])` \n",
    "\n",
    "should turn into \n",
    "\n",
    "`array([[1., 1.],\n",
    "       [1., 2.],\n",
    "       [1., 3.]])`"
   ]
  },
  {
   "cell_type": "code",
   "execution_count": 7,
   "metadata": {
    "collapsed": false,
    "deletable": false,
    "nbgrader": {
     "checksum": "60c6f2a9ed35a2dc261e8bb772cb1995",
     "grade": false,
     "grade_id": "p2_answer",
     "locked": false,
     "solution": true
    }
   },
   "outputs": [],
   "source": [
    "def create_design_matrix(x):\n",
    "    '''\n",
    "    Creates a design matrix for use in regression \n",
    "    \n",
    "    Parameters\n",
    "    ----------\n",
    "    x: a 1-d numpy array\n",
    "    \n",
    "    Returns\n",
    "    -------\n",
    "    a 2-d numpy array with 2 columns, the first is a column of 1's and\n",
    "    the second is the original array x\n",
    "    '''\n",
    "\n",
    "    #YOUR CODE HERE\n",
    "    x = x.reshape(len(x), -1)\n",
    "    a = np.ones(len(x)).reshape(len(x), -1)\n",
    "    result = np.hstack((a, x))\n",
    "    return result"
   ]
  },
  {
   "cell_type": "code",
   "execution_count": 8,
   "metadata": {
    "collapsed": false,
    "deletable": false,
    "nbgrader": {
     "checksum": "0ab029d1eeb143c564364d1cd0d007aa",
     "grade": true,
     "grade_id": "p2_test",
     "locked": true,
     "points": 5,
     "solution": false
    }
   },
   "outputs": [],
   "source": [
    "# insert assert tests here\n",
    "des_mtx = create_design_matrix(np.array([1.1,2.2,3.3]))\n",
    "assert_array_equal(des_mtx, np.array([[1., 1.1], [1., 2.2], [1., 3.3]]))"
   ]
  },
  {
   "cell_type": "markdown",
   "metadata": {
    "deletable": false,
    "nbgrader": {
     "checksum": "231de8813c931ed186e8bd5a8ef49d1b",
     "grade": false,
     "grade_id": "p3_title",
     "locked": true,
     "solution": false
    }
   },
   "source": [
    "# Problem 3.\n",
    "\n",
    "Here you will implement [simple linear regression](https://en.wikipedia.org/wiki/Simple_linear_regression), which is a technique for fitting a linear \"trend line\" to a set of data points. \n",
    "![Simple Linear Regression](https://upload.wikimedia.org/wikipedia/commons/3/3a/Linear_regression.svg)\n",
    "\n",
    "Let's say we own an ice cream truck and we have data on how many ice cream cones we sold in a day (y-axis) as well as the high temperature for that day (x-axis) over the last year. We wish to use that data to predict the number of ice cream cones we will sell *tomorrow*, when the high temperature will be 50 degrees. We could look back at our data and calculate on average how many ice cream cones we sold on days that were roughly 50 degrees, but that might be tedious and inexact. Instead, we'll fit a regression line (red) to the data (blue) and simply plug in the temperature to predict tomorrow's ice cream cone sales.\n",
    "\n",
    "Mathematically that looks like this:\n",
    "\n",
    "$$\\hat{y} = \\beta_0 + \\beta_1x + \\epsilon$$\n",
    "\n",
    "where $\\hat{y}$ is the predicted number of ice cream cones sold, $x$ is the high temperature, $\\epsilon$ is an error term, and $\\beta_0, \\beta_1$ are estimated and can be thought of as the *intercept* and *slope*. It is often convenient to write this equation in matrix form as \n",
    "\n",
    "$$y = \\beta X + \\epsilon$$\n",
    "\n",
    "where $\\beta$ is a vector $[\\beta_0, \\beta_1]$ and $X$ is the design matrix. In order to find $\\beta$, you can use the formula\n",
    "\n",
    "$$\\beta = (X^T X)^{-1}(X^T y)$$\n",
    "\n",
    "In this problem, you will take two 1-d arrays `x` and `y` and estimate the beta coefficients for a simple linear regression. Use numpy's built-in matrix algebra functionality, the `create_design_matrix` function from part 2, and the formula above. To be clear, $X$ is the design matrix, $T$ means transpose, and $-1$ means inverse. That means you need to perform 5 operations:\n",
    "1. Create the design matrix $X$\n",
    "1. Compute $X^T X$\n",
    "2. Invert $X^T X$\n",
    "3. Compute $X^T y$\n",
    "4. Return $(X^T X)^{-1}(X^T y)$"
   ]
  },
  {
   "cell_type": "code",
   "execution_count": 9,
   "metadata": {
    "collapsed": false,
    "deletable": false,
    "nbgrader": {
     "checksum": "d5a4e327af4dbac66a64035b5a3496bf",
     "grade": false,
     "grade_id": "p3_answer",
     "locked": false,
     "solution": true
    }
   },
   "outputs": [],
   "source": [
    "def slr(x, y):\n",
    "    \n",
    "    '''\n",
    "    Estimates beta coefficients for a simple linear regression\n",
    "    \n",
    "    Parameters\n",
    "    ----------\n",
    "    x: a 1-d numpy array\n",
    "    y: a 1-d numpy array\n",
    "    \n",
    "    Returns\n",
    "    -------\n",
    "    a 1-d numpy array with 2 elements, [beta0, beta1]\n",
    "    '''\n",
    "\n",
    "    # YOUR CODE HERE\n",
    "    # Create the design matrix  XX \n",
    "    X = create_design_matrix(x)\n",
    "    # Compute  XTX\n",
    "    XTX = np.dot(X.transpose(), X)\n",
    "    # Return  (XTX)−1(XTy) \n",
    "    result = np.dot(np.linalg.inv(XTX), np.dot(X.transpose(), y))\n",
    "    return result"
   ]
  },
  {
   "cell_type": "code",
   "execution_count": 10,
   "metadata": {
    "collapsed": false,
    "deletable": false,
    "nbgrader": {
     "checksum": "8a536b3cf5829f4689ae43a1f5883a56",
     "grade": false,
     "grade_id": "check_p3",
     "locked": true,
     "solution": false
    }
   },
   "outputs": [
    {
     "name": "stdout",
     "output_type": "stream",
     "text": [
      "Regression Report\n",
      "------------------------------\n",
      "True beta0 =  5\n",
      "Pred beta0 =  4.9986881627\n",
      "True beta1 =  0.22727272727272727\n",
      "Pred beta1 =  0.227570607866\n",
      "True ice cream sales for x=50:  16.363636363636363\n",
      "Pred ice cream sales for x=50:  16.377218556\n",
      "Error: -0.0135821923929\n"
     ]
    }
   ],
   "source": [
    "# create x values from -20 to 60\n",
    "x = np.linspace(-20, 60, 10000)\n",
    "# create true y values as a function of x and add random noise\n",
    "y = 5 + 5/22 * x + np.random.randn(len(x))\n",
    "# create the beta coefficient from the data\n",
    "beta=slr(x, y)\n",
    "# print the results\n",
    "print('Regression Report')\n",
    "print('-'*30)\n",
    "print('True beta0 = ', 5)\n",
    "print(\"Pred beta0 = \", beta[0])\n",
    "print('True beta1 = ', 5/22)\n",
    "print(\"Pred beta1 = \", beta[1])\n",
    "print('True ice cream sales for x=50: ', 5 + 5/22 * 50)\n",
    "print('Pred ice cream sales for x=50: ', np.dot(beta, np.array([1, 50.])))\n",
    "print('Error:', 5 + 5/22 * 50 - np.dot(beta, np.array([1, 50.])))"
   ]
  },
  {
   "cell_type": "code",
   "execution_count": 11,
   "metadata": {
    "collapsed": false,
    "deletable": false,
    "nbgrader": {
     "checksum": "72885a4bbe2e7cbf51d92414f5b7b730",
     "grade": true,
     "grade_id": "p3_tests",
     "locked": true,
     "points": 10,
     "solution": false
    }
   },
   "outputs": [],
   "source": [
    "# create x and y with random noise\n",
    "np.random.seed(1000)\n",
    "x = np.random.randn(10000)\n",
    "y = 3.4 + 1.3 * x + np.random.randn(10000)\n",
    "# compute the beta vector\n",
    "beta = slr(x, y)\n",
    "# check that the true beta is close to the estimated beta\n",
    "assert_almost_equal(np.array([3.4, 1.3]), beta, decimal=1)\n",
    "\n",
    "# try another b0 and b1\n",
    "y = 101.4 + 1176.1 * x + np.random.randn(10000)\n",
    "# compute the beta vector\n",
    "beta = slr(x, y)\n",
    "# check that the true beta is close to the estimated beta\n",
    "assert_almost_equal(np.array([101.4, 1176.1]), beta, decimal=1)"
   ]
  },
  {
   "cell_type": "code",
   "execution_count": null,
   "metadata": {
    "collapsed": true
   },
   "outputs": [],
   "source": []
  },
  {
   "cell_type": "code",
   "execution_count": null,
   "metadata": {
    "collapsed": true
   },
   "outputs": [],
   "source": []
  }
 ],
 "metadata": {
  "kernelspec": {
   "display_name": "Python 3",
   "language": "python",
   "name": "python3"
  },
  "language_info": {
   "codemirror_mode": {
    "name": "ipython",
    "version": 3
   },
   "file_extension": ".py",
   "mimetype": "text/x-python",
   "name": "python",
   "nbconvert_exporter": "python",
   "pygments_lexer": "ipython3",
   "version": "3.5.2"
  }
 },
 "nbformat": 4,
 "nbformat_minor": 0
}
