{
 "cells": [
  {
   "cell_type": "markdown",
   "metadata": {
    "deletable": false,
    "nbgrader": {
     "checksum": "506d33fa80973f9aace68f61a0a71583",
     "grade": false,
     "grade_id": "header",
     "locked": true,
     "solution": false
    }
   },
   "source": [
    "# Week 5 Problem 1\n",
    "\n",
    "If you are not using the `Assignments` tab on the course JupyterHub server to read this notebook, read [Activating the assignments tab](https://github.com/UI-DataScience/info490-fa16/blob/master/Week2/assignments/README.md).\n",
    "\n",
    "A few things you should keep in mind when working on assignments:\n",
    "\n",
    "1. Make sure you fill in any place that says `YOUR CODE HERE`. Do **not** write your answer in anywhere else other than where it says `YOUR CODE HERE`. Anything you write anywhere else will be removed or overwritten by the autograder.\n",
    "\n",
    "2. Before you submit your assignment, make sure everything runs as expected. Go to menubar, select _Kernel_, and restart the kernel and run all cells (_Restart & Run all_).\n",
    "\n",
    "3. Do not change the title (i.e. file name) of this notebook.\n",
    "\n",
    "4. Make sure that you save your work (in the menubar, select _File_ → _Save and CheckPoint_)\n",
    "\n",
    "5. You are allowed to submit an assignment multiple times, but only the most recent submission will be graded.\n",
    "\n",
    "***\n",
    "\n",
    "**Be very careful before you execute the commands you write. You could inadvertently overwrite something you don't intend to.** The reason we create a brand new directory in the beginning of each Unix-based assignment is to give you a \"sandbox\" or \"playground\" where you can make mistakes without causing your file system undue harm. It is important that every command you execute is operating on and within the directories we specify. This may sound obvious, by it causes you (and us) undue stress when a command deletes your assignment or home directory, for example.\n",
    "\n",
    "This assignment is based on chapters 17 and 18 of [TLCL](http://sourceforge.net/projects/linuxcommand/?source=dlp)"
   ]
  },
  {
   "cell_type": "code",
   "execution_count": 1,
   "metadata": {
    "collapsed": true,
    "deletable": false,
    "nbgrader": {
     "checksum": "f41f3e133f7eab1a6b85fed8da9860bf",
     "grade": false,
     "grade_id": "import_nose",
     "locked": true,
     "solution": false
    }
   },
   "outputs": [],
   "source": [
    "from nose.tools import assert_equal"
   ]
  },
  {
   "cell_type": "markdown",
   "metadata": {
    "deletable": false,
    "nbgrader": {
     "checksum": "df8bbc4d75c270174716c399c6822abc",
     "grade": false,
     "grade_id": "sanbox_info",
     "locked": true,
     "solution": false
    }
   },
   "source": [
    "Let's make our sandbox directory `w5p1_testdir` as well as 100 subdirectories within it. Within those 100 subdirectories we create 78 empty files to operate on. The purpose of this is to give you a directory strucutre to operate on that is too complex and large to piece through by hand, much like one you'd see in the real world."
   ]
  },
  {
   "cell_type": "code",
   "execution_count": 2,
   "metadata": {
    "collapsed": true,
    "deletable": false,
    "nbgrader": {
     "checksum": "7e2d19363e1dd9693d2c5f306d63a5b7",
     "grade": false,
     "grade_id": "make_sandbox",
     "locked": true,
     "solution": false
    }
   },
   "outputs": [],
   "source": [
    "%%bash\n",
    "# make directories 1-100\n",
    "mkdir -p ~/w5p1_testdir/dir-{001..100}\n",
    "# make files A-Z as txt, csv, and markdown in each\n",
    "touch ~/w5p1_testdir/dir-{001..100}/file-{A..Z}.{txt,csv,md}"
   ]
  },
  {
   "cell_type": "markdown",
   "metadata": {
    "deletable": false,
    "nbgrader": {
     "checksum": "a5d9c6d5997aef62a3c4aac69c056f6a",
     "grade": false,
     "grade_id": "check_info",
     "locked": true,
     "solution": false
    }
   },
   "source": [
    "The following cell just check some things to make sure everything is in place as it should be. "
   ]
  },
  {
   "cell_type": "code",
   "execution_count": 3,
   "metadata": {
    "collapsed": false,
    "deletable": false,
    "nbgrader": {
     "checksum": "635611729c64ba068b36c561b7168365",
     "grade": false,
     "grade_id": "checks_code",
     "locked": true,
     "solution": false
    }
   },
   "outputs": [],
   "source": [
    "#is w5p1_testdir in ~?\n",
    "is_in_home = !ls ~ | grep w5p1_testdir | wc -l\n",
    "if is_in_home[0] != '1':\n",
    "    raise Exception(\n",
    "        \"w5p1_testdir isn't in /home/data_scientist.\"\\\n",
    "        \" Did you run the cell above?\")\n",
    "\n",
    "# check the number of directories\n",
    "num_dirs = !ls ~/w5p1_testdir | wc -l\n",
    "\n",
    "# if it's not what we expect, complain\n",
    "if num_dirs[0] != \"100\":\n",
    "    raise Exception(\n",
    "        \"There should be {0} total directories, we counted {1}.\"\\\n",
    "        \" Did you run the last cell?\".format(100, num_dirs[0]))\n",
    "\n",
    "\n",
    "# set up our expected file count\n",
    "num_dirs = 100\n",
    "files_per_dir = 26 * 3\n",
    "total_files = num_dirs * files_per_dir\n",
    "\n",
    "# actually count the regular files within w5p1_testdir\n",
    "files_counted = !find ~/w5p1_testdir/* -type f | wc -l\n",
    "\n",
    "# if it's not what we expect, complain\n",
    "if files_counted[0] != \"7800\":\n",
    "    raise Exception(\n",
    "        \"There should be {0} total files, we counted {1}.\"\\\n",
    "        \" Did you run the last cell?\".format(total_files, files_counted[0]))"
   ]
  },
  {
   "cell_type": "markdown",
   "metadata": {
    "deletable": false,
    "nbgrader": {
     "checksum": "8fb634995d423da133acac8ea795700d",
     "grade": false,
     "grade_id": "find_hint",
     "locked": true,
     "solution": false
    }
   },
   "source": [
    "Notice that by using `find ~/w5p1_testdir/* -type f` I can list all the regular files within `~/w5p1_testdir` **and** its subdirectories."
   ]
  },
  {
   "cell_type": "markdown",
   "metadata": {
    "deletable": false,
    "nbgrader": {
     "checksum": "65600b56ea69defd5b3f86401f3433fb",
     "grade": false,
     "grade_id": "p1_title",
     "locked": true,
     "solution": false
    }
   },
   "source": [
    "# Problem 1.\n",
    "\n",
    "The purpose of this problem is to give you experience pulling files from the internet. Write a `bash` script that \n",
    "1. Makes a directory in ~ called \"Downloads\" if it doesnt exist already (-p flag)\n",
    "2. Gets the Week 5 Lesson 1 Markdown from the course GitHub repository\n",
    "3. Outputs the markdown file as ~/Downloads/foo.md\n",
    "\n",
    "Hint: To pull raw files from GitHub you should click the \"Raw\" button in the upper right corner. See [here](http://stackoverflow.com/questions/4604663/download-single-files-from-github)"
   ]
  },
  {
   "cell_type": "code",
   "execution_count": 4,
   "metadata": {
    "collapsed": false,
    "deletable": false,
    "nbgrader": {
     "checksum": "7f2b2fad6a6fd48c45194909336e686e",
     "grade": false,
     "grade_id": "p1_answer",
     "locked": false,
     "solution": true
    }
   },
   "outputs": [
    {
     "name": "stderr",
     "output_type": "stream",
     "text": [
      "--2016-09-24 16:55:18--  https://raw.githubusercontent.com/UI-DataScience/info490-fa16/master/Week5/lesson1.md\n",
      "Resolving raw.githubusercontent.com (raw.githubusercontent.com)... 151.101.44.133\n",
      "Connecting to raw.githubusercontent.com (raw.githubusercontent.com)|151.101.44.133|:443... connected.\n",
      "HTTP request sent, awaiting response... 200 OK\n",
      "Length: 1502 (1.5K) [text/plain]\n",
      "Saving to: ‘/home/data_scientist/Downloads/foo.md’\n",
      "\n",
      "     0K .                                                     100% 42.6M=0s\n",
      "\n",
      "2016-09-24 16:55:18 (42.6 MB/s) - ‘/home/data_scientist/Downloads/foo.md’ saved [1502/1502]\n",
      "\n"
     ]
    }
   ],
   "source": [
    "%%bash\n",
    "#YOUR CODE HERE\n",
    "mkdir -p ~/Downloads\n",
    "wget -O ~/Downloads/foo.md https://raw.githubusercontent.com/UI-DataScience/info490-fa16/master/Week5/lesson1.md"
   ]
  },
  {
   "cell_type": "code",
   "execution_count": 5,
   "metadata": {
    "collapsed": false,
    "deletable": false,
    "nbgrader": {
     "checksum": "aa60174b4bdbf3b0e546fd1a2e3b82d6",
     "grade": true,
     "grade_id": "p1_test",
     "locked": true,
     "points": 5,
     "solution": false
    }
   },
   "outputs": [],
   "source": [
    "# check if Downloads exists and where\n",
    "downloads_dir = !find ~/ -type d -name \"Downloads\"\n",
    "# check if foo.md exists and where\n",
    "foo_file = !find ~/Downloads -type f -name \"foo.md\"\n",
    "# make sure its the correct markdown\n",
    "is_1 = !grep -w \"^# Week 5 Lesson 1\" ~/Downloads/foo.md | wc -l\n",
    "\n",
    "assert_equal(downloads_dir[0], '/home/data_scientist/Downloads')\n",
    "assert_equal(foo_file[0], '/home/data_scientist/Downloads/foo.md')\n",
    "assert_equal(is_1[0], '1')"
   ]
  },
  {
   "cell_type": "markdown",
   "metadata": {
    "deletable": false,
    "nbgrader": {
     "checksum": "8ddb76b61dbe5ba78fa1b8b964dc0d23",
     "grade": false,
     "grade_id": "p2_title",
     "locked": true,
     "solution": false
    }
   },
   "source": [
    "# Problem 2.\n",
    "\n",
    "The purpose of this problem is to give you exposure to more advanced commands for manipulating the file system. Copy the `foo.md` file into every directory inside `~/w5p1_testdir`, but **don't copy the file into `~/w5p1_testdir` itself**. If you must, you can simply remove foo.md from `~/w5p1_testdir`, but try to do it without using a `rm` command. The \"recommended\" ways involve `find` or `xargs`.\n",
    "\n",
    "Recommended Google Search: *Copy a file into multiple folders* or *copy a file into multiple directories*."
   ]
  },
  {
   "cell_type": "code",
   "execution_count": 6,
   "metadata": {
    "collapsed": false,
    "deletable": false,
    "nbgrader": {
     "checksum": "5213419b896895c98d23e64116d85a22",
     "grade": false,
     "grade_id": "p2_answer",
     "locked": false,
     "solution": true
    }
   },
   "outputs": [],
   "source": [
    "%%bash\n",
    "#YOUR CODE HERE\n",
    "find ~/w5p1_testdir/* -type d | xargs -n 1 cp ~/Downloads/foo.md"
   ]
  },
  {
   "cell_type": "code",
   "execution_count": 7,
   "metadata": {
    "collapsed": false,
    "deletable": false,
    "nbgrader": {
     "checksum": "f43a5487c77e08f43f8e38d980198ad7",
     "grade": true,
     "grade_id": "p2_test",
     "locked": true,
     "points": 10,
     "solution": false
    }
   },
   "outputs": [],
   "source": [
    "number_dirs = !ls /home/data_scientist/w5p1_testdir/ | wc -l\n",
    "number_foo = !find ~/w5p1_testdir/* -type f | grep foo.md | wc -l\n",
    "assert_equal(int(number_dirs[0]), 100)\n",
    "assert_equal(int(number_foo[0]), 100)"
   ]
  },
  {
   "cell_type": "markdown",
   "metadata": {
    "deletable": false,
    "nbgrader": {
     "checksum": "84ab3672d9c82c315b15bd361d7e55a4",
     "grade": false,
     "grade_id": "p3_title",
     "locked": true,
     "solution": false
    }
   },
   "source": [
    "# Problem 3.\n",
    "\n",
    "The main purpose of this problem is to give you exposure with compressing and archiving files. Create an archive called `odd_dirs.tar` within `~/w5p1_testdir` (so the full filepath is `~/w5p1_testdir/odd_dirs.tar` that contains the **odd-numbered** directories within `~/w5p1_testdir`. Note the following:\n",
    "\n",
    "* Use the `tar` command with the `cf` option\n",
    "* The most challenging part will likely be creating a wildcard to grab only the odd-numbered directories\n",
    "* Start with an `echo` command to try to print out just the odd numbered directories to get your wildcard correct\n",
    "* After that just add it to a standard tar command with the `--wildcards` flag\n",
    "\n",
    "In the end you should have 50 directories, each with 79 files in them. Since `tar tf` will count the directories themselves as files, there should be 80 * 50 = 4000 items total in the tarball."
   ]
  },
  {
   "cell_type": "code",
   "execution_count": 8,
   "metadata": {
    "collapsed": false,
    "deletable": false,
    "nbgrader": {
     "checksum": "77583e48580043eb060989807d2458a8",
     "grade": false,
     "grade_id": "p3_answer",
     "locked": false,
     "solution": true
    }
   },
   "outputs": [
    {
     "name": "stdout",
     "output_type": "stream",
     "text": [
      "w5p1_testdir/dir-001 w5p1_testdir/dir-003 w5p1_testdir/dir-005 w5p1_testdir/dir-007 w5p1_testdir/dir-009 w5p1_testdir/dir-011 w5p1_testdir/dir-013 w5p1_testdir/dir-015 w5p1_testdir/dir-017 w5p1_testdir/dir-019 w5p1_testdir/dir-021 w5p1_testdir/dir-023 w5p1_testdir/dir-025 w5p1_testdir/dir-027 w5p1_testdir/dir-029 w5p1_testdir/dir-031 w5p1_testdir/dir-033 w5p1_testdir/dir-035 w5p1_testdir/dir-037 w5p1_testdir/dir-039 w5p1_testdir/dir-041 w5p1_testdir/dir-043 w5p1_testdir/dir-045 w5p1_testdir/dir-047 w5p1_testdir/dir-049 w5p1_testdir/dir-051 w5p1_testdir/dir-053 w5p1_testdir/dir-055 w5p1_testdir/dir-057 w5p1_testdir/dir-059 w5p1_testdir/dir-061 w5p1_testdir/dir-063 w5p1_testdir/dir-065 w5p1_testdir/dir-067 w5p1_testdir/dir-069 w5p1_testdir/dir-071 w5p1_testdir/dir-073 w5p1_testdir/dir-075 w5p1_testdir/dir-077 w5p1_testdir/dir-079 w5p1_testdir/dir-081 w5p1_testdir/dir-083 w5p1_testdir/dir-085 w5p1_testdir/dir-087 w5p1_testdir/dir-089 w5p1_testdir/dir-091 w5p1_testdir/dir-093 w5p1_testdir/dir-095 w5p1_testdir/dir-097 w5p1_testdir/dir-099\n"
     ]
    }
   ],
   "source": [
    "%%bash\n",
    "#YOUR CODE HERE\n",
    "cd ~                                                                   #tar use relative path, so change directory to ~\n",
    "echo w5p1_testdir/*[13579]\n",
    "tar cf w5p1_testdir/odd_dirs.tar --wildcards w5p1_testdir/*[13579]"
   ]
  },
  {
   "cell_type": "code",
   "execution_count": 9,
   "metadata": {
    "collapsed": false,
    "deletable": false,
    "nbgrader": {
     "checksum": "48957c269c54e968165cf0a238fab3d3",
     "grade": true,
     "grade_id": "p3_test",
     "locked": true,
     "points": 10,
     "solution": false
    }
   },
   "outputs": [],
   "source": [
    "files_in_tarball = !tar tf ~/w5p1_testdir/odd_dirs.tar | wc -l\n",
    "foos_in_tarball = !tar tf ~/w5p1_testdir/odd_dirs.tar | grep foo | wc -l\n",
    "dirs_in_tarball = !tar tf ~/w5p1_testdir/odd_dirs.tar | grep \"/$\" | wc -l\n",
    "\n",
    "assert_equal(int(dirs_in_tarball[0]), 50)\n",
    "assert_equal(int(foos_in_tarball[0]), 50)\n",
    "assert_equal(int(files_in_tarball[0]), 4000)"
   ]
  },
  {
   "cell_type": "markdown",
   "metadata": {
    "deletable": false,
    "nbgrader": {
     "checksum": "0ef2884226f14f0c2e41fd44f55c45b0",
     "grade": false,
     "grade_id": "cleaning_up",
     "locked": true,
     "solution": false
    }
   },
   "source": [
    "## Cleaning Up\n",
    "Also note that this cell can be run to \"start over\". If you think your code is correct but don't pass the assert tests, run the following and rerun your code. You may be using this alot!"
   ]
  },
  {
   "cell_type": "code",
   "execution_count": 10,
   "metadata": {
    "collapsed": true,
    "deletable": false,
    "nbgrader": {
     "checksum": "8405e989be996be03db9d1ed25107258",
     "grade": false,
     "grade_id": "cleanup_code",
     "locked": true,
     "solution": false
    }
   },
   "outputs": [],
   "source": [
    "!rm -rf /home/data_scientist/w5p1_testdir/\n",
    "!rm -rf /home/data_scientist/Downloads/"
   ]
  },
  {
   "cell_type": "code",
   "execution_count": null,
   "metadata": {
    "collapsed": true
   },
   "outputs": [],
   "source": []
  }
 ],
 "metadata": {
  "kernelspec": {
   "display_name": "Python 3",
   "language": "python",
   "name": "python3"
  },
  "language_info": {
   "codemirror_mode": {
    "name": "ipython",
    "version": 3
   },
   "file_extension": ".py",
   "mimetype": "text/x-python",
   "name": "python",
   "nbconvert_exporter": "python",
   "pygments_lexer": "ipython3",
   "version": "3.5.2"
  }
 },
 "nbformat": 4,
 "nbformat_minor": 0
}
