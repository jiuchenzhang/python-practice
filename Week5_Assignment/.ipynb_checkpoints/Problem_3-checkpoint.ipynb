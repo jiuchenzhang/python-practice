{
 "cells": [
  {
   "cell_type": "markdown",
   "metadata": {
    "deletable": false,
    "nbgrader": {
     "checksum": "a9069f231922453ed17a9249cdc74198",
     "grade": false,
     "grade_id": "header",
     "locked": true,
     "solution": false
    }
   },
   "source": [
    "# Week 5 Problem 3\n",
    "\n",
    "If you are not using the `Assignments` tab on the course JupyterHub server to read this notebook, read [Activating the assignments tab](https://github.com/UI-DataScience/info490-fa16/blob/master/Week2/assignments/README.md).\n",
    "\n",
    "A few things you should keep in mind when working on assignments:\n",
    "\n",
    "1. Make sure you fill in any place that says `YOUR CODE HERE`. Do **not** write your answer in anywhere else other than where it says `YOUR CODE HERE`. Anything you write anywhere else will be removed or overwritten by the autograder.\n",
    "\n",
    "2. Before you submit your assignment, make sure everything runs as expected. Go to menubar, select _Kernel_, and restart the kernel and run all cells (_Restart & Run all_).\n",
    "\n",
    "3. Do not change the title (i.e. file name) of this notebook.\n",
    "\n",
    "4. Make sure that you save your work (in the menubar, select _File_ → _Save and CheckPoint_)\n",
    "\n",
    "5. You are allowed to submit an assignment multiple times, but only the most recent submission will be graded."
   ]
  },
  {
   "cell_type": "code",
   "execution_count": 1,
   "metadata": {
    "collapsed": true,
    "deletable": false,
    "nbgrader": {
     "checksum": "017aa85b78a04fe191e0e300621e9e7f",
     "grade": false,
     "grade_id": "import_nose",
     "locked": true,
     "solution": false
    }
   },
   "outputs": [],
   "source": [
    "import requests\n",
    "from nose.tools import assert_equal"
   ]
  },
  {
   "cell_type": "markdown",
   "metadata": {
    "deletable": false,
    "nbgrader": {
     "checksum": "f2ff236f93242f92911fe68dd4e122a2",
     "grade": false,
     "grade_id": "p1_f1_title",
     "locked": true,
     "solution": false
    }
   },
   "source": [
    "# Problem 1. Requests.\n",
    "\n",
    "In this problem, we are going to make a request to download the [airline on-time performance data](http://stat-computing.org/dataexpo/2009/) that uses [IATA codes](https://en.wikipedia.org/wiki/International_Air_Transport_Association_airport_code) to identify airports. For example,\n",
    "\n",
    "```shell\n",
    "$ head /home/data_scientist/data/2001.csv\n",
    "```\n",
    "```\n",
    "Year,Month,DayofMonth,DayOfWeek,DepTime,CRSDepTime,ArrTime,CRSArrTime,UniqueCarrier,FlightNum,TailNum,ActualElapsedTime,CRSElapsedTime,AirTime,ArrDelay,DepDelay,Origin,Dest,Distance,TaxiIn,TaxiOut,Cancelled,CancellationCode,Diverted,CarrierDelay,WeatherDelay,NASDelay,SecurityDelay,LateAircraftDelay\n",
    "2001,1,17,3,1806,1810,1931,1934,US,375,N700��,85,84,60,-3,-4,BWI,CLT,361,5,20,0,NA,0,NA,NA,NA,NA,NA\n",
    "2001,1,18,4,1805,1810,1938,1934,US,375,N713��,93,84,64,4,-5,BWI,CLT,361,9,20,0,NA,0,NA,NA,NA,NA,NA\n",
    "2001,1,19,5,1821,1810,1957,1934,US,375,N702��,96,84,80,23,11,BWI,CLT,361,6,10,0,NA,0,NA,NA,NA,NA,NA\n",
    "2001,1,20,6,1807,1810,1944,1934,US,375,N701��,97,84,66,10,-3,BWI,CLT,361,4,27,0,NA,0,NA,NA,NA,NA,NA\n",
    "2001,1,21,7,1810,1810,1954,1934,US,375,N768��,104,84,62,20,0,BWI,CLT,361,4,38,0,NA,0,NA,NA,NA,NA,NA\n",
    "2001,1,22,1,1807,1810,1931,1934,US,375,N722��,84,84,61,-3,-3,BWI,CLT,361,12,11,0,NA,0,NA,NA,NA,NA,NA\n",
    "2001,1,23,2,1802,1810,1924,1934,US,375,N732��,82,84,61,-10,-8,BWI,CLT,361,5,16,0,NA,0,NA,NA,NA,NA,NA\n",
    "2001,1,24,3,1804,1810,1922,1934,US,375,N737��,78,84,60,-12,-6,BWI,CLT,361,4,14,0,NA,0,NA,NA,NA,NA,NA\n",
    "2001,1,25,4,1812,1810,1925,1934,US,375,N767��,73,84,52,-9,2,BWI,CLT,361,6,15,0,NA,0,NA,NA,NA,NA,NA\n",
    "```\n",
    "\n",
    "Here, BWI and CLT are IATA codes for Baltimore-Washington International airport and Charlotte Douglas International Airport.\n",
    "\n",
    "We need a way to look up the IATA codes and match them with the city names or the airport names. You could use a supplementary data set such as [airports.csv](http://stat-computing.org/dataexpo/2009/supplemental-data.html) that contains all this information, but let's pretend that no such file exists and we have to gather this information ourselves.\n",
    "\n",
    "FAA provides a [web service](http://services.faa.gov/docs/services/airport/#airportStatus) that lets us obtain various information on U.S. airports, including known delays and weather data. You should read http://services.faa.gov/docs/services/airport/ and try a few sample requests to make sure you understand how it works. When you make a query, the FAA web service will respond with a text in an XML or a JSON format. We will learn more about how to work with these data formats later in the course. Since we haven't covered these data formats, all you have to do is use Requests to make an HTTP request and get a text response. Once you have a text reponse, I will provide code that converts this text into a Python dictionary. (JSON is essentially a Python dictionary. If you understand Python dictionaries, you know JSON.)\n",
    "\n",
    "## 1. Function: get_airport()\n",
    "\n",
    "In the following code cell, write a function named `get_airport()` that takes an IATA code and returns the text response of airport status. \n",
    "\n",
    "- As mentioned above, this function makes a request to [airport service](http://services.faa.gov/docs/services/airport/).\n",
    "- The first argument (`iata`) is a string that represents the IATA code of an airport, e.g. `\"ORD\"`, `\"SFO\"`, or `\"JFK\"`.\n",
    "- The function should return the [response content](http://www.python-requests.org/en/latest/user/quickstart/#response-content) of the `requests.get()` object. For example,\n",
    "  ```python\n",
    "  >>> ord_json = get_airport(\"ORD\")\n",
    "  >>> ord_json\n",
    "  ```\n",
    "  ```\n",
    "  '{\"delay\":\"true\",\"IATA\":\"ORD\",\"state\":\"Illinois\",\"name\":\"Chicago OHare International\",\"weather:{\"visibility\":6.00,\"weather\":\"Thunderstorm Light Rain Fog/Mist\",\"meta\":{\"credit\":\"NOAA\\'s National Weather Service\",\"updated\":\"6:51 PM Local\",\"url\":\"http://weather.gov/\"},\"temp\":\"72.0 F (22.2 C)\",\"wind\":\"North at 0.0mph\"},\"ICAO\":\"KORD\",\"city\":\"Chicago\",\"status\":{\"reason\":\"WEATHER / THUNDERSTORMS\",\"closureBegin\":\"\",\"endTime\":\"\",\"minDelay\":\"\",\"avgDelay\":\"2 hours and 44 minutes\",\"maxDelay\":\"\",\"closureEnd\":\"\",\"trend\":\"\",\"type\":\"Ground Delay\"}} '\n",
    "  ```\n",
    "  ```python\n",
    "  >>> type(ord_json)\n",
    "  ```\n",
    "  ```\n",
    "  dict\n",
    "  ```\n",
    " \n",
    "- The format of the reponse from the [airport service](http://services.faa.gov/docs/services/airport/) can either be in JSON or XML, but our function should always return a **JSON** string.\n",
    "- The [airport service](http://services.faa.gov/docs/services/airport/) page provides **a sample XML request**, and a JSON request is in the **same format**.\n",
    "- Read the [Requests](http://docs.python-requests.org/en/latest/user/quickstart/) documentation for more information.\n",
    "- If the [airport service](http://services.faa.gov/docs/services/airport/) is down (which is quite unlikely), make a post in our [Moodle forum](https://learn.illinois.edu/mod/forum/view.php?id=1571626) if nobody has done that already. "
   ]
  },
  {
   "cell_type": "code",
   "execution_count": 2,
   "metadata": {
    "collapsed": false,
    "deletable": false,
    "nbgrader": {
     "checksum": "dca738fce9f2e390b3bbbd19a83b3d8e",
     "grade": false,
     "grade_id": "p1_f1_answer",
     "locked": false,
     "solution": true
    }
   },
   "outputs": [],
   "source": [
    "def get_airport(iata):\n",
    "    '''\n",
    "    Makes an HTTP request to http://services.faa.gov/airport/status/{iata}\n",
    "    and returns the JSON response. (You need to figure out the correct url\n",
    "    by reading http://services.faa.gov/docs/services/airport/.)\n",
    "    \n",
    "    Parameters\n",
    "    ----------\n",
    "    iata: String. Three-letter airport IATA code.\n",
    "    \n",
    "    Returns\n",
    "    -------\n",
    "    A JSON string.\n",
    "    '''\n",
    "    \n",
    "    # YOUR CODE HERE\n",
    "    import requests\n",
    "    r = requests.get('http://services.faa.gov/airport/status/{}?format=application/json'.format(iata))\n",
    "    result = r.text\n",
    "    return result"
   ]
  },
  {
   "cell_type": "markdown",
   "metadata": {
    "deletable": false,
    "nbgrader": {
     "checksum": "4c32bc0e207e2947fdcc882081e7bef6",
     "grade": false,
     "grade_id": "json1",
     "locked": true,
     "solution": false
    }
   },
   "source": [
    "As promised, in the following code cell is a piece of code that converts a JSON string into a dictionary. The `json.loads()` function converts a JSON string into a Python dictionary."
   ]
  },
  {
   "cell_type": "code",
   "execution_count": 3,
   "metadata": {
    "collapsed": false,
    "deletable": false,
    "nbgrader": {
     "checksum": "a428031c8e4d9dbbbc583f2e0e5f1523",
     "grade": false,
     "grade_id": "json2",
     "locked": true,
     "solution": false
    }
   },
   "outputs": [],
   "source": [
    "import json\n",
    "\n",
    "ord_json = json.loads(get_airport(\"ORD\"))\n",
    "sfo_json = json.loads(get_airport(\"SFO\"))"
   ]
  },
  {
   "cell_type": "markdown",
   "metadata": {
    "deletable": false,
    "nbgrader": {
     "checksum": "33b1df3259ea274fd5a6703e5cef39c5",
     "grade": false,
     "grade_id": "json3",
     "locked": true,
     "solution": false
    }
   },
   "source": [
    "The following code cell checks if `ord_json` and `sfo_json` are dictionaries and check their values. Make sure that the code cell produces no errors."
   ]
  },
  {
   "cell_type": "code",
   "execution_count": 4,
   "metadata": {
    "collapsed": false,
    "deletable": false,
    "nbgrader": {
     "checksum": "ecd5209e591a34090e4bca0aa807b2a9",
     "grade": true,
     "grade_id": "p1_f1__test",
     "locked": true,
     "points": 12,
     "solution": false
    }
   },
   "outputs": [],
   "source": [
    "assert_equal(isinstance(ord_json, dict), True)\n",
    "assert_equal(ord_json[\"IATA\"], \"ORD\")\n",
    "assert_equal(ord_json[\"city\"], \"Chicago\")\n",
    "assert_equal(ord_json[\"state\"], \"Illinois\")\n",
    "assert_equal(ord_json[\"name\"], \"Chicago OHare International\")\n",
    "\n",
    "assert_equal(isinstance(sfo_json, dict), True)\n",
    "assert_equal(sfo_json[\"IATA\"], \"SFO\")\n",
    "assert_equal(sfo_json[\"city\"], \"San Francisco\")\n",
    "assert_equal(sfo_json[\"state\"], \"California\")\n",
    "assert_equal(sfo_json[\"name\"], \"San Francisco International\")"
   ]
  },
  {
   "cell_type": "markdown",
   "metadata": {
    "deletable": false,
    "nbgrader": {
     "checksum": "653b06622c8f5b2eb5c1f7406bded1ac",
     "grade": false,
     "grade_id": "p1_f2_title",
     "locked": true,
     "solution": false
    }
   },
   "source": [
    "The [airports.csv](http://stat-computing.org/dataexpo/2009/supplemental-data.html) file that I mentioned earlier looks like this:\n",
    "\n",
    "```shell\n",
    "$ head /home/data_scientist/data/airports.csv\n",
    "```\n",
    "```\n",
    "\"iata\",\"airport\",\"city\",\"state\",\"country\",\"lat\",\"long\"\n",
    "\"00M\",\"Thigpen \",\"Bay Springs\",\"MS\",\"USA\",31.95376472,-89.23450472\n",
    "\"00R\",\"Livingston Municipal\",\"Livingston\",\"TX\",\"USA\",30.68586111,-95.01792778\n",
    "\"00V\",\"Meadow Lake\",\"Colorado Springs\",\"CO\",\"USA\",38.94574889,-104.5698933\n",
    "\"01G\",\"Perry-Warsaw\",\"Perry\",\"NY\",\"USA\",42.74134667,-78.05208056\n",
    "\"01J\",\"Hilliard Airpark\",\"Hilliard\",\"FL\",\"USA\",30.6880125,-81.90594389\n",
    "\"01M\",\"Tishomingo County\",\"Belmont\",\"MS\",\"USA\",34.49166667,-88.20111111\n",
    "\"02A\",\"Gragg-Wade \",\"Clanton\",\"AL\",\"USA\",32.85048667,-86.61145333\n",
    "\"02C\",\"Capitol\",\"Brookfield\",\"WI\",\"USA\",43.08751,-88.17786917\n",
    "\"02G\",\"Columbiana County\",\"East Liverpool\",\"OH\",\"USA\",40.67331278,-80.64140639\n",
    "```\n",
    "\n",
    "With our `get_airport()` function, we can reproduce every columns of the `airports.csv` file except the latitude and the longitude.\n",
    "\n",
    "## 2. Function: write_airports()\n",
    "\n",
    "Write a function named `write_airports()` that takes a list of dictionaries, and writes in a file named `top_20_airports.csv` the columns `iata`, `airport`, `city`, `state`, and `country`.\n",
    "\n",
    "Here are the IATA codes for the top 20 U.S. airports."
   ]
  },
  {
   "cell_type": "code",
   "execution_count": 5,
   "metadata": {
    "collapsed": true,
    "deletable": false,
    "nbgrader": {
     "checksum": "ca19c391f607957e0d09e70fd5820d72",
     "grade": false,
     "grade_id": "list1",
     "locked": true,
     "solution": false
    }
   },
   "outputs": [],
   "source": [
    "airports = ['ORD', 'DFW', 'ATL', 'LAX', 'PHX',\n",
    "            'STL', 'DTW', 'MSP', 'LAS', 'BOS',\n",
    "            'DEN', 'IAH', 'CLT', 'SFO', 'EWR',\n",
    "            'PHL', 'LGA', 'PIT', 'SEA', 'BWI']"
   ]
  },
  {
   "cell_type": "markdown",
   "metadata": {
    "deletable": false,
    "nbgrader": {
     "checksum": "af36fd581d17aade628b2fa473dca5ca",
     "grade": false,
     "grade_id": "list2",
     "locked": true,
     "solution": false
    }
   },
   "source": [
    "Using the above list, we can build a list of dictionaries by reading the JSON strings that we get from `get_airport()`."
   ]
  },
  {
   "cell_type": "code",
   "execution_count": 6,
   "metadata": {
    "collapsed": false,
    "deletable": false,
    "nbgrader": {
     "checksum": "8eceb71350badd818fee546c4073d813",
     "grade": false,
     "grade_id": "list3",
     "locked": true,
     "solution": false
    }
   },
   "outputs": [
    {
     "name": "stdout",
     "output_type": "stream",
     "text": [
      "{'ICAO': 'KORD', 'delay': 'false', 'name': 'Chicago OHare International', 'weather': {'meta': {'updated': '9:51 PM Local', 'url': 'http://weather.gov/', 'credit': \"NOAA's National Weather Service\"}, 'wind': 'Northeast at 10.4mph', 'visibility': 10.0, 'temp': '69.0 F (20.6 C)', 'weather': 'Mostly Cloudy'}, 'city': 'Chicago', 'state': 'Illinois', 'IATA': 'ORD', 'status': {'closureEnd': '', 'minDelay': '', 'maxDelay': '', 'endTime': '', 'reason': 'No known delays for this airport.', 'closureBegin': '', 'trend': '', 'type': '', 'avgDelay': ''}}\n"
     ]
    }
   ],
   "source": [
    "list_of_dictionaries = [json.loads(get_airport(a)) for a in airports]\n",
    "\n",
    "print(list_of_dictionaries[0])"
   ]
  },
  {
   "cell_type": "markdown",
   "metadata": {
    "deletable": false,
    "nbgrader": {
     "checksum": "5ebcf9e2ba99a6201f80f38be04be1af",
     "grade": false,
     "grade_id": "p1_f2_question",
     "locked": true,
     "solution": false
    }
   },
   "source": [
    "Now, in the following code cell, write a function named `write_airports()` that\n",
    "\n",
    "- Takes a list of dictionaries as the first arguemnt,\n",
    "- Takes a string (output file name, e.g. `top_20_airports.csv`) as the second argument,\n",
    "- Iterates through the list and prints out `IATA`, `name`, `city`, `state`, and `country` columns, separated by commas (no spaces), and\n",
    "- Writes the result to a file whose name is sepcified by `filename`."
   ]
  },
  {
   "cell_type": "code",
   "execution_count": 7,
   "metadata": {
    "collapsed": false,
    "deletable": false,
    "nbgrader": {
     "checksum": "248d76e16d520bddaa45935d18f2266a",
     "grade": false,
     "grade_id": "p1_f2_answer",
     "locked": false,
     "solution": true
    }
   },
   "outputs": [],
   "source": [
    "def write_airports(list_of_dictionaries, filename):\n",
    "    '''\n",
    "    Takes a list of dictionaries and creates a CSV file from the list.\n",
    "    Dictionaries have keys: IATA, name, city, and state.\n",
    "    The last column of the resulting CSV file is always USA.\n",
    "    \n",
    "    Parameters\n",
    "    ----------\n",
    "    list_of_dictionaries: a list of dictionaries.\n",
    "    filename: output file name.\n",
    "    \n",
    "    Returns\n",
    "    -------\n",
    "    None.\n",
    "    '''\n",
    "    \n",
    "    # YOUR CODE HERE\n",
    "    with open(filename, 'w') as f:\n",
    "        for i in range(len(list_of_dictionaries)):\n",
    "            d = list_of_dictionaries[i]\n",
    "            wrt = '{},{},{},{},USA\\n'.format(d['IATA'], d['name'], d['city'], d['state'])\n",
    "            f.write(wrt)\n",
    "        \n",
    "    return None"
   ]
  },
  {
   "cell_type": "markdown",
   "metadata": {
    "collapsed": true,
    "deletable": false,
    "nbgrader": {
     "checksum": "bb9bb58a1c999e4f2415c88e43ee3df8",
     "grade": false,
     "grade_id": "write_file1",
     "locked": true,
     "points": 10,
     "solution": false
    }
   },
   "source": [
    "Check that the following code cell does not produce any errors."
   ]
  },
  {
   "cell_type": "code",
   "execution_count": 8,
   "metadata": {
    "collapsed": false,
    "deletable": false,
    "nbgrader": {
     "checksum": "f6ecff78e9e5410954e185ad2353c10a",
     "grade": false,
     "grade_id": "write_file2",
     "locked": true,
     "solution": false
    }
   },
   "outputs": [
    {
     "name": "stdout",
     "output_type": "stream",
     "text": [
      "ORD,Chicago OHare International,Chicago,Illinois,USA\r\n",
      "DFW,Dallas/Ft Worth International,Dallas-Ft Worth,Texas,USA\r\n",
      "ATL,Hartsfield-Jackson Atlanta International,Atlanta,Georgia,USA\r\n",
      "LAX,Los Angeles International,Los Angeles,California,USA\r\n",
      "PHX,Phoenix Sky Harbor International,Phoenix,Arizona,USA\r\n",
      "STL,Lambert-St Louis International,St Louis,Missouri,USA\r\n",
      "DTW,Detroit Metropolitan Wayne County,Detroit,Michigan,USA\r\n",
      "MSP,Minneapolis-St Paul International/Wold-Chamberlain,Minneapolis,Minnesota,USA\r\n",
      "LAS,Las Vegas McCarran International,Las Vegas,Nevada,USA\r\n",
      "BOS,General Edward Lawrence Logan International,Boston,Massachusetts,USA\r\n",
      "DEN,Denver International,Denver,Colorado,USA\r\n",
      "IAH,George Bush Intercontinental/Houston,Houston,Texas,USA\r\n",
      "CLT,Charlotte Douglas International,Charlotte,North Carolina,USA\r\n",
      "SFO,San Francisco International,San Francisco,California,USA\r\n",
      "EWR,Newark International,Newark,New Jersey,USA\r\n",
      "PHL,Philadelphia International,Philadelphia,Pennsylvania,USA\r\n",
      "LGA,La Guardia,New York,New York,USA\r\n",
      "PIT,Pittsburgh International,Pittsburgh,Pennsylvania,USA\r\n",
      "SEA,Seattle-Tacoma International,Seattle,Washington,USA\r\n",
      "BWI,Baltimore-Washington International,Baltimore,Maryland,USA\r\n"
     ]
    }
   ],
   "source": [
    "write_airports(list_of_dictionaries, 'top_20_airports.csv')\n",
    "\n",
    "%cat top_20_airports.csv"
   ]
  },
  {
   "cell_type": "code",
   "execution_count": 9,
   "metadata": {
    "collapsed": false,
    "deletable": false,
    "nbgrader": {
     "checksum": "9f3ccffd8be336afcb3f985d198706d7",
     "grade": true,
     "grade_id": "p2_f2_test",
     "locked": true,
     "points": 13,
     "solution": false
    }
   },
   "outputs": [],
   "source": [
    "answer = '''\n",
    "ORD,Chicago OHare International,Chicago,Illinois,USA\n",
    "DFW,Dallas/Ft Worth International,Dallas-Ft Worth,Texas,USA\n",
    "ATL,Hartsfield-Jackson Atlanta International,Atlanta,Georgia,USA\n",
    "LAX,Los Angeles International,Los Angeles,California,USA\n",
    "PHX,Phoenix Sky Harbor International,Phoenix,Arizona,USA\n",
    "STL,Lambert-St Louis International,St Louis,Missouri,USA\n",
    "DTW,Detroit Metropolitan Wayne County,Detroit,Michigan,USA\n",
    "MSP,Minneapolis-St Paul International/Wold-Chamberlain,Minneapolis,Minnesota,USA\n",
    "LAS,Las Vegas McCarran International,Las Vegas,Nevada,USA\n",
    "BOS,General Edward Lawrence Logan International,Boston,Massachusetts,USA\n",
    "DEN,Denver International,Denver,Colorado,USA\n",
    "IAH,George Bush Intercontinental/Houston,Houston,Texas,USA\n",
    "CLT,Charlotte Douglas International,Charlotte,North Carolina,USA\n",
    "SFO,San Francisco International,San Francisco,California,USA\n",
    "EWR,Newark International,Newark,New Jersey,USA\n",
    "PHL,Philadelphia International,Philadelphia,Pennsylvania,USA\n",
    "LGA,La Guardia,New York,New York,USA\n",
    "PIT,Pittsburgh International,Pittsburgh,Pennsylvania,USA\n",
    "SEA,Seattle-Tacoma International,Seattle,Washington,USA\n",
    "BWI,Baltimore-Washington International,Baltimore,Maryland,USA\n",
    "'''.strip().split('\\n')\n",
    "\n",
    "with open('top_20_airports.csv') as f:\n",
    "    for i, line in enumerate(f):\n",
    "        assert_equal(line.strip(), answer[i])"
   ]
  },
  {
   "cell_type": "markdown",
   "metadata": {
    "deletable": false,
    "nbgrader": {
     "checksum": "c6549fa9ab7b1f7a4f685c2d0ad97861",
     "grade": false,
     "grade_id": "clean_up",
     "locked": true,
     "solution": false
    }
   },
   "source": [
    "## Cleaning up"
   ]
  },
  {
   "cell_type": "code",
   "execution_count": 10,
   "metadata": {
    "collapsed": true,
    "deletable": false,
    "nbgrader": {
     "checksum": "0ea9dcf3b6de4b2e90a5310a2893f402",
     "grade": false,
     "grade_id": "rm",
     "locked": true,
     "solution": false
    }
   },
   "outputs": [],
   "source": [
    "!rm top_20_airports.csv  # remove the csv file "
   ]
  },
  {
   "cell_type": "code",
   "execution_count": null,
   "metadata": {
    "collapsed": true
   },
   "outputs": [],
   "source": []
  }
 ],
 "metadata": {
  "kernelspec": {
   "display_name": "Python 3",
   "language": "python",
   "name": "python3"
  },
  "language_info": {
   "codemirror_mode": {
    "name": "ipython",
    "version": 3
   },
   "file_extension": ".py",
   "mimetype": "text/x-python",
   "name": "python",
   "nbconvert_exporter": "python",
   "pygments_lexer": "ipython3",
   "version": "3.5.2"
  }
 },
 "nbformat": 4,
 "nbformat_minor": 0
}
