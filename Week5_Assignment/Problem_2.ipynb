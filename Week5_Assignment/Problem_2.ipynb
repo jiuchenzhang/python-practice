{
 "cells": [
  {
   "cell_type": "markdown",
   "metadata": {
    "deletable": false,
    "nbgrader": {
     "checksum": "8deb0718a508bdced6dea5383c7d0a48",
     "grade": false,
     "grade_id": "header",
     "locked": true,
     "solution": false
    }
   },
   "source": [
    "# Week 5 Problem 2\n",
    "\n",
    "If you are not using the `Assignments` tab on the course JupyterHub server to read this notebook, read [Activating the assignments tab](https://github.com/UI-DataScience/info490-fa16/blob/master/Week2/assignments/README.md).\n",
    "\n",
    "A few things you should keep in mind when working on assignments:\n",
    "\n",
    "1. Make sure you fill in any place that says `YOUR CODE HERE`. Do **not** write your answer in anywhere else other than where it says `YOUR CODE HERE`. Anything you write anywhere else will be removed or overwritten by the autograder.\n",
    "\n",
    "2. Before you submit your assignment, make sure everything runs as expected. Go to menubar, select _Kernel_, and restart the kernel and run all cells (_Restart & Run all_).\n",
    "\n",
    "3. Do not change the title (i.e. file name) of this notebook.\n",
    "\n",
    "4. Make sure that you save your work (in the menubar, select _File_ → _Save and CheckPoint_)\n",
    "\n",
    "5. You are allowed to submit an assignment multiple times, but only the most recent submission will be graded."
   ]
  },
  {
   "cell_type": "code",
   "execution_count": 1,
   "metadata": {
    "collapsed": true,
    "deletable": false,
    "nbgrader": {
     "checksum": "01b918a5c59aa74257f9ebf84cca2bcf",
     "grade": false,
     "grade_id": "import_nose",
     "locked": true,
     "solution": false
    }
   },
   "outputs": [],
   "source": [
    "from nose.tools import assert_equal\n",
    "import os"
   ]
  },
  {
   "cell_type": "markdown",
   "metadata": {
    "deletable": false,
    "nbgrader": {
     "checksum": "957858204a707dd87c6ce31207ea5a54",
     "grade": false,
     "grade_id": "p1_title",
     "locked": true,
     "solution": false
    }
   },
   "source": [
    "# Problem 1.\n",
    "\n",
    "In this problem set, we will be practicing opening, reading, and then closing a csv file.  For this first section, you will need to write a function that extracts the n-th column of the csv files that are made below.\n",
    "\n",
    "So here is some important information for this problem:\n",
    "- Write a function named get_column(filename, n, header=True) that reads the n-th column from a file and returns a list of integers.\n",
    "- You may assume that the column is made of integers.\n",
    "- We will also use the optional argument header because the first line of our file lists the names of the columns, but we might want to turn this off to handle a file that doesn't have a header.\n",
    "- Use a combination of with statement and open() function to open filename in the get_column() function.\n",
    "- When I tried to use open() to read 2001.csv, I had the following error:\n",
    "    'utf-8' codec can't decode byte 0xe4 in position 343: invalid continuation byte\n",
    "- You can avoid this error by using encoding=\"latin-1\" option in open().\n",
    "- Skip the first line if the header parameter is True; do not skip if it's False.\n",
    "- Some columns have missing values \"NA\", and you need a way to handle these missing values. If the n-th column is missing, you should not include that column in result; that is, skip all rows with \"NA. As a result, lists returned from different columns may have different lengths.\n"
   ]
  },
  {
   "cell_type": "code",
   "execution_count": 2,
   "metadata": {
    "collapsed": false,
    "deletable": false,
    "nbgrader": {
     "checksum": "17910f49e276e69f32527a619fe914b1",
     "grade": false,
     "grade_id": "p1_answer",
     "locked": false,
     "solution": true
    }
   },
   "outputs": [],
   "source": [
    "def get_column(filename, n, header=True):\n",
    "    '''\n",
    "    Returns a list from reading the specified column in the CSV file.\n",
    "\n",
    "    Parameters\n",
    "    __________\n",
    "    filename (str): Input file name. The file is assumed to be in a \n",
    "                    Comma Separated Values (CSV) format with latin-1 encoding.\n",
    "    n (int): Column number. The first column starts at 0. The column must be\n",
    "             a list of integers.\n",
    "    header (bool): If True, the first line of file is column names.\n",
    "                   Default: True.\n",
    "    '''\n",
    "    result = []\n",
    "\n",
    "    # YOUR CODE HERE\n",
    "    import csv\n",
    "    with open(filename, 'r', encoding = 'latin-1') as csvfile:\n",
    "        for row in csv.reader(csvfile):\n",
    "            apd = row[n]\n",
    "            if header:                                  #if header = True, skip the first row.\n",
    "                header = False\n",
    "                continue\n",
    "            if apd != 'NA':\n",
    "                    result.append(int(apd))\n",
    "    return result"
   ]
  },
  {
   "cell_type": "code",
   "execution_count": 3,
   "metadata": {
    "collapsed": false,
    "deletable": false,
    "nbgrader": {
     "checksum": "ee57ab64e2a23c1e2a15d414cbd6d1ca",
     "grade": true,
     "grade_id": "cube_test",
     "locked": true,
     "points": 10,
     "solution": false
    }
   },
   "outputs": [],
   "source": [
    "csv_with_header = '''\n",
    "Year,Month,DayofMonth,DayOfWeek,DepTime,CRSDepTime,ArrTime,CRSArrTime,UniqueCarrier,FlightNum,TailNum,ActualElapsedTime,CRSElapsedTime,AirTime,ArrDelay,DepDelay,Origin,Dest,Distance,TaxiIn,TaxiOut,Cancelled,CancellationCode,Diverted,CarrierDelay,WeatherDelay,NASDelay,SecurityDelay,LateAircraftDelay\n",
    "2001,1,17,3,1806,1810,1931,1934,US,375,N700äæ,85,84,60,-3,-4,BWI,CLT,361,5,20,0,NA,0,NA,NA,NA,NA,1\n",
    "2001,1,18,4,1805,1810,1938,1934,US,375,N713äæ,93,84,64,4,-5,BWI,CLT,361,9,20,0,NA,0,NA,NA,NA,NA,1\n",
    "2001,1,19,5,1821,1810,1957,1934,US,375,N702äæ,96,84,80,23,11,BWI,CLT,361,6,10,0,NA,0,NA,NA,NA,NA,NA\n",
    "2001,1,20,6,1807,1810,1944,1934,US,375,N701äæ,97,84,66,10,-3,BWI,CLT,361,4,27,0,NA,0,NA,NA,NA,NA,NA\n",
    "'''.strip().encode('latin-1')\n",
    "\n",
    "csv_no_header = '''\n",
    "2001,1,17,3,1806,1810,1931,1934,US,375,N700äæ,85,84,60,-3,-4,BWI,CLT,361,5,20,0,NA,0,NA,NA,NA,NA,1\n",
    "2001,1,18,4,1805,1810,1938,1934,US,375,N713äæ,93,84,64,4,-5,BWI,CLT,361,9,20,0,NA,0,NA,NA,NA,NA,1\n",
    "2001,1,19,5,1821,1810,1957,1934,US,375,N702äæ,96,84,80,23,11,BWI,CLT,361,6,10,0,NA,0,NA,NA,NA,NA,NA\n",
    "2001,1,20,6,1807,1810,1944,1934,US,375,N701äæ,97,84,66,10,-3,BWI,CLT,361,4,27,0,NA,0,NA,NA,NA,NA,NA\n",
    "2001,1,21,7,1810,1810,1954,1934,US,375,N768äæ,104,84,62,20,0,BWI,CLT,361,4,38,0,NA,0,NA,NA,NA,NA,1\n",
    "'''.strip().encode('latin-1')\n",
    "\n",
    "with open('test.header.csv', 'wb') as f:\n",
    "    f.write(csv_with_header)\n",
    "    \n",
    "with open('test.noheader.csv', 'wb') as f:\n",
    "    f.write(csv_no_header)\n",
    "\n",
    "# header cases\n",
    "assert_equal(get_column('test.header.csv', 0, header=True), [2001] * 4)"
   ]
  },
  {
   "cell_type": "markdown",
   "metadata": {
    "deletable": false,
    "nbgrader": {
     "checksum": "64e274187b9963c50b9a9856d7bb95e5",
     "grade": false,
     "grade_id": "First_assertions",
     "locked": true,
     "solution": false
    }
   },
   "source": [
    "First we test the header==True cases:"
   ]
  },
  {
   "cell_type": "code",
   "execution_count": 4,
   "metadata": {
    "collapsed": false,
    "deletable": false,
    "nbgrader": {
     "checksum": "bf2a8ba7dff8af22d11c54b757764869",
     "grade": true,
     "grade_id": "markdown_2",
     "locked": true,
     "points": 10,
     "solution": false
    }
   },
   "outputs": [],
   "source": [
    "assert_equal(get_column('test.header.csv', 4, header=True), [1806, 1805, 1821, 1807])\n",
    "assert_equal(get_column('test.header.csv', 28, header=True), [1] * 2)\n",
    "assert_equal(get_column('test.header.csv', 27, header=True), [])\n",
    "assert_equal(get_column('test.header.csv', 2, header=True), list(range(17, 21)))"
   ]
  },
  {
   "cell_type": "markdown",
   "metadata": {
    "deletable": false,
    "nbgrader": {
     "checksum": "f653d013a1985d902f213e4b6f113088",
     "grade": false,
     "grade_id": "Second_Assertions",
     "locked": true,
     "solution": false
    }
   },
   "source": [
    "Finally, we test the header==False cases:"
   ]
  },
  {
   "cell_type": "code",
   "execution_count": 5,
   "metadata": {
    "collapsed": true,
    "deletable": false,
    "nbgrader": {
     "checksum": "4743adf8a1ba4782fa74663d2dea5c96",
     "grade": true,
     "grade_id": "markdown_3",
     "locked": true,
     "points": 10,
     "solution": false
    }
   },
   "outputs": [],
   "source": [
    "assert_equal(get_column('test.noheader.csv', 0, header=False), [2001] * 5)\n",
    "assert_equal(get_column('test.noheader.csv', 2, header=False), list(range(17, 22)))\n",
    "assert_equal(get_column('test.noheader.csv', 4, header=False), [1806, 1805, 1821, 1807, 1810])\n",
    "assert_equal(get_column('test.noheader.csv', 27, header=False), [])\n",
    "assert_equal(get_column('test.noheader.csv', 28, header=False), [1] * 3)"
   ]
  },
  {
   "cell_type": "code",
   "execution_count": 6,
   "metadata": {
    "collapsed": true,
    "deletable": false,
    "nbgrader": {
     "checksum": "4e50b9fe04df86d7190743c9a73d4801",
     "grade": false,
     "grade_id": "Cleanup",
     "locked": true,
     "solution": false
    }
   },
   "outputs": [],
   "source": [
    "# Remove the test csv files:\n",
    "# clean up\n",
    "os.remove('test.header.csv')\n",
    "os.remove('test.noheader.csv')"
   ]
  },
  {
   "cell_type": "code",
   "execution_count": null,
   "metadata": {
    "collapsed": true
   },
   "outputs": [],
   "source": []
  }
 ],
 "metadata": {
  "kernelspec": {
   "display_name": "Python 3",
   "language": "python",
   "name": "python3"
  },
  "language_info": {
   "codemirror_mode": {
    "name": "ipython",
    "version": 3
   },
   "file_extension": ".py",
   "mimetype": "text/x-python",
   "name": "python",
   "nbconvert_exporter": "python",
   "pygments_lexer": "ipython3",
   "version": "3.5.2"
  }
 },
 "nbformat": 4,
 "nbformat_minor": 0
}
