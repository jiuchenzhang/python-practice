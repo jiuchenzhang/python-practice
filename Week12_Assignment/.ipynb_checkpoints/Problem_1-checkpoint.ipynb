{
 "cells": [
  {
   "cell_type": "markdown",
   "metadata": {
    "deletable": false,
    "nbgrader": {
     "checksum": "04d27557362136ec347ed42d4c323a5e",
     "grade": false,
     "grade_id": "header",
     "locked": true,
     "solution": false
    }
   },
   "source": [
    "# Week 12 Problem 1\n",
    "\n",
    "If you are not using the `Assignments` tab on the course JupyterHub server to read this notebook, read [Activating the assignments tab](https://github.com/UI-DataScience/info490-fa16/blob/master/Week2/assignments/README.md).\n",
    "\n",
    "A few things you should keep in mind when working on assignments:\n",
    "\n",
    "1. Make sure you fill in any place that says `YOUR CODE HERE`. Do **not** write your answer in anywhere else other than where it says `YOUR CODE HERE`. Anything you write anywhere else will be removed or overwritten by the autograder.\n",
    "\n",
    "2. Before you submit your assignment, make sure everything runs as expected. Go to menubar, select _Kernel_, and restart the kernel and run all cells (_Restart & Run all_).\n",
    "\n",
    "3. Do not change the title (i.e. file name) of this notebook.\n",
    "\n",
    "4. Make sure that you save your work (in the menubar, select _File_ → _Save and CheckPoint_)\n",
    "\n",
    "5. You are allowed to submit an assignment multiple times, but only the most recent submission will be graded."
   ]
  },
  {
   "cell_type": "code",
   "execution_count": 1,
   "metadata": {
    "collapsed": true,
    "deletable": false,
    "nbgrader": {
     "checksum": "308cd784e44682179715f84f1c15072c",
     "grade": false,
     "grade_id": "import_nose",
     "locked": true,
     "solution": false
    }
   },
   "outputs": [],
   "source": [
    "from nose.tools import assert_equal\n",
    "import pickle, csv, sys, json, os"
   ]
  },
  {
   "cell_type": "code",
   "execution_count": 2,
   "metadata": {
    "collapsed": false,
    "deletable": false,
    "nbgrader": {
     "checksum": "3d45e78a5673c69e8c323ff620f1b045",
     "grade": false,
     "grade_id": "mkdir",
     "locked": true,
     "solution": false
    }
   },
   "outputs": [
    {
     "name": "stderr",
     "output_type": "stream",
     "text": [
      "2016-11-10 00:42:57 URL:https://raw.githubusercontent.com/UI-DataScience/summer2014/c6057185f9a910dfc04dfdc8e65d7f1ef9bb3f64/hw5/%23informatics.p [6863491/6863491] -> \"#informatics.p\" [1]\n"
     ]
    }
   ],
   "source": [
    "%%bash\n",
    "mkdir -p ~/w12p1_dir\n",
    "cd ~/w12p1_dir/\n",
    "wget -nv https://raw.githubusercontent.com/UI-DataScience/summer2014/c6057185f9a910dfc04dfdc8e65d7f1ef9bb3f64/hw5/%23informatics.p"
   ]
  },
  {
   "cell_type": "markdown",
   "metadata": {
    "deletable": false,
    "nbgrader": {
     "checksum": "fa067566ca50d66626101450e54d98ba",
     "grade": false,
     "grade_id": "description",
     "locked": true,
     "solution": false
    }
   },
   "source": [
    "In this assignemnt you will explore various file I/O methods, and to do so you'll be tasked with reading and writing Python dictionaries. This is a good data structure to work with as it does not usually fit into a tabular form easily (this one would, however, because we'll create it from a table). The following function takes no arguments but creates a dictionary of data from `airports.csv` where the keys are the IATA codes and the values are tuples of the rest of the data."
   ]
  },
  {
   "cell_type": "code",
   "execution_count": 3,
   "metadata": {
    "collapsed": false,
    "deletable": false,
    "nbgrader": {
     "checksum": "043fbd1818d7fd80ac1d5918c4a230ac",
     "grade": false,
     "grade_id": "make_data",
     "locked": true,
     "solution": false
    }
   },
   "outputs": [],
   "source": [
    "def make_data():\n",
    "    res = {}\n",
    "    with open('/home/data_scientist/data/airports.csv', 'r', encoding='latin1') as f:\n",
    "        for row in csv.reader(f, delimiter=','):\n",
    "            res[row[0]] = tuple(row[1:])\n",
    "            \n",
    "    return res\n",
    "\n",
    "res = make_data()"
   ]
  },
  {
   "cell_type": "code",
   "execution_count": 4,
   "metadata": {
    "collapsed": false,
    "deletable": false,
    "nbgrader": {
     "checksum": "86a462440f3f3c3daa6540c57b502a52",
     "grade": false,
     "grade_id": "len",
     "locked": true,
     "solution": false
    }
   },
   "outputs": [
    {
     "data": {
      "text/plain": [
       "3377"
      ]
     },
     "execution_count": 4,
     "metadata": {},
     "output_type": "execute_result"
    }
   ],
   "source": [
    "len(res)"
   ]
  },
  {
   "cell_type": "code",
   "execution_count": 5,
   "metadata": {
    "collapsed": false,
    "deletable": false,
    "nbgrader": {
     "checksum": "e326fc75db9ee78e086fbd43dbc6213d",
     "grade": false,
     "grade_id": "show",
     "locked": true,
     "solution": false
    }
   },
   "outputs": [
    {
     "data": {
      "text/plain": [
       "('Thigpen ', 'Bay Springs', 'MS', 'USA', '31.95376472', '-89.23450472')"
      ]
     },
     "execution_count": 5,
     "metadata": {},
     "output_type": "execute_result"
    }
   ],
   "source": [
    "res['00M']"
   ]
  },
  {
   "cell_type": "code",
   "execution_count": 6,
   "metadata": {
    "collapsed": false,
    "deletable": false,
    "nbgrader": {
     "checksum": "f78d7e371ba3c37ddfa355f4a1bb99e5",
     "grade": false,
     "grade_id": "size",
     "locked": true,
     "solution": false
    }
   },
   "outputs": [
    {
     "name": "stdout",
     "output_type": "stream",
     "text": [
      "res is roughly 0.20 MB\n"
     ]
    }
   ],
   "source": [
    "size_in_mb = sys.getsizeof(res)/1000000\n",
    "print('res is roughly {0:0.2f} MB'.format(size_in_mb))"
   ]
  },
  {
   "cell_type": "markdown",
   "metadata": {
    "deletable": false,
    "nbgrader": {
     "checksum": "3df3578f6107e1af983e275deb6015d1",
     "grade": false,
     "grade_id": "desc_funcs",
     "locked": true,
     "solution": false
    }
   },
   "source": [
    "The following two functions will convert a dictionary to a string and back again. You don't really have to worry about them, but they will be used to check your work for Problems 1 and 2."
   ]
  },
  {
   "cell_type": "code",
   "execution_count": 7,
   "metadata": {
    "collapsed": false,
    "deletable": false,
    "nbgrader": {
     "checksum": "0dced178b2e3bc6bfbaa994ff089baba",
     "grade": false,
     "grade_id": "util_funcs",
     "locked": true,
     "solution": false
    }
   },
   "outputs": [
    {
     "data": {
      "text/plain": [
       "True"
      ]
     },
     "execution_count": 7,
     "metadata": {},
     "output_type": "execute_result"
    }
   ],
   "source": [
    "def dict_to_str(a_dict):\n",
    "    \n",
    "    return str(a_dict)\n",
    "\n",
    "def str_to_dict(a_dict):\n",
    "    \n",
    "    return eval(a_dict)\n",
    "\n",
    "# verify\n",
    "str_to_dict(dict_to_str(res)) == res"
   ]
  },
  {
   "cell_type": "markdown",
   "metadata": {
    "deletable": false,
    "nbgrader": {
     "checksum": "e071843e27c7c521f4431e79e39a9a94",
     "grade": false,
     "grade_id": "p1_title",
     "locked": true,
     "solution": false
    }
   },
   "source": [
    "# Problem 1.\n",
    "\n",
    "Create a funtion that takes a Python string and writes it to a file. This should be a very simple wrapper function that takes two strings, one for the Python object to write out and the other for the file name to write it as."
   ]
  },
  {
   "cell_type": "code",
   "execution_count": 8,
   "metadata": {
    "collapsed": true,
    "deletable": false,
    "nbgrader": {
     "checksum": "db3521fb40ee6d84031e737d64f0aa3d",
     "grade": false,
     "grade_id": "p1_answer",
     "locked": false,
     "solution": true
    }
   },
   "outputs": [],
   "source": [
    "def write_out(obj, fname):\n",
    "    \n",
    "    \"\"\"Wrapper function to write Python objects using standard I/O\"\"\"\n",
    "    \n",
    "    #YOUR CODE HERE\n",
    "    # Take the Python string and writes it to a file \n",
    "    with open(fname, 'w') as f:\n",
    "        f.write(obj)\n",
    "    \n",
    "    return None"
   ]
  },
  {
   "cell_type": "code",
   "execution_count": 9,
   "metadata": {
    "collapsed": false,
    "deletable": false,
    "nbgrader": {
     "checksum": "28303790c843bf266e85cfb8a1a4375b",
     "grade": true,
     "grade_id": "p1_test",
     "locked": true,
     "points": 4,
     "solution": false
    }
   },
   "outputs": [],
   "source": [
    "tdata = 'THIS IS A TEST'\n",
    "write_out(tdata, '/home/data_scientist/w12p1_dir/p1_test')\n",
    "ans_p1 = !cat /home/data_scientist/w12p1_dir/p1_test\n",
    "assert_equal(ans_p1[0], tdata)\n",
    "assert_equal(len(ans_p1), 1)\n",
    "\n",
    "tdata_2 = 'THIS IS A\\nMULTI-LINE TEST'\n",
    "write_out(tdata_2, '/home/data_scientist/w12p1_dir/p1_test_2')\n",
    "ans_p1_2 = !cat /home/data_scientist/w12p1_dir/p1_test_2\n",
    "assert_equal(ans_p1_2[0], \"THIS IS A\")\n",
    "assert_equal(ans_p1_2[1], \"MULTI-LINE TEST\")\n",
    "assert_equal(len(ans_p1_2), 2)"
   ]
  },
  {
   "cell_type": "markdown",
   "metadata": {
    "deletable": false,
    "nbgrader": {
     "checksum": "29b7edc77c493fee48f47f6f12d7a08a",
     "grade": false,
     "grade_id": "p2_title",
     "locked": true,
     "solution": false
    }
   },
   "source": [
    "# Problem 2.\n",
    "\n",
    "Create a function that is essentially the inverse of Problem 1. That is, it should read in a file using standard Python I/O and create a list with one element per line."
   ]
  },
  {
   "cell_type": "code",
   "execution_count": 10,
   "metadata": {
    "collapsed": true,
    "deletable": false,
    "nbgrader": {
     "checksum": "60c6f2a9ed35a2dc261e8bb772cb1995",
     "grade": false,
     "grade_id": "p2_answer",
     "locked": false,
     "solution": true
    }
   },
   "outputs": [],
   "source": [
    "def read_in(fname):\n",
    "    \n",
    "    \"\"\"Wrapper function to read standard files\"\"\"\n",
    "    \n",
    "    #YOUR CODE HERE\n",
    "    # Read in a file and create a list with one element per line\n",
    "    result = []\n",
    "    with open(fname, 'r') as f:\n",
    "        for line in f:\n",
    "            result.append(line)\n",
    "    \n",
    "    return result"
   ]
  },
  {
   "cell_type": "code",
   "execution_count": 11,
   "metadata": {
    "collapsed": false,
    "deletable": false,
    "nbgrader": {
     "checksum": "6e04ae51b44955a5503ca7be31716eb6",
     "grade": true,
     "grade_id": "p2_test",
     "locked": true,
     "points": 4,
     "solution": false
    }
   },
   "outputs": [],
   "source": [
    "# check for a standard case\n",
    "tdata = \"THIS IS A PROBLEM 2 TEST\\nIT HAS TWO LINES\"\n",
    "write_out(tdata, '/home/data_scientist/w12p1_dir/p2_test')\n",
    "p2_ans = read_in('/home/data_scientist/w12p1_dir/p2_test')\n",
    "assert_equal(len(p2_ans), 2)\n",
    "assert_equal(p2_ans[0], \"THIS IS A PROBLEM 2 TEST\\n\")\n",
    "assert_equal(p2_ans[1], \"IT HAS TWO LINES\")\n",
    "\n",
    "\n",
    "# now check reading and writing a dictionary!\n",
    "res = make_data()\n",
    "res_str = dict_to_str(res)\n",
    "write_out(res_str, '/home/data_scientist/w12p1_dir/apts.txt')\n",
    "read_res = read_in('/home/data_scientist/w12p1_dir/apts.txt')\n",
    "read_res_dict = str_to_dict(read_res[0])\n",
    "res_two = make_data() # remake data\n",
    "\n",
    "assert_equal(res, res_two)\n",
    "assert_equal(read_res_dict, res)"
   ]
  },
  {
   "cell_type": "markdown",
   "metadata": {
    "deletable": false,
    "nbgrader": {
     "checksum": "92925e1b34d7acc89638a0a9684a017b",
     "grade": false,
     "grade_id": "p3_title",
     "locked": true,
     "solution": false
    }
   },
   "source": [
    "# Problem 3.\n",
    "\n",
    "Now for this problem write a function that takes a Python object and a filename and pickles it with the given filename."
   ]
  },
  {
   "cell_type": "code",
   "execution_count": 12,
   "metadata": {
    "collapsed": true,
    "deletable": false,
    "nbgrader": {
     "checksum": "d5a4e327af4dbac66a64035b5a3496bf",
     "grade": false,
     "grade_id": "p3_answer",
     "locked": false,
     "solution": true
    }
   },
   "outputs": [],
   "source": [
    "def write_pickle(obj, fname):\n",
    "    \n",
    "    \"\"\"Wrapper function to pickle Python objects\"\"\"\n",
    "    \n",
    "    #YOUR CODE HERE\n",
    "    # Takes a Python object and a filename and pickles it with the given filename\n",
    "    with open(fname, 'wb') as fout:\n",
    "        pickle.dump(obj, fout)\n",
    "    \n",
    "    return None"
   ]
  },
  {
   "cell_type": "code",
   "execution_count": 13,
   "metadata": {
    "collapsed": true,
    "deletable": false,
    "nbgrader": {
     "checksum": "b98a5be6de34102ef9818d28647dffa5",
     "grade": true,
     "grade_id": "p3_test",
     "locked": true,
     "points": 4,
     "solution": false
    }
   },
   "outputs": [],
   "source": [
    "# insert assert tests here\n",
    "tdata = make_data()\n",
    "path = '/home/data_scientist/w12p1_dir/p3.p'\n",
    "write_pickle(make_data,path)\n",
    "assert(os.path.exists(path))\n",
    "# NOTE this only checks if the file is there, not that it's right"
   ]
  },
  {
   "cell_type": "markdown",
   "metadata": {
    "deletable": false,
    "nbgrader": {
     "checksum": "7a9b9859ee23b664394f15d7135eae29",
     "grade": false,
     "grade_id": "p4_title",
     "locked": true,
     "solution": false
    }
   },
   "source": [
    "# Problem 4\n",
    "Now write a function that takes a filename and returns the un-pickled object at that file location. You can test your functions from problems 3 and 4 by pickling and unpickling random Python objects."
   ]
  },
  {
   "cell_type": "code",
   "execution_count": 14,
   "metadata": {
    "collapsed": true,
    "deletable": false,
    "nbgrader": {
     "checksum": "2a314b957c105a2662d509fa30ae4584",
     "grade": false,
     "grade_id": "p4_answer",
     "locked": false,
     "solution": true
    }
   },
   "outputs": [],
   "source": [
    "def read_pickle(fname):\n",
    "    \n",
    "    \"\"\"Wrapper function to un-pickle Python objects\"\"\"\n",
    "    \n",
    "    #YOUR CODE HERE\n",
    "    # Takes a filename and returns the un-pickled object at that file location\n",
    "    with open(fname, 'rb') as fin:\n",
    "        result = pickle.load(fin)\n",
    "    \n",
    "    return result"
   ]
  },
  {
   "cell_type": "code",
   "execution_count": 15,
   "metadata": {
    "collapsed": false,
    "deletable": false,
    "nbgrader": {
     "checksum": "b3630db81df45740ffb21b72bf6d1dcb",
     "grade": true,
     "grade_id": "p4_test",
     "locked": true,
     "points": 4,
     "solution": false
    }
   },
   "outputs": [],
   "source": [
    "res = make_data()\n",
    "write_pickle(res, '/home/data_scientist/w12p1_dir/p4.p')\n",
    "pkl_read_res = read_pickle('/home/data_scientist/w12p1_dir/p4.p')\n",
    "res_two = make_data()\n",
    "\n",
    "# you didnt modify the file\n",
    "assert_equal(res, res_two)\n",
    "# the pickle loaded file is the same\n",
    "assert_equal(pkl_read_res, res_two)\n",
    "\n",
    "# check a different pickle file\n",
    "\n",
    "pkl_read_res2 = read_pickle(\"/home/data_scientist/w12p1_dir/#informatics.p\")\n",
    "assert_equal(type(pkl_read_res2), list)\n",
    "assert_equal(len(pkl_read_res2), 1080)\n",
    "assert_equal(type(pkl_read_res2[0]), dict)"
   ]
  },
  {
   "cell_type": "markdown",
   "metadata": {
    "deletable": false,
    "nbgrader": {
     "checksum": "2701cfd921556cefd0a515eeae4317a4",
     "grade": false,
     "grade_id": "p5_title",
     "locked": true,
     "solution": false
    }
   },
   "source": [
    "# Problem 5\n",
    "\n",
    "Now use the same principles as Problems 1-4 to write a Python dictionary as a json. You don't have to worry about handling any object other than a dictionary. This should be extremely straightforward if you use the `json` module and read [the docs](https://docs.python.org/2/library/json.html)."
   ]
  },
  {
   "cell_type": "code",
   "execution_count": 16,
   "metadata": {
    "collapsed": true,
    "deletable": false,
    "nbgrader": {
     "checksum": "8f1e99d0a9e10925f8960d94c41085b5",
     "grade": false,
     "grade_id": "p5_answer",
     "locked": false,
     "solution": true
    }
   },
   "outputs": [],
   "source": [
    "def write_json(obj, fname):\n",
    "    \n",
    "    \"\"\"Wrapper function to write dictionaries as JSON\"\"\"\n",
    "    \n",
    "    #YOUR CODE HERE\n",
    "    # Take the Python string and writes it to a file \n",
    "    with open(fname, 'w') as f:\n",
    "        json.dump(obj, f)\n",
    "    \n",
    "    return None"
   ]
  },
  {
   "cell_type": "code",
   "execution_count": 17,
   "metadata": {
    "collapsed": false,
    "deletable": false,
    "nbgrader": {
     "checksum": "458e1b4e1668b3862561999c6db23647",
     "grade": true,
     "grade_id": "p5_tests",
     "locked": true,
     "points": 4,
     "solution": false
    }
   },
   "outputs": [],
   "source": [
    "tdata = make_data()\n",
    "write_json(tdata, '/home/data_scientist/w12p1_dir/p5.json')\n",
    "ans = !cat /home/data_scientist/w12p1_dir/p5.json\n",
    "assert_equal(tdata, make_data())\n",
    "assert('[\"Jackson Municipal\"' in ans[0])\n",
    "assert_equal(len(ans), 1)\n",
    "assert_equal(len(ans[0]), 288387)"
   ]
  },
  {
   "cell_type": "markdown",
   "metadata": {
    "deletable": false,
    "nbgrader": {
     "checksum": "c563ecc3b18e476fd9e786df7aed6d5c",
     "grade": false,
     "grade_id": "p6_title",
     "locked": true,
     "solution": false
    }
   },
   "source": [
    "# Problem 6\n",
    "\n",
    "Finally, write a function that reads the JSON back in as a Python dictionary. You might notice that the resulting dictionary comes back with lists instead of tuples as the entries. Your code should handle this and return a dictionary keyed by airport IATA with tuples as the entries. There are fancy and non-fancy ways to do this, and either is fine. If you want to give yourself a challenge, try some of the suggestions in [this StackExchange article](http://stackoverflow.com/questions/15721363/preserve-python-tuples-with-json)."
   ]
  },
  {
   "cell_type": "code",
   "execution_count": 18,
   "metadata": {
    "collapsed": true,
    "deletable": false,
    "nbgrader": {
     "checksum": "bba57657334c7669b4005ce34cf57279",
     "grade": false,
     "grade_id": "p6_answer",
     "locked": false,
     "solution": true
    }
   },
   "outputs": [],
   "source": [
    "def read_json(fname):\n",
    "    \n",
    "    \"\"\"Read JSON and convert entries of the dictionary to tuples\"\"\"\n",
    "    \n",
    "    #YOUR CODE HERE\n",
    "    # # Read in a file and create a dictionary with one element per line\n",
    "    result = {}\n",
    "    with open(fname, 'r') as f:\n",
    "        for k, v in json.load(f).items():\n",
    "            result[k] = tuple(v)\n",
    "    \n",
    "    return result"
   ]
  },
  {
   "cell_type": "code",
   "execution_count": 19,
   "metadata": {
    "collapsed": false,
    "deletable": false,
    "nbgrader": {
     "checksum": "ea3c796f5c22ad3219e909a928dce050",
     "grade": true,
     "grade_id": "p6_tests",
     "locked": true,
     "points": 5,
     "solution": false
    }
   },
   "outputs": [],
   "source": [
    "# insert assert tests here\n",
    "res = make_data()\n",
    "write_json(res, '/home/data_scientist/w12p1_dir/p6.json')\n",
    "json_read_res = read_json('/home/data_scientist/w12p1_dir/p6.json')\n",
    "res_two = make_data()\n",
    "\n",
    "assert_equal(res, res_two)\n",
    "assert_equal(json_read_res, res)"
   ]
  },
  {
   "cell_type": "markdown",
   "metadata": {
    "collapsed": false,
    "deletable": false,
    "nbgrader": {
     "checksum": "dfddeb4564a0dac5913bd773384de3e0",
     "grade": false,
     "grade_id": "clean_md",
     "locked": true,
     "solution": false
    }
   },
   "source": [
    "## Clean Up"
   ]
  },
  {
   "cell_type": "code",
   "execution_count": 20,
   "metadata": {
    "collapsed": true,
    "deletable": false,
    "nbgrader": {
     "checksum": "7a77dcdac7e6ff1a19cd24a37f47adac",
     "grade": false,
     "grade_id": "clean",
     "locked": true,
     "solution": false
    }
   },
   "outputs": [],
   "source": [
    "!rm -r /home/data_scientist/w12p1_dir/"
   ]
  },
  {
   "cell_type": "code",
   "execution_count": null,
   "metadata": {
    "collapsed": true
   },
   "outputs": [],
   "source": []
  }
 ],
 "metadata": {
  "kernelspec": {
   "display_name": "Python 3",
   "language": "python",
   "name": "python3"
  },
  "language_info": {
   "codemirror_mode": {
    "name": "ipython",
    "version": 3
   },
   "file_extension": ".py",
   "mimetype": "text/x-python",
   "name": "python",
   "nbconvert_exporter": "python",
   "pygments_lexer": "ipython3",
   "version": "3.5.2"
  }
 },
 "nbformat": 4,
 "nbformat_minor": 0
}
