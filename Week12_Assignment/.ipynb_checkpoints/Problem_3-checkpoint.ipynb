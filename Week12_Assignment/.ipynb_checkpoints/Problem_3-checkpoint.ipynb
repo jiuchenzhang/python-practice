{
 "cells": [
  {
   "cell_type": "markdown",
   "metadata": {},
   "source": [
    "# Week 12 Problem 3\n",
    "\n",
    "If you are not using the `Assignments` tab on the course JupyterHub server to read this notebook, read [Activating the assignments tab](https://github.com/UI-DataScience/info490-fa16/blob/master/Week2/assignments/README.md).\n",
    "\n",
    "A few things you should keep in mind when working on assignments:\n",
    "\n",
    "1. Make sure you fill in any place that says `YOUR CODE HERE`. Do **not** write your answer in anywhere else other than where it says `YOUR CODE HERE`. Anything you write anywhere else will be removed or overwritten by the autograder.\n",
    "\n",
    "2. Before you submit your assignment, make sure everything runs as expected. Go to menubar, select _Kernel_, and restart the kernel and run all cells (_Restart & Run all_).\n",
    "\n",
    "3. Do not change the title (i.e. file name) of this notebook.\n",
    "\n",
    "4. Make sure that you save your work (in the menubar, select _File_ → _Save and CheckPoint_)\n",
    "\n",
    "5. You are allowed to submit an assignment multiple times, but only the most recent submission will be graded."
   ]
  },
  {
   "cell_type": "code",
   "execution_count": 1,
   "metadata": {
    "collapsed": true,
    "deletable": false,
    "nbgrader": {
     "checksum": "a9f74c0133df38d52132ffdf76deb520",
     "grade": false,
     "grade_id": "import",
     "locked": true,
     "solution": false
    }
   },
   "outputs": [],
   "source": [
    "from nose.tools import assert_equal"
   ]
  },
  {
   "cell_type": "markdown",
   "metadata": {},
   "source": [
    "## Problem 1.\n",
    "\n",
    "In this problem, we will working on the `movies.csv` and the `ratings.csv` under the `~/data/ml-latest-small/` directory using an SQLite database. We will write SQL scripts using the iPython [`writefile`](https://ipython.org/ipython-doc/3/interactive/magics.html#cellmagic-writefile) magic, and then run bash commands like\n",
    "```bash\n",
    "$ sqlite3 problem3.db < script.sql\n",
    "```\n",
    "in which `problem3.db` is our database and `script.sql` is the script, to execute the SQL commands in the script. Let's first create two tables named `movies` and `ratings` from those two files. Here I'll do this for you.\n",
    "\n",
    "First, we create [sym links](https://en.wikipedia.org/wiki/Symbolic_link#POSIX_and_Unix-like_operating_systems) in the current directory to save our efforts calling the directories."
   ]
  },
  {
   "cell_type": "code",
   "execution_count": 2,
   "metadata": {
    "collapsed": false,
    "deletable": false,
    "nbgrader": {
     "checksum": "1740119caca1667305e799bf3a68831d",
     "grade": false,
     "grade_id": "path",
     "locked": true,
     "solution": false
    }
   },
   "outputs": [],
   "source": [
    "MOVIES_PATH = \"/home/data_scientist/data/ml-latest-small/movies.csv\"\n",
    "RATINGS_PATH = \"/home/data_scientist/data/ml-latest-small/ratings.csv\"\n",
    "\n",
    "!ln -sf $MOVIES_PATH movies.csv\n",
    "!ln -sf $RATINGS_PATH ratings.csv"
   ]
  },
  {
   "cell_type": "markdown",
   "metadata": {},
   "source": [
    "Below is an sql script that creates a table named `movies` from the `movies.csv` file, and then remove the header line and display the first 5 rows. We write this script to a file named `movies.sql` using the iPython `writefile` magic."
   ]
  },
  {
   "cell_type": "code",
   "execution_count": 3,
   "metadata": {
    "collapsed": false,
    "deletable": false,
    "nbgrader": {
     "checksum": "842ef088c3a7de59deb8825694e52963",
     "grade": false,
     "grade_id": "movies",
     "locked": true,
     "solution": false
    }
   },
   "outputs": [
    {
     "name": "stdout",
     "output_type": "stream",
     "text": [
      "Writing movies.sql\n"
     ]
    }
   ],
   "source": [
    "%%writefile movies.sql\n",
    "\n",
    "-- Create the movies table from our familiar movies.csv file.\n",
    "DROP TABLE IF EXISTS movies;\n",
    "\n",
    "CREATE TABLE movies(\n",
    "    movieId INT,\n",
    "    title TEXT,\n",
    "    genres TEXT\n",
    ");\n",
    "\n",
    ".separator ,\n",
    ".import movies.csv movies\n",
    "\n",
    "-- The following line removes the header.\n",
    "DELETE FROM movies WHERE movieId='movieId';\n",
    "\n",
    "-- Display the first 5 rows.\n",
    "SELECT * FROM movies LIMIT 5;"
   ]
  },
  {
   "cell_type": "markdown",
   "metadata": {},
   "source": [
    "For this problem, let's name our database as `problem3.db`. Here, we use the ! magic to redirect the `movies.sql` code to `sqlite3`. When you run the code cell below, you should be able to see the first 5 rows in the `movies` table as the output of the `SELECT` statement. You could find the column names and corresponding data types from the script directly."
   ]
  },
  {
   "cell_type": "code",
   "execution_count": 4,
   "metadata": {
    "collapsed": false,
    "deletable": false,
    "nbgrader": {
     "checksum": "5163934182161f9660d4353bcc23b58b",
     "grade": false,
     "grade_id": "movies_sql",
     "locked": true,
     "solution": false
    }
   },
   "outputs": [
    {
     "name": "stdout",
     "output_type": "stream",
     "text": [
      "1,Toy Story (1995),Adventure|Animation|Children|Comedy|Fantasy\r\n",
      "2,Jumanji (1995),Adventure|Children|Fantasy\r\n",
      "3,Grumpier Old Men (1995),Comedy|Romance\r\n",
      "4,Waiting to Exhale (1995),Comedy|Drama|Romance\r\n",
      "5,Father of the Bride Part II (1995),Comedy\r\n"
     ]
    }
   ],
   "source": [
    "!sqlite3 problem3.db < movies.sql"
   ]
  },
  {
   "cell_type": "markdown",
   "metadata": {},
   "source": [
    "Following the same process, let's create the `ratings` table from `ratings.csv`, remove the header, and then select the first 5 rows. Again, the column names and data types are shown in the script directly."
   ]
  },
  {
   "cell_type": "code",
   "execution_count": 5,
   "metadata": {
    "collapsed": false,
    "deletable": false,
    "nbgrader": {
     "checksum": "7eeb0c9fddb55b7b379154c85d1ac259",
     "grade": false,
     "grade_id": "ratings",
     "locked": true,
     "solution": false
    }
   },
   "outputs": [
    {
     "name": "stdout",
     "output_type": "stream",
     "text": [
      "Writing ratings.sql\n"
     ]
    }
   ],
   "source": [
    "%%writefile ratings.sql\n",
    "\n",
    "-- Create the ratings table from ratings.csv.\n",
    "DROP TABLE IF EXISTS ratings;\n",
    "\n",
    "CREATE TABLE ratings(\n",
    "    userId INT,\n",
    "    movieId INT,\n",
    "    rating REAL,\n",
    "    timestamp INT\n",
    ");\n",
    "\n",
    ".separator ,\n",
    ".import ratings.csv ratings\n",
    "\n",
    "-- The following line removes the header.\n",
    "DELETE FROM ratings WHERE userId='userId';\n",
    "\n",
    "-- Display the first 5 rows.\n",
    "SELECT * FROM ratings LIMIT 5;"
   ]
  },
  {
   "cell_type": "code",
   "execution_count": 6,
   "metadata": {
    "collapsed": false,
    "deletable": false,
    "nbgrader": {
     "checksum": "61886c6770428b279c5d9bd6e6527eb1",
     "grade": false,
     "grade_id": "ratings_sql",
     "locked": true,
     "solution": false
    }
   },
   "outputs": [
    {
     "name": "stdout",
     "output_type": "stream",
     "text": [
      "1,16,4.0,1217897793\r\n",
      "1,24,1.5,1217895807\r\n",
      "1,32,4.0,1217896246\r\n",
      "1,47,4.0,1217896556\r\n",
      "1,50,4.0,1217896523\r\n"
     ]
    }
   ],
   "source": [
    "!sqlite3 problem3.db < ratings.sql"
   ]
  },
  {
   "cell_type": "markdown",
   "metadata": {},
   "source": [
    "## 1. Create the `validRatings` table\n",
    "\n",
    "In the `ratings` table, each row is a rating record per movie per user. But the average rating for each movie is of more interest. Let's create a new table from the `ratings` table that contains the average rating for each movie. We would like to filter out the movies with few ratings because their avearge rating scores do not actually make sense. \n",
    "\n",
    "In the following code cell, write SQL statements into the sql script that create a table named `validRatings` following the instructions below. **Don't be scared by the long instruction. This is a simple operation as long as you read and follow the instruction.**\n",
    "- The iPython magic to write the script is provided (for every problem in this notebook). You only need to write SQL commands.\n",
    "- It's strongly recommended to start by writing \"**`DROP TABLE IF EXISTS validRatings;`**\" so that SQL will not complain if you try to recreate the table.\n",
    "- We are going to create a new table (`validRatings`) from an exisiting table (`ratings`). You should use \"**`CREATE TABLE newTableName AS SELECT ... FROM ...`**\" so that you could apply a `SELECT` statement and aggregate functions.\n",
    "- Create a table named `validRatings` from the `ratings` table, which has three columns: **`movieId`, `averageRating`, `ratingCounts`**. The first column `movieId` is copied from the `movieId` column in the `ratings` table. The second column is the average of the `rating` column in the `ratings` table (for each `movieId`) . The last column is the count of the `rating` column (for each `movieId`). \n",
    "- You should have a [**`GROUP BY`**](http://www.w3schools.com/sql/sql_groupby.asp) clause in your `SELECT` statement to make sure the aggregate functions are applied for each `movieId`. Without that clause, the average function will calculate the average of all rows, and so will the count function. \n",
    "- Finally, you should only select the rows with rating counts larger than 30. You should use a [**`HAVING`**](http://www.w3schools.com/sql/sql_having.asp) clause which allows you to include aggregate functions as the filtering condition. The idea of `HAVING` is very similar to `WHERE`. Note that a `WHERE` clause will not work, because the `WHERE` keyword could not be used with aggregate functions. "
   ]
  },
  {
   "cell_type": "code",
   "execution_count": 7,
   "metadata": {
    "collapsed": false,
    "deletable": false,
    "nbgrader": {
     "checksum": "d843a169bd7778d31b97d6f88176bd6a",
     "grade": false,
     "grade_id": "ratings_operations",
     "locked": false,
     "solution": true
    }
   },
   "outputs": [
    {
     "name": "stdout",
     "output_type": "stream",
     "text": [
      "Overwriting ratings_operations.sql\n"
     ]
    }
   ],
   "source": [
    "%%writefile ratings_operations.sql\n",
    "\n",
    "-- YOUR CODE HERE\n",
    "-- Drop the table if it exists\n",
    "DROP TABLE IF EXISTS validRatings;\n",
    "-- Create new table\n",
    "CREATE TABLE validRatings AS SELECT movieId, AVG(rating) AS 'averageRating', COUNT(rating) AS 'ratingCounts' \n",
    "FROM ratings \n",
    "-- Make sure the aggregate functions are applied for each movieId\n",
    "GROUP BY movieID\n",
    "-- Filter the rows\n",
    "HAVING ratingCounts > 30;"
   ]
  },
  {
   "cell_type": "markdown",
   "metadata": {},
   "source": [
    "Let's execute your SQL script and display the first 5 rows. You should be able to see:\n",
    "```\n",
    "1|3.9073275862069|232\n",
    "2|3.35326086956522|92\n",
    "3|3.18965517241379|58\n",
    "5|3.25|62\n",
    "6|4.07391304347826|115\n",
    "```\n",
    "If your SQL command has any problem, the SQL database wil give you an error message as the output of the code cell below, which, in general, is human-readable that helps you debug."
   ]
  },
  {
   "cell_type": "code",
   "execution_count": 8,
   "metadata": {
    "collapsed": false,
    "deletable": false,
    "nbgrader": {
     "checksum": "bcf536d395c0c034a2a67820846a07a2",
     "grade": false,
     "grade_id": "execute_ratings_operations",
     "locked": true,
     "solution": false
    }
   },
   "outputs": [],
   "source": [
    "!sqlite3 problem3.db < ratings_operations.sql"
   ]
  },
  {
   "cell_type": "code",
   "execution_count": 9,
   "metadata": {
    "collapsed": false,
    "deletable": false,
    "nbgrader": {
     "checksum": "c8e3b3ae4fcffe955313a929a8f37d11",
     "grade": false,
     "grade_id": "validRatings_first5",
     "locked": true,
     "solution": false
    }
   },
   "outputs": [
    {
     "name": "stdout",
     "output_type": "stream",
     "text": [
      "1|3.9073275862069|232\r\n",
      "2|3.35326086956522|92\r\n",
      "3|3.18965517241379|58\r\n",
      "5|3.25|62\r\n",
      "6|4.07391304347826|115\r\n"
     ]
    }
   ],
   "source": [
    "!sqlite3 problem3.db \"SELECT * FROM validRatings LIMIT 5;\""
   ]
  },
  {
   "cell_type": "code",
   "execution_count": 10,
   "metadata": {
    "collapsed": false,
    "deletable": false,
    "nbgrader": {
     "checksum": "b993da23cb93d320135d81facfff72f4",
     "grade": true,
     "grade_id": "ratings_operations_test",
     "locked": true,
     "points": 7,
     "solution": false
    }
   },
   "outputs": [],
   "source": [
    "# sql assertion tests\n",
    "\n",
    "table_exists = !sqlite3 problem3.db \"SELECT name FROM sqlite_master WHERE type='table' and name='validRatings';\"\n",
    "assert_equal(table_exists.s, \"validRatings\", msg=\"There's no table named \\\"validRatings\\\" in the database.\")\n",
    "\n",
    "table_info = !sqlite3 problem3.db \"PRAGMA table_info(validRatings);\"\n",
    "columns = [t.split(\"|\")[1] for t in table_info]\n",
    "columns_answer = ['movieId', 'averageRating', 'ratingCounts']\n",
    "assert_equal(set(columns), set(columns_answer))\n",
    "\n",
    "total_rows = !sqlite3 problem3.db \"SELECT COUNT(*) FROM validRatings;\"\n",
    "assert_equal(total_rows.s, \"861\")\n",
    "\n",
    "first_five = !sqlite3 problem3.db \"SELECT * FROM validRatings LIMIT 5;\"\n",
    "first_five_answer = ['1|3.9073275862069|232',\n",
    "                     '2|3.35326086956522|92',\n",
    "                     '3|3.18965517241379|58',\n",
    "                     '5|3.25|62',\n",
    "                     '6|4.07391304347826|115']\n",
    "assert_equal(set(first_five), set(first_five_answer))\n",
    "\n",
    "counts = !sqlite3 problem3.db \"SELECT ratingCounts FROM validRatings WHERE movieId=497;\"\n",
    "assert_equal(counts.s, \"67\")"
   ]
  },
  {
   "cell_type": "markdown",
   "metadata": {},
   "source": [
    "## 2. Join `validRatings` and `movies` into a new table\n",
    "\n",
    "In the code cell below, write SQL commands to create a table named `movieRatings` by implicitly joining `validRatings` and `movies` tables.\n",
    "\n",
    "- \"**`DROP TABLE IF EXISTS`**\" is strongly recommended.\n",
    "- Again, you should use \"**`CREATE TABLE newTableName AS SELECT ... FROM ... **`**\" to create a new table from existing tables.\n",
    "- The common column in both tables is the **`movieId`** column. Use that column to match the two tables.\n",
    "- The resulting new table `movieRatings` have three columns: **`averageRating`, `title`, `genres`**. The first column `averageRating` is copied from the `validRatings` table, and the other two columns are from the `movies` table."
   ]
  },
  {
   "cell_type": "code",
   "execution_count": 11,
   "metadata": {
    "collapsed": false,
    "deletable": false,
    "nbgrader": {
     "checksum": "80cec1b6e56ee45e3b6f7229b2b5a2aa",
     "grade": false,
     "grade_id": "join",
     "locked": false,
     "solution": true
    }
   },
   "outputs": [
    {
     "name": "stdout",
     "output_type": "stream",
     "text": [
      "Overwriting join.sql\n"
     ]
    }
   ],
   "source": [
    "%%writefile join.sql\n",
    "\n",
    "-- YOUR CODE HERE\n",
    "-- Drop table if it exists\n",
    "DROP TABLE IF EXISTS movieRatings;\n",
    "-- Create the table\n",
    "CREATE TABLE movieRatings\n",
    "AS SELECT v.averageRating, m.title, m.genres \n",
    "FROM validRatings AS v, movies AS m \n",
    "-- Use WHERE to match two tables\n",
    "WHERE v.movieID = m.movieID;"
   ]
  },
  {
   "cell_type": "markdown",
   "metadata": {},
   "source": [
    "The first column of the `movieRatings` table is:\n",
    "\n",
    "```\n",
    "3.9073275862069|Toy Story (1995)|Adventure|Animation|Children|Comedy|Fantasy\n",
    "3.35326086956522|Jumanji (1995)|Adventure|Children|Fantasy\n",
    "3.18965517241379|Grumpier Old Men (1995)|Comedy|Romance\n",
    "3.25|Father of the Bride Part II (1995)|Comedy\n",
    "4.07391304347826|Heat (1995)|Action|Crime|Thriller\n",
    "```"
   ]
  },
  {
   "cell_type": "code",
   "execution_count": 12,
   "metadata": {
    "collapsed": false,
    "deletable": false,
    "nbgrader": {
     "checksum": "0d0231e332c3aaa97b29523580227979",
     "grade": false,
     "grade_id": "execute_join",
     "locked": true,
     "solution": false
    }
   },
   "outputs": [],
   "source": [
    "!sqlite3 problem3.db < join.sql"
   ]
  },
  {
   "cell_type": "code",
   "execution_count": 13,
   "metadata": {
    "collapsed": false,
    "deletable": false,
    "nbgrader": {
     "checksum": "8bfe88359a88fbe79e8f32ca069f6a3e",
     "grade": false,
     "grade_id": "join_first5",
     "locked": true,
     "solution": false
    }
   },
   "outputs": [
    {
     "name": "stdout",
     "output_type": "stream",
     "text": [
      "3.9073275862069|Toy Story (1995)|Adventure|Animation|Children|Comedy|Fantasy\r\n",
      "3.35326086956522|Jumanji (1995)|Adventure|Children|Fantasy\r\n",
      "3.18965517241379|Grumpier Old Men (1995)|Comedy|Romance\r\n",
      "3.25|Father of the Bride Part II (1995)|Comedy\r\n",
      "4.07391304347826|Heat (1995)|Action|Crime|Thriller\r\n"
     ]
    }
   ],
   "source": [
    "!sqlite3 problem3.db \"SELECT * FROM movieRatings LIMIT 5;\""
   ]
  },
  {
   "cell_type": "code",
   "execution_count": 14,
   "metadata": {
    "collapsed": false,
    "deletable": false,
    "nbgrader": {
     "checksum": "38b5140d26f3aba550ceda54d5759a92",
     "grade": true,
     "grade_id": "join_test",
     "locked": true,
     "points": 6,
     "solution": false
    }
   },
   "outputs": [],
   "source": [
    "# sql assertion tests\n",
    "\n",
    "movieRatings_exists = !sqlite3 problem3.db \"SELECT name FROM sqlite_master WHERE type='table' and name='movieRatings';\"\n",
    "assert_equal(movieRatings_exists.s, \"movieRatings\", msg=\"There's no table named \\\"movieRatings\\\" in the database.\")\n",
    "\n",
    "movieRatings_info = !sqlite3 problem3.db \"PRAGMA table_info(movieRatings);\"\n",
    "movieRatings_columns = [t.split(\"|\")[1] for t in movieRatings_info]\n",
    "movieRatings_columns_answer = ['averageRating', 'title', 'genres']\n",
    "assert_equal(set(movieRatings_columns), set(movieRatings_columns_answer))\n",
    "\n",
    "movieRatings_total_rows = !sqlite3 problem3.db \"SELECT COUNT(*) FROM movieRatings;\"\n",
    "assert_equal(movieRatings_total_rows.s, \"861\")\n",
    "\n",
    "movieRatings_first_five = !sqlite3 problem3.db \"SELECT * FROM movieRatings LIMIT 5;\"\n",
    "movieRatings_first_five_answer = ['3.9073275862069|Toy Story (1995)|Adventure|Animation|Children|Comedy|Fantasy',\n",
    "                                  '3.35326086956522|Jumanji (1995)|Adventure|Children|Fantasy',\n",
    "                                  '3.18965517241379|Grumpier Old Men (1995)|Comedy|Romance',\n",
    "                                  '3.25|Father of the Bride Part II (1995)|Comedy',\n",
    "                                  '4.07391304347826|Heat (1995)|Action|Crime|Thriller']\n",
    "assert_equal(set(movieRatings_first_five), set(movieRatings_first_five_answer))\n",
    "\n",
    "rating = !sqlite3 problem3.db \"SELECT averageRating FROM movieRatings WHERE title='Interstellar (2014)';\"\n",
    "assert_equal(rating.s, \"4.06578947368421\")"
   ]
  },
  {
   "cell_type": "markdown",
   "metadata": {
    "nbgrader": {
     "grade": false,
     "locked": false,
     "solution": false
    }
   },
   "source": [
    "## 3. Find the best horror movies\n",
    "\n",
    "In the code cell below, write an SQL command to find every row satisfying ALL of these conditions:\n",
    "\n",
    "- Its `averageRating` is above 4.0;\n",
    "- Its `genres` contains the string \"`Horror`\" at any place, i.e. the pattern is \"`%Horror%`\";\n",
    "- Order the selected rows by its `averageRating` score in a **descending** order;\n",
    "- All the columns should be displayed."
   ]
  },
  {
   "cell_type": "code",
   "execution_count": 15,
   "metadata": {
    "collapsed": false,
    "deletable": false,
    "nbgrader": {
     "checksum": "981a426677d19279b4e9773a964e1406",
     "grade": false,
     "grade_id": "horror",
     "locked": false,
     "solution": true
    }
   },
   "outputs": [
    {
     "name": "stdout",
     "output_type": "stream",
     "text": [
      "Writing best_horror_movies.sql\n"
     ]
    }
   ],
   "source": [
    "%%writefile best_horror_movies.sql\n",
    "\n",
    "-- YOUR CODE HERE\n",
    "-- Find every row satisfying that its averageRating is above 4.0, its genres contains the string \"Horror\" at any place\n",
    "SELECT * FROM movieRatings\n",
    "WHERE averageRating > 4.0 AND genres LIKE \"%Horror%\"\n",
    "-- Order the selected rows by its averageRating score in a descending order\n",
    "ORDER BY averageRating DESC;"
   ]
  },
  {
   "cell_type": "markdown",
   "metadata": {},
   "source": [
    "When you execute the code cell below, you should get: \n",
    "```\n",
    "4.1948275862069|Silence of the Lambs, The (1991)|Crime|Horror|Thriller\n",
    "4.18604651162791|Psycho (1960)|Crime|Horror\n",
    "4.14649681528662|Aliens (1986)|Action|Adventure|Horror|Sci-Fi\n",
    "4.13089005235602|Sixth Sense, The (1999)|Drama|Horror|Mystery\n",
    "4.06410256410256|Alien (1979)|Horror|Sci-Fi\n",
    "4.05|Shaun of the Dead (2004)|Comedy|Horror\n",
    "4.03125|Battle Royale (Batoru rowaiaru) (2000)|Action|Drama|Horror|Thriller\n",
    "4.00446428571429|Shining, The (1980)|Horror\n",
    "```"
   ]
  },
  {
   "cell_type": "code",
   "execution_count": 16,
   "metadata": {
    "collapsed": false,
    "deletable": false,
    "nbgrader": {
     "checksum": "97406f181888234aa7fb9c033e1d3e77",
     "grade": false,
     "grade_id": "execute_horror",
     "locked": true,
     "solution": false
    }
   },
   "outputs": [
    {
     "name": "stdout",
     "output_type": "stream",
     "text": [
      "4.1948275862069|Silence of the Lambs, The (1991)|Crime|Horror|Thriller\r\n",
      "4.18604651162791|Psycho (1960)|Crime|Horror\r\n",
      "4.14649681528662|Aliens (1986)|Action|Adventure|Horror|Sci-Fi\r\n",
      "4.13089005235602|Sixth Sense, The (1999)|Drama|Horror|Mystery\r\n",
      "4.06410256410256|Alien (1979)|Horror|Sci-Fi\r\n",
      "4.05|Shaun of the Dead (2004)|Comedy|Horror\r\n",
      "4.03125|Battle Royale (Batoru rowaiaru) (2000)|Action|Drama|Horror|Thriller\r\n",
      "4.00446428571429|Shining, The (1980)|Horror\r\n"
     ]
    }
   ],
   "source": [
    "!sqlite3 problem3.db < best_horror_movies.sql"
   ]
  },
  {
   "cell_type": "code",
   "execution_count": 17,
   "metadata": {
    "collapsed": true,
    "deletable": false,
    "nbgrader": {
     "checksum": "eadb90c2fea27a24c1a521cdb58c8433",
     "grade": true,
     "grade_id": "horror_test",
     "locked": true,
     "points": 6,
     "solution": false
    }
   },
   "outputs": [],
   "source": [
    "# sql assertion tests\n",
    "\n",
    "best_horrors_query = !sqlite3 problem3.db < best_horror_movies.sql\n",
    "best_horrors_query_answer = ['4.1948275862069|Silence of the Lambs, The (1991)|Crime|Horror|Thriller',\n",
    "                             '4.18604651162791|Psycho (1960)|Crime|Horror',\n",
    "                             '4.14649681528662|Aliens (1986)|Action|Adventure|Horror|Sci-Fi',\n",
    "                             '4.13089005235602|Sixth Sense, The (1999)|Drama|Horror|Mystery',\n",
    "                             '4.06410256410256|Alien (1979)|Horror|Sci-Fi',\n",
    "                             '4.05|Shaun of the Dead (2004)|Comedy|Horror',\n",
    "                             '4.03125|Battle Royale (Batoru rowaiaru) (2000)|Action|Drama|Horror|Thriller',\n",
    "                             '4.00446428571429|Shining, The (1980)|Horror']\n",
    "\n",
    "assert_equal(len(best_horrors_query), len(best_horrors_query_answer))\n",
    "assert_equal(set(best_horrors_query), set(best_horrors_query_answer))"
   ]
  },
  {
   "cell_type": "markdown",
   "metadata": {},
   "source": [
    "## 4. Find the most popular movie\n",
    "\n",
    "In the code cell below, write an SQL command to find the most popular movie, i.e. the movie with the highest `ratingCounts`.\n",
    "\n",
    "- You need to apply aggregate functions to find the maximum of `ratingCounts` in the `validRatings` table.\n",
    "- In addition to the maximum of `ratingCounts`, we would also like to know the movie `title` and `genres`. Those data can be extracted from the `movies` table.\n",
    "- The output has three columns: **maximum `ratingCounts`, `title`, `genres`**. \n",
    "- Since we are using info from two tables, we need to do an implicit join again. The common column is still **`movieId`**."
   ]
  },
  {
   "cell_type": "code",
   "execution_count": 18,
   "metadata": {
    "collapsed": false,
    "deletable": false,
    "nbgrader": {
     "checksum": "b3731935f9194d416bbdb5e093da49ba",
     "grade": false,
     "grade_id": "popular",
     "locked": false,
     "solution": true
    }
   },
   "outputs": [
    {
     "name": "stdout",
     "output_type": "stream",
     "text": [
      "Writing most_popular.sql\n"
     ]
    }
   ],
   "source": [
    "%%writefile most_popular.sql\n",
    "\n",
    "-- YOUR CODE HERE\n",
    "-- Find the maximum of ratingCounts in the validRatings table\n",
    "SELECT MAX(ratingCounts ), m.title, m.genres\n",
    "FROM validRatings AS v, movies AS m \n",
    "-- Use WHERE to match two tables\n",
    "WHERE v.movieID = m.movieID;"
   ]
  },
  {
   "cell_type": "markdown",
   "metadata": {},
   "source": [
    "When the following command is executed, you should be able to see: \n",
    "```\n",
    "325|Pulp Fiction (1994)|Comedy|Crime|Drama|Thriller\n",
    "```"
   ]
  },
  {
   "cell_type": "code",
   "execution_count": 19,
   "metadata": {
    "collapsed": false,
    "deletable": false,
    "nbgrader": {
     "checksum": "574d3fd7874254f41c783a8dd023dca2",
     "grade": false,
     "grade_id": "execute_popular",
     "locked": true,
     "solution": false
    }
   },
   "outputs": [
    {
     "name": "stdout",
     "output_type": "stream",
     "text": [
      "325|Pulp Fiction (1994)|Comedy|Crime|Drama|Thriller\r\n"
     ]
    }
   ],
   "source": [
    "!sqlite3 problem3.db < most_popular.sql"
   ]
  },
  {
   "cell_type": "code",
   "execution_count": 20,
   "metadata": {
    "collapsed": false,
    "deletable": false,
    "nbgrader": {
     "checksum": "179f54ce7d999c8b1aa531505f457f93",
     "grade": true,
     "grade_id": "popular_test",
     "locked": true,
     "points": 6,
     "solution": false
    }
   },
   "outputs": [],
   "source": [
    "#sql assertion tests\n",
    "\n",
    "most_popular_query = !sqlite3 problem3.db < most_popular.sql\n",
    "most_popular_query_answer = \"325|Pulp Fiction (1994)|Comedy|Crime|Drama|Thriller\"\n",
    "assert_equal(most_popular_query.s, most_popular_query_answer)"
   ]
  },
  {
   "cell_type": "markdown",
   "metadata": {},
   "source": [
    "## Clearning up"
   ]
  },
  {
   "cell_type": "code",
   "execution_count": 21,
   "metadata": {
    "collapsed": false,
    "deletable": false,
    "nbgrader": {
     "checksum": "e6706b762fe1272da0c0424b46b11269",
     "grade": false,
     "grade_id": "cleanup",
     "locked": true,
     "solution": false
    }
   },
   "outputs": [],
   "source": [
    "!rm problem3.db movies.sql ratings.sql best_horror_movies.sql \\\n",
    " most_popular.sql movies.csv ratings.csv"
   ]
  },
  {
   "cell_type": "code",
   "execution_count": null,
   "metadata": {
    "collapsed": true
   },
   "outputs": [],
   "source": []
  }
 ],
 "metadata": {
  "kernelspec": {
   "display_name": "Python 3",
   "language": "python",
   "name": "python3"
  },
  "language_info": {
   "codemirror_mode": {
    "name": "ipython",
    "version": 3
   },
   "file_extension": ".py",
   "mimetype": "text/x-python",
   "name": "python",
   "nbconvert_exporter": "python",
   "pygments_lexer": "ipython3",
   "version": "3.5.2"
  }
 },
 "nbformat": 4,
 "nbformat_minor": 1
}
