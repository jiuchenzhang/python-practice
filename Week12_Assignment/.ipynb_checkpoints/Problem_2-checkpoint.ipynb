{
 "cells": [
  {
   "cell_type": "markdown",
   "metadata": {
    "deletable": false,
    "nbgrader": {
     "checksum": "cd52b9e4432b37270aff6e9cfa94ee39",
     "grade": false,
     "grade_id": "header",
     "locked": true,
     "solution": false
    }
   },
   "source": [
    "# Week 12 Problem 2\n",
    "\n",
    "If you are not using the `Assignments` tab on the course JupyterHub server to read this notebook, read [Activating the assignments tab](https://github.com/UI-DataScience/info490-fa16/blob/master/Week2/assignments/README.md).\n",
    "\n",
    "A few things you should keep in mind when working on assignments:\n",
    "\n",
    "1. Make sure you fill in any place that says `YOUR CODE HERE`. Do **not** write your answer in anywhere else other than where it says `YOUR CODE HERE`. Anything you write anywhere else will be removed or overwritten by the autograder.\n",
    "\n",
    "2. Before you submit your assignment, make sure everything runs as expected. Go to menubar, select _Kernel_, and restart the kernel and run all cells (_Restart & Run all_).\n",
    "\n",
    "3. Do not change the title (i.e. file name) of this notebook.\n",
    "\n",
    "4. Make sure that you save your work (in the menubar, select _File_ → _Save and CheckPoint_)\n",
    "\n",
    "5. You are allowed to submit an assignment multiple times, but only the most recent submission will be graded."
   ]
  },
  {
   "cell_type": "code",
   "execution_count": 1,
   "metadata": {
    "collapsed": true,
    "deletable": false,
    "nbgrader": {
     "checksum": "f41f3e133f7eab1a6b85fed8da9860bf",
     "grade": false,
     "grade_id": "import_nose",
     "locked": true,
     "solution": false
    }
   },
   "outputs": [],
   "source": [
    "from nose.tools import assert_equal"
   ]
  },
  {
   "cell_type": "markdown",
   "metadata": {
    "deletable": false,
    "nbgrader": {
     "checksum": "6cd1f3718fc36cd8af33ee7be2ae0fde",
     "grade": false,
     "grade_id": "intro",
     "locked": true,
     "solution": false
    }
   },
   "source": [
    "This week's assignment is one long, continous problem, but I split it into three sections for easier grading:\n",
    "\n",
    "    1.CREATE a table named flights, import 2001.csv, and CREATE another table iata, import iata.csv.\n",
    "    2.JOIN flights and iata by matching the IATA code, and INSERT a new row in the table, and\n",
    "    3.SELECT summary information and a query.\n",
    "    \n",
    "Normally, we would use the SQLite command line tool to perform the database tasks in this assignment. For example, we could do\n",
    "\n",
    "    $ sqlite3 mydatabase.db\n",
    "    SQLite version 3.8.2 2013-12-06 14:53:30\n",
    "    Enter \".help\" for instructions\n",
    "    Enter SQL statements terminated with a \";\"\n",
    "    sqlite>\n",
    "    \n",
    "which brings up an interactive prompt, where you can enter SQL commands line by line. Or you could write an SQL script in text file format (e.g. airport.sql) and run it from the command line with\n",
    "\n",
    "    $ sqlite3 mydatabase.db < airport.sql\n",
    "    \n",
    "You might find it easier to practice and debug using the command line, but in this notebook, we will write our SQL statements to a text file using the [writefile magic](https://ipython.org/ipython-doc/3/interactive/magics.html#cellmagic-writefile) function. We will also use IPython's ! function ([IPython](http://ipython-minrk.readthedocs.io/en/latest/interactive/shell.html) as a system shell ; see also [system shell commands](https://ipython.org/ipython-doc/dev/interactive/tutorial.html#system-shell-commands) and [system shell access](https://ipython.org/ipython-doc/dev/interactive/reference.html#system-shell-access)).\n",
    "\n",
    "In the following code cell, modify the CSV_PATH variable if your 2001.csv file is in a different place."
   ]
  },
  {
   "cell_type": "code",
   "execution_count": 2,
   "metadata": {
    "collapsed": true,
    "deletable": false,
    "nbgrader": {
     "checksum": "7b2dbf6cf499dfcb766ae367e3c1e465",
     "grade": false,
     "grade_id": "csv_path",
     "locked": true,
     "solution": false
    }
   },
   "outputs": [],
   "source": [
    "CSV_PATH = \"/home/data_scientist/data/2001.csv\" # edit this path if necessary"
   ]
  },
  {
   "cell_type": "markdown",
   "metadata": {
    "deletable": false,
    "nbgrader": {
     "checksum": "8c0645684c18ec4dcf3743ffceb6d5df",
     "grade": false,
     "grade_id": "sym_link",
     "locked": true,
     "solution": false
    }
   },
   "source": [
    "We will create a [sym link](https://en.wikipedia.org/wiki/Symbolic_link#POSIX_and_Unix-like_operating_systems) in the current directory. Do not edit the following code cell. Change the CSV_PATH variable instead."
   ]
  },
  {
   "cell_type": "code",
   "execution_count": 3,
   "metadata": {
    "collapsed": false,
    "deletable": false,
    "nbgrader": {
     "checksum": "e94bd5f0d2913c8bca3b8f89e84d7377",
     "grade": false,
     "grade_id": "sym_link2",
     "locked": true,
     "solution": false
    }
   },
   "outputs": [
    {
     "name": "stdout",
     "output_type": "stream",
     "text": [
      "ln: failed to create symbolic link ‘2001.csv’: File exists\r\n"
     ]
    }
   ],
   "source": [
    "!ln -s $CSV_PATH 2001.csv"
   ]
  },
  {
   "cell_type": "code",
   "execution_count": 4,
   "metadata": {
    "collapsed": false
   },
   "outputs": [
    {
     "name": "stdout",
     "output_type": "stream",
     "text": [
      "Year,Month,DayofMonth,DayOfWeek,DepTime,CRSDepTime,ArrTime,CRSArrTime,UniqueCarrier,FlightNum,TailNum,ActualElapsedTime,CRSElapsedTime,AirTime,ArrDelay,DepDelay,Origin,Dest,Distance,TaxiIn,TaxiOut,Cancelled,CancellationCode,Diverted,CarrierDelay,WeatherDelay,NASDelay,SecurityDelay,LateAircraftDelay\r\n",
      "2001,1,17,3,1806,1810,1931,1934,US,375,N700��,85,84,60,-3,-4,BWI,CLT,361,5,20,0,NA,0,NA,NA,NA,NA,NA\r\n",
      "2001,1,18,4,1805,1810,1938,1934,US,375,N713��,93,84,64,4,-5,BWI,CLT,361,9,20,0,NA,0,NA,NA,NA,NA,NA\r\n",
      "2001,1,19,5,1821,1810,1957,1934,US,375,N702��,96,84,80,23,11,BWI,CLT,361,6,10,0,NA,0,NA,NA,NA,NA,NA\r\n",
      "2001,1,20,6,1807,1810,1944,1934,US,375,N701��,97,84,66,10,-3,BWI,CLT,361,4,27,0,NA,0,NA,NA,NA,NA,NA\r\n",
      "2001,1,21,7,1810,1810,1954,1934,US,375,N768��,104,84,62,20,0,BWI,CLT,361,4,38,0,NA,0,NA,NA,NA,NA,NA\r\n",
      "2001,1,22,1,1807,1810,1931,1934,US,375,N722��,84,84,61,-3,-3,BWI,CLT,361,12,11,0,NA,0,NA,NA,NA,NA,NA\r\n",
      "2001,1,23,2,1802,1810,1924,1934,US,375,N732��,82,84,61,-10,-8,BWI,CLT,361,5,16,0,NA,0,NA,NA,NA,NA,NA\r\n",
      "2001,1,24,3,1804,1810,1922,1934,US,375,N737��,78,84,60,-12,-6,BWI,CLT,361,4,14,0,NA,0,NA,NA,NA,NA,NA\r\n",
      "2001,1,25,4,1812,1810,1925,1934,US,375,N767��,73,84,52,-9,2,BWI,CLT,361,6,15,0,NA,0,NA,NA,NA,NA,NA\r\n"
     ]
    }
   ],
   "source": [
    "!head 2001.csv"
   ]
  },
  {
   "cell_type": "markdown",
   "metadata": {
    "deletable": false,
    "nbgrader": {
     "checksum": "52873de38cc16e9cdd508dd58b735265",
     "grade": false,
     "grade_id": "intro1",
     "locked": true,
     "solution": false
    }
   },
   "source": [
    "In the following code cell, we use the writefile magic function to write a schema that imports 2001.csv and creates a new table named flights."
   ]
  },
  {
   "cell_type": "code",
   "execution_count": 5,
   "metadata": {
    "collapsed": false,
    "deletable": false,
    "nbgrader": {
     "checksum": "bd13a2ac9eefa9ce375f340746484476",
     "grade": false,
     "grade_id": "airport",
     "locked": true,
     "solution": false
    }
   },
   "outputs": [
    {
     "name": "stdout",
     "output_type": "stream",
     "text": [
      "Overwriting airport.sql\n"
     ]
    }
   ],
   "source": [
    "%%writefile airport.sql\n",
    "\n",
    "DROP TABLE IF EXISTS flights;\n",
    "\n",
    "CREATE TABLE flights (\n",
    "    year INT,\n",
    "    month INT,\n",
    "    dayOfMonth INT,\n",
    "    dayOfWeek INT,\n",
    "    actualDepartureTime INT,\n",
    "    scheduledDepartureTime INT,\n",
    "    arrivalArrivalTime INT,\n",
    "    scheduledArrivalTime INT,\n",
    "    uniqueCarrierCode TEXT,\n",
    "    flightNumber INT,\n",
    "    tailNumber TEXT,\n",
    "    actualElapsedTime INT,\n",
    "    scheduledElapsedTime INT,\n",
    "    airTime INT,\n",
    "    arrivalDelay INT,\n",
    "    departureDelay INT,\n",
    "    originCode TEXT,\n",
    "    destinationCode TEXT,\n",
    "    distance INT,\n",
    "    taxiIn INT,\n",
    "    taxiOut INT,\n",
    "    cancelled INT,\n",
    "    cancellationCode TEXT,\n",
    "    diverted INT,\n",
    "    carrierDelay INT,\n",
    "    weatherDelay INT,\n",
    "    nasDelay INT,\n",
    "    securityDelay INT,\n",
    "    lateAircraftDelay INT\n",
    ");\n",
    "\n",
    ".separator ,\n",
    ".import 2001.csv flights\n",
    "\n",
    "-- Our file has a header. The following line deletes the header.\n",
    "DELETE FROM flights WHERE Year='Year';"
   ]
  },
  {
   "cell_type": "markdown",
   "metadata": {
    "deletable": false,
    "nbgrader": {
     "checksum": "6fcc5e27ab92056de2488e59b2fd6256",
     "grade": false,
     "grade_id": "magic",
     "locked": true,
     "solution": false
    }
   },
   "source": [
    "We will name our database assignment.db and use IPython's ! magic to redirect the airport.sql code to sqlite3."
   ]
  },
  {
   "cell_type": "code",
   "execution_count": 6,
   "metadata": {
    "collapsed": true,
    "deletable": false,
    "nbgrader": {
     "checksum": "c37543c637e26e97afc1c7784a077751",
     "grade": false,
     "grade_id": "assign_sql",
     "locked": true,
     "solution": false
    }
   },
   "outputs": [],
   "source": [
    "!sqlite3 assignment.db < airport.sql"
   ]
  },
  {
   "cell_type": "markdown",
   "metadata": {
    "deletable": false,
    "nbgrader": {
     "checksum": "a6f72480e446742192221ce1c3f3cc84",
     "grade": false,
     "grade_id": "create_database",
     "locked": true,
     "solution": false
    }
   },
   "source": [
    "## Problem 1: Creating a Database\n",
    "\n",
    "### 1.1 Count flights table\n",
    "- In the following code cell, write an SQL statement that counts the number of rows in the flights table.\n",
    "\n",
    "Note that comments in SQL begin with -- (not #)."
   ]
  },
  {
   "cell_type": "code",
   "execution_count": 7,
   "metadata": {
    "collapsed": false,
    "deletable": false,
    "nbgrader": {
     "checksum": "590d713135ffc1976fbb0293cf417724",
     "grade": false,
     "grade_id": "count_lines",
     "locked": false,
     "solution": true
    }
   },
   "outputs": [
    {
     "name": "stdout",
     "output_type": "stream",
     "text": [
      "Overwriting count_lines_flights.sql\n"
     ]
    }
   ],
   "source": [
    "%%writefile count_lines_flights.sql\n",
    "\n",
    "-- YOUR CODE HERE\n",
    "-- Count the first column to get the number of rows\n",
    "SELECT COUNT(f.year) \n",
    "    FROM flights AS f ;"
   ]
  },
  {
   "cell_type": "markdown",
   "metadata": {
    "deletable": false,
    "nbgrader": {
     "checksum": "acab5cf8467c2c58e9ff5fff61d76d30",
     "grade": false,
     "grade_id": "check",
     "locked": true,
     "solution": false
    }
   },
   "source": [
    "Run the following code cell to check the output of count_lines_flights.sql.  Make sure that this cell passes."
   ]
  },
  {
   "cell_type": "code",
   "execution_count": 8,
   "metadata": {
    "collapsed": false,
    "deletable": false,
    "nbgrader": {
     "checksum": "e3596bb175aefb47f41da6200aeeffb0",
     "grade": true,
     "grade_id": "count_lines_test",
     "locked": true,
     "points": 3,
     "solution": false
    }
   },
   "outputs": [
    {
     "name": "stdout",
     "output_type": "stream",
     "text": [
      "5967780\n"
     ]
    }
   ],
   "source": [
    "nlines_flights = !sqlite3 assignment.db < count_lines_flights.sql\n",
    "print(nlines_flights.s)\n",
    "assert_equal(nlines_flights.s, \"5967780\")"
   ]
  },
  {
   "cell_type": "markdown",
   "metadata": {
    "deletable": false,
    "nbgrader": {
     "checksum": "609b7a6689eb44451eaa00a6d72bcaab",
     "grade": false,
     "grade_id": "create_iata",
     "locked": true,
     "solution": false
    }
   },
   "source": [
    "### 1.2 Creating another table\n",
    "We will use another CSV file [iata.csv](https://github.com/UI-DataScience/info490-fa15/blob/master/Week12/assignment/iata.csv) (available on GitHub) to create a new table. The following code cell downloads iata.csv from GitHub and saves it to the current directory."
   ]
  },
  {
   "cell_type": "code",
   "execution_count": 9,
   "metadata": {
    "collapsed": false,
    "deletable": false,
    "nbgrader": {
     "checksum": "fdf6012aa3a7063e3452016357dc2707",
     "grade": false,
     "grade_id": "wget",
     "locked": true,
     "solution": false
    }
   },
   "outputs": [
    {
     "name": "stdout",
     "output_type": "stream",
     "text": [
      "--2016-11-10 02:12:16--  https://raw.githubusercontent.com/UI-DataScience/info490-fa15/master/Week12/assignment/iata.csv\n",
      "Resolving raw.githubusercontent.com (raw.githubusercontent.com)... 151.101.44.133\n",
      "Connecting to raw.githubusercontent.com (raw.githubusercontent.com)|151.101.44.133|:443... connected.\n",
      "HTTP request sent, awaiting response... 200 OK\n",
      "Length: 850313 (830K) [text/plain]\n",
      "Saving to: ‘iata.csv’\n",
      "\n",
      "iata.csv            100%[=====================>] 830.38K  --.-KB/s   in 0.1s   \n",
      "\n",
      "2016-11-10 02:12:16 (7.07 MB/s) - ‘iata.csv’ saved [850313/850313]\n",
      "\n"
     ]
    }
   ],
   "source": [
    "!wget -O iata.csv https://raw.githubusercontent.com/UI-DataScience/info490-fa15/master/Week12/assignment/iata.csv"
   ]
  },
  {
   "cell_type": "markdown",
   "metadata": {
    "deletable": false,
    "nbgrader": {
     "checksum": "69ce6cc4220f2c11d2c7e42b7ad08338",
     "grade": false,
     "grade_id": "info_import_iata",
     "locked": true,
     "solution": false
    }
   },
   "source": [
    "- In the following code cell, write your own schema and SQL script to import iata.csv and create a new table named iata. The names of the columns should be\n",
    "\n",
    "    airportID, name, city, country, iata, icao, latitude, longitude, altitude, timeZone, dst, tzDatabaseTimeZone\n",
    "    \n",
    "Also make sure that your data types are all correct. Use head or otherwise to check the CSV file. If a value is enclosed by quotation marks, it should be a TEXT. If a field has a decimal point, it should be a REAL. If a field is a number with no decimal point, it should be an INT."
   ]
  },
  {
   "cell_type": "code",
   "execution_count": 10,
   "metadata": {
    "collapsed": false,
    "deletable": false,
    "nbgrader": {
     "checksum": "c623b5b818ca9a4136035277fab0a5e0",
     "grade": false,
     "grade_id": "import_iata",
     "locked": false,
     "solution": true
    }
   },
   "outputs": [
    {
     "name": "stdout",
     "output_type": "stream",
     "text": [
      "Overwriting import_iata.sql\n"
     ]
    }
   ],
   "source": [
    "%%writefile import_iata.sql\n",
    "\n",
    "-- YOUR CODE HERE\n",
    "-- Delete the table if exists\n",
    "DROP TABLE IF EXISTS iata;\n",
    "\n",
    "-- Create the table\n",
    "CREATE TABLE iata (\n",
    "    airportID INT,\n",
    "    name TEXT,\n",
    "    city TEXT,\n",
    "    country TEXT, \n",
    "    iata TEXT,\n",
    "    icao TEXT,\n",
    "    latitude REAL,\n",
    "    longitude REAL,\n",
    "    altitude INT,\n",
    "    timeZone INT,\n",
    "    dst TEXT,\n",
    "    tzDatabaseTimeZone TEXT\n",
    ");\n",
    "-- Define the separator\n",
    ".separator ,\n",
    "-- import the data to the table iata\n",
    ".import iata.csv iata\n"
   ]
  },
  {
   "cell_type": "markdown",
   "metadata": {
    "deletable": false,
    "nbgrader": {
     "checksum": "ec9e8f179471350246d2065ba9bcd575",
     "grade": false,
     "grade_id": "info_import",
     "locked": true,
     "solution": false
    }
   },
   "source": [
    "The following code cell should create a new table named iata in the database assignment.db."
   ]
  },
  {
   "cell_type": "code",
   "execution_count": 11,
   "metadata": {
    "collapsed": false,
    "deletable": false,
    "nbgrader": {
     "checksum": "a0e432d8b9e024b2764a20e8f89a8fbe",
     "grade": false,
     "grade_id": "apply_import",
     "locked": true,
     "solution": false
    }
   },
   "outputs": [],
   "source": [
    "!sqlite3 assignment.db < import_iata.sql"
   ]
  },
  {
   "cell_type": "markdown",
   "metadata": {
    "deletable": false,
    "nbgrader": {
     "checksum": "4785eef77083fc45d02b92b41cf1c6ae",
     "grade": false,
     "grade_id": "preview_info",
     "locked": true,
     "solution": false
    }
   },
   "source": [
    "I think it's a good idea to print out a few lines and see if the table looks okay."
   ]
  },
  {
   "cell_type": "code",
   "execution_count": 12,
   "metadata": {
    "collapsed": false,
    "deletable": false,
    "nbgrader": {
     "checksum": "ef27730a5cb34b4bacd74d22a4a7f728",
     "grade": false,
     "grade_id": "iata_preview",
     "locked": true,
     "solution": false
    }
   },
   "outputs": [
    {
     "name": "stdout",
     "output_type": "stream",
     "text": [
      "1|Goroka|Goroka|Papua New Guinea|GKA|AYGA|-6.081689|145.391881|5282|10|U|Pacific/Port_Moresby\r\n",
      "2|Madang|Madang|Papua New Guinea|MAG|AYMD|-5.207083|145.7887|20|10|U|Pacific/Port_Moresby\r\n",
      "3|Mount Hagen|Mount Hagen|Papua New Guinea|HGU|AYMH|-5.826789|144.295861|5388|10|U|Pacific/Port_Moresby\r\n",
      "4|Nadzab|Nadzab|Papua New Guinea|LAE|AYNZ|-6.569828|146.726242|239|10|U|Pacific/Port_Moresby\r\n",
      "5|Port Moresby Jacksons Intl|Port Moresby|Papua New Guinea|POM|AYPY|-9.443383|147.22005|146|10|U|Pacific/Port_Moresby\r\n",
      "6|Wewak Intl|Wewak|Papua New Guinea|WWK|AYWK|-3.583828|143.669186|19|10|U|Pacific/Port_Moresby\r\n",
      "7|Narsarsuaq|Narssarssuaq|Greenland|UAK|BGBW|61.160517|-45.425978|112|-3|E|America/Godthab\r\n",
      "8|Nuuk|Godthaab|Greenland|GOH|BGGH|64.190922|-51.678064|283|-3|E|America/Godthab\r\n",
      "9|Sondre Stromfjord|Sondrestrom|Greenland|SFJ|BGSF|67.016969|-50.689325|165|-3|E|America/Godthab\r\n",
      "10|Thule Air Base|Thule|Greenland|THU|BGTL|76.531203|-68.703161|251|-4|E|America/Thule\r\n"
     ]
    }
   ],
   "source": [
    "!sqlite3 assignment.db \"SELECT * FROM iata LIMIT 10\""
   ]
  },
  {
   "cell_type": "markdown",
   "metadata": {
    "deletable": false,
    "nbgrader": {
     "checksum": "96e0d5a309332c91eae777c1aef993a9",
     "grade": false,
     "grade_id": "iata_check_info",
     "locked": true,
     "solution": false
    }
   },
   "source": [
    "Make sure that the following code cell doesn't raise any errors. You don't have to understand what the SQL statement means. It simply checks if there exists a table named iata in the database and prints out iata if it exists."
   ]
  },
  {
   "cell_type": "code",
   "execution_count": 13,
   "metadata": {
    "collapsed": true,
    "deletable": false,
    "nbgrader": {
     "checksum": "b943440380250cf2bc5abffcdad98046",
     "grade": true,
     "grade_id": "iata_test",
     "locked": true,
     "points": 3,
     "solution": false
    }
   },
   "outputs": [],
   "source": [
    "iata_exists = !sqlite3 assignment.db \"SELECT name FROM sqlite_master WHERE type='table' and name='iata'\"\n",
    "assert_equal(iata_exists.s, \"iata\")"
   ]
  },
  {
   "cell_type": "markdown",
   "metadata": {
    "deletable": false,
    "nbgrader": {
     "checksum": "6cf02e7e2774cca7cb7d6b2cb7ba13e0",
     "grade": false,
     "grade_id": "iata_pragma_info",
     "locked": true,
     "solution": false
    }
   },
   "source": [
    "You don't have to understand the code in the following tests, but make sure that your SQL script passes the tests."
   ]
  },
  {
   "cell_type": "code",
   "execution_count": 14,
   "metadata": {
    "collapsed": true,
    "deletable": false,
    "nbgrader": {
     "checksum": "2a0c81328512ef776eb3f2fa0d602606",
     "grade": true,
     "grade_id": "iata_pragma_test",
     "locked": true,
     "points": 3,
     "solution": false
    }
   },
   "outputs": [],
   "source": [
    "iata_info = !sqlite3 assignment.db \"PRAGMA table_info(iata)\"\n",
    "iata_names = [i.split(\"|\")[1] for i in iata_info]\n",
    "iata_names_answer = [\n",
    "    \"airportID\",\n",
    "    \"name\",\n",
    "    \"city\",\n",
    "    \"country\",\n",
    "    \"iata\",\n",
    "    \"icao\",\n",
    "    \"latitude\",\n",
    "    \"longitude\",\n",
    "    \"altitude\",\n",
    "    \"timeZone\",\n",
    "    \"dst\",\n",
    "    \"tzDatabaseTimeZone\"\n",
    "]\n",
    "assert_equal(len(iata_names), len(iata_names_answer))\n",
    "assert_equal(set(iata_names), set(iata_names_answer))"
   ]
  },
  {
   "cell_type": "markdown",
   "metadata": {
    "deletable": false,
    "nbgrader": {
     "checksum": "482ad375f168a3683e8a72d92b252dc4",
     "grade": false,
     "grade_id": "count_iata_info",
     "locked": true,
     "solution": false
    }
   },
   "source": [
    "### 1.3. Count iata table\n",
    "- Count the number or rows in the iata table."
   ]
  },
  {
   "cell_type": "code",
   "execution_count": 15,
   "metadata": {
    "collapsed": false,
    "deletable": false,
    "nbgrader": {
     "checksum": "b333ccdeb7e8dfe69bd2752f7c6ad3b1",
     "grade": false,
     "grade_id": "count_iata_answer",
     "locked": false,
     "solution": true
    }
   },
   "outputs": [
    {
     "name": "stdout",
     "output_type": "stream",
     "text": [
      "Overwriting count_lines_iata.sql\n"
     ]
    }
   ],
   "source": [
    "%%writefile count_lines_iata.sql\n",
    "\n",
    "-- YOUR CODE HERE\n",
    "-- Count the first column to get the number of rows\n",
    "SELECT COUNT(i.airportID) \n",
    "    FROM iata AS i ;"
   ]
  },
  {
   "cell_type": "code",
   "execution_count": 16,
   "metadata": {
    "collapsed": false,
    "deletable": false,
    "nbgrader": {
     "checksum": "ab7b03a148703993494b968a16f09a09",
     "grade": true,
     "grade_id": "count_iata_test",
     "locked": true,
     "points": 3,
     "solution": false
    }
   },
   "outputs": [
    {
     "name": "stdout",
     "output_type": "stream",
     "text": [
      "8107\n"
     ]
    }
   ],
   "source": [
    "nlines_iata = !sqlite3 assignment.db < count_lines_iata.sql\n",
    "print(nlines_iata.s)\n",
    "\n",
    "assert_equal(nlines_iata.s, \"8107\")"
   ]
  },
  {
   "cell_type": "markdown",
   "metadata": {
    "deletable": false,
    "nbgrader": {
     "checksum": "21ae0b70ce87380f12d9877eb0615232",
     "grade": false,
     "grade_id": "p2_title",
     "locked": true,
     "solution": false
    }
   },
   "source": [
    "## Problem 2. Data Manipulation\n",
    "\n",
    "### 2.1 Joining tables\n",
    "-Join flights and iata tables by matching the IATA codes of the destinationCode column in flights to the IATA codes of the iata column in iata. Combine them into a new table named myTable, which should have the following columns:\n",
    "    month, dayOfMonth, uniqueCarrierCode, flightNumber, scheduledDepartureTime, diverted, city\n",
    "\n",
    "All columns excpet city come from the flights table. The city column comes from the iata table, and it's the full city name of the airport that corresponds to destinationCode.\n",
    "\n",
    "In other words, if we did\n",
    "\n",
    "    SELECT\n",
    "    month,\n",
    "    dayOfMonth,\n",
    "    uniqueCarrierCode,\n",
    "    flightNumber,\n",
    "    scheduledDepartureTime,\n",
    "    diverted,\n",
    "    destinationCode\n",
    "    FROM flights\n",
    "    LIMIT 10;\n",
    "    \n",
    "we would have\n",
    "\n",
    "    1|17|US|375|1810|0|CLT\n",
    "    1|18|US|375|1810|0|CLT\n",
    "    1|19|US|375|1810|0|CLT\n",
    "    1|20|US|375|1810|0|CLT\n",
    "    1|21|US|375|1810|0|CLT\n",
    "    1|22|US|375|1810|0|CLT\n",
    "    1|23|US|375|1810|0|CLT\n",
    "    1|24|US|375|1810|0|CLT\n",
    "    1|25|US|375|1810|0|CLT\n",
    "    1|26|US|375|1810|0|CLT\n",
    "    \n",
    "Translate all the IATA codes (CLTs in this example) to actual city names so that when you do\n",
    "\n",
    "    SELECT * FROM myTable LIMIT 10;\n",
    "\n",
    "you get\n",
    "\n",
    "    1|17|US|375|1810|0|Charlotte\n",
    "    1|18|US|375|1810|0|Charlotte\n",
    "    1|19|US|375|1810|0|Charlotte\n",
    "    1|20|US|375|1810|0|Charlotte\n",
    "    1|21|US|375|1810|0|Charlotte\n",
    "    1|22|US|375|1810|0|Charlotte\n",
    "    1|23|US|375|1810|0|Charlotte\n",
    "    1|24|US|375|1810|0|Charlotte\n",
    "    1|25|US|375|1810|0|Charlotte\n",
    "    1|26|US|375|1810|0|Charlotte"
   ]
  },
  {
   "cell_type": "code",
   "execution_count": 17,
   "metadata": {
    "collapsed": false,
    "deletable": false,
    "nbgrader": {
     "checksum": "b6b44de53b63bdfc9afc2bc1281189a1",
     "grade": false,
     "grade_id": "join_sql_answer",
     "locked": false,
     "solution": true
    }
   },
   "outputs": [
    {
     "name": "stdout",
     "output_type": "stream",
     "text": [
      "Overwriting join.sql\n"
     ]
    }
   ],
   "source": [
    "%%writefile join.sql\n",
    "\n",
    "-- YOUR CODE HERE\n",
    "-- Delete the table if exists\n",
    "DROP TABLE IF EXISTS myTable;\n",
    "-- Create myTable\n",
    "CREATE TABLE myTable (\n",
    "    month INT,\n",
    "    dayOfMonth INT,\n",
    "    uniqueCarrierCode TEXT,\n",
    "    flightNumber INT,\n",
    "    scheduledDepartureTime INT,\n",
    "    diverted INT,\n",
    "    city TEXT\n",
    ") ;\n",
    "-- Copy the data to myTable\n",
    "INSERT INTO myTable(month, dayOfMonth, uniqueCarrierCode, flightNumber, scheduledDepartureTime, diverted, city) \n",
    "    SELECT f.month,f.dayOfMonth,f.uniqueCarrierCode,f.flightNumber,f.scheduledDepartureTime,f.diverted,i.city \n",
    "    FROM flights AS f, iata AS i\n",
    "    WHERE f.destinationCode = i.iata;"
   ]
  },
  {
   "cell_type": "code",
   "execution_count": 18,
   "metadata": {
    "collapsed": false,
    "deletable": false,
    "nbgrader": {
     "checksum": "fd8ef70f91a4bc45a75a6aac24a653a1",
     "grade": false,
     "grade_id": "join_sql_apply",
     "locked": true,
     "points": 5,
     "solution": false
    }
   },
   "outputs": [],
   "source": [
    "!sqlite3 assignment.db < join.sql"
   ]
  },
  {
   "cell_type": "code",
   "execution_count": 19,
   "metadata": {
    "collapsed": false,
    "deletable": false,
    "nbgrader": {
     "checksum": "a16be38976c22226a0a32a09e59f0572",
     "grade": false,
     "grade_id": "join_sql_top10",
     "locked": true,
     "solution": false
    }
   },
   "outputs": [
    {
     "name": "stdout",
     "output_type": "stream",
     "text": [
      "1|17|US|375|1810|0|Charlotte\r\n",
      "1|18|US|375|1810|0|Charlotte\r\n",
      "1|19|US|375|1810|0|Charlotte\r\n",
      "1|20|US|375|1810|0|Charlotte\r\n",
      "1|21|US|375|1810|0|Charlotte\r\n",
      "1|22|US|375|1810|0|Charlotte\r\n",
      "1|23|US|375|1810|0|Charlotte\r\n",
      "1|24|US|375|1810|0|Charlotte\r\n",
      "1|25|US|375|1810|0|Charlotte\r\n",
      "1|26|US|375|1810|0|Charlotte\r\n"
     ]
    }
   ],
   "source": [
    "!sqlite3 assignment.db \"SELECT * FROM myTable LIMIT 10;\""
   ]
  },
  {
   "cell_type": "code",
   "execution_count": 20,
   "metadata": {
    "collapsed": true,
    "deletable": false,
    "nbgrader": {
     "checksum": "017d8079dd0e2dce3837d8e975056cc7",
     "grade": true,
     "grade_id": "join_sql_test",
     "locked": true,
     "points": 5,
     "solution": false
    }
   },
   "outputs": [],
   "source": [
    "mytable_exists = !sqlite3 assignment.db \"SELECT name FROM sqlite_master WHERE type='table' AND name='myTable';\"\n",
    "assert_equal(mytable_exists.s, \"myTable\")\n",
    "\n",
    "table_info = !sqlite3 assignment.db \"PRAGMA table_info(myTable);\"\n",
    "\n",
    "mytable_names = [i.split(\"|\")[1] for i in table_info]\n",
    "mytable_names_answer = [\n",
    "    'month', 'dayOfMonth', 'uniqueCarrierCode', 'flightNumber', 'scheduledDepartureTime', 'diverted', 'city'\n",
    "]\n",
    "assert_equal(len(mytable_names), len(mytable_names_answer))\n",
    "assert_equal(set(mytable_names), set(mytable_names_answer))\n",
    "\n",
    "# do some sample queries\n",
    "mytable_count_ord = !sqlite3 assignment.db \"SELECT COUNT(*) FROM myTable WHERE city='Chicago';\"\n",
    "assert_equal(mytable_count_ord.s, \"391776\")\n",
    "\n",
    "mytable_count_sfo = !sqlite3 assignment.db \"SELECT COUNT(*) FROM myTable WHERE city='San Francisco';\"\n",
    "assert_equal(mytable_count_sfo.s, \"121738\")"
   ]
  },
  {
   "cell_type": "markdown",
   "metadata": {
    "deletable": false,
    "nbgrader": {
     "checksum": "ca19e11ac6085d3485ffbfe5099383e0",
     "grade": false,
     "grade_id": "inserting_info",
     "locked": true,
     "solution": false
    }
   },
   "source": [
    "### 2.2 Inserting\n",
    "\n",
    "Insert a new row into myTable. This flight\n",
    "- took place on September 9, 2001,\n",
    "- its uniqueCarrierCode was INFO,\n",
    "- its flightNumber was 490,\n",
    "- its scheduledDepartureTime was 0800,\n",
    "- was diverted (i.e. diverted == 1), and\n",
    "- left from Champaign."
   ]
  },
  {
   "cell_type": "code",
   "execution_count": 21,
   "metadata": {
    "collapsed": false,
    "deletable": false,
    "nbgrader": {
     "checksum": "c75cf6adbdea509d15f753338d86596f",
     "grade": false,
     "grade_id": "insert_sql_answer",
     "locked": false,
     "solution": true
    }
   },
   "outputs": [
    {
     "name": "stdout",
     "output_type": "stream",
     "text": [
      "Overwriting insert.sql\n"
     ]
    }
   ],
   "source": [
    "%%writefile insert.sql\n",
    "\n",
    "-- YOUR CODE HERE\n",
    "-- Insert a new row into table myTable\n",
    "INSERT INTO myTable\n",
    "VALUES(9, 9, 'INFO', 490, 0800, 1, 'Champaign') ;"
   ]
  },
  {
   "cell_type": "code",
   "execution_count": 22,
   "metadata": {
    "collapsed": false,
    "deletable": false,
    "nbgrader": {
     "checksum": "d1155aa62384d20e3c441be8065df660",
     "grade": false,
     "grade_id": "insert_sql_apply",
     "locked": true,
     "solution": false
    }
   },
   "outputs": [],
   "source": [
    "!sqlite3 assignment.db < insert.sql"
   ]
  },
  {
   "cell_type": "code",
   "execution_count": 23,
   "metadata": {
    "collapsed": false,
    "deletable": false,
    "nbgrader": {
     "checksum": "13360f67592bd2549828cfcea45a40c0",
     "grade": false,
     "grade_id": "insert_sql_look",
     "locked": true,
     "points": 5,
     "solution": false
    }
   },
   "outputs": [
    {
     "name": "stdout",
     "output_type": "stream",
     "text": [
      "\n",
      "UniqueCarrierCode: INFO\n",
      "Month: 9\n",
      "Day: 9\n",
      "Flight Number: 490\n",
      "Scheduled Departure Time: 800\n",
      "Diverted: 1\n",
      "Origin City: Champaign\n",
      "\n"
     ]
    }
   ],
   "source": [
    "info_month = !sqlite3 assignment.db \"SELECT month FROM myTable WHERE uniqueCarrierCode='INFO';\"\n",
    "info_day = !sqlite3 assignment.db \"SELECT dayOfMonth FROM myTable WHERE uniqueCarrierCode='INFO';\"\n",
    "info_flight_no = !sqlite3 assignment.db \"SELECT flightNumber FROM myTable WHERE uniqueCarrierCode='INFO';\"\n",
    "info_crs_dep = !sqlite3 assignment.db \"SELECT scheduledDepartureTime FROM myTable WHERE uniqueCarrierCode='INFO';\"\n",
    "info_diverted = !sqlite3 assignment.db \"SELECT diverted FROM myTable WHERE uniqueCarrierCode='INFO';\"\n",
    "info_dest = !sqlite3 assignment.db \"SELECT city FROM myTable WHERE uniqueCarrierCode='INFO';\"\n",
    "\n",
    "print('''\n",
    "UniqueCarrierCode: {0}\n",
    "Month: {1}\n",
    "Day: {2}\n",
    "Flight Number: {3}\n",
    "Scheduled Departure Time: {4}\n",
    "Diverted: {5}\n",
    "Origin City: {6}\n",
    "'''.format(\n",
    "    \"INFO\",\n",
    "    info_month.s,\n",
    "    info_day.s,\n",
    "    info_flight_no.s,\n",
    "    info_crs_dep.s,\n",
    "    info_diverted.s,\n",
    "    info_dest.s\n",
    "    )\n",
    ")"
   ]
  },
  {
   "cell_type": "code",
   "execution_count": 24,
   "metadata": {
    "collapsed": true,
    "deletable": false,
    "nbgrader": {
     "checksum": "f45c62ee12e1b41b32c8aa98a14d5e63",
     "grade": true,
     "grade_id": "insert_sql_test",
     "locked": true,
     "points": 3,
     "solution": false
    }
   },
   "outputs": [],
   "source": [
    "assert_equal(\"9\", info_month.s)\n",
    "assert_equal(\"9\", info_day.s)\n",
    "assert_equal(\"490\", info_flight_no.s)\n",
    "assert_equal(\"800\", info_crs_dep.s)\n",
    "assert_equal(\"1\", info_diverted.s)\n",
    "assert_equal(\"Champaign\", info_dest.s)"
   ]
  },
  {
   "cell_type": "markdown",
   "metadata": {
    "deletable": false,
    "nbgrader": {
     "checksum": "38ab5314503ab8d1103bc10d9eea2f20",
     "grade": false,
     "grade_id": "p3_title",
     "locked": true,
     "solution": false
    }
   },
   "source": [
    "## Problem 3. Query\n",
    "\n",
    "### 3.1 Average\n",
    "- Compute the average of the departureDelay column in the flights table."
   ]
  },
  {
   "cell_type": "code",
   "execution_count": 25,
   "metadata": {
    "collapsed": false,
    "deletable": false,
    "nbgrader": {
     "checksum": "c45f79c2efaf491132d505345a954262",
     "grade": false,
     "grade_id": "avg_dep_delay_ans",
     "locked": false,
     "solution": true
    }
   },
   "outputs": [
    {
     "name": "stdout",
     "output_type": "stream",
     "text": [
      "Overwriting get_average_depdelay.sql\n"
     ]
    }
   ],
   "source": [
    "%%writefile get_average_depdelay.sql\n",
    "\n",
    "-- YOUR CODE HERE\n",
    "-- Ignore the 'NA' and compute the average of the departureDelay column in the flights table.\n",
    "SELECT AVG(f.departureDelay) \n",
    "    FROM flights AS f \n",
    "    WHERE f.departureDelay IS NOT \"NA\";"
   ]
  },
  {
   "cell_type": "code",
   "execution_count": 26,
   "metadata": {
    "collapsed": false,
    "deletable": false,
    "nbgrader": {
     "checksum": "3e7a335f2d04420eb3070f8824f0e7b1",
     "grade": true,
     "grade_id": "avg_dep_delay_test",
     "locked": true,
     "points": 3,
     "solution": false
    }
   },
   "outputs": [
    {
     "name": "stdout",
     "output_type": "stream",
     "text": [
      "['8.15483749731112']\n"
     ]
    }
   ],
   "source": [
    "average_depdelay = !sqlite3 assignment.db < get_average_depdelay.sql\n",
    "print(average_depdelay)\n",
    "assert_equal(average_depdelay.s, '8.15483749731112')"
   ]
  },
  {
   "cell_type": "markdown",
   "metadata": {
    "deletable": false,
    "nbgrader": {
     "checksum": "976c72e6b67deef4ada8886b37c81b3c",
     "grade": false,
     "grade_id": "max",
     "locked": true,
     "solution": false
    }
   },
   "source": [
    "### 3.2 Maximum\n",
    "- Compute the maximum of the departureDelay column in the flights table."
   ]
  },
  {
   "cell_type": "code",
   "execution_count": 27,
   "metadata": {
    "collapsed": false,
    "deletable": false,
    "nbgrader": {
     "checksum": "b4460aeacc3032ba7a364f3d6dad9569",
     "grade": false,
     "grade_id": "max_depdelay_answer",
     "locked": false,
     "solution": true
    }
   },
   "outputs": [
    {
     "name": "stdout",
     "output_type": "stream",
     "text": [
      "Overwriting get_maximum_depdelay.sql\n"
     ]
    }
   ],
   "source": [
    "%%writefile get_maximum_depdelay.sql\n",
    "\n",
    "-- YOUR CODE HERE\n",
    "-- Ignore the 'NA' and compute the maximum of the departureDelay column in the flights table.\n",
    "SELECT MAX(f.departureDelay) \n",
    "    FROM flights AS f\n",
    "    WHERE f.departureDelay IS NOT \"NA\";"
   ]
  },
  {
   "cell_type": "code",
   "execution_count": 28,
   "metadata": {
    "collapsed": false,
    "deletable": false,
    "nbgrader": {
     "checksum": "572329b1c839e0665bd395bd910fb1a6",
     "grade": true,
     "grade_id": "max_depdelay_test",
     "locked": true,
     "points": 2,
     "solution": false
    }
   },
   "outputs": [
    {
     "name": "stdout",
     "output_type": "stream",
     "text": [
      "['1692']\n"
     ]
    }
   ],
   "source": [
    "maximum_depdelay = !sqlite3 assignment.db < get_maximum_depdelay.sql\n",
    "print(maximum_depdelay)\n",
    "assert_equal(maximum_depdelay.s, '1692')"
   ]
  },
  {
   "cell_type": "markdown",
   "metadata": {
    "deletable": false,
    "nbgrader": {
     "checksum": "c7ad1d572a160d0aea0c020842376b6b",
     "grade": false,
     "grade_id": "min",
     "locked": true,
     "solution": false
    }
   },
   "source": [
    "### 3.3 Minimum\n",
    "- Compute the minimum of the departureDelay column in the flights table."
   ]
  },
  {
   "cell_type": "code",
   "execution_count": 29,
   "metadata": {
    "collapsed": false,
    "deletable": false,
    "nbgrader": {
     "checksum": "8e2f64814f93015c6f8867da0aad6f6c",
     "grade": false,
     "grade_id": "min_depdelay_answer",
     "locked": false,
     "solution": true
    }
   },
   "outputs": [
    {
     "name": "stdout",
     "output_type": "stream",
     "text": [
      "Overwriting get_minimum_depdelay.sql\n"
     ]
    }
   ],
   "source": [
    "%%writefile get_minimum_depdelay.sql\n",
    "\n",
    "-- YOUR CODE HERE\n",
    "-- Ignore the 'NA' and compute the minimum of the departureDelay column in the flights table.\n",
    "SELECT MIN(f.departureDelay) \n",
    "    FROM flights AS f\n",
    "    WHERE f.departureDelay IS NOT \"NA\";"
   ]
  },
  {
   "cell_type": "code",
   "execution_count": 30,
   "metadata": {
    "collapsed": false,
    "deletable": false,
    "nbgrader": {
     "checksum": "6fc27140b42ced44f046c86af05be940",
     "grade": true,
     "grade_id": "min_depdelay_test",
     "locked": true,
     "points": 2,
     "solution": false
    }
   },
   "outputs": [
    {
     "name": "stdout",
     "output_type": "stream",
     "text": [
      "['-204']\n"
     ]
    }
   ],
   "source": [
    "minimum_depdelay = !sqlite3 assignment.db < get_minimum_depdelay.sql\n",
    "print(minimum_depdelay)\n",
    "assert_equal(minimum_depdelay.s, '-204')"
   ]
  },
  {
   "cell_type": "markdown",
   "metadata": {
    "deletable": false,
    "nbgrader": {
     "checksum": "c27b9a01e35eca2915f0ee72c283f090",
     "grade": false,
     "grade_id": "search",
     "locked": true,
     "solution": false
    }
   },
   "source": [
    "### 3.4 Search\n",
    "Finally, find every flight in myTable that\n",
    "- was in September,\n",
    "- was scheduled to depart between 0745 and 0815 (not including 0745 and 0815),\n",
    "- was scheduled to arrive at San Francisco, and\n",
    "- was diverted (i.e. diverted == 1).\n",
    "\n",
    "and display the following columns:\n",
    "    \n",
    "    Month, dayOfMonth, uniqueCarrierCode, and flightNumber."
   ]
  },
  {
   "cell_type": "code",
   "execution_count": 31,
   "metadata": {
    "collapsed": false,
    "deletable": false,
    "nbgrader": {
     "checksum": "25df1ba22ea5604a060273e3c376e1c0",
     "grade": false,
     "grade_id": "search_answer",
     "locked": false,
     "solution": true
    }
   },
   "outputs": [
    {
     "name": "stdout",
     "output_type": "stream",
     "text": [
      "Overwriting find.sql\n"
     ]
    }
   ],
   "source": [
    "%%writefile find.sql\n",
    "\n",
    "-- YOUR CODE HERE\n",
    "-- Find every flight in myTable that was in September, scheduled to depart between 0745 and 0815 (not including 0745 and 0815),\n",
    "-- was scheduled to arrive at San Francisco, and was diverted \n",
    "SELECT Month, dayOfMonth, uniqueCarrierCode, flightNumber \n",
    "FROM myTable \n",
    "WHERE (Month = 9) AND (scheduledDepartureTime > 0745) AND (scheduledDepartureTime < 0815) AND (city = 'San Francisco') AND (diverted = 1) ;\n"
   ]
  },
  {
   "cell_type": "code",
   "execution_count": 32,
   "metadata": {
    "collapsed": false,
    "deletable": false,
    "nbgrader": {
     "checksum": "ae79f244b2a3eafd82da7ebaa183b3b0",
     "grade": true,
     "grade_id": "search_test",
     "locked": true,
     "points": 3,
     "solution": false
    }
   },
   "outputs": [
    {
     "name": "stdout",
     "output_type": "stream",
     "text": [
      "['9|11|UA|93', '9|11|UA|301', '9|11|UA|805', '9|11|UA|809', '9|22|UA|2377', '9|11|US|63', '9|11|AA|59']\n"
     ]
    }
   ],
   "source": [
    "query = !sqlite3 assignment.db < find.sql\n",
    "print(query)\n",
    "\n",
    "query_answer = ['9|11|UA|93', '9|11|UA|301', '9|11|UA|805', '9|11|UA|809', '9|22|UA|2377', '9|11|US|63', '9|11|AA|59']\n",
    "\n",
    "assert_equal(len(query), len(query_answer))\n",
    "assert_equal(set(query), set(query_answer))"
   ]
  },
  {
   "cell_type": "code",
   "execution_count": null,
   "metadata": {
    "collapsed": true
   },
   "outputs": [],
   "source": []
  }
 ],
 "metadata": {
  "kernelspec": {
   "display_name": "Python 3",
   "language": "python",
   "name": "python3"
  },
  "language_info": {
   "codemirror_mode": {
    "name": "ipython",
    "version": 3
   },
   "file_extension": ".py",
   "mimetype": "text/x-python",
   "name": "python",
   "nbconvert_exporter": "python",
   "pygments_lexer": "ipython3",
   "version": "3.5.2"
  }
 },
 "nbformat": 4,
 "nbformat_minor": 0
}
