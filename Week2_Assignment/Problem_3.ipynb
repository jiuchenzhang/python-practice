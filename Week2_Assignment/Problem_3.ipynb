{
 "cells": [
  {
   "cell_type": "markdown",
   "metadata": {
    "deletable": false,
    "nbgrader": {
     "checksum": "596e192488d25307a92844f9434cd6b4",
     "grade": false,
     "grade_id": "w2p3",
     "locked": true,
     "solution": false
    }
   },
   "source": [
    "# Week 2 Problem 3\n",
    "\n",
    "If you are not using the `Assignments` tab on the course JupyterHub server to read this notebook, read [Activating the assignments tab](https://github.com/UI-DataScience/info490-fa16/blob/master/Week2/assignments/README.md).\n",
    "\n",
    "A few things you should keep in mind when working on assignments:\n",
    "\n",
    "1. Make sure you fill in any place that says `YOUR CODE HERE`. Do **not** write your answer in anywhere else other than where it says `YOUR CODE HERE`. Anything you write anywhere else will be removed or overwritten by the autograder.\n",
    "\n",
    "2. Before you submit your assignment, make sure everything runs as expected. Go to menubar, select _Kernel_, and restart the kernel and run all cells (_Restart & Run all_).\n",
    "\n",
    "3. Do not change the title (i.e. file name) of this notebook.\n",
    "\n",
    "4. Make sure that you save your work (in the menubar, select _File_ → _Save and CheckPoint_)\n",
    "\n",
    "5. You are allowed to submit an assignment multiple times, but only the most recent submission will be graded.\n",
    "\n",
    "***\n",
    "\n",
    "The purpose of this problem is the following:\n",
    "- Do basic math operations in Python\n",
    "- Practice Python built-in functions\n",
    "- Continue to practice assigning values to variables\n",
    "- Learn to use the math library"
   ]
  },
  {
   "cell_type": "code",
   "execution_count": 1,
   "metadata": {
    "collapsed": true,
    "deletable": false,
    "nbgrader": {
     "checksum": "2f03b64cf5664cfbe1d7afba661bad3e",
     "grade": false,
     "grade_id": "2",
     "locked": true,
     "solution": false
    }
   },
   "outputs": [],
   "source": [
    "import math\n",
    "from nose.tools import assert_equal\n",
    "from nose.tools import assert_almost_equal"
   ]
  },
  {
   "cell_type": "markdown",
   "metadata": {
    "deletable": false,
    "nbgrader": {
     "checksum": "2bb149e6858cbe42e704eadb068789d7",
     "grade": false,
     "grade_id": "3",
     "locked": true,
     "solution": false
    }
   },
   "source": [
    "In the following code cell, calculate the square root of the integer 490490. Assign your result to a floating point variable named `square_root`."
   ]
  },
  {
   "cell_type": "code",
   "execution_count": 2,
   "metadata": {
    "collapsed": false,
    "deletable": false,
    "nbgrader": {
     "checksum": "8ac0c923068ed46a6058a4e948601e83",
     "grade": false,
     "grade_id": "w2p3_1",
     "locked": false,
     "points": 5,
     "solution": true
    }
   },
   "outputs": [],
   "source": [
    "square_root=math.sqrt(490490)# YOUR CODE HERE"
   ]
  },
  {
   "cell_type": "code",
   "execution_count": 3,
   "metadata": {
    "collapsed": true,
    "deletable": false,
    "nbgrader": {
     "checksum": "e1fe76e845fb8ca59b8858685467e92c",
     "grade": true,
     "grade_id": "w2p3_1_test",
     "locked": true,
     "points": 5,
     "solution": false
    }
   },
   "outputs": [],
   "source": [
    "assert_equal(type(square_root), float)\n",
    "assert_almost_equal(square_root, 700.3499125437227)"
   ]
  },
  {
   "cell_type": "markdown",
   "metadata": {
    "deletable": false,
    "nbgrader": {
     "checksum": "dd5409a8e1f464cb6769cf1f33562984",
     "grade": false,
     "grade_id": "4",
     "locked": true,
     "solution": false
    }
   },
   "source": [
    "In the following code cell, assign the value 4.9 to a floating point variable named `sphere_radius`."
   ]
  },
  {
   "cell_type": "code",
   "execution_count": 4,
   "metadata": {
    "collapsed": true,
    "deletable": false,
    "nbgrader": {
     "checksum": "9e75d9fe9e382f3238ef6779e1fca5ec",
     "grade": false,
     "grade_id": "w2p3_2",
     "locked": false,
     "points": 5,
     "solution": true
    }
   },
   "outputs": [],
   "source": [
    "sphere_radius=4.9# YOUR CODE HERE"
   ]
  },
  {
   "cell_type": "code",
   "execution_count": 5,
   "metadata": {
    "collapsed": true,
    "deletable": false,
    "nbgrader": {
     "checksum": "5a3adb5e65fe7c0a1f431ee089b2e771",
     "grade": true,
     "grade_id": "w2p3_2_test",
     "locked": true,
     "points": 5,
     "solution": false
    }
   },
   "outputs": [],
   "source": [
    "assert_equal(type(sphere_radius), float)\n",
    "assert_almost_equal(sphere_radius, 4.9)"
   ]
  },
  {
   "cell_type": "markdown",
   "metadata": {
    "deletable": false,
    "nbgrader": {
     "checksum": "120a0ebb7084f6205a311487a78d5166",
     "grade": false,
     "grade_id": "5",
     "locked": true,
     "solution": false
    }
   },
   "source": [
    "The sphere volume is given by the formula: V = $\\frac{4}{3}$ $\\pi$ $r^{3}$. In the following cell, calculate the volume of a sphere with a radius equal to `sphere_radius`. Assign your result to a floating point variable named `sphere_volume`."
   ]
  },
  {
   "cell_type": "code",
   "execution_count": 6,
   "metadata": {
    "collapsed": false,
    "deletable": false,
    "nbgrader": {
     "checksum": "93b4f5ec9b759e1eec9dcfe57d5da870",
     "grade": false,
     "grade_id": "w2p3_3",
     "locked": false,
     "points": 5,
     "solution": true
    }
   },
   "outputs": [],
   "source": [
    "sphere_volume = 4 / 3 * math.pi * sphere_radius ** 3 # YOUR CODE HERE"
   ]
  },
  {
   "cell_type": "code",
   "execution_count": 7,
   "metadata": {
    "collapsed": true,
    "deletable": false,
    "nbgrader": {
     "checksum": "b32a9cd50e7b2af50bb82629639a3bf8",
     "grade": true,
     "grade_id": "w2p3_3_test",
     "locked": true,
     "points": 5,
     "solution": false
    }
   },
   "outputs": [],
   "source": [
    "assert_equal(type(sphere_volume), float)\n",
    "assert_almost_equal(sphere_volume, 492.80697880291416)"
   ]
  },
  {
   "cell_type": "markdown",
   "metadata": {
    "deletable": false,
    "nbgrader": {
     "checksum": "4598e1eda6b11174be1eb19f763807ae",
     "grade": false,
     "grade_id": "6",
     "locked": true,
     "solution": false
    }
   },
   "source": [
    "Finally, in the following cell, change the float variable `sphere_volume` to an integer first, and then change that integer to a string. Assign the resulting string to a string variable named `the_volume_string`."
   ]
  },
  {
   "cell_type": "code",
   "execution_count": 8,
   "metadata": {
    "collapsed": false,
    "deletable": false,
    "nbgrader": {
     "checksum": "9abfce420ba2f7a9a08a53de347ffd01",
     "grade": false,
     "grade_id": "w2p3_4",
     "locked": false,
     "points": 5,
     "solution": true
    }
   },
   "outputs": [],
   "source": [
    "the_volume_string = str(int(sphere_volume)) # YOUR CODE HERE"
   ]
  },
  {
   "cell_type": "code",
   "execution_count": 9,
   "metadata": {
    "collapsed": false,
    "deletable": false,
    "nbgrader": {
     "checksum": "bca18b67990d77bf8a2c043c18d9c2bf",
     "grade": true,
     "grade_id": "w2p3_4_test",
     "locked": true,
     "points": 5,
     "solution": false
    }
   },
   "outputs": [],
   "source": [
    "assert_equal(type(the_volume_string), str)\n",
    "assert_equal(the_volume_string, '492')"
   ]
  },
  {
   "cell_type": "code",
   "execution_count": null,
   "metadata": {
    "collapsed": true
   },
   "outputs": [],
   "source": []
  }
 ],
 "metadata": {
  "kernelspec": {
   "display_name": "Python 3",
   "language": "python",
   "name": "python3"
  },
  "language_info": {
   "codemirror_mode": {
    "name": "ipython",
    "version": 3
   },
   "file_extension": ".py",
   "mimetype": "text/x-python",
   "name": "python",
   "nbconvert_exporter": "python",
   "pygments_lexer": "ipython3",
   "version": "3.5.2"
  }
 },
 "nbformat": 4,
 "nbformat_minor": 1
}
