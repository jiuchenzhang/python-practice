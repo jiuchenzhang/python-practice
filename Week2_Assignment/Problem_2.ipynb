{
 "cells": [
  {
   "cell_type": "markdown",
   "metadata": {
    "deletable": false,
    "nbgrader": {
     "checksum": "25c5975fa27254458512dcda72a4ac09",
     "grade": false,
     "grade_id": "intro",
     "locked": true,
     "solution": false
    }
   },
   "source": [
    "# Week 2 Problem 2\n",
    "\n",
    "If you are not using the `Assignments` tab on the course JupyterHub server to read this notebook, read [Activating the assignments tab](https://github.com/UI-DataScience/info490-fa16/blob/master/Week2/assignments/README.md).\n",
    "\n",
    "A few things you should keep in mind when working on assignments:\n",
    "\n",
    "1. Make sure you fill in any place that says `YOUR CODE HERE`. Do **not** write your answer in anywhere else other than where it says `YOUR CODE HERE`. Anything you write anywhere else will be removed or overwritten by the autograder.\n",
    "\n",
    "2. Before you submit your assignment, make sure everything runs as expected. Go to menubar, select _Kernel_, and restart the kernel and run all cells (_Restart & Run all_).\n",
    "\n",
    "3. Do not change the title (i.e. file name) of this notebook.\n",
    "\n",
    "4. Make sure that you save your work (in the menubar, select _File_ → _Save and CheckPoint_)\n",
    "\n",
    "5. You are allowed to submit an assignment multiple times, but only the most recent submission will be graded.\n",
    "\n"
   ]
  },
  {
   "cell_type": "code",
   "execution_count": 1,
   "metadata": {
    "collapsed": true,
    "deletable": false,
    "nbgrader": {
     "checksum": "563c9c8ad631f1445d60546ba6539df6",
     "grade": false,
     "grade_id": "import_nose",
     "locked": true,
     "solution": false
    }
   },
   "outputs": [],
   "source": [
    "from nose.tools import assert_equal\n",
    "from nose.tools import assert_almost_equal"
   ]
  },
  {
   "cell_type": "markdown",
   "metadata": {
    "deletable": false,
    "nbgrader": {
     "checksum": "b350074bc76e37f809a7f0ca08f2b57a",
     "grade": false,
     "grade_id": "info1",
     "locked": true,
     "solution": false
    }
   },
   "source": [
    "## Problem 1\n",
    "\n",
    "The main purpose of this problem is to learn how to assign values to a variable.\n",
    "\n",
    "In the following code cell, assign a value of 365 to an integer variable named `the_integer`."
   ]
  },
  {
   "cell_type": "code",
   "execution_count": 2,
   "metadata": {
    "collapsed": true,
    "deletable": false,
    "nbgrader": {
     "checksum": "05fcfe4e1b9e496a2211fcbbe19bf741",
     "grade": false,
     "grade_id": "int",
     "locked": false,
     "solution": true
    }
   },
   "outputs": [],
   "source": [
    "the_integer=365"
   ]
  },
  {
   "cell_type": "markdown",
   "metadata": {
    "deletable": false,
    "nbgrader": {
     "checksum": "dcf97d76947718c06d14596ba2620449",
     "grade": false,
     "grade_id": "info2",
     "locked": true,
     "solution": false
    }
   },
   "source": [
    "In the following code cell, you will see two assert statements, and almost\n",
    "every assignment will have such tests. These are what are called unit tests.\n",
    "When you submit completed assignments, instructors will determine your assignment grades by using automated grading tools to perform unit testing on your code, so if you pass all the tests without an error, you get a perfect score.\n",
    "\n",
    "It should be obvious to you that these tests are valuable hints! Study them. Write each piece of code so that it doesn't produce any errors. Writing the tests first, and then writing the actual code is actually a perfectly valid approach (preferred by many) to programming. It's called test-driven development.\n",
    "\n",
    "So, remember to learn what assert means, and study nose if you want to get a good grade."
   ]
  },
  {
   "cell_type": "code",
   "execution_count": 3,
   "metadata": {
    "collapsed": false,
    "deletable": false,
    "nbgrader": {
     "checksum": "5ae466bc4c9cf5581989cefaeb5602f0",
     "grade": true,
     "grade_id": "int-test",
     "locked": true,
     "points": 5,
     "solution": false
    }
   },
   "outputs": [],
   "source": [
    "assert_equal(the_integer,365)\n",
    "assert_equal(type(the_integer), int)"
   ]
  },
  {
   "cell_type": "markdown",
   "metadata": {
    "deletable": false,
    "nbgrader": {
     "checksum": "892cc0835ef77346ac8dab28f73db6aa",
     "grade": false,
     "grade_id": "info3",
     "locked": true,
     "solution": false
    }
   },
   "source": [
    "In the following code cell, assign the value 1.6180339 to a floating point variable named `floating_bubbles`."
   ]
  },
  {
   "cell_type": "code",
   "execution_count": 4,
   "metadata": {
    "collapsed": true,
    "deletable": false,
    "nbgrader": {
     "checksum": "46111bb983269f419190cc3b4056c7ad",
     "grade": false,
     "grade_id": "float",
     "locked": false,
     "solution": true
    }
   },
   "outputs": [],
   "source": [
    "floating_bubbles=1.6180339# YOUR CODE HERE"
   ]
  },
  {
   "cell_type": "code",
   "execution_count": 5,
   "metadata": {
    "collapsed": false,
    "deletable": false,
    "nbgrader": {
     "checksum": "d2103804416bb7fd3d7c0077dbc62c70",
     "grade": true,
     "grade_id": "float-test",
     "locked": true,
     "points": 5,
     "solution": false
    }
   },
   "outputs": [],
   "source": [
    "assert_almost_equal(floating_bubbles, 1.6180339)\n",
    "assert_equal(type(floating_bubbles), float)"
   ]
  },
  {
   "cell_type": "markdown",
   "metadata": {
    "deletable": false,
    "nbgrader": {
     "checksum": "1719b8b305e718072a26478418c8e378",
     "grade": false,
     "grade_id": "info4",
     "locked": true,
     "solution": false
    }
   },
   "source": [
    "Finally, you will need to assign the string 'Spamelot' to a string variable named `the_string`."
   ]
  },
  {
   "cell_type": "code",
   "execution_count": 6,
   "metadata": {
    "collapsed": true,
    "deletable": false,
    "nbgrader": {
     "checksum": "8cf5a6ef976216e789f8e3d010875ae5",
     "grade": false,
     "grade_id": "string",
     "locked": false,
     "solution": true
    }
   },
   "outputs": [],
   "source": [
    "the_string='Spamelot'# YOUR CODE HERE"
   ]
  },
  {
   "cell_type": "code",
   "execution_count": 7,
   "metadata": {
    "collapsed": false,
    "deletable": false,
    "nbgrader": {
     "checksum": "0b6ecd1bba737bdd655ac5c997b45dcc",
     "grade": true,
     "grade_id": "string-test",
     "locked": true,
     "points": 10,
     "solution": false
    }
   },
   "outputs": [],
   "source": [
    "assert_equal(the_string, 'Spamelot')\n",
    "assert_equal(type(the_string), str)"
   ]
  },
  {
   "cell_type": "markdown",
   "metadata": {},
   "source": [
    "Before you turn this in, please make sure that there are no error messages, otherwise you might lose some points on this assignment.  Good luck!"
   ]
  },
  {
   "cell_type": "code",
   "execution_count": null,
   "metadata": {
    "collapsed": true
   },
   "outputs": [],
   "source": []
  }
 ],
 "metadata": {
  "kernelspec": {
   "display_name": "Python 3",
   "language": "python",
   "name": "python3"
  },
  "language_info": {
   "codemirror_mode": {
    "name": "ipython",
    "version": 3
   },
   "file_extension": ".py",
   "mimetype": "text/x-python",
   "name": "python",
   "nbconvert_exporter": "python",
   "pygments_lexer": "ipython3",
   "version": "3.5.2"
  }
 },
 "nbformat": 4,
 "nbformat_minor": 1
}
