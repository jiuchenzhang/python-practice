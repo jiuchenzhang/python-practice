{
 "cells": [
  {
   "cell_type": "markdown",
   "metadata": {
    "deletable": false,
    "nbgrader": {
     "checksum": "d9b96c0a93719a1917fba6da9ba90d35",
     "grade": false,
     "grade_id": "header",
     "locked": true,
     "solution": false
    }
   },
   "source": [
    "# Week 14 Problem 1\n",
    "\n",
    "If you are not using the `Assignments` tab on the course JupyterHub server to read this notebook, read [Activating the assignments tab](https://github.com/UI-DataScience/info490-fa16/blob/master/Week2/assignments/README.md).\n",
    "\n",
    "A few things you should keep in mind when working on assignments:\n",
    "\n",
    "1. Make sure you fill in any place that says `YOUR CODE HERE`. Do **not** write your answer in anywhere else other than where it says `YOUR CODE HERE`. Anything you write anywhere else will be removed or overwritten by the autograder.\n",
    "\n",
    "2. Before you submit your assignment, make sure everything runs as expected. Go to menubar, select _Kernel_, and restart the kernel and run all cells (_Restart & Run all_).\n",
    "\n",
    "3. Do not change the title (i.e. file name) of this notebook.\n",
    "\n",
    "4. Make sure that you save your work (in the menubar, select _File_ → _Save and CheckPoint_)\n",
    "\n",
    "5. You are allowed to submit an assignment multiple times, but only the most recent submission will be graded."
   ]
  },
  {
   "cell_type": "code",
   "execution_count": 1,
   "metadata": {
    "collapsed": true,
    "deletable": false,
    "nbgrader": {
     "checksum": "e8770fc10793b76893fd4b6fb7b75067",
     "grade": false,
     "grade_id": "import_nose",
     "locked": true,
     "solution": false
    }
   },
   "outputs": [],
   "source": [
    "from nose.tools import assert_equal\n",
    "import pandas as pd\n",
    "import sqlite3 as sl\n",
    "import numpy as np\n",
    "import os"
   ]
  },
  {
   "cell_type": "markdown",
   "metadata": {
    "deletable": false,
    "nbgrader": {
     "checksum": "844064fbcfa42062e3a0943971e103c4",
     "grade": false,
     "grade_id": "t1",
     "locked": true,
     "solution": false
    }
   },
   "source": [
    "This assignment will give you experience interacting with SQL databases through Pandas. First we'll make a playground directory and define the location for our database. Nothing will be in the database for now, and if you'd like to start fresh there is a cleanup cell at the bottom of this notebook."
   ]
  },
  {
   "cell_type": "code",
   "execution_count": 2,
   "metadata": {
    "collapsed": false,
    "deletable": false,
    "nbgrader": {
     "checksum": "99187d7577954d7577e2a9190501ecc0",
     "grade": false,
     "grade_id": "t2",
     "locked": true,
     "solution": false
    }
   },
   "outputs": [],
   "source": [
    "# make sandbox if it doesn't exist\n",
    "!mkdir -p ~/w14_p1\n",
    "\n",
    "# make absolutely sure there isn't a database from a previous student\n",
    "try:\n",
    "    os.remove(\"/home/data_scientist/w14_p1/p1.db\")\n",
    "except OSError as e:\n",
    "    pass\n",
    "\n",
    "# set the database location\n",
    "db = '/home/data_scientist/w14_p1/p1.db'"
   ]
  },
  {
   "cell_type": "markdown",
   "metadata": {
    "deletable": false,
    "nbgrader": {
     "checksum": "6116c54dbd46a5640cd2d2066d4745c8",
     "grade": false,
     "grade_id": "p1_title",
     "locked": true,
     "solution": false
    }
   },
   "source": [
    "# Problem 1\n",
    "\n",
    "Pandas, like many other Python modules, communicates with databases via an API as described in the [PEP 249](https://www.python.org/dev/peps/pep-0249/) specification. In this framework, \"Access to the database is made available through connection objects\", which provide a uniform interface to connect to many different flavors of databases. Thus, once you've created the connection object it doesn't really matter if the underlying database is SQLite, MySQL, postgreSQL, etc. This is useful if you want to create reusable code that operates on many different kinds of databases as all you have to do is change the connection object.\n",
    "\n",
    "This problem asks you to create the connection object to connect to our database. Use the `sqlite3` module to connect to a database at a given path. "
   ]
  },
  {
   "cell_type": "code",
   "execution_count": 3,
   "metadata": {
    "collapsed": false,
    "deletable": false,
    "nbgrader": {
     "checksum": "db3521fb40ee6d84031e737d64f0aa3d",
     "grade": false,
     "grade_id": "p1_answer",
     "locked": false,
     "solution": true
    }
   },
   "outputs": [],
   "source": [
    "def create_connector(database):\n",
    "    '''\n",
    "    Creates a connection to a sqlite database\n",
    "    \n",
    "    Parameters\n",
    "    ----------\n",
    "    w: str, a filepath\n",
    "    \n",
    "    Returns\n",
    "    -------\n",
    "    a sqlite3.Connection object\n",
    "    '''\n",
    "    \n",
    "    #YOUR CODE HERE\n",
    "    # Return a connection object of given filepath\n",
    "    return sl.connect(database)"
   ]
  },
  {
   "cell_type": "code",
   "execution_count": 4,
   "metadata": {
    "collapsed": false,
    "deletable": false,
    "nbgrader": {
     "checksum": "01dff7fc151693de4292d3e4b561282a",
     "grade": true,
     "grade_id": "p1_test",
     "locked": true,
     "points": 4,
     "solution": false
    }
   },
   "outputs": [],
   "source": [
    "# WARNING: these will test if the connector is created correctly\n",
    "# but won't test if its connected to the correct database\n",
    "c = create_connector(db)\n",
    "assert_equal(type(c), sl.Connection)\n",
    "assert_equal(c.in_transaction, False)"
   ]
  },
  {
   "cell_type": "code",
   "execution_count": 5,
   "metadata": {
    "collapsed": true,
    "deletable": false,
    "nbgrader": {
     "checksum": "8dac62626095a4dbf53325203050ed9b",
     "grade": false,
     "grade_id": "t3",
     "locked": true,
     "solution": false
    }
   },
   "outputs": [],
   "source": [
    "# ALWAYS RUN THIS CELL, ESPECIALLY WHEN YOU GET AN ASSERT ERROR AND WANT\n",
    "# TO TRY AGAIN\n",
    "c.close()"
   ]
  },
  {
   "cell_type": "markdown",
   "metadata": {
    "deletable": false,
    "nbgrader": {
     "checksum": "3db11cdd7dbe62eb3415cf4adee98a70",
     "grade": false,
     "grade_id": "t4",
     "locked": true,
     "solution": false
    }
   },
   "source": [
    "**Important Note:** If you open a connection you should close it when you're finished with it as above. If you get errors and don't know why, try closing all open connections by either closing them individually or **restarting the Python kernel**. For example, you won't be able to run the cleanup cell at the end of this notebook and delete the database if you have any open connections. This may frustrate you if you would like to retry code that failed."
   ]
  },
  {
   "cell_type": "markdown",
   "metadata": {
    "deletable": false,
    "nbgrader": {
     "checksum": "86f24f110036c323d5e415ec2f8ecdf7",
     "grade": false,
     "grade_id": "p2_title",
     "locked": true,
     "solution": false
    }
   },
   "source": [
    "# Problem 2\n",
    "\n",
    "Now use Pandas to convert a `csv` file at a given path to a SQL table in the new database. Read in the `csv` and write it to the specified table name for the given connection. If the table already exists within the database, replace it."
   ]
  },
  {
   "cell_type": "code",
   "execution_count": 6,
   "metadata": {
    "collapsed": false,
    "deletable": false,
    "nbgrader": {
     "checksum": "60c6f2a9ed35a2dc261e8bb772cb1995",
     "grade": false,
     "grade_id": "p2_answer",
     "locked": false,
     "solution": true
    }
   },
   "outputs": [],
   "source": [
    "def csv_to_sql(csv_name, table_name, con):\n",
    "    '''\n",
    "    Converts a csv file to a SQL table in a given database\n",
    "    \n",
    "    Parameters\n",
    "    ----------\n",
    "    csv_name: str, a filepath\n",
    "    table_name: str, a name for the new table\n",
    "    con: a database connection object\n",
    "    \n",
    "    Returns\n",
    "    -------\n",
    "    None\n",
    "    '''\n",
    "    #YOUR CODE HERE\n",
    "    # Converts the csv file to a SQL table in a given database\n",
    "    data = pd.read_csv(csv_name)\n",
    "    # Drop the table if it exists\n",
    "    data.to_sql(table_name, con, if_exists='replace')"
   ]
  },
  {
   "cell_type": "code",
   "execution_count": 7,
   "metadata": {
    "collapsed": false,
    "deletable": false,
    "nbgrader": {
     "checksum": "b33f258c41a2688a4ea812dedbd0aebf",
     "grade": true,
     "grade_id": "p2_test",
     "locked": true,
     "points": 4,
     "solution": false
    }
   },
   "outputs": [],
   "source": [
    "# get airports.csv into a sql database as the airports table\n",
    "d = create_connector(db)\n",
    "csv_to_sql('/home/data_scientist/data/airports.csv', 'airports', d)\n",
    "\n",
    "# get a cursor object\n",
    "c = d.cursor()\n",
    "# check that the number of airports is correct\n",
    "num_apts = c.execute(\"SELECT COUNT(*) FROM airports\").fetchone()\n",
    "assert_equal(num_apts[0], 3376)\n",
    "# check that the first airport is\n",
    "one_apt = c.execute(\"SELECT * FROM airports ORDER BY iata ASC\").fetchone()\n",
    "assert_equal(one_apt[1], \"00M\")"
   ]
  },
  {
   "cell_type": "code",
   "execution_count": 8,
   "metadata": {
    "collapsed": true,
    "deletable": false,
    "nbgrader": {
     "checksum": "ec496579508c43ae08c2f616209240e6",
     "grade": false,
     "grade_id": "t5",
     "locked": true,
     "solution": false
    }
   },
   "outputs": [],
   "source": [
    "# ALWAYS RUN THIS CELL, ESPECIALLY WHEN YOU GET AN ASSERT ERROR AND WANT\n",
    "# TO TRY AGAIN\n",
    "d.close()"
   ]
  },
  {
   "cell_type": "code",
   "execution_count": 9,
   "metadata": {
    "collapsed": false,
    "deletable": false,
    "nbgrader": {
     "checksum": "de89352bf16fc4bcb3f4108c64763dc5",
     "grade": false,
     "grade_id": "t6",
     "locked": true,
     "solution": false
    }
   },
   "outputs": [
    {
     "name": "stdout",
     "output_type": "stream",
     "text": [
      "(3376,)\n"
     ]
    }
   ],
   "source": [
    "# the number of airports in the airports table\n",
    "print(num_apts)"
   ]
  },
  {
   "cell_type": "code",
   "execution_count": 10,
   "metadata": {
    "collapsed": false,
    "deletable": false,
    "nbgrader": {
     "checksum": "3a322f1e03511ec736de05cfcaefd3bd",
     "grade": false,
     "grade_id": "t7",
     "locked": true,
     "solution": false
    }
   },
   "outputs": [
    {
     "name": "stdout",
     "output_type": "stream",
     "text": [
      "(0, '00M', 'Thigpen ', 'Bay Springs', 'MS', 'USA', 31.95376472, -89.23450472)\n"
     ]
    }
   ],
   "source": [
    "# the first airport as ordered by iata code\n",
    "print(one_apt)"
   ]
  },
  {
   "cell_type": "markdown",
   "metadata": {
    "deletable": false,
    "nbgrader": {
     "checksum": "8c189feb038c812342c0b3f6146dccdb",
     "grade": false,
     "grade_id": "p3_title",
     "locked": true,
     "solution": false
    }
   },
   "source": [
    "# Problem 3\n",
    "\n",
    "When querying databases from Python it is often useful to be able to programatically create SQL queries. Use string formatting to create a SQL query to do the following:\n",
    "\n",
    "* Select all columns from `table`\n",
    "* where `city_col` is equal to `city`\n",
    "* and `state_col` is equal to `state`\n",
    "* If either `city` or `state` is `None`, don't filter on that field\n",
    "\n",
    "This function will likely require a bit of thinking about the conditional logic required to deal with either city or state being `None`, or both, or neither."
   ]
  },
  {
   "cell_type": "code",
   "execution_count": 11,
   "metadata": {
    "collapsed": false,
    "deletable": false,
    "nbgrader": {
     "checksum": "d5a4e327af4dbac66a64035b5a3496bf",
     "grade": false,
     "grade_id": "p3_answer",
     "locked": false,
     "solution": true
    }
   },
   "outputs": [],
   "source": [
    "def create_query(table, city_col, state_col, city=None, state=None):\n",
    "    '''\n",
    "    Creates a SQL query to filter a table by city and state\n",
    "    \n",
    "    Parameters\n",
    "    ----------\n",
    "    table: str, a table name\n",
    "    city_col: str, the name of the city field\n",
    "    state_col: str, the name of the state field\n",
    "    city: str or None, the name of the city to filter on\n",
    "    state: str or None, the name of the state to filter on\n",
    "    \n",
    "    Returns\n",
    "    -------\n",
    "    a string representing a valid sql query the filters `table`\n",
    "    by `city` and `state`\n",
    "    '''\n",
    "\n",
    "    #YOUR CODE HERE\n",
    "    if city == None:\n",
    "        if state == None:\n",
    "            # if both are None\n",
    "            query=(\"SELECT * FROM {}\").format(table)\n",
    "        else:\n",
    "            # if only city is None\n",
    "            query=(\"SELECT * FROM {} WHERE {} = '{}'\".format (table, state_col,state))\n",
    "    else:\n",
    "        if state == None:\n",
    "            # if only state is None\n",
    "            query=(\"SELECT * FROM {} WHERE {} = '{}'\".format (table, city_col,city))\n",
    "        else:\n",
    "            # if both are not None\n",
    "            query=(\"SELECT * FROM {} WHERE {} = '{}' AND {} = '{}'\".format (table, city_col,city,state_col,state))\n",
    "    return query"
   ]
  },
  {
   "cell_type": "code",
   "execution_count": 12,
   "metadata": {
    "collapsed": false,
    "deletable": false,
    "nbgrader": {
     "checksum": "bc2d3c85ba8774bcea314c357c4e811a",
     "grade": true,
     "grade_id": "p3_test",
     "locked": true,
     "points": 4,
     "solution": false
    }
   },
   "outputs": [],
   "source": [
    "# test when neither are None\n",
    "q = create_query('airports', 'city', 'state', 'Champaign', 'IL')\n",
    "q_lower = q.lower()\n",
    "assert(\"city = 'Champaign'\" in q)\n",
    "assert(\"state = 'IL'\" in q)\n",
    "assert('select * from airports where' in q_lower)\n",
    "assert('airports' in q)\n",
    "# test when both are None\n",
    "q2 = create_query('airports', 'city', 'state')\n",
    "q2_lower = q2.lower()\n",
    "assert_equal(q2_lower, 'select * from airports')\n",
    "# test when state is None\n",
    "q3=create_query('airports', 'city', 'state', 'Chicago/Waukegan', None)\n",
    "q3_lower = q3.lower()\n",
    "assert_equal(q3_lower, \"select * from airports where city = 'chicago/waukegan'\")\n",
    "# test when city is None\n",
    "q4=create_query('airports', 'city', 'state', None, 'MO')\n",
    "q4_lower = q4.lower()\n",
    "assert_equal(q4_lower, \"select * from airports where state = 'mo'\")"
   ]
  },
  {
   "cell_type": "markdown",
   "metadata": {
    "deletable": false,
    "nbgrader": {
     "checksum": "f9ecb2bd450b818def7a4eddc64ec27b",
     "grade": false,
     "grade_id": "t8",
     "locked": true,
     "solution": false
    }
   },
   "source": [
    "# Problem 4\n",
    "\n",
    "Now write a function that uses the `create_query` function to actually execute the query on the airports table through Pandas."
   ]
  },
  {
   "cell_type": "code",
   "execution_count": 13,
   "metadata": {
    "collapsed": true,
    "deletable": false,
    "nbgrader": {
     "checksum": "2a314b957c105a2662d509fa30ae4584",
     "grade": false,
     "grade_id": "p4_answer",
     "locked": false,
     "solution": true
    }
   },
   "outputs": [],
   "source": [
    "def get_citystate_apts(city, state, con):\n",
    "    \n",
    "    '''\n",
    "    Gets the airports in a certain city and state from the airports table\n",
    "    \n",
    "    Parameters\n",
    "    ----------\n",
    "    city: str or None, the name of the city to filter on\n",
    "    state: str or None, the name of the state to filter on\n",
    "    con: a database connection object\n",
    "    \n",
    "    Returns\n",
    "    -------\n",
    "    a dataframe that is the result of the query created by `create_query`\n",
    "    '''\n",
    "    \n",
    "    #YOUR CODE HERE\n",
    "    #  Gets the airports in a certain city and state from the airports table\n",
    "    return pd.read_sql(create_query('airports', 'city', 'state', city, state), con)"
   ]
  },
  {
   "cell_type": "code",
   "execution_count": 14,
   "metadata": {
    "collapsed": false,
    "deletable": false,
    "nbgrader": {
     "checksum": "525c41c745330d4cf778948064b211bf",
     "grade": true,
     "grade_id": "p4_tests",
     "locked": true,
     "points": 4,
     "solution": false
    }
   },
   "outputs": [],
   "source": [
    "con = create_connector(db)\n",
    "\n",
    "# check when only specifying state\n",
    "q_data = get_citystate_apts(None, 'IL', con)\n",
    "assert_equal(type(q_data), pd.DataFrame)\n",
    "assert_equal(len(q_data), 88)\n",
    "assert_equal(len(q_data.state.unique()), 1)\n",
    "assert_equal(q_data.state.unique(), \"IL\")\n",
    "# only specifying city\n",
    "q_data2 = get_citystate_apts('Columbia', None, con)\n",
    "assert_equal(type(q_data2), pd.DataFrame)\n",
    "assert_equal(len(q_data2), 5)\n",
    "assert_equal(len(q_data2.state.unique()), 4)\n",
    "# specifying neither\n",
    "q_data3 = get_citystate_apts(None, None, con)\n",
    "assert_equal(type(q_data3), pd.DataFrame)\n",
    "assert_equal(len(q_data3), 3376)\n",
    "assert_equal(len(q_data3.state.unique()), 57)\n",
    "# specifying both\n",
    "q_data4 = get_citystate_apts(\"Chicago\", \"IL\", con)\n",
    "assert_equal(type(q_data4), pd.DataFrame)\n",
    "assert_equal(len(q_data4), 3)\n",
    "assert_equal(len(q_data4.state.unique()), 1)"
   ]
  },
  {
   "cell_type": "code",
   "execution_count": 15,
   "metadata": {
    "collapsed": true,
    "deletable": false,
    "nbgrader": {
     "checksum": "f794a6363a85efad12a502bf794bb361",
     "grade": false,
     "grade_id": "t9",
     "locked": true,
     "solution": false
    }
   },
   "outputs": [],
   "source": [
    "# ALWAYS RUN THIS CELL, ESPECIALLY WHEN YOU GET AN ASSERT ERROR AND WANT\n",
    "# TO TRY AGAIN\n",
    "con.close()"
   ]
  },
  {
   "cell_type": "markdown",
   "metadata": {
    "deletable": false,
    "nbgrader": {
     "checksum": "ac282169777492ee03636e4cf5f1ca85",
     "grade": false,
     "grade_id": "t10",
     "locked": true,
     "solution": false
    }
   },
   "source": [
    "# Problem 5\n",
    "\n",
    "Finally, use what you've learned in previous weeks to do the following:\n",
    "\n",
    "* Calcuate the median DepDelay for each Origin airport in 2001.csv\n",
    "* Merge on airport, city, and state from the airports.csv data  \n",
    "* The final columns should be 'iata', 'airport', 'city', 'state', 'medianDepDelay'\n",
    "* Push the result to the database as AirportDelays and don't write an index column\n",
    "\n",
    "Keep in mind that during your median calculation you should not include any NA values. To speed up the import of 2001.csv, you can specify which columns you'll need via `usecols`. When doing the merge, there may be aiports in 2001.csv that aren't in airports.csv. Do not discard these, keep all airports in 2001.csv but allow the aiport, city, and state columns to be NA. Don't forget to close your database connection!"
   ]
  },
  {
   "cell_type": "code",
   "execution_count": 16,
   "metadata": {
    "collapsed": false,
    "deletable": false,
    "nbgrader": {
     "checksum": "8f1e99d0a9e10925f8960d94c41085b5",
     "grade": false,
     "grade_id": "p5_answer",
     "locked": false,
     "solution": true
    }
   },
   "outputs": [],
   "source": [
    "#YOUR CODE HERE\n",
    "# Create the connector\n",
    "con = create_connector(db)\n",
    "# Read 2001.csv\n",
    "df1 = pd.read_csv('/home/data_scientist/data/2001.csv',encoding='latin-1',usecols = ['DepDelay','Origin'])\n",
    "# Change the columns name for merging\n",
    "df1.columns = ['DepDelay','iata']\n",
    "# Calculate the median\n",
    "df1 = df1.groupby('iata', as_index = False).median()\n",
    "# Read airports.csv\n",
    "df2 = pd.read_csv('/home/data_scientist/data/airports.csv',usecols = ['iata','airport', 'city','state'])\n",
    "# Merging\n",
    "df = pd.merge(df1,df2, how = 'left',on='iata')\n",
    "# Change the columns name\n",
    "df.columns = [ 'iata', 'medianDepDelay', 'airport', 'city', 'state']\n",
    "# Set index\n",
    "df = df.set_index('iata')\n",
    "# Push the result to the database as AirportDelays and don't write an index column\n",
    "df.to_sql('AirportDelays', con, if_exists='replace')\n",
    "# Close database connection\n",
    "con.close()"
   ]
  },
  {
   "cell_type": "code",
   "execution_count": 17,
   "metadata": {
    "collapsed": false,
    "deletable": false,
    "nbgrader": {
     "checksum": "dc0ef73ee1bfb2887ab26cc3896e4034",
     "grade": true,
     "grade_id": "p5_tests",
     "locked": true,
     "points": 9,
     "solution": false
    }
   },
   "outputs": [],
   "source": [
    "# get connector and cursor\n",
    "d = create_connector(db)\n",
    "c = d.cursor()\n",
    "\n",
    "# check that the number of airports is correct\n",
    "num_apts = c.execute(\"SELECT COUNT(*) FROM AirportDelays\").fetchone()\n",
    "assert_equal(num_apts[0], 231)\n",
    "\n",
    "# get the champaign data\n",
    "cmi_data = c.execute(\"SELECT * FROM AirportDelays WHERE iata = 'CMI'\").fetchall()\n",
    "# there should only be one record\n",
    "assert_equal(len(cmi_data), 1)\n",
    "\n",
    "# check the column names and get indices\n",
    "cols = [x[0] for x in c.description]\n",
    "iata_col = cols.index('iata')\n",
    "airpt_col = cols.index('airport')\n",
    "city_col = cols.index('city')\n",
    "state_col = cols.index('state')\n",
    "data_col = cols.index('medianDepDelay')\n",
    "cols.sort()\n",
    "assert_equal(['airport', 'city', 'iata', 'medianDepDelay', 'state'], cols)\n",
    "\n",
    "# check the champaign data\n",
    "assert_equal('Champaign/Urbana', cmi_data[0][city_col])\n",
    "assert_equal(-2.0, cmi_data[0][data_col])\n",
    "\n",
    "# get the Dallas Data\n",
    "dfw_data = c.execute(\"SELECT * FROM AirportDelays WHERE iata = 'DFW'\").fetchall()\n",
    "assert_equal('Dallas-Fort Worth International', dfw_data[0][airpt_col])\n",
    "assert_equal('TX', dfw_data[0][state_col])\n",
    "\n",
    "# get the Boston Data\n",
    "bos_data = c.execute(\"SELECT * FROM AirportDelays WHERE iata = 'BOS'\").fetchall()\n",
    "assert_equal('Dallas-Fort Worth', dfw_data[0][city_col])\n",
    "assert_equal(0.0, bos_data[0][data_col])"
   ]
  },
  {
   "cell_type": "code",
   "execution_count": 18,
   "metadata": {
    "collapsed": false,
    "deletable": false,
    "nbgrader": {
     "checksum": "2f00190f72d2b9d09a5f4b5cb8370fe9",
     "grade": false,
     "grade_id": "t13",
     "locked": true,
     "points": 9,
     "solution": false
    }
   },
   "outputs": [],
   "source": [
    "# close the connection\n",
    "d.close()"
   ]
  },
  {
   "cell_type": "markdown",
   "metadata": {
    "deletable": false,
    "nbgrader": {
     "checksum": "9a0f79eb919c2503c147b9777b9f5d9a",
     "grade": false,
     "grade_id": "t11",
     "locked": true,
     "solution": false
    }
   },
   "source": [
    "# Cleanup"
   ]
  },
  {
   "cell_type": "code",
   "execution_count": 19,
   "metadata": {
    "collapsed": false,
    "deletable": false,
    "nbgrader": {
     "checksum": "478e6844f18f16c6b6e3ac5012b3a205",
     "grade": false,
     "grade_id": "t12",
     "locked": true,
     "solution": false
    }
   },
   "outputs": [],
   "source": [
    "# if your code doesn't execute cleanly from top to bottom, you'll\n",
    "# probably have to restart the kernel to get this cell to run\n",
    "!rm -rf /home/data_scientist/w14_p1/\n",
    "# make absolutely sure you get rid of your old database\n",
    "try:\n",
    "    os.remove(\"/home/data_scientist/w14_p1/p1.db\")\n",
    "except OSError as e:\n",
    "    pass"
   ]
  }
 ],
 "metadata": {
  "kernelspec": {
   "display_name": "Python 3",
   "language": "python",
   "name": "python3"
  },
  "language_info": {
   "codemirror_mode": {
    "name": "ipython",
    "version": 3
   },
   "file_extension": ".py",
   "mimetype": "text/x-python",
   "name": "python",
   "nbconvert_exporter": "python",
   "pygments_lexer": "ipython3",
   "version": "3.5.2"
  }
 },
 "nbformat": 4,
 "nbformat_minor": 0
}
