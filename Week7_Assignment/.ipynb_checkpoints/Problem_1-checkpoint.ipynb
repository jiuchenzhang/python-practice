{
 "cells": [
  {
   "cell_type": "markdown",
   "metadata": {
    "deletable": false,
    "nbgrader": {
     "checksum": "a3c0934f4debadbd458ea9e805bb4a7c",
     "grade": false,
     "grade_id": "header",
     "locked": true,
     "solution": false
    }
   },
   "source": [
    "# Week 7 Problem 1\n",
    "\n",
    "If you are not using the `Assignments` tab on the course JupyterHub server to read this notebook, read [Activating the assignments tab](https://github.com/UI-DataScience/info490-fa16/blob/master/Week2/assignments/README.md).\n",
    "\n",
    "A few things you should keep in mind when working on assignments:\n",
    "\n",
    "1. Make sure you fill in any place that says `YOUR CODE HERE`. Do **not** write your answer in anywhere else other than where it says `YOUR CODE HERE`. Anything you write anywhere else will be removed or overwritten by the autograder.\n",
    "\n",
    "2. Before you submit your assignment, make sure everything runs as expected. Go to menubar, select _Kernel_, and restart the kernel and run all cells (_Restart & Run all_).\n",
    "\n",
    "3. Do not change the title (i.e. file name) of this notebook.\n",
    "\n",
    "4. Make sure that you save your work (in the menubar, select _File_ → _Save and CheckPoint_)\n",
    "\n",
    "5. You are allowed to submit an assignment multiple times, but only the most recent submission will be graded."
   ]
  },
  {
   "cell_type": "code",
   "execution_count": 1,
   "metadata": {
    "collapsed": true,
    "deletable": false,
    "nbgrader": {
     "checksum": "a7d2b6a8b9d6490cc61e7d33cc5bf786",
     "grade": false,
     "grade_id": "import_nose",
     "locked": true,
     "solution": false
    }
   },
   "outputs": [],
   "source": [
    "%matplotlib inline\n",
    "\n",
    "# plotting tools\n",
    "import matplotlib as mpl\n",
    "import matplotlib.pyplot as plt\n",
    "import numpy as np\n",
    "import seaborn as sns\n",
    "\n",
    "# testing tools\n",
    "from nose.tools import (\n",
    "    assert_equal, assert_is_instance, assert_is_not,\n",
    "    assert_greater_equal, assert_less_equal\n",
    ")\n",
    "from numpy.testing import assert_array_almost_equal"
   ]
  },
  {
   "cell_type": "markdown",
   "metadata": {
    "deletable": false,
    "nbgrader": {
     "checksum": "7d9d1bb60c699542a445309d55f7b93e",
     "grade": false,
     "grade_id": "p1_title",
     "locked": true,
     "solution": false
    }
   },
   "source": [
    "# Problem 1.\n",
    "\n",
    "In this problem, you will be creating a function that plots the sine and cosine functions (sin(x) and cos(x)) on the same plot.  Here is a sample plot:\n",
    "![sine cosine function plot](sine_cos.png \"Sine and Cosine Plot\")"
   ]
  },
  {
   "cell_type": "markdown",
   "metadata": {
    "deletable": false,
    "nbgrader": {
     "checksum": "34fd78b32d4cd407749fbb065dcacab1",
     "grade": false,
     "grade_id": "markdown_5",
     "locked": true,
     "solution": false
    }
   },
   "source": [
    "The main purpose of this problem is for you to become familiarized with \n",
    "making simple plots in matplotlib.  Before you start, you should take note \n",
    "of a few important things:"
   ]
  },
  {
   "cell_type": "markdown",
   "metadata": {
    "collapsed": true,
    "deletable": false,
    "nbgrader": {
     "checksum": "ac888d92d80b118f4ac3b29a24422601",
     "grade": false,
     "grade_id": "markdown_2",
     "locked": true,
     "points": 10,
     "solution": false
    }
   },
   "source": [
    "- You don't have to make your plot look exactly like this example. If your plot looks visually OK, and if the test code cell doesn't produce any errors, your solution is correct.\n",
    "- Note that code for creating a Figure object and an Axes object is already provided: `fig, ax = plt.subplots()`\n",
    "- Also note that the plot_sin_cos function returns an instance (named ax) of the Axes object. You should use ax to create your plot (check out the lesson notebook for lesson 2 for examples on how to do this). The reason we write our function this way to return an Axes instance is because it can be used to extract data values for testing.\n",
    "- Your plot should have a title and axis lables.\n",
    "- In order for your function to be graded correctly, you need to first plot the sine function, and then the cosine function.  If you do not do this, you will not pass the last few assertion tests.\n",
    "- The $x$-axis should be in radians (not degrees) and should go from $-\\pi$ to $+\\pi$.\n",
    "- Since seaborn has been imported, you are allowed to use it in this problem.\n"
   ]
  },
  {
   "cell_type": "code",
   "execution_count": 2,
   "metadata": {
    "collapsed": false,
    "deletable": false,
    "nbgrader": {
     "checksum": "c5d91d2e870c3ac1487f4b553197316c",
     "grade": false,
     "grade_id": "p1_answer",
     "locked": false,
     "solution": true
    }
   },
   "outputs": [],
   "source": [
    "def plot_sin_cos():\n",
    "    \"\"\"\n",
    "    Plots the sine and cosine functions on the same plot, using pyplot functions.\n",
    "    \n",
    "    Parameters\n",
    "    ----------\n",
    "    None\n",
    "    \n",
    "    Returns\n",
    "    -------\n",
    "    A matplotlib.Axes instance.\n",
    "    \"\"\"\n",
    "    \n",
    "    fig, ax = plt.subplots()\n",
    "\n",
    "    # YOUR CODE HERE\n",
    "    \n",
    "    # using the Seaborn library to improve the plot\n",
    "    sns.set()\n",
    "    \n",
    "    # Now we generate the data we need\n",
    "    x = np.linspace(-np.pi,np.pi)\n",
    "    ysin = np.sin(x)\n",
    "    ycos = np.cos(x)\n",
    "    \n",
    "    # Plot the two line\n",
    "    ax.plot(x, ysin, x, ycos)\n",
    "    \n",
    "    # Set our axis labels\n",
    "    ax.set_xlabel(\"x in radians\")\n",
    "    ax.set_ylabel(\"y\")\n",
    "        \n",
    "    # Set the title\n",
    "    ax.set_title(\"Sine and Cosine values for x between $-\\pi$ and $\\pi$\")\n",
    "    \n",
    "    return ax"
   ]
  },
  {
   "cell_type": "code",
   "execution_count": 3,
   "metadata": {
    "collapsed": false,
    "deletable": false,
    "nbgrader": {
     "checksum": "88f7069b984d10e40451fab0aeb79272",
     "grade": false,
     "grade_id": "markdown_3",
     "locked": true,
     "points": 10,
     "solution": false
    }
   },
   "outputs": [
    {
     "data": {
      "image/png": "[encoded data removed]",
      "text/plain": [
       "<matplotlib.figure.Figure at 0x7f17146bac18>"
      ]
     },
     "metadata": {},
     "output_type": "display_data"
    }
   ],
   "source": [
    "ax = plot_sin_cos()"
   ]
  },
  {
   "cell_type": "code",
   "execution_count": 4,
   "metadata": {
    "collapsed": false,
    "deletable": false,
    "nbgrader": {
     "checksum": "bbecd9313ae4e533d75c8078ffd73723",
     "grade": true,
     "grade_id": "cube_test",
     "locked": true,
     "points": 30,
     "solution": false
    }
   },
   "outputs": [],
   "source": [
    "assert_is_instance(\n",
    "    ax, mpl.axes.Axes,\n",
    "    msg=\"Your function should return a matplotlib.axes.Axes object.\"\n",
    ")\n",
    "\n",
    "assert_equal(len(ax.lines), 2)\n",
    "\n",
    "assert_is_not(\n",
    "    len(ax.title.get_text()), 0,\n",
    "    msg=\"Your plot doesn't have a title.\"\n",
    ")\n",
    "assert_is_not(\n",
    "    ax.xaxis.get_label_text(), '',\n",
    "    msg=\"Change the x-axis label to something more descriptive.\"\n",
    ")\n",
    "assert_is_not(\n",
    "    ax.yaxis.get_label_text(), '',\n",
    "    msg=\"Change the y-axis label to something more descriptive.\"\n",
    ")\n",
    "    \n",
    "x, y1 = ax.lines[0].get_xydata().T\n",
    "assert_less_equal(x.min(), -3.14)\n",
    "assert_greater_equal(x.max(), 3.14)\n",
    "assert_array_almost_equal(y1, np.sin(x))\n",
    "\n",
    "x, y2 = ax.lines[1].get_xydata().T\n",
    "assert_less_equal(x.min(), -3.14)\n",
    "assert_greater_equal(x.max(), 3.14)\n",
    "assert_array_almost_equal(y2, np.cos(x))"
   ]
  },
  {
   "cell_type": "markdown",
   "metadata": {
    "collapsed": true,
    "deletable": false,
    "nbgrader": {
     "checksum": "d3070313cc6fcb7098fe9e90f2ef0e44",
     "grade": false,
     "grade_id": "markdown_6",
     "locked": true,
     "solution": false
    }
   },
   "source": [
    "If you are not passing the last two sets of assertion tests, did you make sure that you are plotting the sine function first and then the cosine function?  Also, did you make sure that your x values include both $-\\pi$ and $\\pi$? "
   ]
  },
  {
   "cell_type": "code",
   "execution_count": null,
   "metadata": {
    "collapsed": true
   },
   "outputs": [],
   "source": []
  }
 ],
 "metadata": {
  "kernelspec": {
   "display_name": "Python 3",
   "language": "python",
   "name": "python3"
  },
  "language_info": {
   "codemirror_mode": {
    "name": "ipython",
    "version": 3
   },
   "file_extension": ".py",
   "mimetype": "text/x-python",
   "name": "python",
   "nbconvert_exporter": "python",
   "pygments_lexer": "ipython3",
   "version": "3.5.2"
  }
 },
 "nbformat": 4,
 "nbformat_minor": 0
}
