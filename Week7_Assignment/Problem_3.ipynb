{
 "cells": [
  {
   "cell_type": "markdown",
   "metadata": {
    "deletable": false,
    "nbgrader": {
     "checksum": "cbb03e85b92b0c6c062879d112c9319c",
     "grade": false,
     "grade_id": "title",
     "locked": true,
     "solution": false
    }
   },
   "source": [
    "# Week 7 Problem 3\n",
    "\n",
    "If you are not using the `Assignments` tab on the course JupyterHub server to read this notebook, read [Activating the assignments tab](https://github.com/UI-DataScience/info490-fa16/blob/master/Week2/assignments/README.md).\n",
    "\n",
    "A few things you should keep in mind when working on assignments:\n",
    "\n",
    "1. Make sure you fill in any place that says `YOUR CODE HERE`. Do **not** write your answer in anywhere else other than where it says `YOUR CODE HERE`. Anything you write anywhere else will be removed or overwritten by the autograder.\n",
    "\n",
    "2. Before you submit your assignment, make sure everything runs as expected. Go to menubar, select _Kernel_, and restart the kernel and run all cells (_Restart & Run all_).\n",
    "\n",
    "3. Do not change the title (i.e. file name) of this notebook.\n",
    "\n",
    "4. Make sure that you save your work (in the menubar, select _File_ → _Save and CheckPoint_)\n",
    "\n",
    "5. You are allowed to submit an assignment multiple times, but only the most recent submission will be graded."
   ]
  },
  {
   "cell_type": "code",
   "execution_count": 1,
   "metadata": {
    "collapsed": true,
    "deletable": false,
    "nbgrader": {
     "checksum": "0b3535db01eb50ce36906b31090a3266",
     "grade": false,
     "grade_id": "import",
     "locked": true,
     "solution": false
    }
   },
   "outputs": [],
   "source": [
    "%matplotlib inline\n",
    "\n",
    "# plotting tools\n",
    "import matplotlib as mpl\n",
    "import matplotlib.pyplot as plt\n",
    "import numpy as np\n",
    "import seaborn as sns\n",
    "sns.set_style(\"whitegrid\")\n",
    "\n",
    "# testing tools\n",
    "from nose.tools import assert_equal, assert_is_instance, assert_is_not\n",
    "from numpy.testing import assert_array_equal"
   ]
  },
  {
   "cell_type": "markdown",
   "metadata": {
    "deletable": false,
    "nbgrader": {
     "checksum": "47d022ccc46ecbff41acf7fb23372934",
     "grade": false,
     "grade_id": "p1",
     "locked": true,
     "solution": false
    }
   },
   "source": [
    "# Problem 1. Distance vs. Flight Time\n",
    "\n",
    "In this problem, we are going to use the 2001 [airline on-time performance data](http://stat-computing.org/dataexpo/2009/the-data.html) `2001.csv`, which is located in the `data` folder under our home directory, to create a scatter plot of `Distance` vs. `ActualElapsedTime`. `~/data/2001.csv` is a large CSV file which contains as many as 5967781 lines:\n",
    "\n",
    "```python\n",
    "!cat ~/data/2001.csv | wc -l\n",
    "```\n",
    "    5967781\n",
    "\n",
    "That is to say, if we plot two columns in `2001.csv`, we are going to plot over 5 million points. Trying to plot all 5 million points in one scatter plot will result in waiting forever to process the plot, an IPython notebook with a very large file size, and an extremely cluttered plot. We certainly do not want to do that. Instead, we can plot every *n*-th point. Suppose we want to plot every 1000-th point, we could extract every 1000-th line from the `2001.csv` file. The code cell below copies the header and every 1000-th line from `2001.csv` to the `~/w7p3/` directory and displays the first 10 rows of the output file. In this problem, we are going to work with `~/w7p3/2001.csv`."
   ]
  },
  {
   "cell_type": "code",
   "execution_count": 2,
   "metadata": {
    "collapsed": false,
    "deletable": false,
    "nbgrader": {
     "checksum": "0b3f0056d3c74b2acd98afef5199ec2b",
     "grade": false,
     "grade_id": "mkfile",
     "locked": true,
     "solution": false
    }
   },
   "outputs": [
    {
     "name": "stdout",
     "output_type": "stream",
     "text": [
      "Year,Month,DayofMonth,DayOfWeek,DepTime,CRSDepTime,ArrTime,CRSArrTime,UniqueCarrier,FlightNum,TailNum,ActualElapsedTime,CRSElapsedTime,AirTime,ArrDelay,DepDelay,Origin,Dest,Distance,TaxiIn,TaxiOut,Cancelled,CancellationCode,Diverted,CarrierDelay,WeatherDelay,NASDelay,SecurityDelay,LateAircraftDelay\r\n",
      "2001,1,11,4,2205,2215,2255,2315,US,416,N514A�,50,60,33,-20,-10,PIT,IAD,183,6,11,0,NA,0,NA,NA,NA,NA,NA\r\n",
      "2001,1,3,3,753,745,841,838,US,446,N891��,48,53,37,3,8,PIT,BUF,186,3,8,0,NA,0,NA,NA,NA,NA,NA\r\n",
      "2001,1,25,4,716,720,828,839,US,479,N122��,72,79,57,-11,-4,RDU,PHL,336,4,11,0,NA,0,NA,NA,NA,NA,NA\r\n",
      "2001,1,8,1,1342,1340,1518,1519,US,507,N606A�,96,99,82,-1,2,CLT,TPA,508,4,10,0,NA,0,NA,NA,NA,NA,NA\r\n",
      "2001,1,20,6,NA,1330,NA,1433,US,534,�NKNO�,NA,123,NA,NA,NA,CLT,STL,575,0,0,1,NA,0,NA,NA,NA,NA,NA\r\n",
      "2001,1,6,6,951,945,1134,1128,US,566,N340��,103,103,74,6,6,CLT,IND,428,7,22,0,NA,0,NA,NA,NA,NA,NA\r\n",
      "2001,1,28,7,1515,1520,1627,1640,US,603,N765��,72,80,57,-13,-5,RDU,PIT,328,7,8,0,NA,0,NA,NA,NA,NA,NA\r\n",
      "2001,1,7,7,1110,1110,1256,1258,US,665,N825��,106,108,90,-2,0,CLT,PBI,590,4,12,0,NA,0,NA,NA,NA,NA,NA\r\n",
      "2001,1,4,4,1136,1135,1254,1251,US,715,N353��,78,76,52,3,1,PIT,IND,325,10,16,0,NA,0,NA,NA,NA,NA,NA\r\n"
     ]
    }
   ],
   "source": [
    "# make a directory for week 7 problem 3\n",
    "!mkdir -p ~/w7p3/ \n",
    "\n",
    "# get every 1000-th line in the original 2001.csv file, keeping header\n",
    "!sed -n '1p;0~1000p' ~/data/2001.csv >~/w7p3/2001.csv \n",
    "\n",
    "!head ~/w7p3/2001.csv"
   ]
  },
  {
   "cell_type": "markdown",
   "metadata": {
    "deletable": false,
    "nbgrader": {
     "checksum": "a1cd860b6f275fe49f5817da3950dfcc",
     "grade": false,
     "grade_id": "f1",
     "locked": true,
     "solution": false
    }
   },
   "source": [
    "## 1. Function: get_columns()\n",
    "\n",
    "In the following code cell, modify the `get_column()` function from [Problem 5.2](https://github.com/UI-DataScience/info490-fa16/blob/master/Week5/assignments/Problem_2.ipynb) to create a new function named `get_columns()`:\n",
    "\n",
    "- `get_columns(filepath, n1, n2, header=True)` reads the n1-th column and the n2-th column from a file and returns a tuple of two integer lists in the order specified by n1 and n2.\n",
    "- You may assume that the column is made of integers, i.e. the strings you extracted from the file can be converted to integers.\n",
    "- `header` is an optional argument. If it is `True`, skip the first row; if it is `False`, do not skip.\n",
    "- You have to specify that the encoding is `latin-1`, e.g.\n",
    "  ```python\n",
    "  open(filepath, encoding='latin-1')\n",
    "  ```\n",
    "- I call the first argument as `filepath` to make it more clear, since we are going to work with a file that is not in the same directory as this notebook.\n",
    "- If a row in either of the two columns contains the missing value `\"NA\"`, skip that row for **both** columns. That is to say, the two output columns should have the **same** length, so that our scatter plot in the next step will not be messed up. \n",
    "- In addition to the traditional input method mentioned in the [Week 5 Lesson 2 notebook](https://github.com/UI-DataScience/info490-fa16/blob/master/Week5/notebooks/pyfileio.ipynb), you could also try [csv module](https://docs.python.org/3/library/csv.html), [numpy.genfromtxt()](http://docs.scipy.org/doc/numpy/user/basics.io.genfromtxt.html), [numpy.loadtxt()](http://docs.scipy.org/doc/numpy/reference/generated/numpy.loadtxt.html), or [Pandas read_csv()](http://pandas.pydata.org/pandas-docs/stable/generated/pandas.read_csv.html). \n",
    "- Depending on which method you choose to use, you may want to handle `\"NA\"` during you read the file, or remove `\"NA\"` after you construct the two columns. "
   ]
  },
  {
   "cell_type": "code",
   "execution_count": 3,
   "metadata": {
    "collapsed": false,
    "deletable": false,
    "nbgrader": {
     "checksum": "9d114e0f06e7e31683ec4e107c58caeb",
     "grade": false,
     "grade_id": "f1_a",
     "locked": false,
     "solution": true
    }
   },
   "outputs": [],
   "source": [
    "def get_columns(filepath, n1, n2, header=True):\n",
    "    '''\n",
    "    Returns two integer lists from reading the specified two columns in the CSV file.\n",
    "\n",
    "    Parameters\n",
    "    __________\n",
    "    filepath (str): Input file path. The file is assumed to be in a \n",
    "                    Comma Separated Values (CSV) format with latin-1 encoding.\n",
    "    n1 (int): Column number. The first column starts at 0. The column must be\n",
    "             a list of integers.\n",
    "    n2 (int): Another column number.\n",
    "    '''\n",
    "    \n",
    "    # YOUR CODE HERE\n",
    "    # import csv library\n",
    "    import csv\n",
    "    \n",
    "    # create two lists for two columns\n",
    "    n1col = []\n",
    "    n2col = []\n",
    "    \n",
    "    # get two columns\n",
    "    with open(filepath, newline='', encoding = 'latin-1') as csvfile:\n",
    "        for row in csv.reader(csvfile):\n",
    "            if header:                                  #if header = True, skip the first row.\n",
    "                header = False\n",
    "                continue\n",
    "            if row[n1] != 'NA' and row[n2] != 'NA':    #If a row in either of the two columns contains the missing value \"NA\", skip that row for both columns.\n",
    "                n1col.append(int(row[n1]))\n",
    "                n2col.append(int(row[n2]))\n",
    "                \n",
    "    return (n1col, n2col)"
   ]
  },
  {
   "cell_type": "code",
   "execution_count": 4,
   "metadata": {
    "collapsed": false,
    "deletable": false,
    "nbgrader": {
     "checksum": "dc1a816b4cdc2fa2804b060768b9be8c",
     "grade": false,
     "grade_id": "testfiles",
     "locked": true,
     "solution": false
    }
   },
   "outputs": [],
   "source": [
    "# construct csv files for assertion tests\n",
    "csv_with_header = '''\n",
    "Year,Month,DayofMonth,DayOfWeek,DepTime,CRSDepTime,ArrTime,CRSArrTime,UniqueCarrier,FlightNum,TailNum,ActualElapsedTime,CRSElapsedTime,AirTime,ArrDelay,DepDelay,Origin,Dest,Distance,TaxiIn,TaxiOut,Cancelled,CancellationCode,Diverted,CarrierDelay,WeatherDelay,NASDelay,SecurityDelay,LateAircraftDelay\n",
    "2001,1,17,3,1806,1810,1931,1934,US,375,N700äæ,85,84,60,-3,-4,BWI,CLT,361,5,20,0,NA,0,NA,NA,NA,NA,1\n",
    "2001,1,18,4,1805,1810,1938,1934,US,375,N713äæ,93,84,64,4,-5,BWI,CLT,361,9,20,0,NA,0,NA,NA,NA,NA,1\n",
    "2001,1,19,5,1821,1810,1957,1934,US,375,N702äæ,96,84,80,23,11,BWI,CLT,361,6,10,0,NA,0,NA,NA,NA,NA,NA\n",
    "2001,1,20,6,1807,1810,1944,1934,US,375,N701äæ,97,84,66,10,-3,BWI,CLT,361,4,27,0,NA,0,NA,NA,NA,NA,NA\n",
    "'''.strip().encode('latin-1')\n",
    "\n",
    "csv_no_header = '''\n",
    "2001,1,17,3,1806,1810,1931,1934,US,375,N700äæ,85,84,60,-3,-4,BWI,CLT,361,5,20,0,NA,0,NA,NA,NA,NA,1\n",
    "2001,1,18,4,1805,1810,1938,1934,US,375,N713äæ,93,84,64,4,-5,BWI,CLT,361,9,20,0,NA,0,NA,NA,NA,NA,1\n",
    "2001,1,19,5,1821,1810,1957,1934,US,375,N702äæ,96,84,80,23,11,BWI,CLT,361,6,10,0,NA,0,NA,NA,NA,NA,NA\n",
    "2001,1,20,6,1807,1810,1944,1934,US,375,N701äæ,97,84,66,10,-3,BWI,CLT,361,4,27,0,NA,0,NA,NA,NA,NA,NA\n",
    "2001,1,21,7,1810,1810,1954,1934,US,375,N768äæ,104,84,62,20,0,BWI,CLT,361,4,38,0,NA,0,NA,NA,NA,NA,1\n",
    "'''.strip().encode('latin-1')\n",
    "\n",
    "with open('/home/data_scientist/w7p3/test.header.csv', 'wb') as f:\n",
    "    f.write(csv_with_header)\n",
    "    \n",
    "with open('/home/data_scientist/w7p3/test.noheader.csv', 'wb') as f:\n",
    "    f.write(csv_no_header)"
   ]
  },
  {
   "cell_type": "code",
   "execution_count": 5,
   "metadata": {
    "collapsed": false,
    "deletable": false,
    "nbgrader": {
     "checksum": "170220714fcef7483d6cb881f9aca0f0",
     "grade": true,
     "grade_id": "f1_t",
     "locked": true,
     "points": 7,
     "solution": false
    }
   },
   "outputs": [],
   "source": [
    "# assertions for header=True\n",
    "assert_equal(get_columns('/home/data_scientist/w7p3/test.header.csv', 1, 2, header=True), ([1]*4, list(range(17, 21))))\n",
    "assert_equal(get_columns('/home/data_scientist/w7p3/test.header.csv', 4, 28, header=True), ([1806, 1805], [1]*2))\n",
    "assert_equal(get_columns('/home/data_scientist/w7p3/test.header.csv', 3, 27, header=True), ([], []))\n",
    "assert_equal(get_columns('/home/data_scientist/w7p3/test.header.csv', 0, 12, header=True), ([2001]*4, [84]*4))\n",
    "\n",
    "# assertions for header=False\n",
    "assert_equal(get_columns('/home/data_scientist/w7p3/test.noheader.csv', 1, 2, header=False), ([1]*5, list(range(17, 22))))\n",
    "assert_equal(get_columns('/home/data_scientist/w7p3/test.noheader.csv', 4, 28, header=False), ([1806, 1805, 1810], [1]*3))\n",
    "assert_equal(get_columns('/home/data_scientist/w7p3/test.noheader.csv', 3, 27, header=False), ([], []))\n",
    "assert_equal(get_columns('/home/data_scientist/w7p3/test.noheader.csv', 0, 12, header=False), ([2001]*5, [84]*5))"
   ]
  },
  {
   "cell_type": "markdown",
   "metadata": {
    "deletable": false,
    "nbgrader": {
     "checksum": "cda06ccd41d337cb9337cd778f353aed",
     "grade": false,
     "grade_id": "distime",
     "locked": true,
     "solution": false
    }
   },
   "source": [
    "Now that we have the `get_columns()` function, let's get the two columns we will use to make the scatter plot. In the following code cell, apply `get_columns()` to extract the `Distance` and `ActualElapsedTime` columns from  `home/data_scientist/w7p3/2001.csv` and name the two columns as `distance` and `time`."
   ]
  },
  {
   "cell_type": "code",
   "execution_count": 6,
   "metadata": {
    "collapsed": false,
    "deletable": false,
    "nbgrader": {
     "checksum": "98fb93b3145ad3e43831f47500712444",
     "grade": false,
     "grade_id": "distime_a",
     "locked": false,
     "solution": true
    }
   },
   "outputs": [],
   "source": [
    "# YOUR CODE HERE\n",
    "# Set the filepath\n",
    "filepath = '/home/data_scientist/w7p3/2001.csv'\n",
    "\n",
    "# Distance is the 19th column, so n1=18\n",
    "n1 = 18\n",
    "\n",
    "# ActualElapsedTime is the 12th column, so n2=11\n",
    "n2 = 11\n",
    "\n",
    "# Use ge_columns() to extract two columns from the file\n",
    "(distance, time) = get_columns(filepath, n1, n2)"
   ]
  },
  {
   "cell_type": "code",
   "execution_count": 7,
   "metadata": {
    "collapsed": false,
    "deletable": false,
    "nbgrader": {
     "checksum": "c25919f9f5463b179416b305968ca7fa",
     "grade": true,
     "grade_id": "distime_t",
     "locked": true,
     "points": 3,
     "solution": false
    }
   },
   "outputs": [],
   "source": [
    "# assertions\n",
    "assert_equal(len(distance), 5720)\n",
    "assert_equal(len(time), 5720)\n",
    "assert_equal(distance[:20], [183, 186, 336, 508, 428, 328, 590, 325, 331, 813, 546, 678, 298, 280, 678, 966, 130, 675, 279, 599])\n",
    "assert_equal(distance[5700:], [643, 667, 781, 316, 1628, 1035, 406, 1199, 1547, 110, 874, 270, 1587, 272, 932, 745, 2116, 190, 761, 547])\n",
    "assert_equal(time[:20], [50, 48, 72, 96, 103, 72, 106, 78, 66, 175, 93, 141, 81, 86, 128, 204, 48, 126, 66, 100])\n",
    "assert_equal(time[5700:], [104, 143, 132, 70, 230, 153, 99, 165, 212, 57, 127, 64, 244, 71, 138, 146, 261, 63, 174, 105])"
   ]
  },
  {
   "cell_type": "markdown",
   "metadata": {
    "deletable": false,
    "nbgrader": {
     "checksum": "258742832d5c95b89764ac71e313c998",
     "grade": false,
     "grade_id": "f2",
     "locked": true,
     "solution": false
    }
   },
   "source": [
    "## 2. Function: make_scatter_plot():\n",
    "\n",
    "In the following code cell, write a function named `make_scatter_plot()` that creates a two-dimensional scatter plot given two lists, `x` and `y` and returns an `Axes` object.\n",
    "\n",
    "- The code for creating a `Figure` object and an `Axes` object is already provided:\n",
    "```python\n",
    "fig, ax = plt.subplots()\n",
    "```\n",
    "- `make_scatter_plot()` returns an instance of the `Axes` object (named `ax`). You should use `ax` to create your plot (check out the [lesson notebook on Python Plotting](https://github.com/UI-DataScience/info490-fa16/blob/master/Week7/notebooks/info490w7l3.ipynb). We write our function to return an `Axes` instance because we want to use it for assertion tests.\n",
    "- Your plot should have a title and axis labels corresponding to the distance vs. time problem."
   ]
  },
  {
   "cell_type": "code",
   "execution_count": 8,
   "metadata": {
    "collapsed": true,
    "deletable": false,
    "nbgrader": {
     "checksum": "d831f40e4cf28e21c51e94fbff9a0eb4",
     "grade": false,
     "grade_id": "f2_a",
     "locked": false,
     "solution": true
    }
   },
   "outputs": [],
   "source": [
    "def make_scatter_plot(x, y):\n",
    "    \"\"\"\n",
    "    Creates a two-dimensional scatter plot.\n",
    "    \n",
    "    Parameters\n",
    "    ----------\n",
    "    x: A list of integers. Data points for the x-axis.\n",
    "    y: A list of integers. Data poitns for the y-axis.\n",
    "    \n",
    "    Returns\n",
    "    -------\n",
    "    A matplotlib.Axes object.\n",
    "    \"\"\"\n",
    "    fig, ax = plt.subplots()\n",
    "    \n",
    "    # YOUR CODE HERE\n",
    "    # Create the scatter plot\n",
    "    ax.scatter(x, y)\n",
    "    \n",
    "    # Set our axis labels\n",
    "    ax.set_xlabel(\"Time\")\n",
    "    ax.set_ylabel(\"Distance\")\n",
    "    \n",
    "    # Set our title\n",
    "    ax.set_title(\"Distance vs. Time\")\n",
    "    \n",
    "    return ax"
   ]
  },
  {
   "cell_type": "code",
   "execution_count": 9,
   "metadata": {
    "collapsed": false,
    "deletable": false,
    "nbgrader": {
     "checksum": "45e97165bc926a126e0d0c210b987093",
     "grade": false,
     "grade_id": "makeplots",
     "locked": true,
     "solution": false
    }
   },
   "outputs": [
    {
     "data": {
      "image/png": "[encoded data removed]",
      "text/plain": [
       "<matplotlib.figure.Figure at 0x7f0577769630>"
      ]
     },
     "metadata": {},
     "output_type": "display_data"
    }
   ],
   "source": [
    "# use the function to make the distance vs. time plot\n",
    "ax = make_scatter_plot(time, distance)"
   ]
  },
  {
   "cell_type": "code",
   "execution_count": 10,
   "metadata": {
    "collapsed": false,
    "deletable": false,
    "nbgrader": {
     "checksum": "1bac17eb403c1ca76c70d923971f8d39",
     "grade": true,
     "grade_id": "f2_t",
     "locked": true,
     "points": 20,
     "solution": false
    }
   },
   "outputs": [],
   "source": [
    "# assertions\n",
    "assert_is_instance(\n",
    "    ax, mpl.axes.Axes,\n",
    "    msg=\"Your function should return a matplotlib.axes.Axes object.\"\n",
    ")\n",
    "\n",
    "assert_equal(\n",
    "    len(ax.collections), 1,\n",
    "    msg=\"Your plot does not have any data points.\"\n",
    ")\n",
    "\n",
    "assert_is_not(\n",
    "    len(ax.title.get_text()), 0,\n",
    "    msg=\"Your plot doesn't have a title.\"\n",
    ")\n",
    "assert_is_not(\n",
    "    ax.xaxis.get_label_text(), '',\n",
    "    msg=\"Change the x-axis label to something more descriptive.\"\n",
    ")\n",
    "assert_is_not(\n",
    "    ax.yaxis.get_label_text(), '',\n",
    "    msg=\"Change the y-axis label to something more descriptive.\"\n",
    ")\n",
    "    \n",
    "xdata, ydata = ax.collections[0].get_offsets().T\n",
    "assert_array_equal(xdata, time)\n",
    "assert_array_equal(ydata, distance)\n",
    "\n",
    "# If your function can only plot the delays and\n",
    "# cannot handle other data sets, the following test will fail.\n",
    "x1 = np.random.randint(100, size=100)\n",
    "y1 = np.random.randint(100, size=100)\n",
    "\n",
    "ax1 = make_scatter_plot(x1, y1)\n",
    "\n",
    "x1data, y1data = ax1.collections[0].get_offsets().T\n",
    "assert_array_equal(x1, x1data)\n",
    "assert_array_equal(y1, y1data)\n",
    "\n",
    "plt.close()"
   ]
  },
  {
   "cell_type": "markdown",
   "metadata": {
    "deletable": false,
    "nbgrader": {
     "checksum": "9a0e9dd9fbf56055540f7aa31ec4a95c",
     "grade": false,
     "grade_id": "ct",
     "locked": true,
     "solution": false
    }
   },
   "source": [
    "## Clean up"
   ]
  },
  {
   "cell_type": "code",
   "execution_count": 11,
   "metadata": {
    "collapsed": true,
    "deletable": false,
    "nbgrader": {
     "checksum": "1d4ceae856d9bdb460a4944cf4e36c02",
     "grade": false,
     "grade_id": "c",
     "locked": true,
     "solution": false
    }
   },
   "outputs": [],
   "source": [
    "!rm -rf ~/w7p3"
   ]
  },
  {
   "cell_type": "code",
   "execution_count": null,
   "metadata": {
    "collapsed": true
   },
   "outputs": [],
   "source": []
  }
 ],
 "metadata": {
  "kernelspec": {
   "display_name": "Python 3",
   "language": "python",
   "name": "python3"
  },
  "language_info": {
   "codemirror_mode": {
    "name": "ipython",
    "version": 3
   },
   "file_extension": ".py",
   "mimetype": "text/x-python",
   "name": "python",
   "nbconvert_exporter": "python",
   "pygments_lexer": "ipython3",
   "version": "3.5.2"
  }
 },
 "nbformat": 4,
 "nbformat_minor": 1
}
